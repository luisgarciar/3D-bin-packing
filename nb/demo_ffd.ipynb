{
 "cells": [
  {
   "cell_type": "markdown",
   "metadata": {
    "pycharm": {
     "name": "#%% md\n"
    }
   },
   "source": [
    "# Demo for the heuristic packing method \"First Fit Decreasing\""
   ]
  },
  {
   "cell_type": "markdown",
   "metadata": {
    "pycharm": {
     "name": "#%% md\n"
    }
   },
   "source": [
    "In this notebook we will demonstrate the heuristic method \"First Fit Decreasing\" for 3D bin packing. The method takes a list of boxes and attempts to pack them into a container, starting from the largest box and continuing up to the smallest.  The method will find a location for the box in the container starting from the top left corner and moving right and down the container. If the box does not fit, it is skipped.\n",
    "\n"
   ]
  },
  {
   "cell_type": "code",
   "execution_count": null,
   "outputs": [],
   "source": [
    "# Add parent directory to path\n",
    "import os\n",
    "import sys\n",
    "p_dir = os.path.split(os.getcwd())[0]\n",
    "if p_dir not in sys.path:\n",
    "    sys.path.append(p_dir)"
   ],
   "metadata": {
    "collapsed": false,
    "pycharm": {
     "name": "#%%\n"
    }
   }
  },
  {
   "cell_type": "code",
   "execution_count": null,
   "outputs": [],
   "source": [
    "from src.packing_engine import Container, Box\n",
    "from src.utils import boxes_generator\n",
    "\n",
    "# The boxes generated will fit exactly in a container of size [10,10,10]\n",
    "len_bin_edges = [10, 10, 10]\n",
    "boxes_sizes = boxes_generator(len_bin_edges, num_items = 64, seed = 42)\n",
    "#Create a list of Box objects\n",
    "boxes = [Box(size, position=[-1,-1,-1], id_=i) for i, size in enumerate(boxes_sizes)]\n",
    "# We initialize a bigger container to pack the boxes since the heuristic rule is not optimal\n",
    "container = Container([11,11,11])\n",
    "\n",
    "# The parameter 'check_area' gives the percentage of the bottom area of each box that must be supported\n",
    "container.first_fit_decreasing(boxes, check_area=100)\n",
    "fig = container.plot()\n",
    "fig.show()"
   ],
   "metadata": {
    "collapsed": false,
    "pycharm": {
     "name": "#%%\n"
    }
   }
  },
  {
   "cell_type": "code",
   "execution_count": null,
   "metadata": {
    "pycharm": {
     "name": "#%%\n"
    }
   },
   "outputs": [],
   "source": []
  },
  {
   "cell_type": "code",
   "execution_count": null,
   "metadata": {
    "pycharm": {
     "name": "#%%\n"
    }
   },
   "outputs": [],
   "source": []
  }
 ],
 "metadata": {
  "kernelspec": {
   "display_name": "Python 3 (ipykernel)",
   "language": "python",
   "name": "python3"
  },
  "language_info": {
   "codemirror_mode": {
    "name": "ipython",
    "version": 3
   },
   "file_extension": ".py",
   "mimetype": "text/x-python",
   "name": "python",
   "nbconvert_exporter": "python",
   "pygments_lexer": "ipython3",
   "version": "3.10.4"
  }
 },
 "nbformat": 4,
 "nbformat_minor": 1
}