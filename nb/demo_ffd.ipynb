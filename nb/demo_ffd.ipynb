{
 "cells": [
  {
   "cell_type": "markdown",
   "source": [
    "# Demo for the heuristic packing method \"First Fit Decreasing\""
   ],
   "metadata": {
    "collapsed": false,
    "pycharm": {
     "name": "#%% md\n"
    }
   }
  },
  {
   "cell_type": "markdown",
   "source": [
    "In this notebook we will demonstrate the heuristic method \"First Fit Decreasing\" for 3D packing. The method takes a list of boxes and triespack\n",
    "them into a container, starting from the largest box and continuing up to the smallest. If the box does not fit, it is skipped.\n",
    "\n",
    "The method will find a location for the box in the container starting from the top left corner and moving right and down the container.\n",
    "\n"
   ],
   "metadata": {
    "collapsed": false,
    "pycharm": {
     "name": "#%% md\n"
    }
   }
  },
  {
   "cell_type": "code",
   "execution_count": 12,
   "outputs": [
    {
     "ename": "AssertionError",
     "evalue": "\nItems are not equal:\n ACTUAL: 0\n DESIRED: 7",
     "output_type": "error",
     "traceback": [
      "\u001B[0;31m---------------------------------------------------------------------------\u001B[0m",
      "\u001B[0;31mAssertionError\u001B[0m                            Traceback (most recent call last)",
      "Input \u001B[0;32mIn [12]\u001B[0m, in \u001B[0;36m<cell line: 11>\u001B[0;34m()\u001B[0m\n\u001B[1;32m      9\u001B[0m container \u001B[38;5;241m=\u001B[39m Container([\u001B[38;5;241m12\u001B[39m,\u001B[38;5;241m12\u001B[39m,\u001B[38;5;241m12\u001B[39m])\n\u001B[1;32m     10\u001B[0m \u001B[38;5;66;03m# The parameter 'check_area' gives the percentage of the bottom area of the box that must be supported\u001B[39;00m\n\u001B[0;32m---> 11\u001B[0m \u001B[43mcontainer\u001B[49m\u001B[38;5;241;43m.\u001B[39;49m\u001B[43mfirst_fit_decreasing\u001B[49m\u001B[43m(\u001B[49m\u001B[43mboxes\u001B[49m\u001B[43m,\u001B[49m\u001B[43m \u001B[49m\u001B[43mcheck_area\u001B[49m\u001B[38;5;241;43m=\u001B[39;49m\u001B[38;5;241;43m100\u001B[39;49m\u001B[43m)\u001B[49m\n\u001B[1;32m     12\u001B[0m container\u001B[38;5;241m.\u001B[39mplot()\n",
      "File \u001B[0;32m~/Documents/code/fourthbrain-mle-course/repos/3D-bin-packing/src/packing_engine.py:375\u001B[0m, in \u001B[0;36mfirst_fit_decreasing\u001B[0;34m(self, boxes, check_area)\u001B[0m\n\u001B[1;32m    373\u001B[0m \"\"\"\n\u001B[1;32m    374\u001B[0m # Sort the boxes in the decreasing order of their volume\n\u001B[0;32m--> 375\u001B[0m boxes.sort(key=lambda x: x.volume, reverse=True)\n\u001B[1;32m    376\u001B[0m \n\u001B[1;32m    377\u001B[0m for box in boxes:\n",
      "File \u001B[0;32m~/Documents/code/fourthbrain-mle-course/repos/3D-bin-packing/src/packing_engine.py:299\u001B[0m, in \u001B[0;36mall_possible_positions\u001B[0;34m(self, box, check_area)\u001B[0m\n\u001B[1;32m    297\u001B[0m            -------\n\u001B[1;32m    298\u001B[0m            np.array(np.int32)\n\u001B[0;32m--> 299\u001B[0m            \"\"\"\n\u001B[1;32m    300\u001B[0m # Generate all possible positions for the box in the container\n\u001B[1;32m    301\u001B[0m     action_mask = np.zeros(shape=(self.len_edges[0], self.len_edges[1]), dtype=np.int32)\n",
      "File \u001B[0;32m~/Documents/code/fourthbrain-mle-course/repos/3D-bin-packing/src/packing_engine.py:246\u001B[0m, in \u001B[0;36mcheck_valid_box_placement\u001B[0;34m(self, box, new_pos, check_area)\u001B[0m\n\u001B[1;32m    244\u001B[0m # lev is the level (height) at which the bottom corners of the box will be located\n\u001B[1;32m    245\u001B[0m lev = corners_levs[0]\n\u001B[0;32m--> 246\u001B[0m # bottom_face_lev contains the levels of all the points in the bottom face\n\u001B[1;32m    247\u001B[0m bottom_face_lev = self.height_map[v0[0]:v0[0] + box.len_edges[0], v0[1]:v0[1] + box.len_edges[1]]\n\u001B[1;32m    248\u001B[0m \n",
      "File \u001B[0;32m/opt/anaconda3/envs/3D-bin-packing/lib/python3.10/site-packages/numpy/testing/_private/utils.py:425\u001B[0m, in \u001B[0;36massert_equal\u001B[0;34m(actual, desired, err_msg, verbose)\u001B[0m\n\u001B[1;32m    422\u001B[0m \u001B[38;5;28;01mtry\u001B[39;00m:\n\u001B[1;32m    423\u001B[0m     \u001B[38;5;66;03m# Explicitly use __eq__ for comparison, gh-2552\u001B[39;00m\n\u001B[1;32m    424\u001B[0m     \u001B[38;5;28;01mif\u001B[39;00m \u001B[38;5;129;01mnot\u001B[39;00m (desired \u001B[38;5;241m==\u001B[39m actual):\n\u001B[0;32m--> 425\u001B[0m         \u001B[38;5;28;01mraise\u001B[39;00m \u001B[38;5;167;01mAssertionError\u001B[39;00m(msg)\n\u001B[1;32m    427\u001B[0m \u001B[38;5;28;01mexcept\u001B[39;00m (\u001B[38;5;167;01mDeprecationWarning\u001B[39;00m, \u001B[38;5;167;01mFutureWarning\u001B[39;00m) \u001B[38;5;28;01mas\u001B[39;00m e:\n\u001B[1;32m    428\u001B[0m     \u001B[38;5;66;03m# this handles the case when the two types are not even comparable\u001B[39;00m\n\u001B[1;32m    429\u001B[0m     \u001B[38;5;28;01mif\u001B[39;00m \u001B[38;5;124m'\u001B[39m\u001B[38;5;124melementwise == comparison\u001B[39m\u001B[38;5;124m'\u001B[39m \u001B[38;5;129;01min\u001B[39;00m e\u001B[38;5;241m.\u001B[39margs[\u001B[38;5;241m0\u001B[39m]:\n",
      "\u001B[0;31mAssertionError\u001B[0m: \nItems are not equal:\n ACTUAL: 0\n DESIRED: 7"
     ]
    }
   ],
   "source": [
    "from src.packing_engine import Container, Box\n",
    "from src.utils import boxes_generator\n",
    "\n",
    "len_bin_edges = [10, 10, 10]\n",
    "# The boxes generated will fit exactly in a container of size [10,10,10]\n",
    "boxes_sizes = boxes_generator(len_bin_edges, num_items = 64, seed = 42)\n",
    "boxes = [Box(size, position=[-1,-1,-1], id_=i) for i, size in enumerate(boxes_sizes)]\n",
    "# We pack the boxes in a bigger container since the heuristic rule is not optimal\n",
    "container = Container([12,12,12])\n",
    "# The parameter 'check_area' gives the percentage of the bottom area of the box that must be supported\n",
    "container.first_fit_decreasing(boxes, check_area=100)\n",
    "\n",
    "\n"
   ],
   "metadata": {
    "collapsed": false,
    "pycharm": {
     "name": "#%%\n"
    }
   }
  },
  {
   "cell_type": "code",
   "execution_count": null,
   "outputs": [],
   "source": [],
   "metadata": {
    "collapsed": false,
    "pycharm": {
     "name": "#%%\n"
    }
   }
  }
 ],
 "metadata": {
  "kernelspec": {
   "display_name": "Python 3",
   "language": "python",
   "name": "python3"
  },
  "language_info": {
   "codemirror_mode": {
    "name": "ipython",
    "version": 2
   },
   "file_extension": ".py",
   "mimetype": "text/x-python",
   "name": "python",
   "nbconvert_exporter": "python",
   "pygments_lexer": "ipython2",
   "version": "2.7.6"
  }
 },
 "nbformat": 4,
 "nbformat_minor": 0
}