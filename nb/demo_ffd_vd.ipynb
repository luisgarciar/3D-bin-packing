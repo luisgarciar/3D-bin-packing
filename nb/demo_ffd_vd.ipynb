{
 "cells": [
  {
   "cell_type": "markdown",
   "metadata": {
    "pycharm": {
     "name": "#%% md\n"
    }
   },
   "source": [
    "# Demo for the heuristic packing method \"First Fit Decreasing\""
   ]
  },
  {
   "cell_type": "markdown",
   "metadata": {
    "pycharm": {
     "name": "#%% md\n"
    }
   },
   "source": [
    "In this notebook we will demonstrate the heuristic method \"First Fit Decreasing\" for 3D bin packing. The method takes a list of boxes and attempts to pack them into a container, starting from the largest box and continuing up to the smallest.  The method will find a location for the box in the container starting from the top left corner and moving right and down the container. If the box does not fit, it is skipped.\n",
    "\n"
   ]
  },
  {
   "cell_type": "code",
   "execution_count": 2,
   "metadata": {
    "pycharm": {
     "name": "#%%\n"
    }
   },
   "outputs": [],
   "source": [
    "# Add parent directory to path\n",
    "import os\n",
    "import sys\n",
    "p_dir = os.path.split(os.getcwd())[0]\n",
    "if p_dir not in sys.path:\n",
    "    sys.path.append(p_dir)"
   ]
  },
  {
   "cell_type": "code",
   "execution_count": 3,
   "metadata": {
    "pycharm": {
     "name": "#%%\n"
    }
   },
   "outputs": [],
   "source": [
    "from src.packing_engine import Container, Box\n",
    "from src.utils import boxes_generator\n",
    "\n",
    "# The boxes generated will fit exactly in a container of size [10,10,10]\n",
    "len_bin_edges = [10, 10, 10]\n",
    "boxes_sizes = boxes_generator(len_bin_edges, num_items = 64, seed = 42)\n",
    "#Create a list of Box objects\n",
    "boxes = [Box(size, position=[-1,-1,-1], id_=i) for i, size in enumerate(boxes_sizes)]\n",
    "# We initialize a bigger container to pack the boxes since the heuristic rule is not optimal\n",
    "container = Container([12,12,12])\n",
    "\n",
    "# The parameter 'check_area' gives the percentage of the bottom area of each box that must be supported\n",
    "container.first_fit_decreasing(boxes, check_area=100)"
   ]
  },
  {
   "cell_type": "code",
   "execution_count": 4,
   "metadata": {
    "pycharm": {
     "name": "#%%\n"
    }
   },
   "outputs": [
    {
     "data": {
      "text/plain": "[Box id: 17, Size: 3 x 5 x 4, Position: (0, 0, 0),\n Box id: 25, Size: 2 x 4 x 6, Position: (0, 0, 4),\n Box id: 36, Size: 1 x 6 x 8, Position: (0, 5, 0),\n Box id: 12, Size: 2 x 10 x 2, Position: (3, 0, 0),\n Box id: 56, Size: 2 x 4 x 5, Position: (3, 0, 2),\n Box id: 4, Size: 2 x 6 x 3, Position: (3, 4, 2),\n Box id: 22, Size: 2 x 2 x 9, Position: (1, 5, 0),\n Box id: 55, Size: 2 x 4 x 4, Position: (3, 0, 7),\n Box id: 11, Size: 1 x 6 x 5, Position: (3, 4, 5),\n Box id: 10, Size: 2 x 2 x 7, Position: (1, 7, 0),\n Box id: 0, Size: 3 x 1 x 8, Position: (0, 4, 4),\n Box id: 1, Size: 3 x 1 x 8, Position: (0, 11, 0),\n Box id: 26, Size: 2 x 2 x 6, Position: (1, 9, 0),\n Box id: 37, Size: 1 x 3 x 8, Position: (2, 0, 4),\n Box id: 54, Size: 2 x 6 x 2, Position: (5, 0, 0),\n Box id: 2, Size: 2 x 10 x 1, Position: (7, 0, 0),\n Box id: 13, Size: 1 x 10 x 2, Position: (7, 0, 1),\n Box id: 30, Size: 2 x 1 x 10, Position: (5, 0, 2),\n Box id: 23, Size: 2 x 1 x 9, Position: (5, 1, 2),\n Box id: 50, Size: 2 x 1 x 9, Position: (5, 2, 2),\n Box id: 34, Size: 2 x 1 x 8, Position: (5, 3, 2),\n Box id: 44, Size: 2 x 1 x 8, Position: (5, 4, 2),\n Box id: 45, Size: 2 x 1 x 8, Position: (5, 5, 2),\n Box id: 58, Size: 2 x 4 x 2, Position: (0, 0, 10),\n Box id: 6, Size: 1 x 5 x 3, Position: (0, 5, 8),\n Box id: 14, Size: 3 x 1 x 5, Position: (3, 10, 0),\n Box id: 16, Size: 3 x 5 x 1, Position: (9, 0, 0),\n Box id: 43, Size: 1 x 3 x 5, Position: (4, 4, 5),\n Box id: 5, Size: 1 x 7 x 2, Position: (7, 0, 3),\n Box id: 32, Size: 1 x 7 x 2, Position: (7, 0, 5),\n Box id: 33, Size: 1 x 7 x 2, Position: (7, 0, 7),\n Box id: 21, Size: 2 x 1 x 6, Position: (1, 9, 6),\n Box id: 28, Size: 2 x 3 x 2, Position: (3, 4, 10),\n Box id: 31, Size: 2 x 5 x 1, Position: (8, 0, 1),\n Box id: 60, Size: 5 x 2 x 1, Position: (6, 10, 0),\n Box id: 62, Size: 1 x 2 x 5, Position: (1, 7, 7),\n Box id: 63, Size: 1 x 2 x 5, Position: (2, 7, 7),\n Box id: 9, Size: 3 x 1 x 3, Position: (0, 11, 8),\n Box id: 39, Size: 3 x 1 x 3, Position: (3, 10, 5),\n Box id: 3, Size: 1 x 1 x 8, Position: (2, 3, 4),\n Box id: 41, Size: 2 x 4 x 1, Position: (3, 0, 11),\n Box id: 57, Size: 2 x 4 x 1, Position: (8, 0, 2),\n Box id: 59, Size: 2 x 2 x 2, Position: (5, 3, 10),\n Box id: 48, Size: 1 x 1 x 7, Position: (4, 7, 5),\n Box id: 49, Size: 1 x 1 x 7, Position: (4, 8, 5),\n Box id: 8, Size: 3 x 1 x 2, Position: (3, 10, 8),\n Box id: 18, Size: 1 x 3 x 2, Position: (3, 7, 10),\n Box id: 20, Size: 2 x 3 x 1, Position: (8, 0, 3),\n Box id: 29, Size: 2 x 3 x 1, Position: (8, 0, 4),\n Box id: 38, Size: 3 x 1 x 2, Position: (3, 10, 10),\n Box id: 40, Size: 2 x 1 x 3, Position: (1, 5, 9),\n Box id: 27, Size: 1 x 1 x 5, Position: (1, 10, 6),\n Box id: 51, Size: 1 x 1 x 5, Position: (2, 10, 6),\n Box id: 52, Size: 1 x 1 x 5, Position: (4, 9, 5),\n Box id: 61, Size: 5 x 1 x 1, Position: (6, 10, 1),\n Box id: 7, Size: 2 x 2 x 1, Position: (1, 10, 11),\n Box id: 35, Size: 2 x 1 x 2, Position: (5, 5, 10),\n Box id: 53, Size: 2 x 1 x 2, Position: (1, 6, 9),\n Box id: 19, Size: 1 x 3 x 1, Position: (0, 5, 11),\n Box id: 15, Size: 2 x 1 x 1, Position: (1, 6, 11),\n Box id: 42, Size: 2 x 1 x 1, Position: (5, 1, 11),\n Box id: 46, Size: 1 x 1 x 1, Position: (0, 8, 11),\n Box id: 47, Size: 1 x 1 x 1, Position: (0, 9, 11)]"
     },
     "execution_count": 4,
     "metadata": {},
     "output_type": "execute_result"
    }
   ],
   "source": [
    "container.boxes"
   ]
  },
  {
   "cell_type": "code",
   "execution_count": 1,
   "outputs": [
    {
     "ename": "NameError",
     "evalue": "name 'container' is not defined",
     "output_type": "error",
     "traceback": [
      "\u001B[0;31m---------------------------------------------------------------------------\u001B[0m",
      "\u001B[0;31mNameError\u001B[0m                                 Traceback (most recent call last)",
      "Input \u001B[0;32mIn [1]\u001B[0m, in \u001B[0;36m<cell line: 5>\u001B[0;34m()\u001B[0m\n\u001B[1;32m      3\u001B[0m vd\u001B[38;5;241m.\u001B[39msettings\u001B[38;5;241m.\u001B[39mimmediateRendering \u001B[38;5;241m=\u001B[39m \u001B[38;5;28;01mTrue\u001B[39;00m  \u001B[38;5;66;03m# faster for multi-renderers\u001B[39;00m\n\u001B[1;32m      4\u001B[0m \u001B[38;5;66;03m# set container size for vedo plot\u001B[39;00m\n\u001B[0;32m----> 5\u001B[0m size_ct \u001B[38;5;241m=\u001B[39m [\u001B[43mcontainer\u001B[49m\u001B[38;5;241m.\u001B[39mposition[\u001B[38;5;241m0\u001B[39m], container\u001B[38;5;241m.\u001B[39mposition[\u001B[38;5;241m0\u001B[39m] \u001B[38;5;241m+\u001B[39m container\u001B[38;5;241m.\u001B[39mlen_edges[\u001B[38;5;241m0\u001B[39m],\n\u001B[1;32m      6\u001B[0m            container\u001B[38;5;241m.\u001B[39mposition[\u001B[38;5;241m1\u001B[39m], container\u001B[38;5;241m.\u001B[39mposition[\u001B[38;5;241m1\u001B[39m] \u001B[38;5;241m+\u001B[39m container\u001B[38;5;241m.\u001B[39mlen_edges[\u001B[38;5;241m1\u001B[39m],\n\u001B[1;32m      7\u001B[0m            container\u001B[38;5;241m.\u001B[39mposition[\u001B[38;5;241m2\u001B[39m], container\u001B[38;5;241m.\u001B[39mposition[\u001B[38;5;241m2\u001B[39m] \u001B[38;5;241m+\u001B[39m container\u001B[38;5;241m.\u001B[39mlen_edges[\u001B[38;5;241m2\u001B[39m]]\n\u001B[1;32m      9\u001B[0m ct \u001B[38;5;241m=\u001B[39m vd\u001B[38;5;241m.\u001B[39mBox(size\u001B[38;5;241m=\u001B[39msize_ct, c\u001B[38;5;241m=\u001B[39m\u001B[38;5;124m\"\u001B[39m\u001B[38;5;124mblack\u001B[39m\u001B[38;5;124m\"\u001B[39m, alpha\u001B[38;5;241m=\u001B[39m\u001B[38;5;241m0.5\u001B[39m)\u001B[38;5;241m.\u001B[39mwireframe()\n\u001B[1;32m     10\u001B[0m list_colors \u001B[38;5;241m=\u001B[39m \u001B[38;5;28mlist\u001B[39m(vd\u001B[38;5;241m.\u001B[39mcolors\u001B[38;5;241m.\u001B[39mcolors\u001B[38;5;241m.\u001B[39mkeys())[\u001B[38;5;241m20\u001B[39m:\u001B[38;5;241m40\u001B[39m]\n",
      "\u001B[0;31mNameError\u001B[0m: name 'container' is not defined"
     ]
    }
   ],
   "source": [
    "import vedo as vd\n",
    "\n",
    "vd.settings.immediateRendering = True  # faster for multi-renderers\n",
    "# set container size for vedo plot\n",
    "size_ct = [container.position[0], container.position[0] + container.len_edges[0],\n",
    "           container.position[1], container.position[1] + container.len_edges[1],\n",
    "           container.position[2], container.position[2] + container.len_edges[2]]\n",
    "\n",
    "ct = vd.Box(size=size_ct, c=\"black\", alpha=0.5).wireframe()\n",
    "list_colors = list(vd.colors.colors.keys())[20:40]\n",
    "box_list = []\n",
    "\n",
    "# create boxes to be plotted\n",
    "for box in container.boxes:\n",
    "    box_size = [box.position[0], box.position[0] + box.len_edges[0],\n",
    "                box.position[1], box.position[1] + box.len_edges[1],\n",
    "                box.position[2], box.position[2] + box.len_edges[2]]\n",
    "    color = list_colors[box.volume % len(list_colors)]\n",
    "    box_list.append(vd.Box(size=box_size, c=color, alpha=0.5))\n",
    "\n",
    "#plt1 = vd.show(box_list[0])\n",
    "vd.show(ct, box_list[0], box_list[1], box_list[2], size=(50,50))"
   ],
   "metadata": {
    "collapsed": false,
    "pycharm": {
     "name": "#%%\n"
    }
   }
  },
  {
   "cell_type": "code",
   "execution_count": null,
   "outputs": [],
   "source": [],
   "metadata": {
    "collapsed": false,
    "pycharm": {
     "name": "#%%\n"
    }
   }
  }
 ],
 "metadata": {
  "kernelspec": {
   "display_name": "Python 3 (ipykernel)",
   "language": "python",
   "name": "python3"
  },
  "language_info": {
   "codemirror_mode": {
    "name": "ipython",
    "version": 3
   },
   "file_extension": ".py",
   "mimetype": "text/x-python",
   "name": "python",
   "nbconvert_exporter": "python",
   "pygments_lexer": "ipython3",
   "version": "3.10.4"
  }
 },
 "nbformat": 4,
 "nbformat_minor": 1
}