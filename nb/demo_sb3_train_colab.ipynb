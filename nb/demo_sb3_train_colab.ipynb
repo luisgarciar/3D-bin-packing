{
 "cells": [
  {
   "cell_type": "markdown",
   "source": [
    "## Using the StableBaselines3 library for reinforcement learning\n",
    "\n",
    "In this notebook we test an implementation of the proximal policy optimization (PPO)\n",
    "PPO is described in detail in https://arxiv.org/abs/1707.06347. It is a variant of Trust Region Policy Optimization (TRPO) described (in this paper )[https://arxiv.org/abs/1502.05477]. The PPO algorithm works in two phases. In one phase, a large number of rollouts are performed (in parallel). The rollouts are then aggregated on the driver and a surrogate optimization objective is defined based on those rollouts. We then use SGD to find the policy that maximizes that objective with a penalty term for diverging too much from the current policy.\n",
    "\n",
    "![ppo](https://raw.githubusercontent.com/ucbrise/risecamp/risecamp2018/ray/tutorial/rllib_exercises/ppo.png)"
   ],
   "metadata": {
    "collapsed": false,
    "pycharm": {
     "name": "#%% md\n"
    },
    "id": "LB3eLu4qgikf"
   }
  },
  {
   "cell_type": "markdown",
   "source": [
    "We begin by installing Python 3.8 in our environment, mounting Google Drive and cloning the repository with the 3D bin packing environment (only if you are using Google Colab)."
   ],
   "metadata": {
    "id": "2ZFTvxgfhWbj",
    "pycharm": {
     "name": "#%% md\n"
    }
   }
  },
  {
   "cell_type": "code",
   "source": [
    "!sudo apt-get install python3.8\n",
    "\n",
    "#change alternatives\n",
    "!sudo update-alternatives --install /usr/bin/python3  python3/usr/bin/python3.7.1\n",
    "!sudo update-alternatives --install /usr/bin/python3 python3/usr/bin/python3.8.2\n",
    "\n",
    "#check python version\n",
    "!python --version\n",
    "\n",
    "#install pip\n",
    "!sudo apt-get install python-pip\n",
    "!sudo apt install python3.8-distutils\n",
    "\n",
    "#force reinstall pip (fixes issue with pip not working)\n",
    "#see: https://askubuntu.com/questions/1025189/pip-is-not-working-importerror-no-module-named-pip-internal\n",
    "!curl https://bootstrap.pypa.io/get-pip.py -o get-pip.py\n",
    "!python3 get-pip.py --force-reinstall\n"
   ],
   "metadata": {
    "id": "kZ0M4QIzuqCV",
    "outputId": "b524235e-69b6-4876-94e0-a88d6c2caa96",
    "colab": {
     "base_uri": "https://localhost:8080/"
    },
    "pycharm": {
     "name": "#%%\n"
    }
   },
   "execution_count": 2,
   "outputs": [
    {
     "output_type": "stream",
     "name": "stdout",
     "text": [
      "Reading package lists... Done\n",
      "Building dependency tree       \n",
      "Reading state information... Done\n",
      "python3.8 is already the newest version (3.8.10-0ubuntu1~20.04.6).\n",
      "0 upgraded, 0 newly installed, 0 to remove and 23 not upgraded.\n",
      "update-alternatives: --install needs <link> <name> <path> <priority>\n",
      "\n",
      "Use 'update-alternatives --help' for program usage information.\n",
      "update-alternatives: --install needs <link> <name> <path> <priority>\n",
      "\n",
      "Use 'update-alternatives --help' for program usage information.\n",
      "Python 3.8.10\n",
      "Reading package lists... Done\n",
      "Building dependency tree       \n",
      "Reading state information... Done\n",
      "Package python-pip is not available, but is referred to by another package.\n",
      "This may mean that the package is missing, has been obsoleted, or\n",
      "is only available from another source\n",
      "However the following packages replace it:\n",
      "  python3-pip\n",
      "\n",
      "E: Package 'python-pip' has no installation candidate\n",
      "Reading package lists... Done\n",
      "Building dependency tree       \n",
      "Reading state information... Done\n",
      "Note, selecting 'python3-distutils' instead of 'python3.8-distutils'\n",
      "python3-distutils is already the newest version (3.8.10-0ubuntu1~20.04).\n",
      "0 upgraded, 0 newly installed, 0 to remove and 23 not upgraded.\n",
      "  % Total    % Received % Xferd  Average Speed   Time    Time     Time  Current\n",
      "                                 Dload  Upload   Total   Spent    Left  Speed\n",
      "100 2509k  100 2509k    0     0  38.8M      0 --:--:-- --:--:-- --:--:-- 38.8M\n",
      "Looking in indexes: https://pypi.org/simple, https://us-python.pkg.dev/colab-wheels/public/simple/\n",
      "Collecting pip\n",
      "  Downloading pip-22.3.1-py3-none-any.whl (2.1 MB)\n",
      "\u001B[2K     \u001B[90m━━━━━━━━━━━━━━━━━━━━━━━━━━━━━━━━━━━━━━━━\u001B[0m \u001B[32m2.1/2.1 MB\u001B[0m \u001B[31m49.8 MB/s\u001B[0m eta \u001B[36m0:00:00\u001B[0m\n",
      "\u001B[?25hInstalling collected packages: pip\n",
      "  Attempting uninstall: pip\n",
      "    Found existing installation: pip 22.0.4\n",
      "    Uninstalling pip-22.0.4:\n",
      "      Successfully uninstalled pip-22.0.4\n",
      "Successfully installed pip-22.3.1\n",
      "\u001B[33mWARNING: Running pip as the 'root' user can result in broken permissions and conflicting behaviour with the system package manager. It is recommended to use a virtual environment instead: https://pip.pypa.io/warnings/venv\u001B[0m\u001B[33m\n",
      "\u001B[0m"
     ]
    }
   ]
  },
  {
   "cell_type": "markdown",
   "source": [],
   "metadata": {
    "id": "J8u4uQMdvCjR",
    "pycharm": {
     "name": "#%% md\n"
    }
   }
  },
  {
   "cell_type": "code",
   "source": [
    "from google.colab import drive\n",
    "\n",
    "drive.mount('/content/drive')"
   ],
   "metadata": {
    "id": "Hmtegq1thfbj",
    "outputId": "b6def1ee-994d-4371-f4ea-3047b18d6274",
    "colab": {
     "base_uri": "https://localhost:8080/"
    },
    "pycharm": {
     "name": "#%%\n"
    }
   },
   "execution_count": 4,
   "outputs": [
    {
     "output_type": "stream",
     "name": "stdout",
     "text": [
      "Drive already mounted at /content/drive; to attempt to forcibly remount, call drive.mount(\"/content/drive\", force_remount=True).\n"
     ]
    }
   ]
  },
  {
   "cell_type": "code",
   "source": [
    "%cd /content/drive/MyDrive\n",
    "!rm -rf /Github/3D-bin-packing\n",
    "!git clone https://github.com/luisgarciar/3D-bin-packing.git\n",
    "%cd Github/3D-bin-packing/\n",
    "!git checkout dev-luis"
   ],
   "metadata": {
    "id": "6G0GQanQiRqw",
    "outputId": "fe301e54-2760-495f-e930-0329aeb116a9",
    "colab": {
     "base_uri": "https://localhost:8080/"
    },
    "pycharm": {
     "name": "#%%\n"
    }
   },
   "execution_count": 11,
   "outputs": [
    {
     "output_type": "stream",
     "name": "stdout",
     "text": [
      "/content/drive/MyDrive\n",
      "fatal: destination path '3D-bin-packing' already exists and is not an empty directory.\n",
      "/content/drive/MyDrive/Github/3D-bin-packing\n",
      "fatal: reference is not a tree: dev-luis\n"
     ]
    }
   ]
  },
  {
   "cell_type": "code",
   "source": [
    "!git checkout dev-luis"
   ],
   "metadata": {
    "colab": {
     "base_uri": "https://localhost:8080/"
    },
    "id": "-dQtSg8enSzV",
    "outputId": "e0784667-2fb1-4c11-a877-1b17225d711d",
    "pycharm": {
     "name": "#%%\n"
    }
   },
   "execution_count": 10,
   "outputs": [
    {
     "output_type": "stream",
     "name": "stdout",
     "text": [
      "fatal: reference is not a tree: dev-luis\n"
     ]
    }
   ]
  },
  {
   "cell_type": "markdown",
   "source": [
    "We now install the required libraries from the requirements.txt file from the repository. "
   ],
   "metadata": {
    "id": "GFLqD4myma0X",
    "pycharm": {
     "name": "#%% md\n"
    }
   }
  },
  {
   "cell_type": "code",
   "source": [
    "!pip install -r /content/drive/MyDrive/Github/3D-bin-packing/requirements.txt"
   ],
   "metadata": {
    "id": "8d929L_NmwQN",
    "outputId": "e3806738-cf31-4b53-cbcc-d4710586130c",
    "colab": {
     "base_uri": "https://localhost:8080/",
     "height": 1000
    },
    "pycharm": {
     "name": "#%%\n"
    }
   },
   "execution_count": null,
   "outputs": [
    {
     "output_type": "stream",
     "name": "stdout",
     "text": [
      "Looking in indexes: https://pypi.org/simple, https://us-python.pkg.dev/colab-wheels/public/simple/\n",
      "Requirement already satisfied: gym==0.25.0 in /usr/local/lib/python3.7/dist-packages (from -r /content/drive/MyDrive/3D-bin-packing/requirements.txt (line 1)) (0.25.0)\n",
      "Collecting nptyping==2.3.1\n",
      "  Using cached nptyping-2.3.1-py3-none-any.whl (32 kB)\n",
      "Collecting numpy==1.21.5\n",
      "  Using cached numpy-1.21.5-cp37-cp37m-manylinux_2_12_x86_64.manylinux2010_x86_64.whl (15.7 MB)\n",
      "Collecting Pillow==9.2.0\n",
      "  Using cached Pillow-9.2.0-cp37-cp37m-manylinux_2_17_x86_64.manylinux2014_x86_64.whl (3.1 MB)\n",
      "Collecting plotly==5.9.0\n",
      "  Using cached plotly-5.9.0-py2.py3-none-any.whl (15.2 MB)\n",
      "Collecting pytest==7.1.2\n",
      "  Using cached pytest-7.1.2-py3-none-any.whl (297 kB)\n",
      "Collecting sb3_contrib==1.6.0\n",
      "  Using cached sb3_contrib-1.6.0-py3-none-any.whl (78 kB)\n",
      "Requirement already satisfied: importlib-metadata>=4.8.0 in /usr/local/lib/python3.7/dist-packages (from gym==0.25.0->-r /content/drive/MyDrive/3D-bin-packing/requirements.txt (line 1)) (4.12.0)\n",
      "Requirement already satisfied: gym-notices>=0.0.4 in /usr/local/lib/python3.7/dist-packages (from gym==0.25.0->-r /content/drive/MyDrive/3D-bin-packing/requirements.txt (line 1)) (0.0.8)\n",
      "Requirement already satisfied: cloudpickle>=1.2.0 in /usr/local/lib/python3.7/dist-packages (from gym==0.25.0->-r /content/drive/MyDrive/3D-bin-packing/requirements.txt (line 1)) (1.5.0)\n",
      "Requirement already satisfied: typing-extensions<5.0.0,>=4.0.0 in /usr/local/lib/python3.7/dist-packages (from nptyping==2.3.1->-r /content/drive/MyDrive/3D-bin-packing/requirements.txt (line 2)) (4.1.1)\n",
      "Requirement already satisfied: tenacity>=6.2.0 in /usr/local/lib/python3.7/dist-packages (from plotly==5.9.0->-r /content/drive/MyDrive/3D-bin-packing/requirements.txt (line 5)) (8.0.1)\n",
      "Requirement already satisfied: packaging in /usr/local/lib/python3.7/dist-packages (from pytest==7.1.2->-r /content/drive/MyDrive/3D-bin-packing/requirements.txt (line 6)) (21.3)\n",
      "Collecting pluggy<2.0,>=0.12\n",
      "  Downloading pluggy-1.0.0-py2.py3-none-any.whl (13 kB)\n",
      "Requirement already satisfied: tomli>=1.0.0 in /usr/local/lib/python3.7/dist-packages (from pytest==7.1.2->-r /content/drive/MyDrive/3D-bin-packing/requirements.txt (line 6)) (2.0.1)\n",
      "Collecting iniconfig\n",
      "  Downloading iniconfig-1.1.1-py2.py3-none-any.whl (5.0 kB)\n",
      "Requirement already satisfied: attrs>=19.2.0 in /usr/local/lib/python3.7/dist-packages (from pytest==7.1.2->-r /content/drive/MyDrive/3D-bin-packing/requirements.txt (line 6)) (22.1.0)\n",
      "Requirement already satisfied: py>=1.8.2 in /usr/local/lib/python3.7/dist-packages (from pytest==7.1.2->-r /content/drive/MyDrive/3D-bin-packing/requirements.txt (line 6)) (1.11.0)\n",
      "Requirement already satisfied: stable-baselines3>=1.6.0 in /usr/local/lib/python3.7/dist-packages (from sb3_contrib==1.6.0->-r /content/drive/MyDrive/3D-bin-packing/requirements.txt (line 7)) (1.6.1a4)\n",
      "Requirement already satisfied: zipp>=0.5 in /usr/local/lib/python3.7/dist-packages (from importlib-metadata>=4.8.0->gym==0.25.0->-r /content/drive/MyDrive/3D-bin-packing/requirements.txt (line 1)) (3.8.1)\n",
      "Requirement already satisfied: pandas in /usr/local/lib/python3.7/dist-packages (from stable-baselines3>=1.6.0->sb3_contrib==1.6.0->-r /content/drive/MyDrive/3D-bin-packing/requirements.txt (line 7)) (1.3.5)\n",
      "Requirement already satisfied: matplotlib in /usr/local/lib/python3.7/dist-packages (from stable-baselines3>=1.6.0->sb3_contrib==1.6.0->-r /content/drive/MyDrive/3D-bin-packing/requirements.txt (line 7)) (3.2.2)\n",
      "Requirement already satisfied: torch>=1.11 in /usr/local/lib/python3.7/dist-packages (from stable-baselines3>=1.6.0->sb3_contrib==1.6.0->-r /content/drive/MyDrive/3D-bin-packing/requirements.txt (line 7)) (1.12.1+cu113)\n",
      "Requirement already satisfied: pyparsing!=2.0.4,!=2.1.2,!=2.1.6,>=2.0.1 in /usr/local/lib/python3.7/dist-packages (from matplotlib->stable-baselines3>=1.6.0->sb3_contrib==1.6.0->-r /content/drive/MyDrive/3D-bin-packing/requirements.txt (line 7)) (3.0.9)\n",
      "Requirement already satisfied: kiwisolver>=1.0.1 in /usr/local/lib/python3.7/dist-packages (from matplotlib->stable-baselines3>=1.6.0->sb3_contrib==1.6.0->-r /content/drive/MyDrive/3D-bin-packing/requirements.txt (line 7)) (1.4.4)\n",
      "Requirement already satisfied: cycler>=0.10 in /usr/local/lib/python3.7/dist-packages (from matplotlib->stable-baselines3>=1.6.0->sb3_contrib==1.6.0->-r /content/drive/MyDrive/3D-bin-packing/requirements.txt (line 7)) (0.11.0)\n",
      "Requirement already satisfied: python-dateutil>=2.1 in /usr/local/lib/python3.7/dist-packages (from matplotlib->stable-baselines3>=1.6.0->sb3_contrib==1.6.0->-r /content/drive/MyDrive/3D-bin-packing/requirements.txt (line 7)) (2.8.2)\n",
      "Requirement already satisfied: six>=1.5 in /usr/local/lib/python3.7/dist-packages (from python-dateutil>=2.1->matplotlib->stable-baselines3>=1.6.0->sb3_contrib==1.6.0->-r /content/drive/MyDrive/3D-bin-packing/requirements.txt (line 7)) (1.15.0)\n",
      "Requirement already satisfied: pytz>=2017.3 in /usr/local/lib/python3.7/dist-packages (from pandas->stable-baselines3>=1.6.0->sb3_contrib==1.6.0->-r /content/drive/MyDrive/3D-bin-packing/requirements.txt (line 7)) (2022.2.1)\n",
      "Installing collected packages: numpy, pluggy, iniconfig, sb3-contrib, pytest, plotly, Pillow, nptyping\n",
      "  Attempting uninstall: numpy\n",
      "    Found existing installation: numpy 1.21.6\n",
      "    Uninstalling numpy-1.21.6:\n",
      "      Successfully uninstalled numpy-1.21.6\n",
      "  Attempting uninstall: pluggy\n",
      "    Found existing installation: pluggy 0.7.1\n",
      "    Uninstalling pluggy-0.7.1:\n",
      "      Successfully uninstalled pluggy-0.7.1\n",
      "  Attempting uninstall: pytest\n",
      "    Found existing installation: pytest 3.6.4\n",
      "    Uninstalling pytest-3.6.4:\n",
      "      Successfully uninstalled pytest-3.6.4\n",
      "  Attempting uninstall: plotly\n",
      "    Found existing installation: plotly 5.5.0\n",
      "    Uninstalling plotly-5.5.0:\n",
      "      Successfully uninstalled plotly-5.5.0\n",
      "  Attempting uninstall: Pillow\n",
      "    Found existing installation: Pillow 7.1.2\n",
      "    Uninstalling Pillow-7.1.2:\n",
      "      Successfully uninstalled Pillow-7.1.2\n",
      "Successfully installed Pillow-9.2.0 iniconfig-1.1.1 nptyping-2.3.1 numpy-1.21.5 plotly-5.9.0 pluggy-1.0.0 pytest-7.1.2 sb3-contrib-1.6.0\n"
     ]
    },
    {
     "output_type": "display_data",
     "data": {
      "application/vnd.colab-display-data+json": {
       "pip_warning": {
        "packages": [
         "PIL",
         "numpy"
        ]
       }
      }
     },
     "metadata": {}
    }
   ]
  },
  {
   "cell_type": "markdown",
   "source": [],
   "metadata": {
    "id": "_DGawSJkmRlH",
    "pycharm": {
     "name": "#%% md\n"
    }
   }
  },
  {
   "cell_type": "code",
   "execution_count": null,
   "outputs": [],
   "source": [
    "!pip install git+https://github.com/Stable-Baselines-Team/stable-baselines3-contrib\n"
   ],
   "metadata": {
    "pycharm": {
     "name": "#%%\n"
    },
    "id": "CJfdYxTsk5HG"
   }
  },
  {
   "cell_type": "markdown",
   "source": [
    "Next we add the path to be able to find the environment files."
   ],
   "metadata": {
    "id": "QN8Kqo-T2kd2",
    "pycharm": {
     "name": "#%% md\n"
    }
   }
  },
  {
   "cell_type": "code",
   "source": [
    "import sys\n",
    "import os\n",
    "\n",
    "py_file_location = \"/content/drive/MyDrive/Github/3D-bin-packing\"\n",
    "sys.path.append(os.path.abspath(py_file_location))"
   ],
   "metadata": {
    "id": "EXmG4bMB2kCx",
    "pycharm": {
     "name": "#%%\n"
    }
   },
   "execution_count": null,
   "outputs": []
  },
  {
   "cell_type": "markdown",
   "source": [
    "We now test the PPO algorithm with the 3D bin packing environment."
   ],
   "metadata": {
    "collapsed": false,
    "pycharm": {
     "name": "#%% md\n"
    },
    "id": "_rJlODKjgikm"
   }
  },
  {
   "cell_type": "code",
   "execution_count": null,
   "outputs": [],
   "source": [
    "import warnings\n",
    "\n",
    "import gym\n",
    "from numpy.typing import NDArray\n",
    "from sb3_contrib.common.wrappers import ActionMasker\n",
    "from sb3_contrib.ppo_mask import MaskablePPO\n",
    "from stable_baselines3.common.callbacks import CheckpointCallback\n",
    "from stable_baselines3.common.env_util import make_vec_env\n",
    "\n",
    "from src.utils import boxes_generator\n"
   ],
   "metadata": {
    "pycharm": {
     "name": "#%%\n"
    },
    "id": "WSGzmZDek5HK"
   }
  },
  {
   "cell_type": "code",
   "execution_count": null,
   "outputs": [],
   "source": [
    "\n",
    "def mask_fn(env: gym.Env) -> NDArray:\n",
    "    return env.get_action_mask\n",
    "\n",
    "\n",
    "def make_env(container_size, num_boxes, num_visible_boxes=1, seed=0):\n",
    "    \"\"\"\n",
    "    Utility function for initializing bin packing env with action masking\n",
    "    :param seed: (int) the inital seed for RNG\n",
    "    :param rank: (int) index of the subprocess\n",
    "    \"\"\"\n",
    "\n",
    "    env = gym.make(\n",
    "        \"PackingEnv-v0\",\n",
    "        container_size=container_size,\n",
    "        box_sizes=boxes_generator(container_size, num_boxes, seed),\n",
    "        num_visible_boxes=num_visible_boxes,\n",
    "    )\n",
    "    env = ActionMasker(env, mask_fn)\n",
    "    return env"
   ],
   "metadata": {
    "pycharm": {
     "name": "#%%\n"
    },
    "id": "PvOUNkKagikn"
   }
  },
  {
   "cell_type": "code",
   "execution_count": null,
   "outputs": [
    {
     "name": "stderr",
     "output_type": "stream",
     "text": [
      "Process ForkServerProcess-13:\n",
      "Process ForkServerProcess-14:\n",
      "Traceback (most recent call last):\n",
      "Traceback (most recent call last):\n",
      "  File \"/opt/anaconda3/envs/3D-bin-packing/lib/python3.9/multiprocessing/process.py\", line 315, in _bootstrap\n",
      "    self.run()\n",
      "  File \"/opt/anaconda3/envs/3D-bin-packing/lib/python3.9/multiprocessing/process.py\", line 315, in _bootstrap\n",
      "    self.run()\n",
      "  File \"/opt/anaconda3/envs/3D-bin-packing/lib/python3.9/multiprocessing/process.py\", line 108, in run\n",
      "    self._target(*self._args, **self._kwargs)\n",
      "  File \"/opt/anaconda3/envs/3D-bin-packing/lib/python3.9/multiprocessing/process.py\", line 108, in run\n",
      "    self._target(*self._args, **self._kwargs)\n",
      "  File \"/opt/anaconda3/envs/3D-bin-packing/lib/python3.9/site-packages/stable_baselines3/common/vec_env/subproc_vec_env.py\", line 27, in _worker\n",
      "    env = env_fn_wrapper.var()\n",
      "  File \"/opt/anaconda3/envs/3D-bin-packing/lib/python3.9/site-packages/stable_baselines3/common/vec_env/subproc_vec_env.py\", line 27, in _worker\n",
      "    env = env_fn_wrapper.var()\n",
      "  File \"/var/folders/yr/wjd7fsqn2zv8rd2hgfd614yh0000gn/T/ipykernel_19914/1084085288.py\", line 17, in _init\n",
      "  File \"/var/folders/yr/wjd7fsqn2zv8rd2hgfd614yh0000gn/T/ipykernel_19914/1084085288.py\", line 17, in _init\n",
      "  File \"/Users/luis/Documents/code/fourthbrain-mle-course/repos/3D-bin-packing/src/utils.py\", line 47, in boxes_generator\n",
      "    axis = rd.choices(list(range(dim)), weights=box0_size, k=1)[0]\n",
      "  File \"/Users/luis/Documents/code/fourthbrain-mle-course/repos/3D-bin-packing/src/utils.py\", line 47, in boxes_generator\n",
      "    axis = rd.choices(list(range(dim)), weights=box0_size, k=1)[0]\n",
      "KeyboardInterrupt\n",
      "KeyboardInterrupt\n"
     ]
    },
    {
     "ename": "KeyboardInterrupt",
     "evalue": "",
     "output_type": "error",
     "traceback": [
      "\u001B[0;31m---------------------------------------------------------------------------\u001B[0m",
      "\u001B[0;31mKeyboardInterrupt\u001B[0m                         Traceback (most recent call last)",
      "Input \u001B[0;32mIn [10]\u001B[0m, in \u001B[0;36m<cell line: 7>\u001B[0;34m()\u001B[0m\n\u001B[1;32m      5\u001B[0m num_boxes \u001B[38;5;241m=\u001B[39m \u001B[38;5;241m15\u001B[39m\n\u001B[1;32m      6\u001B[0m num_visible_boxes \u001B[38;5;241m=\u001B[39m \u001B[38;5;241m15\u001B[39m\n\u001B[0;32m----> 7\u001B[0m train_env \u001B[38;5;241m=\u001B[39m \u001B[43mSubprocVecEnv\u001B[49m\u001B[43m(\u001B[49m\u001B[43m[\u001B[49m\u001B[43mmake_env\u001B[49m\u001B[43m(\u001B[49m\u001B[43mrank\u001B[49m\u001B[43m \u001B[49m\u001B[38;5;241;43m=\u001B[39;49m\u001B[43m \u001B[49m\u001B[43mi\u001B[49m\u001B[43m,\u001B[49m\u001B[43m \u001B[49m\u001B[43mcontainer_size\u001B[49m\u001B[43m \u001B[49m\u001B[38;5;241;43m=\u001B[39;49m\u001B[43m \u001B[49m\u001B[43mcontainer_size\u001B[49m\u001B[43m,\u001B[49m\u001B[43m \u001B[49m\u001B[43mnum_boxes\u001B[49m\u001B[38;5;241;43m=\u001B[39;49m\u001B[43mnum_boxes\u001B[49m\u001B[43m,\u001B[49m\u001B[43m \u001B[49m\u001B[43mnum_visible_boxes\u001B[49m\u001B[38;5;241;43m=\u001B[39;49m\u001B[43mnum_visible_boxes\u001B[49m\u001B[43m)\u001B[49m\u001B[43m \u001B[49m\u001B[38;5;28;43;01mfor\u001B[39;49;00m\u001B[43m \u001B[49m\u001B[43mi\u001B[49m\u001B[43m \u001B[49m\u001B[38;5;129;43;01min\u001B[39;49;00m\u001B[43m \u001B[49m\u001B[38;5;28;43mrange\u001B[39;49m\u001B[43m(\u001B[49m\u001B[43mnum_cpu\u001B[49m\u001B[43m)\u001B[49m\u001B[43m]\u001B[49m\u001B[43m)\u001B[49m\n\u001B[1;32m      8\u001B[0m \u001B[38;5;28mprint\u001B[39m(\u001B[38;5;124m\"\u001B[39m\u001B[38;5;124mfinished creating train env\u001B[39m\u001B[38;5;124m\"\u001B[39m)\n\u001B[1;32m     10\u001B[0m \u001B[38;5;66;03m## Callback options\u001B[39;00m\n",
      "File \u001B[0;32m/opt/anaconda3/envs/3D-bin-packing/lib/python3.9/site-packages/stable_baselines3/common/vec_env/subproc_vec_env.py:114\u001B[0m, in \u001B[0;36mSubprocVecEnv.__init__\u001B[0;34m(self, env_fns, start_method)\u001B[0m\n\u001B[1;32m    111\u001B[0m     work_remote\u001B[38;5;241m.\u001B[39mclose()\n\u001B[1;32m    113\u001B[0m \u001B[38;5;28mself\u001B[39m\u001B[38;5;241m.\u001B[39mremotes[\u001B[38;5;241m0\u001B[39m]\u001B[38;5;241m.\u001B[39msend((\u001B[38;5;124m\"\u001B[39m\u001B[38;5;124mget_spaces\u001B[39m\u001B[38;5;124m\"\u001B[39m, \u001B[38;5;28;01mNone\u001B[39;00m))\n\u001B[0;32m--> 114\u001B[0m observation_space, action_space \u001B[38;5;241m=\u001B[39m \u001B[38;5;28;43mself\u001B[39;49m\u001B[38;5;241;43m.\u001B[39;49m\u001B[43mremotes\u001B[49m\u001B[43m[\u001B[49m\u001B[38;5;241;43m0\u001B[39;49m\u001B[43m]\u001B[49m\u001B[38;5;241;43m.\u001B[39;49m\u001B[43mrecv\u001B[49m\u001B[43m(\u001B[49m\u001B[43m)\u001B[49m\n\u001B[1;32m    115\u001B[0m VecEnv\u001B[38;5;241m.\u001B[39m\u001B[38;5;21m__init__\u001B[39m(\u001B[38;5;28mself\u001B[39m, \u001B[38;5;28mlen\u001B[39m(env_fns), observation_space, action_space)\n",
      "File \u001B[0;32m/opt/anaconda3/envs/3D-bin-packing/lib/python3.9/multiprocessing/connection.py:255\u001B[0m, in \u001B[0;36m_ConnectionBase.recv\u001B[0;34m(self)\u001B[0m\n\u001B[1;32m    253\u001B[0m \u001B[38;5;28mself\u001B[39m\u001B[38;5;241m.\u001B[39m_check_closed()\n\u001B[1;32m    254\u001B[0m \u001B[38;5;28mself\u001B[39m\u001B[38;5;241m.\u001B[39m_check_readable()\n\u001B[0;32m--> 255\u001B[0m buf \u001B[38;5;241m=\u001B[39m \u001B[38;5;28;43mself\u001B[39;49m\u001B[38;5;241;43m.\u001B[39;49m\u001B[43m_recv_bytes\u001B[49m\u001B[43m(\u001B[49m\u001B[43m)\u001B[49m\n\u001B[1;32m    256\u001B[0m \u001B[38;5;28;01mreturn\u001B[39;00m _ForkingPickler\u001B[38;5;241m.\u001B[39mloads(buf\u001B[38;5;241m.\u001B[39mgetbuffer())\n",
      "File \u001B[0;32m/opt/anaconda3/envs/3D-bin-packing/lib/python3.9/multiprocessing/connection.py:419\u001B[0m, in \u001B[0;36mConnection._recv_bytes\u001B[0;34m(self, maxsize)\u001B[0m\n\u001B[1;32m    418\u001B[0m \u001B[38;5;28;01mdef\u001B[39;00m \u001B[38;5;21m_recv_bytes\u001B[39m(\u001B[38;5;28mself\u001B[39m, maxsize\u001B[38;5;241m=\u001B[39m\u001B[38;5;28;01mNone\u001B[39;00m):\n\u001B[0;32m--> 419\u001B[0m     buf \u001B[38;5;241m=\u001B[39m \u001B[38;5;28;43mself\u001B[39;49m\u001B[38;5;241;43m.\u001B[39;49m\u001B[43m_recv\u001B[49m\u001B[43m(\u001B[49m\u001B[38;5;241;43m4\u001B[39;49m\u001B[43m)\u001B[49m\n\u001B[1;32m    420\u001B[0m     size, \u001B[38;5;241m=\u001B[39m struct\u001B[38;5;241m.\u001B[39munpack(\u001B[38;5;124m\"\u001B[39m\u001B[38;5;124m!i\u001B[39m\u001B[38;5;124m\"\u001B[39m, buf\u001B[38;5;241m.\u001B[39mgetvalue())\n\u001B[1;32m    421\u001B[0m     \u001B[38;5;28;01mif\u001B[39;00m size \u001B[38;5;241m==\u001B[39m \u001B[38;5;241m-\u001B[39m\u001B[38;5;241m1\u001B[39m:\n",
      "File \u001B[0;32m/opt/anaconda3/envs/3D-bin-packing/lib/python3.9/multiprocessing/connection.py:384\u001B[0m, in \u001B[0;36mConnection._recv\u001B[0;34m(self, size, read)\u001B[0m\n\u001B[1;32m    382\u001B[0m remaining \u001B[38;5;241m=\u001B[39m size\n\u001B[1;32m    383\u001B[0m \u001B[38;5;28;01mwhile\u001B[39;00m remaining \u001B[38;5;241m>\u001B[39m \u001B[38;5;241m0\u001B[39m:\n\u001B[0;32m--> 384\u001B[0m     chunk \u001B[38;5;241m=\u001B[39m \u001B[43mread\u001B[49m\u001B[43m(\u001B[49m\u001B[43mhandle\u001B[49m\u001B[43m,\u001B[49m\u001B[43m \u001B[49m\u001B[43mremaining\u001B[49m\u001B[43m)\u001B[49m\n\u001B[1;32m    385\u001B[0m     n \u001B[38;5;241m=\u001B[39m \u001B[38;5;28mlen\u001B[39m(chunk)\n\u001B[1;32m    386\u001B[0m     \u001B[38;5;28;01mif\u001B[39;00m n \u001B[38;5;241m==\u001B[39m \u001B[38;5;241m0\u001B[39m:\n",
      "\u001B[0;31mKeyboardInterrupt\u001B[0m: "
     ]
    }
   ],
   "source": [
    "warnings.filterwarnings(\"ignore\", category=DeprecationWarning)\n",
    "# Environment initialization\n",
    "container_size = [5, 5, 5]\n",
    "num_boxes = 10\n",
    "num_visible_boxes = 10\n",
    "num_env = 4\n",
    "env_kwargs = dict(\n",
    "    container_size=container_size,\n",
    "    num_boxes=num_boxes,\n",
    "    num_visible_boxes=num_visible_boxes,\n",
    "    seed=42,\n",
    "    render_mode=\"rgb_array\",\n",
    ")\n",
    "env = make_vec_env(make_env, n_envs=num_env, env_kwargs=env_kwargs)\n",
    "print(\"finished initialization of vectorized environment\")\n",
    "print(\"beginning training\")\n",
    "\n",
    "# MaskablePPO initialization\n",
    "model = MaskablePPO(\"MultiInputPolicy\", env, gamma=0.4, verbose=1)\n",
    "checkpoint_callback = CheckpointCallback(\n",
    "    save_freq=50, save_path=\"../logs/\", name_prefix=\"rl_model\"\n",
    ")\n",
    "model.learn(5000, callback=checkpoint_callback)\n",
    "print(\"done training\")\n",
    "model.save(\"ppo_mask\")"
   ],
   "metadata": {
    "pycharm": {
     "name": "#%%\n"
    },
    "id": "1m_MlCPbk5HO",
    "outputId": "c5fee718-374d-42ea-c90d-e19473da4852"
   }
  },
  {
   "cell_type": "code",
   "execution_count": null,
   "outputs": [],
   "source": [
    "# obs = env.reset()\n",
    "# while True:\n",
    "#     # Retrieve current action mask\n",
    "#     action_masks = get_action_masks(env)\n",
    "#     action, _states = model.predict(obs, action_masks=action_masks)\n",
    "#     obs, rewards, dones, info = env.step(action)\n",
    "#     env.render()\n"
   ],
   "metadata": {
    "pycharm": {
     "name": "#%%\n"
    },
    "id": "TZZ7PGf1k5HQ"
   }
  }
 ],
 "metadata": {
  "kernelspec": {
   "display_name": "Python 3",
   "language": "python",
   "name": "python3"
  },
  "language_info": {
   "codemirror_mode": {
    "name": "ipython",
    "version": 2
   },
   "file_extension": ".py",
   "mimetype": "text/x-python",
   "name": "python",
   "nbconvert_exporter": "python",
   "pygments_lexer": "ipython2",
   "version": "2.7.6"
  },
  "colab": {
   "provenance": []
  },
  "accelerator": "GPU"
 },
 "nbformat": 4,
 "nbformat_minor": 0
}