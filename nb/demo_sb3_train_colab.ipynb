{
  "cells": [
    {
      "cell_type": "markdown",
      "source": [
        "## Using the StableBaselines3 library for reinforcement learning\n",
        "\n",
        "In this notebook we test an implementation of the proximal policy optimization (PPO)\n",
        "PPO is described in detail in https://arxiv.org/abs/1707.06347. It is a variant of Trust Region Policy Optimization (TRPO) described (in this paper )[https://arxiv.org/abs/1502.05477]. The PPO algorithm works in two phases. In one phase, a large number of rollouts are performed (in parallel). The rollouts are then aggregated on the driver and a surrogate optimization objective is defined based on those rollouts. We then use SGD to find the policy that maximizes that objective with a penalty term for diverging too much from the current policy.\n",
        "\n",
        "![ppo](https://raw.githubusercontent.com/ucbrise/risecamp/risecamp2018/ray/tutorial/rllib_exercises/ppo.png)"
      ],
      "metadata": {
        "collapsed": false,
        "pycharm": {
          "name": "#%% md\n"
        },
        "id": "LB3eLu4qgikf"
      }
    },
    {
      "cell_type": "markdown",
      "source": [
        "We begin by installing Python 3.8 in our environment, mounting Google Drive and cloning the repository with the 3D bin packing environment (only if you are using Google Colab)."
      ],
      "metadata": {
        "id": "2ZFTvxgfhWbj",
        "pycharm": {
          "name": "#%% md\n"
        }
      }
    },
    {
      "cell_type": "code",
      "source": [
        "!sudo apt-get install python3.8\n",
        "\n",
        "#change alternatives\n",
        "!sudo update-alternatives --install /usr/bin/python3  python3/usr/bin/python3.7.1\n",
        "!sudo update-alternatives --install /usr/bin/python3 python3/usr/bin/python3.8.2\n",
        "\n",
        "#check python version\n",
        "!python --version\n",
        "\n",
        "#install pip\n",
        "!sudo apt-get install python-pip\n",
        "!sudo apt install python3.8-distutils\n",
        "\n",
        "#force reinstall pip (fixes issue with pip not working)\n",
        "#see: https://askubuntu.com/questions/1025189/pip-is-not-working-importerror-no-module-named-pip-internal\n",
        "!curl https://bootstrap.pypa.io/get-pip.py -o get-pip.py\n",
        "!python3 get-pip.py --force-reinstall\n"
      ],
      "metadata": {
        "id": "kZ0M4QIzuqCV",
        "outputId": "cdd9a925-8ce1-4731-bf1b-8dd5cf8255ac",
        "colab": {
          "base_uri": "https://localhost:8080/"
        },
        "pycharm": {
          "name": "#%%\n"
        }
      },
      "execution_count": 1,
      "outputs": [
        {
          "output_type": "stream",
          "name": "stdout",
          "text": [
            "Reading package lists... Done\n",
            "Building dependency tree       \n",
            "Reading state information... Done\n",
            "python3.8 is already the newest version (3.8.10-0ubuntu1~20.04.6).\n",
            "0 upgraded, 0 newly installed, 0 to remove and 23 not upgraded.\n",
            "update-alternatives: --install needs <link> <name> <path> <priority>\n",
            "\n",
            "Use 'update-alternatives --help' for program usage information.\n",
            "update-alternatives: --install needs <link> <name> <path> <priority>\n",
            "\n",
            "Use 'update-alternatives --help' for program usage information.\n",
            "Python 3.8.10\n",
            "Reading package lists... Done\n",
            "Building dependency tree       \n",
            "Reading state information... Done\n",
            "Package python-pip is not available, but is referred to by another package.\n",
            "This may mean that the package is missing, has been obsoleted, or\n",
            "is only available from another source\n",
            "However the following packages replace it:\n",
            "  python3-pip\n",
            "\n",
            "E: Package 'python-pip' has no installation candidate\n",
            "Reading package lists... Done\n",
            "Building dependency tree       \n",
            "Reading state information... Done\n",
            "Note, selecting 'python3-distutils' instead of 'python3.8-distutils'\n",
            "python3-distutils is already the newest version (3.8.10-0ubuntu1~20.04).\n",
            "0 upgraded, 0 newly installed, 0 to remove and 23 not upgraded.\n",
            "  % Total    % Received % Xferd  Average Speed   Time    Time     Time  Current\n",
            "                                 Dload  Upload   Total   Spent    Left  Speed\n",
            "100 2509k  100 2509k    0     0  64.4M      0 --:--:-- --:--:-- --:--:-- 64.4M\n",
            "Looking in indexes: https://pypi.org/simple, https://us-python.pkg.dev/colab-wheels/public/simple/\n",
            "Collecting pip\n",
            "  Using cached pip-22.3.1-py3-none-any.whl (2.1 MB)\n",
            "Installing collected packages: pip\n",
            "  Attempting uninstall: pip\n",
            "    Found existing installation: pip 22.3.1\n",
            "    Uninstalling pip-22.3.1:\n",
            "      Successfully uninstalled pip-22.3.1\n",
            "Successfully installed pip-22.3.1\n",
            "\u001b[33mWARNING: Running pip as the 'root' user can result in broken permissions and conflicting behaviour with the system package manager. It is recommended to use a virtual environment instead: https://pip.pypa.io/warnings/venv\u001b[0m\u001b[33m\n",
            "\u001b[0m"
          ]
        }
      ]
    },
    {
      "cell_type": "markdown",
      "source": [],
      "metadata": {
        "id": "J8u4uQMdvCjR",
        "pycharm": {
          "name": "#%% md\n"
        }
      }
    },
    {
      "cell_type": "code",
      "source": [
        "from google.colab import drive\n",
        "\n",
        "ROOT = \"/content/drive\"     # default location for the drive\n",
        "\n",
        "drive.mount(ROOT)           # we mount the google drive at /content/drive\n",
        "\n",
        "\n"
      ],
      "metadata": {
        "id": "Hmtegq1thfbj",
        "outputId": "738dd4a0-0563-4df0-85cf-33f2d1ff9df7",
        "colab": {
          "base_uri": "https://localhost:8080/"
        },
        "pycharm": {
          "name": "#%%\n"
        }
      },
      "execution_count": 4,
      "outputs": [
        {
          "output_type": "stream",
          "name": "stdout",
          "text": [
            "Drive already mounted at /content/drive; to attempt to forcibly remount, call drive.mount(\"/content/drive\", force_remount=True).\n"
          ]
        }
      ]
    },
    {
      "cell_type": "code",
      "source": [
        "from os.path import join  \n",
        "\n",
        "MY_GOOGLE_DRIVE_PATH = 'content/drive/MyDrive/Github/3D-bin-packing' \n",
        "# replace with your Github username \n",
        "GIT_USERNAME = \"luisgarciar\" \n",
        "# definitely replace with your\n",
        "GIT_TOKEN = \"aaa\"\n",
        "# Replace with your github repository \n",
        "GIT_REPOSITORY = \"3D-bin-packing\" \n",
        "\n",
        "PROJECT_PATH = join(ROOT, MY_GOOGLE_DRIVE_PATH)\n",
        "\n",
        "# It's good to print out the value if you are not sure \n",
        "print(\"PROJECT_PATH: \", PROJECT_PATH)   \n",
        "\n",
        "# In case we haven't created the folder already; we will create a folder in the project path \n",
        "!rm -rf \"PROJECT_PATH\"\n",
        "!mkdir \"PROJECT_PATH\"    \n",
        "\n",
        "#GIT_PATH = \"https://{GIT_TOKEN}@github.com/{GIT_USERNAME}/{GIT_REPOSITORY}.git\" this return 400 Bad Request for me\n",
        "GIT_PATH = \"https://\" + GIT_TOKEN + \"@github.com/\" + GIT_USERNAME + \"/\" + GIT_REPOSITORY + \".git\"\n",
        "print(\"GIT_PATH: \", GIT_PATH)"
      ],
      "metadata": {
        "id": "nD1-Pr6ww788",
        "outputId": "e7554bd7-800a-4aef-db63-53b388b46ee3",
        "colab": {
          "base_uri": "https://localhost:8080/"
        }
      },
      "execution_count": 30,
      "outputs": [
        {
          "output_type": "stream",
          "name": "stdout",
          "text": [
            "PROJECT_PATH:  /content/drive/content/drive/MyDrive/Github/3D-bin-packing\n",
            "GIT_PATH:  https://aaa@github.com/luisgarciar/3D-bin-packing.git\n"
          ]
        }
      ]
    },
    {
      "cell_type": "code",
      "source": [
        "%cd /content/drive/MyDrive/Github\n",
        "%rm -rf 3D-bin-packing/\n",
        "!git clone "
      ],
      "metadata": {
        "id": "6G0GQanQiRqw",
        "outputId": "4dfd34b0-4faa-4319-d909-9c86d5b8ed76",
        "colab": {
          "base_uri": "https://localhost:8080/"
        },
        "pycharm": {
          "name": "#%%\n"
        }
      },
      "execution_count": 15,
      "outputs": [
        {
          "output_type": "stream",
          "name": "stdout",
          "text": [
            "/content/drive/MyDrive/Github\n",
            "Cloning into '3D-bin-packing'...\n",
            "remote: Enumerating objects: 1064, done.\u001b[K\n",
            "remote: Counting objects: 100% (695/695), done.\u001b[K\n",
            "remote: Compressing objects: 100% (183/183), done.\u001b[K\n",
            "remote: Total 1064 (delta 581), reused 595 (delta 507), pack-reused 369\u001b[K\n",
            "Receiving objects: 100% (1064/1064), 23.57 MiB | 11.78 MiB/s, done.\n",
            "Resolving deltas: 100% (789/789), done.\n",
            "Updating files: 100% (265/265), done.\n"
          ]
        }
      ]
    },
    {
      "cell_type": "code",
      "source": [
        "%cd 3D-bin-packing/\n",
        "!git checkout dev-luis"
      ],
      "metadata": {
        "colab": {
          "base_uri": "https://localhost:8080/"
        },
        "id": "-dQtSg8enSzV",
        "outputId": "eef311be-91fa-4507-bf17-39c7a463b75c",
        "pycharm": {
          "name": "#%%\n"
        }
      },
      "execution_count": 19,
      "outputs": [
        {
          "output_type": "stream",
          "name": "stdout",
          "text": [
            "/content/drive/MyDrive/Github/3D-bin-packing\n",
            "M\tlogs/rl_model_4600_steps.zip\n",
            "Branch 'dev-luis' set up to track remote branch 'dev-luis' from 'origin'.\n",
            "Switched to a new branch 'dev-luis'\n"
          ]
        }
      ]
    },
    {
      "cell_type": "markdown",
      "source": [
        "We now install the required libraries from the requirements.txt file from the repository. "
      ],
      "metadata": {
        "id": "GFLqD4myma0X",
        "pycharm": {
          "name": "#%% md\n"
        }
      }
    },
    {
      "cell_type": "code",
      "source": [
        "!pip install -r requirements.txt"
      ],
      "metadata": {
        "id": "8d929L_NmwQN",
        "outputId": "27e19877-1a37-4b9a-8d70-d5a636f4e268",
        "colab": {
          "base_uri": "https://localhost:8080/"
        },
        "pycharm": {
          "name": "#%%\n"
        }
      },
      "execution_count": 20,
      "outputs": [
        {
          "output_type": "stream",
          "name": "stdout",
          "text": [
            "Looking in indexes: https://pypi.org/simple, https://us-python.pkg.dev/colab-wheels/public/simple/\n",
            "Requirement already satisfied: gym==0.21 in /usr/local/lib/python3.8/dist-packages (from -r requirements.txt (line 1)) (0.21.0)\n",
            "Requirement already satisfied: nptyping==2.3.1 in /usr/local/lib/python3.8/dist-packages (from -r requirements.txt (line 2)) (2.3.1)\n",
            "Requirement already satisfied: numpy==1.21.5 in /usr/local/lib/python3.8/dist-packages (from -r requirements.txt (line 3)) (1.21.5)\n",
            "Requirement already satisfied: Pillow==9.2.0 in /usr/local/lib/python3.8/dist-packages (from -r requirements.txt (line 4)) (9.2.0)\n",
            "Requirement already satisfied: plotly==5.9.0 in /usr/local/lib/python3.8/dist-packages (from -r requirements.txt (line 5)) (5.9.0)\n",
            "Requirement already satisfied: pytest==7.1.2 in /usr/local/lib/python3.8/dist-packages (from -r requirements.txt (line 6)) (7.1.2)\n",
            "Requirement already satisfied: plotly_gif==0.0.3 in /usr/local/lib/python3.8/dist-packages (from -r requirements.txt (line 7)) (0.0.3)\n",
            "Requirement already satisfied: sb3-contrib==1.7 in /usr/local/lib/python3.8/dist-packages (from -r requirements.txt (line 8)) (1.7.0)\n",
            "Requirement already satisfied: jupyter in /usr/local/lib/python3.8/dist-packages (from -r requirements.txt (line 9)) (1.0.0)\n",
            "Requirement already satisfied: cloudpickle>=1.2.0 in /usr/local/lib/python3.8/dist-packages (from gym==0.21->-r requirements.txt (line 1)) (2.2.0)\n",
            "Requirement already satisfied: typing-extensions<5.0.0,>=4.0.0 in /usr/local/lib/python3.8/dist-packages (from nptyping==2.3.1->-r requirements.txt (line 2)) (4.4.0)\n",
            "Requirement already satisfied: tenacity>=6.2.0 in /usr/local/lib/python3.8/dist-packages (from plotly==5.9.0->-r requirements.txt (line 5)) (8.1.0)\n",
            "Requirement already satisfied: iniconfig in /usr/local/lib/python3.8/dist-packages (from pytest==7.1.2->-r requirements.txt (line 6)) (2.0.0)\n",
            "Requirement already satisfied: attrs>=19.2.0 in /usr/local/lib/python3.8/dist-packages (from pytest==7.1.2->-r requirements.txt (line 6)) (22.2.0)\n",
            "Requirement already satisfied: pluggy<2.0,>=0.12 in /usr/local/lib/python3.8/dist-packages (from pytest==7.1.2->-r requirements.txt (line 6)) (1.0.0)\n",
            "Requirement already satisfied: py>=1.8.2 in /usr/local/lib/python3.8/dist-packages (from pytest==7.1.2->-r requirements.txt (line 6)) (1.11.0)\n",
            "Requirement already satisfied: packaging in /usr/local/lib/python3.8/dist-packages (from pytest==7.1.2->-r requirements.txt (line 6)) (21.3)\n",
            "Requirement already satisfied: tomli>=1.0.0 in /usr/local/lib/python3.8/dist-packages (from pytest==7.1.2->-r requirements.txt (line 6)) (2.0.1)\n",
            "Requirement already satisfied: kaleido>=0.2.1 in /usr/local/lib/python3.8/dist-packages (from plotly_gif==0.0.3->-r requirements.txt (line 7)) (0.2.1)\n",
            "Requirement already satisfied: stable-baselines3>=1.7.0 in /usr/local/lib/python3.8/dist-packages (from sb3-contrib==1.7->-r requirements.txt (line 8)) (1.7.0)\n",
            "Requirement already satisfied: ipywidgets in /usr/local/lib/python3.8/dist-packages (from jupyter->-r requirements.txt (line 9)) (7.7.1)\n",
            "Requirement already satisfied: nbconvert in /usr/local/lib/python3.8/dist-packages (from jupyter->-r requirements.txt (line 9)) (5.6.1)\n",
            "Requirement already satisfied: jupyter-console in /usr/local/lib/python3.8/dist-packages (from jupyter->-r requirements.txt (line 9)) (6.1.0)\n",
            "Requirement already satisfied: notebook in /usr/local/lib/python3.8/dist-packages (from jupyter->-r requirements.txt (line 9)) (5.7.16)\n",
            "Requirement already satisfied: ipykernel in /usr/local/lib/python3.8/dist-packages (from jupyter->-r requirements.txt (line 9)) (5.3.4)\n",
            "Requirement already satisfied: qtconsole in /usr/local/lib/python3.8/dist-packages (from jupyter->-r requirements.txt (line 9)) (5.4.0)\n",
            "Requirement already satisfied: importlib-metadata~=4.13 in /usr/local/lib/python3.8/dist-packages (from stable-baselines3>=1.7.0->sb3-contrib==1.7->-r requirements.txt (line 8)) (4.13.0)\n",
            "Requirement already satisfied: matplotlib in /usr/local/lib/python3.8/dist-packages (from stable-baselines3>=1.7.0->sb3-contrib==1.7->-r requirements.txt (line 8)) (3.2.2)\n",
            "Requirement already satisfied: torch>=1.11 in /usr/local/lib/python3.8/dist-packages (from stable-baselines3>=1.7.0->sb3-contrib==1.7->-r requirements.txt (line 8)) (1.13.1+cu116)\n",
            "Requirement already satisfied: pandas in /usr/local/lib/python3.8/dist-packages (from stable-baselines3>=1.7.0->sb3-contrib==1.7->-r requirements.txt (line 8)) (1.3.5)\n",
            "Requirement already satisfied: ipython>=5.0.0 in /usr/local/lib/python3.8/dist-packages (from ipykernel->jupyter->-r requirements.txt (line 9)) (7.9.0)\n",
            "Requirement already satisfied: jupyter-client in /usr/local/lib/python3.8/dist-packages (from ipykernel->jupyter->-r requirements.txt (line 9)) (6.1.12)\n",
            "Requirement already satisfied: tornado>=4.2 in /usr/local/lib/python3.8/dist-packages (from ipykernel->jupyter->-r requirements.txt (line 9)) (6.0.4)\n",
            "Requirement already satisfied: traitlets>=4.1.0 in /usr/local/lib/python3.8/dist-packages (from ipykernel->jupyter->-r requirements.txt (line 9)) (5.7.1)\n",
            "Requirement already satisfied: widgetsnbextension~=3.6.0 in /usr/local/lib/python3.8/dist-packages (from ipywidgets->jupyter->-r requirements.txt (line 9)) (3.6.1)\n",
            "Requirement already satisfied: jupyterlab-widgets>=1.0.0 in /usr/local/lib/python3.8/dist-packages (from ipywidgets->jupyter->-r requirements.txt (line 9)) (3.0.5)\n",
            "Requirement already satisfied: ipython-genutils~=0.2.0 in /usr/local/lib/python3.8/dist-packages (from ipywidgets->jupyter->-r requirements.txt (line 9)) (0.2.0)\n",
            "Requirement already satisfied: prompt-toolkit!=3.0.0,!=3.0.1,<3.1.0,>=2.0.0 in /usr/local/lib/python3.8/dist-packages (from jupyter-console->jupyter->-r requirements.txt (line 9)) (2.0.10)\n",
            "Requirement already satisfied: pygments in /usr/local/lib/python3.8/dist-packages (from jupyter-console->jupyter->-r requirements.txt (line 9)) (2.6.1)\n",
            "Requirement already satisfied: nbformat>=4.4 in /usr/local/lib/python3.8/dist-packages (from nbconvert->jupyter->-r requirements.txt (line 9)) (5.7.1)\n",
            "Requirement already satisfied: jinja2>=2.4 in /usr/local/lib/python3.8/dist-packages (from nbconvert->jupyter->-r requirements.txt (line 9)) (2.11.3)\n",
            "Requirement already satisfied: jupyter-core in /usr/local/lib/python3.8/dist-packages (from nbconvert->jupyter->-r requirements.txt (line 9)) (5.1.3)\n",
            "Requirement already satisfied: bleach in /usr/local/lib/python3.8/dist-packages (from nbconvert->jupyter->-r requirements.txt (line 9)) (5.0.1)\n",
            "Requirement already satisfied: testpath in /usr/local/lib/python3.8/dist-packages (from nbconvert->jupyter->-r requirements.txt (line 9)) (0.6.0)\n",
            "Requirement already satisfied: defusedxml in /usr/local/lib/python3.8/dist-packages (from nbconvert->jupyter->-r requirements.txt (line 9)) (0.7.1)\n",
            "Requirement already satisfied: entrypoints>=0.2.2 in /usr/local/lib/python3.8/dist-packages (from nbconvert->jupyter->-r requirements.txt (line 9)) (0.4)\n",
            "Requirement already satisfied: pandocfilters>=1.4.1 in /usr/local/lib/python3.8/dist-packages (from nbconvert->jupyter->-r requirements.txt (line 9)) (1.5.0)\n",
            "Requirement already satisfied: mistune<2,>=0.8.1 in /usr/local/lib/python3.8/dist-packages (from nbconvert->jupyter->-r requirements.txt (line 9)) (0.8.4)\n",
            "Requirement already satisfied: terminado>=0.8.1 in /usr/local/lib/python3.8/dist-packages (from notebook->jupyter->-r requirements.txt (line 9)) (0.13.3)\n",
            "Requirement already satisfied: Send2Trash in /usr/local/lib/python3.8/dist-packages (from notebook->jupyter->-r requirements.txt (line 9)) (1.8.0)\n",
            "Requirement already satisfied: prometheus-client in /usr/local/lib/python3.8/dist-packages (from notebook->jupyter->-r requirements.txt (line 9)) (0.15.0)\n",
            "Requirement already satisfied: pyzmq>=17 in /usr/local/lib/python3.8/dist-packages (from notebook->jupyter->-r requirements.txt (line 9)) (23.2.1)\n",
            "Requirement already satisfied: pyparsing!=3.0.5,>=2.0.2 in /usr/local/lib/python3.8/dist-packages (from packaging->pytest==7.1.2->-r requirements.txt (line 6)) (3.0.9)\n",
            "Requirement already satisfied: qtpy>=2.0.1 in /usr/local/lib/python3.8/dist-packages (from qtconsole->jupyter->-r requirements.txt (line 9)) (2.3.0)\n",
            "Requirement already satisfied: zipp>=0.5 in /usr/local/lib/python3.8/dist-packages (from importlib-metadata~=4.13->stable-baselines3>=1.7.0->sb3-contrib==1.7->-r requirements.txt (line 8)) (3.11.0)\n",
            "Requirement already satisfied: pexpect in /usr/local/lib/python3.8/dist-packages (from ipython>=5.0.0->ipykernel->jupyter->-r requirements.txt (line 9)) (4.8.0)\n",
            "Requirement already satisfied: backcall in /usr/local/lib/python3.8/dist-packages (from ipython>=5.0.0->ipykernel->jupyter->-r requirements.txt (line 9)) (0.2.0)\n",
            "Requirement already satisfied: jedi>=0.10 in /usr/local/lib/python3.8/dist-packages (from ipython>=5.0.0->ipykernel->jupyter->-r requirements.txt (line 9)) (0.18.2)\n",
            "Requirement already satisfied: decorator in /usr/local/lib/python3.8/dist-packages (from ipython>=5.0.0->ipykernel->jupyter->-r requirements.txt (line 9)) (4.4.2)\n",
            "Requirement already satisfied: setuptools>=18.5 in /usr/local/lib/python3.8/dist-packages (from ipython>=5.0.0->ipykernel->jupyter->-r requirements.txt (line 9)) (57.4.0)\n",
            "Requirement already satisfied: pickleshare in /usr/local/lib/python3.8/dist-packages (from ipython>=5.0.0->ipykernel->jupyter->-r requirements.txt (line 9)) (0.7.5)\n",
            "Requirement already satisfied: MarkupSafe>=0.23 in /usr/local/lib/python3.8/dist-packages (from jinja2>=2.4->nbconvert->jupyter->-r requirements.txt (line 9)) (2.0.1)\n",
            "Requirement already satisfied: python-dateutil>=2.1 in /usr/local/lib/python3.8/dist-packages (from jupyter-client->ipykernel->jupyter->-r requirements.txt (line 9)) (2.8.2)\n",
            "Requirement already satisfied: platformdirs>=2.5 in /usr/local/lib/python3.8/dist-packages (from jupyter-core->nbconvert->jupyter->-r requirements.txt (line 9)) (2.6.2)\n",
            "Requirement already satisfied: jsonschema>=2.6 in /usr/local/lib/python3.8/dist-packages (from nbformat>=4.4->nbconvert->jupyter->-r requirements.txt (line 9)) (4.3.3)\n",
            "Requirement already satisfied: fastjsonschema in /usr/local/lib/python3.8/dist-packages (from nbformat>=4.4->nbconvert->jupyter->-r requirements.txt (line 9)) (2.16.2)\n",
            "Requirement already satisfied: wcwidth in /usr/local/lib/python3.8/dist-packages (from prompt-toolkit!=3.0.0,!=3.0.1,<3.1.0,>=2.0.0->jupyter-console->jupyter->-r requirements.txt (line 9)) (0.2.5)\n",
            "Requirement already satisfied: six>=1.9.0 in /usr/local/lib/python3.8/dist-packages (from prompt-toolkit!=3.0.0,!=3.0.1,<3.1.0,>=2.0.0->jupyter-console->jupyter->-r requirements.txt (line 9)) (1.15.0)\n",
            "Requirement already satisfied: ptyprocess in /usr/local/lib/python3.8/dist-packages (from terminado>=0.8.1->notebook->jupyter->-r requirements.txt (line 9)) (0.7.0)\n",
            "Requirement already satisfied: webencodings in /usr/local/lib/python3.8/dist-packages (from bleach->nbconvert->jupyter->-r requirements.txt (line 9)) (0.5.1)\n",
            "Requirement already satisfied: kiwisolver>=1.0.1 in /usr/local/lib/python3.8/dist-packages (from matplotlib->stable-baselines3>=1.7.0->sb3-contrib==1.7->-r requirements.txt (line 8)) (1.4.4)\n",
            "Requirement already satisfied: cycler>=0.10 in /usr/local/lib/python3.8/dist-packages (from matplotlib->stable-baselines3>=1.7.0->sb3-contrib==1.7->-r requirements.txt (line 8)) (0.11.0)\n",
            "Requirement already satisfied: pytz>=2017.3 in /usr/local/lib/python3.8/dist-packages (from pandas->stable-baselines3>=1.7.0->sb3-contrib==1.7->-r requirements.txt (line 8)) (2022.7)\n",
            "Requirement already satisfied: parso<0.9.0,>=0.8.0 in /usr/local/lib/python3.8/dist-packages (from jedi>=0.10->ipython>=5.0.0->ipykernel->jupyter->-r requirements.txt (line 9)) (0.8.3)\n",
            "Requirement already satisfied: pyrsistent!=0.17.0,!=0.17.1,!=0.17.2,>=0.14.0 in /usr/local/lib/python3.8/dist-packages (from jsonschema>=2.6->nbformat>=4.4->nbconvert->jupyter->-r requirements.txt (line 9)) (0.19.3)\n",
            "Requirement already satisfied: importlib-resources>=1.4.0 in /usr/local/lib/python3.8/dist-packages (from jsonschema>=2.6->nbformat>=4.4->nbconvert->jupyter->-r requirements.txt (line 9)) (5.10.2)\n",
            "\u001b[33mWARNING: Running pip as the 'root' user can result in broken permissions and conflicting behaviour with the system package manager. It is recommended to use a virtual environment instead: https://pip.pypa.io/warnings/venv\u001b[0m\u001b[33m\n",
            "\u001b[0m"
          ]
        }
      ]
    },
    {
      "cell_type": "markdown",
      "source": [],
      "metadata": {
        "id": "_DGawSJkmRlH",
        "pycharm": {
          "name": "#%% md\n"
        }
      }
    },
    {
      "cell_type": "markdown",
      "source": [
        "Next we add the path to be able to find the environment files."
      ],
      "metadata": {
        "id": "QN8Kqo-T2kd2",
        "pycharm": {
          "name": "#%% md\n"
        }
      }
    },
    {
      "cell_type": "code",
      "source": [
        "import sys\n",
        "import os\n",
        "\n",
        "py_file_location = \"/content/drive/MyDrive/Github/3D-bin-packing\"\n",
        "sys.path.append(os.path.abspath(py_file_location))"
      ],
      "metadata": {
        "id": "EXmG4bMB2kCx",
        "pycharm": {
          "name": "#%%\n"
        }
      },
      "execution_count": 21,
      "outputs": []
    },
    {
      "cell_type": "markdown",
      "source": [
        "We now test the PPO algorithm with the 3D bin packing environment."
      ],
      "metadata": {
        "collapsed": false,
        "pycharm": {
          "name": "#%% md\n"
        },
        "id": "_rJlODKjgikm"
      }
    },
    {
      "cell_type": "code",
      "execution_count": 22,
      "outputs": [],
      "source": [
        "import io\n",
        "import warnings\n",
        "\n",
        "import gym\n",
        "from PIL import Image\n",
        "from sb3_contrib.ppo_mask import MaskablePPO\n",
        "from stable_baselines3.common.env_checker import check_env\n",
        "from stable_baselines3.common.callbacks import CheckpointCallback\n",
        "\n",
        "\n",
        "from src.utils import boxes_generator"
      ],
      "metadata": {
        "pycharm": {
          "name": "#%%\n"
        },
        "id": "WSGzmZDek5HK"
      }
    },
    {
      "cell_type": "code",
      "execution_count": 23,
      "outputs": [],
      "source": [
        "def make_env(\n",
        "        container_size,\n",
        "        num_boxes,\n",
        "        num_visible_boxes=1,\n",
        "        seed=0,\n",
        "        render_mode=None,\n",
        "        random_boxes=False,\n",
        "        only_terminal_reward=False,\n",
        "):\n",
        "    \"\"\"\n",
        "    Parameters\n",
        "\n",
        "    ----------\n",
        "    container_size: size of the container\n",
        "    num_boxes: number of boxes to be packed\n",
        "    num_visible_boxes: number of boxes visible to the agent\n",
        "    seed: seed for RNG\n",
        "    render_mode: render mode for the environment\n",
        "    random_boxes: whether to use random boxes or not\n",
        "    only_terminal_reward: whether to use only terminal reward or not\n",
        "    \"\"\"\n",
        "    env = gym.make(\n",
        "        \"PackingEnv-v0\",\n",
        "        container_size=container_size,\n",
        "        box_sizes=boxes_generator(container_size, num_boxes, seed),\n",
        "        num_visible_boxes=num_visible_boxes,\n",
        "        render_mode=render_mode,\n",
        "        random_boxes=random_boxes,\n",
        "        only_terminal_reward=only_terminal_reward,\n",
        "    )"
      ],
      "metadata": {
        "pycharm": {
          "name": "#%%\n"
        },
        "id": "PvOUNkKagikn"
      }
    },
    {
      "cell_type": "markdown",
      "source": [
        "We initialize two environments: one for training and another one for testing."
      ],
      "metadata": {
        "id": "3IfZk1j_bOMj"
      }
    },
    {
      "cell_type": "code",
      "source": [
        "warnings.filterwarnings(\"ignore\")\n",
        "container_size = [10, 10, 10]\n",
        "box_sizes2 = [[3, 3, 3], [3, 2, 3], [3, 4, 2], [3, 2, 4], [3, 2, 3]]\n",
        "\n",
        "train_env = gym.make(\n",
        "    \"PackingEnv-v0\",\n",
        "    container_size=container_size,\n",
        "    box_sizes=boxes_generator([10,10,10], num_items = 15),\n",
        "    num_visible_boxes=5,\n",
        "    render_mode=\"human\",\n",
        "    only_terminal_reward=True,\n",
        ")\n",
        "\n",
        "test_env = gym.make(\n",
        "    \"PackingEnv-v0\",\n",
        "    box_sizes=boxes_generator([10,10,10], num_items = 15),\n",
        "    container_size=container_size,\n",
        "    num_visible_boxes=5,\n",
        "    render_mode=\"human\",\n",
        "    only_terminal_reward=True,\n",
        ")\n",
        "\n",
        "check_env(train_env, warn=True)\n",
        "check_env(test_env, warn=True)"
      ],
      "metadata": {
        "id": "mk6UMNrzbAgI"
      },
      "execution_count": 24,
      "outputs": []
    },
    {
      "cell_type": "markdown",
      "source": [],
      "metadata": {
        "id": "fVt13ZbsbMS9"
      }
    },
    {
      "cell_type": "markdown",
      "source": [
        "Next, we train our model with the default MLP multiinput policy. "
      ],
      "metadata": {
        "id": "ZKAZ6ZpLc4C_"
      }
    },
    {
      "cell_type": "code",
      "source": [
        "model = MaskablePPO(\"MultiInputPolicy\", train_env, verbose=1)\n",
        "checkpoint_callback = CheckpointCallback(\n",
        "    save_freq=50, save_path=\"../logs/\", name_prefix=\"rl_model\"\n",
        ")\n",
        "print(\"begin training\")\n",
        "model.learn(total_timesteps=10000)\n",
        "print(\"done training\")\n",
        "model.save(\"ppo_mask\")"
      ],
      "metadata": {
        "colab": {
          "base_uri": "https://localhost:8080/"
        },
        "id": "QNfyPMgkbhd7",
        "outputId": "3c0ce4bf-8e7f-4959-ca38-332de7ffe718"
      },
      "execution_count": 25,
      "outputs": [
        {
          "output_type": "stream",
          "name": "stdout",
          "text": [
            "Using cuda device\n",
            "Wrapping the env with a `Monitor` wrapper\n",
            "Wrapping the env in a DummyVecEnv.\n",
            "begin training\n",
            "---------------------------------\n",
            "| rollout/           |          |\n",
            "|    ep_len_mean     | 22       |\n",
            "|    ep_rew_mean     | 0.433    |\n",
            "| time/              |          |\n",
            "|    fps             | 24       |\n",
            "|    iterations      | 1        |\n",
            "|    time_elapsed    | 83       |\n",
            "|    total_timesteps | 2048     |\n",
            "---------------------------------\n",
            "-----------------------------------------\n",
            "| rollout/                |             |\n",
            "|    ep_len_mean          | 20.7        |\n",
            "|    ep_rew_mean          | 0.47        |\n",
            "| time/                   |             |\n",
            "|    fps                  | 23          |\n",
            "|    iterations           | 2           |\n",
            "|    time_elapsed         | 176         |\n",
            "|    total_timesteps      | 4096        |\n",
            "| train/                  |             |\n",
            "|    approx_kl            | 0.018508974 |\n",
            "|    clip_fraction        | 0.193       |\n",
            "|    clip_range           | 0.2         |\n",
            "|    entropy_loss         | -1.49       |\n",
            "|    explained_variance   | -2.35       |\n",
            "|    learning_rate        | 0.0003      |\n",
            "|    loss                 | -0.0598     |\n",
            "|    n_updates            | 10          |\n",
            "|    policy_gradient_loss | -0.0446     |\n",
            "|    value_loss           | 0.0148      |\n",
            "-----------------------------------------\n",
            "-----------------------------------------\n",
            "| rollout/                |             |\n",
            "|    ep_len_mean          | 21.6        |\n",
            "|    ep_rew_mean          | 0.47        |\n",
            "| time/                   |             |\n",
            "|    fps                  | 23          |\n",
            "|    iterations           | 3           |\n",
            "|    time_elapsed         | 263         |\n",
            "|    total_timesteps      | 6144        |\n",
            "| train/                  |             |\n",
            "|    approx_kl            | 0.011889158 |\n",
            "|    clip_fraction        | 0.177       |\n",
            "|    clip_range           | 0.2         |\n",
            "|    entropy_loss         | -1.46       |\n",
            "|    explained_variance   | -0.269      |\n",
            "|    learning_rate        | 0.0003      |\n",
            "|    loss                 | -0.0403     |\n",
            "|    n_updates            | 20          |\n",
            "|    policy_gradient_loss | -0.0358     |\n",
            "|    value_loss           | 0.00445     |\n",
            "-----------------------------------------\n",
            "-----------------------------------------\n",
            "| rollout/                |             |\n",
            "|    ep_len_mean          | 21.1        |\n",
            "|    ep_rew_mean          | 0.482       |\n",
            "| time/                   |             |\n",
            "|    fps                  | 22          |\n",
            "|    iterations           | 4           |\n",
            "|    time_elapsed         | 356         |\n",
            "|    total_timesteps      | 8192        |\n",
            "| train/                  |             |\n",
            "|    approx_kl            | 0.013150198 |\n",
            "|    clip_fraction        | 0.187       |\n",
            "|    clip_range           | 0.2         |\n",
            "|    entropy_loss         | -1.39       |\n",
            "|    explained_variance   | 0.123       |\n",
            "|    learning_rate        | 0.0003      |\n",
            "|    loss                 | -0.0309     |\n",
            "|    n_updates            | 30          |\n",
            "|    policy_gradient_loss | -0.0389     |\n",
            "|    value_loss           | 0.00215     |\n",
            "-----------------------------------------\n",
            "-----------------------------------------\n",
            "| rollout/                |             |\n",
            "|    ep_len_mean          | 21.4        |\n",
            "|    ep_rew_mean          | 0.514       |\n",
            "| time/                   |             |\n",
            "|    fps                  | 23          |\n",
            "|    iterations           | 5           |\n",
            "|    time_elapsed         | 442         |\n",
            "|    total_timesteps      | 10240       |\n",
            "| train/                  |             |\n",
            "|    approx_kl            | 0.013165457 |\n",
            "|    clip_fraction        | 0.188       |\n",
            "|    clip_range           | 0.2         |\n",
            "|    entropy_loss         | -1.39       |\n",
            "|    explained_variance   | 0.31        |\n",
            "|    learning_rate        | 0.0003      |\n",
            "|    loss                 | -0.0507     |\n",
            "|    n_updates            | 40          |\n",
            "|    policy_gradient_loss | -0.0382     |\n",
            "|    value_loss           | 0.00155     |\n",
            "-----------------------------------------\n",
            "done training\n"
          ]
        }
      ]
    },
    {
      "cell_type": "markdown",
      "source": [
        "Finally, we test the trained model in the test environment."
      ],
      "metadata": {
        "id": "W-9Fgc_ZdFmT"
      }
    },
    {
      "cell_type": "code",
      "source": [
        "from sb3_contrib.common.maskable.utils import get_action_masks\n",
        "\n",
        "test_env = gym.make(\n",
        "    \"PackingEnv-v0\",\n",
        "    box_sizes=boxes_generator([10,10,10], num_items = 15, seed = 3),\n",
        "    container_size=container_size,\n",
        "    num_visible_boxes=5,\n",
        "    render_mode=\"human\",\n",
        "    only_terminal_reward=True,\n",
        ")\n",
        "\n",
        "\n",
        "obs = test_env.reset()\n",
        "done = False\n",
        "figs = []\n",
        "fig = test_env.render(mode=\"human\")\n",
        "fig_png = fig.to_image(format=\"png\")\n",
        "buf = io.BytesIO(fig_png)\n",
        "img = Image.open(buf)\n",
        "figs.append(img)\n",
        "step = 1\n",
        "while not done:\n",
        "    action_masks = get_action_masks(test_env)\n",
        "    action, _states = model.predict(obs, deterministic=False, action_masks=action_masks)\n",
        "    obs, rewards, done, info = test_env.step(action)\n",
        "    fig = test_env.render(mode=\"human\")\n",
        "    fig_png = fig.to_image(format=\"png\")\n",
        "    buf = io.BytesIO(fig_png)\n",
        "    img = Image.open(buf)\n",
        "    figs.append(img)\n",
        "    step += 1\n",
        "print(\"done packing\")\n",
        "test_env.close()\n",
        "\n",
        "print(\"begin saving packing rollout\")\n",
        "figs[0].save('gifs/train_15_boxes.gif', format='GIF',\n",
        "             append_images=figs[1:],\n",
        "             save_all=True,\n",
        "             duration=300, loop=10)\n",
        "print(\"end saving packing rollout\")\n",
        "# Save gif\n"
      ],
      "metadata": {
        "colab": {
          "base_uri": "https://localhost:8080/"
        },
        "id": "3CGlWqcwc2c6",
        "outputId": "fb03d0b8-c51b-499d-9dc8-3fa777775978"
      },
      "execution_count": 26,
      "outputs": [
        {
          "output_type": "stream",
          "name": "stdout",
          "text": [
            "done packing\n",
            "begin saving packing rollout\n",
            "end saving packing rollout\n"
          ]
        }
      ]
    },
    {
      "cell_type": "code",
      "source": [
        "%cd ~/../content/drive/MyDrive/Github/3D-bin-packing/"
      ],
      "metadata": {
        "colab": {
          "base_uri": "https://localhost:8080/"
        },
        "id": "YyHd9RV-gfc1",
        "outputId": "987b9347-d2f3-471f-9c22-bc88b85be9a9"
      },
      "execution_count": 27,
      "outputs": [
        {
          "output_type": "stream",
          "name": "stdout",
          "text": [
            "/content/drive/MyDrive/Github/3D-bin-packing\n"
          ]
        }
      ]
    },
    {
      "cell_type": "code",
      "source": [
        "!git add -A\n",
        "!git commit -m \"test nb training in colab\"\n",
        "!git config --global user.email \"luisgarciar@gmail.com\"\n",
        "!git config --global user.name \"luisgarciar\""
      ],
      "metadata": {
        "colab": {
          "base_uri": "https://localhost:8080/"
        },
        "id": "5TdTfWnFhisg",
        "outputId": "82b987bf-c3cf-464b-9a2a-d5e632107a96"
      },
      "execution_count": 28,
      "outputs": [
        {
          "output_type": "stream",
          "name": "stdout",
          "text": [
            "[dev-luis d562aa6] test nb training in colab\n",
            " 2 files changed, 0 insertions(+), 0 deletions(-)\n",
            " create mode 100644 gifs/train_15_boxes.gif\n",
            " create mode 100644 ppo_mask.zip\n"
          ]
        }
      ]
    },
    {
      "cell_type": "code",
      "source": [
        "!git push -u origin dev-luis"
      ],
      "metadata": {
        "colab": {
          "base_uri": "https://localhost:8080/"
        },
        "id": "CUqlR1F7gkzP",
        "outputId": "53143414-af81-4c32-d1af-38b3a491e527"
      },
      "execution_count": 29,
      "outputs": [
        {
          "output_type": "stream",
          "name": "stdout",
          "text": [
            "Enumerating objects: 7, done.\n",
            "Counting objects:  14% (1/7)\rCounting objects:  28% (2/7)\rCounting objects:  42% (3/7)\rCounting objects:  57% (4/7)\rCounting objects:  71% (5/7)\rCounting objects:  85% (6/7)\rCounting objects: 100% (7/7)\rCounting objects: 100% (7/7), done.\n",
            "Delta compression using up to 2 threads\n",
            "Compressing objects: 100% (5/5), done.\n",
            "Writing objects: 100% (5/5), 2.17 MiB | 1.62 MiB/s, done.\n",
            "Total 5 (delta 2), reused 0 (delta 0)\n",
            "remote: Resolving deltas: 100% (2/2), completed with 2 local objects.\u001b[K\n",
            "To https://github.com/luisgarciar/3D-bin-packing.git\n",
            "   1ddeb7f..d562aa6  dev-luis -> dev-luis\n",
            "Branch 'dev-luis' set up to track remote branch 'dev-luis' from 'origin'.\n"
          ]
        }
      ]
    },
    {
      "cell_type": "code",
      "source": [],
      "metadata": {
        "id": "RQa3q38zg_dH"
      },
      "execution_count": null,
      "outputs": []
    }
  ],
  "metadata": {
    "kernelspec": {
      "display_name": "Python 3",
      "language": "python",
      "name": "python3"
    },
    "language_info": {
      "codemirror_mode": {
        "name": "ipython",
        "version": 2
      },
      "file_extension": ".py",
      "mimetype": "text/x-python",
      "name": "python",
      "nbconvert_exporter": "python",
      "pygments_lexer": "ipython2",
      "version": "2.7.6"
    },
    "colab": {
      "provenance": []
    },
    "accelerator": "GPU"
  },
  "nbformat": 4,
  "nbformat_minor": 0
}