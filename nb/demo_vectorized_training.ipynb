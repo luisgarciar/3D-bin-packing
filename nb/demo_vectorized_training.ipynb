{
 "cells": [
  {
   "cell_type": "markdown",
   "source": [
    "## Using the StableBaselines3 library for reinforcement learning\n",
    "\n",
    "In this notebook we test an implementation of the proximal policy optimization (PPO)\n",
    "PPO is described in detail in https://arxiv.org/abs/1707.06347. It is a variant of Trust Region Policy Optimization (TRPO) described (in this paper )[https://arxiv.org/abs/1502.05477]. The PPO algorithm works in two phases. In one phase, a large number of rollouts are performed (in parallel). The rollouts are then aggregated on the driver and a surrogate optimization objective is defined based on those rollouts. We then use SGD to find the policy that maximizes that objective with a penalty term for diverging too much from the current policy.\n",
    "\n",
    "![ppo](https://raw.githubusercontent.com/ucbrise/risecamp/risecamp2018/ray/tutorial/rllib_exercises/ppo.png)"
   ],
   "metadata": {
    "collapsed": false,
    "pycharm": {
     "name": "#%% md\n"
    },
    "id": "LB3eLu4qgikf"
   }
  },
  {
   "cell_type": "markdown",
   "source": [
    "We begin by installing Python 3.8 in our environment, mounting Google Drive and cloning the repository with the 3D bin packing environment (only if you are using Google Colab)."
   ],
   "metadata": {
    "id": "2ZFTvxgfhWbj",
    "pycharm": {
     "name": "#%% md\n"
    }
   }
  },
  {
   "cell_type": "code",
   "source": [
    "!sudo apt-get install python3.8\n",
    "\n",
    "#change alternatives\n",
    "!sudo update-alternatives --install / usr / bin / python3 python3 / usr / bin / python3.7.1\n",
    "!sudo update-alternatives --install / usr / bin / python3 python3 / usr / bin / python3.8.2\n",
    "\n",
    "#check python version\n",
    "!python --version\n",
    "\n",
    "#install pip\n",
    "!sudo apt-get install python-pip\n",
    "!sudo apt install python3.8-distutils\n",
    "\n",
    "#force reinstall pip (fixes issue with pip not working)\n",
    "#see: https://askubuntu.com/questions/1025189/pip-is-not-working-importerror-no-module-named-pip-internal\n",
    "!curl https: // bootstrap.pypa.io / get-pip.py -o get-pip.py\n",
    "!python3 get-pip.py --force-reinstall\n",
    "\n"
   ],
   "metadata": {
    "id": "kZ0M4QIzuqCV",
    "outputId": "eac9dda6-7b79-440a-be99-a71bf5839034",
    "colab": {
     "base_uri": "https://localhost:8080/"
    },
    "pycharm": {
     "name": "#%%\n"
    }
   },
   "execution_count": 1,
   "outputs": [
    {
     "output_type": "stream",
     "name": "stdout",
     "text": [
      "Reading package lists... Done\n",
      "Building dependency tree       \n",
      "Reading state information... Done\n",
      "The following package was automatically installed and is no longer required:\n",
      "  libnvidia-common-460\n",
      "Use 'sudo apt autoremove' to remove it.\n",
      "The following additional packages will be installed:\n",
      "  libpython3.8-minimal libpython3.8-stdlib python3.8-minimal\n",
      "Suggested packages:\n",
      "  python3.8-venv binfmt-support\n",
      "The following NEW packages will be installed:\n",
      "  libpython3.8-minimal libpython3.8-stdlib python3.8 python3.8-minimal\n",
      "0 upgraded, 4 newly installed, 0 to remove and 20 not upgraded.\n",
      "Need to get 4,695 kB of archives.\n",
      "After this operation, 18.5 MB of additional disk space will be used.\n",
      "Get:1 http://ppa.launchpad.net/deadsnakes/ppa/ubuntu bionic/main amd64 libpython3.8-minimal amd64 3.8.14-1+bionic1 [762 kB]\n",
      "Get:2 http://ppa.launchpad.net/deadsnakes/ppa/ubuntu bionic/main amd64 python3.8-minimal amd64 3.8.14-1+bionic1 [1,839 kB]\n",
      "Get:3 http://ppa.launchpad.net/deadsnakes/ppa/ubuntu bionic/main amd64 libpython3.8-stdlib amd64 3.8.14-1+bionic1 [1,659 kB]\n",
      "Get:4 http://ppa.launchpad.net/deadsnakes/ppa/ubuntu bionic/main amd64 python3.8 amd64 3.8.14-1+bionic1 [435 kB]\n",
      "Fetched 4,695 kB in 8s (623 kB/s)\n",
      "debconf: unable to initialize frontend: Dialog\n",
      "debconf: (No usable dialog-like program is installed, so the dialog based frontend cannot be used. at /usr/share/perl5/Debconf/FrontEnd/Dialog.pm line 76, <> line 4.)\n",
      "debconf: falling back to frontend: Readline\n",
      "debconf: unable to initialize frontend: Readline\n",
      "debconf: (This frontend requires a controlling tty.)\n",
      "debconf: falling back to frontend: Teletype\n",
      "dpkg-preconfigure: unable to re-open stdin: \n",
      "Selecting previously unselected package libpython3.8-minimal:amd64.\n",
      "(Reading database ... 155569 files and directories currently installed.)\n",
      "Preparing to unpack .../libpython3.8-minimal_3.8.14-1+bionic1_amd64.deb ...\n",
      "Unpacking libpython3.8-minimal:amd64 (3.8.14-1+bionic1) ...\n",
      "Selecting previously unselected package python3.8-minimal.\n",
      "Preparing to unpack .../python3.8-minimal_3.8.14-1+bionic1_amd64.deb ...\n",
      "Unpacking python3.8-minimal (3.8.14-1+bionic1) ...\n",
      "Selecting previously unselected package libpython3.8-stdlib:amd64.\n",
      "Preparing to unpack .../libpython3.8-stdlib_3.8.14-1+bionic1_amd64.deb ...\n",
      "Unpacking libpython3.8-stdlib:amd64 (3.8.14-1+bionic1) ...\n",
      "Selecting previously unselected package python3.8.\n",
      "Preparing to unpack .../python3.8_3.8.14-1+bionic1_amd64.deb ...\n",
      "Unpacking python3.8 (3.8.14-1+bionic1) ...\n",
      "Setting up libpython3.8-minimal:amd64 (3.8.14-1+bionic1) ...\n",
      "Setting up python3.8-minimal (3.8.14-1+bionic1) ...\n",
      "Setting up libpython3.8-stdlib:amd64 (3.8.14-1+bionic1) ...\n",
      "Setting up python3.8 (3.8.14-1+bionic1) ...\n",
      "Processing triggers for mime-support (3.60ubuntu1) ...\n",
      "Processing triggers for man-db (2.8.3-2ubuntu0.1) ...\n",
      "update-alternatives: using /usr/bin/python3.8 to provide /usr/bin/python3 (python3) in auto mode\n",
      "Python 3.8.14\n",
      "Reading package lists... Done\n",
      "Building dependency tree       \n",
      "Reading state information... Done\n",
      "The following package was automatically installed and is no longer required:\n",
      "  libnvidia-common-460\n",
      "Use 'sudo apt autoremove' to remove it.\n",
      "The following additional packages will be installed:\n",
      "  libpython-all-dev python-all python-all-dev python-asn1crypto\n",
      "  python-cffi-backend python-crypto python-cryptography python-dbus\n",
      "  python-enum34 python-gi python-idna python-ipaddress python-keyring\n",
      "  python-keyrings.alt python-pip-whl python-pkg-resources python-secretstorage\n",
      "  python-setuptools python-six python-wheel python-xdg\n",
      "Suggested packages:\n",
      "  python-crypto-doc python-cryptography-doc python-cryptography-vectors\n",
      "  python-dbus-dbg python-dbus-doc python-enum34-doc python-gi-cairo\n",
      "  gnome-keyring libkf5wallet-bin gir1.2-gnomekeyring-1.0 python-fs\n",
      "  python-gdata python-keyczar python-secretstorage-doc python-setuptools-doc\n",
      "The following NEW packages will be installed:\n",
      "  libpython-all-dev python-all python-all-dev python-asn1crypto\n",
      "  python-cffi-backend python-crypto python-cryptography python-dbus\n",
      "  python-enum34 python-gi python-idna python-ipaddress python-keyring\n",
      "  python-keyrings.alt python-pip python-pip-whl python-pkg-resources\n",
      "  python-secretstorage python-setuptools python-six python-wheel python-xdg\n",
      "0 upgraded, 22 newly installed, 0 to remove and 20 not upgraded.\n",
      "Need to get 3,430 kB of archives.\n",
      "After this operation, 10.8 MB of additional disk space will be used.\n",
      "Get:1 http://archive.ubuntu.com/ubuntu bionic/main amd64 libpython-all-dev amd64 2.7.15~rc1-1 [1,092 B]\n",
      "Get:2 http://archive.ubuntu.com/ubuntu bionic/main amd64 python-all amd64 2.7.15~rc1-1 [1,076 B]\n",
      "Get:3 http://archive.ubuntu.com/ubuntu bionic/main amd64 python-all-dev amd64 2.7.15~rc1-1 [1,100 B]\n",
      "Get:4 http://archive.ubuntu.com/ubuntu bionic/main amd64 python-asn1crypto all 0.24.0-1 [72.7 kB]\n",
      "Get:5 http://archive.ubuntu.com/ubuntu bionic/main amd64 python-cffi-backend amd64 1.11.5-1 [63.4 kB]\n",
      "Get:6 http://archive.ubuntu.com/ubuntu bionic/main amd64 python-crypto amd64 2.6.1-8ubuntu2 [244 kB]\n",
      "Get:7 http://archive.ubuntu.com/ubuntu bionic/main amd64 python-enum34 all 1.1.6-2 [34.8 kB]\n",
      "Get:8 http://archive.ubuntu.com/ubuntu bionic/main amd64 python-idna all 2.6-1 [32.4 kB]\n",
      "Get:9 http://archive.ubuntu.com/ubuntu bionic/main amd64 python-ipaddress all 1.0.17-1 [18.2 kB]\n",
      "Get:10 http://archive.ubuntu.com/ubuntu bionic/main amd64 python-six all 1.11.0-2 [11.3 kB]\n",
      "Get:11 http://archive.ubuntu.com/ubuntu bionic-updates/main amd64 python-cryptography amd64 2.1.4-1ubuntu1.4 [276 kB]\n",
      "Get:12 http://archive.ubuntu.com/ubuntu bionic/main amd64 python-dbus amd64 1.2.6-1 [90.2 kB]\n",
      "Get:13 http://archive.ubuntu.com/ubuntu bionic-updates/main amd64 python-gi amd64 3.26.1-2ubuntu1 [197 kB]\n",
      "Get:14 http://archive.ubuntu.com/ubuntu bionic/main amd64 python-secretstorage all 2.3.1-2 [11.8 kB]\n",
      "Get:15 http://archive.ubuntu.com/ubuntu bionic/main amd64 python-keyring all 10.6.0-1 [30.6 kB]\n",
      "Get:16 http://archive.ubuntu.com/ubuntu bionic/main amd64 python-keyrings.alt all 3.0-1 [16.7 kB]\n",
      "Get:17 http://archive.ubuntu.com/ubuntu bionic-updates/universe amd64 python-pip-whl all 9.0.1-2.3~ubuntu1.18.04.5 [1,653 kB]\n",
      "Get:18 http://archive.ubuntu.com/ubuntu bionic-updates/universe amd64 python-pip all 9.0.1-2.3~ubuntu1.18.04.5 [151 kB]\n",
      "Get:19 http://archive.ubuntu.com/ubuntu bionic/main amd64 python-pkg-resources all 39.0.1-2 [128 kB]\n",
      "Get:20 http://archive.ubuntu.com/ubuntu bionic/main amd64 python-setuptools all 39.0.1-2 [329 kB]\n",
      "Get:21 http://archive.ubuntu.com/ubuntu bionic/universe amd64 python-wheel all 0.30.0-0.2 [36.4 kB]\n",
      "Get:22 http://archive.ubuntu.com/ubuntu bionic-updates/universe amd64 python-xdg all 0.25-4ubuntu1.1 [31.2 kB]\n",
      "Fetched 3,430 kB in 3s (1,308 kB/s)\n",
      "debconf: unable to initialize frontend: Dialog\n",
      "debconf: (No usable dialog-like program is installed, so the dialog based frontend cannot be used. at /usr/share/perl5/Debconf/FrontEnd/Dialog.pm line 76, <> line 22.)\n",
      "debconf: falling back to frontend: Readline\n",
      "debconf: unable to initialize frontend: Readline\n",
      "debconf: (This frontend requires a controlling tty.)\n",
      "debconf: falling back to frontend: Teletype\n",
      "dpkg-preconfigure: unable to re-open stdin: \n",
      "Selecting previously unselected package libpython-all-dev:amd64.\n",
      "(Reading database ... 156191 files and directories currently installed.)\n",
      "Preparing to unpack .../00-libpython-all-dev_2.7.15~rc1-1_amd64.deb ...\n",
      "Unpacking libpython-all-dev:amd64 (2.7.15~rc1-1) ...\n",
      "Selecting previously unselected package python-all.\n",
      "Preparing to unpack .../01-python-all_2.7.15~rc1-1_amd64.deb ...\n",
      "Unpacking python-all (2.7.15~rc1-1) ...\n",
      "Selecting previously unselected package python-all-dev.\n",
      "Preparing to unpack .../02-python-all-dev_2.7.15~rc1-1_amd64.deb ...\n",
      "Unpacking python-all-dev (2.7.15~rc1-1) ...\n",
      "Selecting previously unselected package python-asn1crypto.\n",
      "Preparing to unpack .../03-python-asn1crypto_0.24.0-1_all.deb ...\n",
      "Unpacking python-asn1crypto (0.24.0-1) ...\n",
      "Selecting previously unselected package python-cffi-backend.\n",
      "Preparing to unpack .../04-python-cffi-backend_1.11.5-1_amd64.deb ...\n",
      "Unpacking python-cffi-backend (1.11.5-1) ...\n",
      "Selecting previously unselected package python-crypto.\n",
      "Preparing to unpack .../05-python-crypto_2.6.1-8ubuntu2_amd64.deb ...\n",
      "Unpacking python-crypto (2.6.1-8ubuntu2) ...\n",
      "Selecting previously unselected package python-enum34.\n",
      "Preparing to unpack .../06-python-enum34_1.1.6-2_all.deb ...\n",
      "Unpacking python-enum34 (1.1.6-2) ...\n",
      "Selecting previously unselected package python-idna.\n",
      "Preparing to unpack .../07-python-idna_2.6-1_all.deb ...\n",
      "Unpacking python-idna (2.6-1) ...\n",
      "Selecting previously unselected package python-ipaddress.\n",
      "Preparing to unpack .../08-python-ipaddress_1.0.17-1_all.deb ...\n",
      "Unpacking python-ipaddress (1.0.17-1) ...\n",
      "Selecting previously unselected package python-six.\n",
      "Preparing to unpack .../09-python-six_1.11.0-2_all.deb ...\n",
      "Unpacking python-six (1.11.0-2) ...\n",
      "Selecting previously unselected package python-cryptography.\n",
      "Preparing to unpack .../10-python-cryptography_2.1.4-1ubuntu1.4_amd64.deb ...\n",
      "Unpacking python-cryptography (2.1.4-1ubuntu1.4) ...\n",
      "Selecting previously unselected package python-dbus.\n",
      "Preparing to unpack .../11-python-dbus_1.2.6-1_amd64.deb ...\n",
      "Unpacking python-dbus (1.2.6-1) ...\n",
      "Selecting previously unselected package python-gi.\n",
      "Preparing to unpack .../12-python-gi_3.26.1-2ubuntu1_amd64.deb ...\n",
      "Unpacking python-gi (3.26.1-2ubuntu1) ...\n",
      "Selecting previously unselected package python-secretstorage.\n",
      "Preparing to unpack .../13-python-secretstorage_2.3.1-2_all.deb ...\n",
      "Unpacking python-secretstorage (2.3.1-2) ...\n",
      "Selecting previously unselected package python-keyring.\n",
      "Preparing to unpack .../14-python-keyring_10.6.0-1_all.deb ...\n",
      "Unpacking python-keyring (10.6.0-1) ...\n",
      "Selecting previously unselected package python-keyrings.alt.\n",
      "Preparing to unpack .../15-python-keyrings.alt_3.0-1_all.deb ...\n",
      "Unpacking python-keyrings.alt (3.0-1) ...\n",
      "Selecting previously unselected package python-pip-whl.\n",
      "Preparing to unpack .../16-python-pip-whl_9.0.1-2.3~ubuntu1.18.04.5_all.deb ...\n",
      "Unpacking python-pip-whl (9.0.1-2.3~ubuntu1.18.04.5) ...\n",
      "Selecting previously unselected package python-pip.\n",
      "Preparing to unpack .../17-python-pip_9.0.1-2.3~ubuntu1.18.04.5_all.deb ...\n",
      "Unpacking python-pip (9.0.1-2.3~ubuntu1.18.04.5) ...\n",
      "Selecting previously unselected package python-pkg-resources.\n",
      "Preparing to unpack .../18-python-pkg-resources_39.0.1-2_all.deb ...\n",
      "Unpacking python-pkg-resources (39.0.1-2) ...\n",
      "Selecting previously unselected package python-setuptools.\n",
      "Preparing to unpack .../19-python-setuptools_39.0.1-2_all.deb ...\n",
      "Unpacking python-setuptools (39.0.1-2) ...\n",
      "Selecting previously unselected package python-wheel.\n",
      "Preparing to unpack .../20-python-wheel_0.30.0-0.2_all.deb ...\n",
      "Unpacking python-wheel (0.30.0-0.2) ...\n",
      "Selecting previously unselected package python-xdg.\n",
      "Preparing to unpack .../21-python-xdg_0.25-4ubuntu1.1_all.deb ...\n",
      "Unpacking python-xdg (0.25-4ubuntu1.1) ...\n",
      "Setting up python-idna (2.6-1) ...\n",
      "Setting up python-pip-whl (9.0.1-2.3~ubuntu1.18.04.5) ...\n",
      "Setting up python-asn1crypto (0.24.0-1) ...\n",
      "Setting up python-crypto (2.6.1-8ubuntu2) ...\n",
      "Setting up python-wheel (0.30.0-0.2) ...\n",
      "Setting up libpython-all-dev:amd64 (2.7.15~rc1-1) ...\n",
      "Setting up python-pkg-resources (39.0.1-2) ...\n",
      "Setting up python-cffi-backend (1.11.5-1) ...\n",
      "Setting up python-gi (3.26.1-2ubuntu1) ...\n",
      "Setting up python-six (1.11.0-2) ...\n",
      "Setting up python-enum34 (1.1.6-2) ...\n",
      "Setting up python-dbus (1.2.6-1) ...\n",
      "Setting up python-ipaddress (1.0.17-1) ...\n",
      "Setting up python-pip (9.0.1-2.3~ubuntu1.18.04.5) ...\n",
      "Setting up python-all (2.7.15~rc1-1) ...\n",
      "Setting up python-xdg (0.25-4ubuntu1.1) ...\n",
      "Setting up python-setuptools (39.0.1-2) ...\n",
      "Setting up python-keyrings.alt (3.0-1) ...\n",
      "Setting up python-all-dev (2.7.15~rc1-1) ...\n",
      "Setting up python-cryptography (2.1.4-1ubuntu1.4) ...\n",
      "Setting up python-secretstorage (2.3.1-2) ...\n",
      "Setting up python-keyring (10.6.0-1) ...\n",
      "Processing triggers for man-db (2.8.3-2ubuntu0.1) ...\n",
      "Reading package lists... Done\n",
      "Building dependency tree       \n",
      "Reading state information... Done\n",
      "Note, selecting 'python3-distutils' instead of 'python3.8-distutils'\n",
      "python3-distutils is already the newest version (3.6.9-1~18.04).\n",
      "python3-distutils set to manually installed.\n",
      "The following package was automatically installed and is no longer required:\n",
      "  libnvidia-common-460\n",
      "Use 'sudo apt autoremove' to remove it.\n",
      "0 upgraded, 0 newly installed, 0 to remove and 20 not upgraded.\n",
      "  % Total    % Received % Xferd  Average Speed   Time    Time     Time  Current\n",
      "                                 Dload  Upload   Total   Spent    Left  Speed\n",
      "100 2500k  100 2500k    0     0  7420k      0 --:--:-- --:--:-- --:--:-- 7398k\n",
      "Looking in indexes: https://pypi.org/simple, https://us-python.pkg.dev/colab-wheels/public/simple/\n",
      "Collecting pip\n",
      "  Downloading pip-22.2.2-py3-none-any.whl (2.0 MB)\n",
      "\u001B[2K     \u001B[90m━━━━━━━━━━━━━━━━━━━━━━━━━━━━━━━━━━━━━━━━\u001B[0m \u001B[32m2.0/2.0 MB\u001B[0m \u001B[31m13.7 MB/s\u001B[0m eta \u001B[36m0:00:00\u001B[0m\n",
      "\u001B[?25hCollecting setuptools\n",
      "  Downloading setuptools-65.3.0-py3-none-any.whl (1.2 MB)\n",
      "\u001B[2K     \u001B[90m━━━━━━━━━━━━━━━━━━━━━━━━━━━━━━━━━━━━━━━━\u001B[0m \u001B[32m1.2/1.2 MB\u001B[0m \u001B[31m56.2 MB/s\u001B[0m eta \u001B[36m0:00:00\u001B[0m\n",
      "\u001B[?25hCollecting wheel\n",
      "  Downloading wheel-0.37.1-py2.py3-none-any.whl (35 kB)\n",
      "Installing collected packages: wheel, setuptools, pip\n",
      "Successfully installed pip-22.2.2 setuptools-65.3.0 wheel-0.37.1\n",
      "\u001B[33mWARNING: Running pip as the 'root' user can result in broken permissions and conflicting behaviour with the system package manager. It is recommended to use a virtual environment instead: https://pip.pypa.io/warnings/venv\u001B[0m\u001B[33m\n",
      "\u001B[0m"
     ]
    }
   ]
  },
  {
   "cell_type": "markdown",
   "source": [],
   "metadata": {
    "id": "J8u4uQMdvCjR",
    "pycharm": {
     "name": "#%% md\n"
    }
   }
  },
  {
   "cell_type": "code",
   "source": [
    "from google.colab import drive\n",
    "\n",
    "drive.mount('/content/drive')"
   ],
   "metadata": {
    "id": "Hmtegq1thfbj",
    "outputId": "5d01bd0e-a91e-4dfa-90d6-90e45911869c",
    "colab": {
     "base_uri": "https://localhost:8080/"
    },
    "pycharm": {
     "name": "#%%\n"
    }
   },
   "execution_count": 1,
   "outputs": [
    {
     "output_type": "stream",
     "name": "stdout",
     "text": [
      "Mounted at /content/drive\n"
     ]
    }
   ]
  },
  {
   "cell_type": "code",
   "source": [
    "% cd /content/drive/MyDrive\n",
    "! rm -rf /Github/3D-bin-packing\n",
    "!git clone https://github.com/ luisgarciar/3D-bin-packing.git\n",
    "% cd Github/3D-bin-packing/\n",
    "!git checkout dev-luis"
   ],
   "metadata": {
    "id": "6G0GQanQiRqw",
    "outputId": "83de09c6-46ba-402e-9763-a3efee3c11d9",
    "colab": {
     "base_uri": "https://localhost:8080/"
    },
    "pycharm": {
     "name": "#%%\n"
    }
   },
   "execution_count": 16,
   "outputs": [
    {
     "output_type": "stream",
     "name": "stdout",
     "text": [
      "/content/drive/MyDrive\n",
      "Cloning into '3D-bin-packing'...\n",
      "remote: Enumerating objects: 400, done.\u001B[K\n",
      "remote: Counting objects: 100% (31/31), done.\u001B[K\n",
      "remote: Compressing objects: 100% (30/30), done.\u001B[K\n",
      "remote: Total 400 (delta 3), reused 8 (delta 1), pack-reused 369\u001B[K\n",
      "Receiving objects: 100% (400/400), 8.84 MiB | 12.13 MiB/s, done.\n",
      "Resolving deltas: 100% (211/211), done.\n",
      "/content/drive/MyDrive/3D-bin-packing\n",
      "Branch 'dev-luis' set up to track remote branch 'dev-luis' from 'origin'.\n",
      "Switched to a new branch 'dev-luis'\n"
     ]
    }
   ]
  },
  {
   "cell_type": "markdown",
   "source": [
    "We now install the required libraries. We need a special version of the library 'stable-baselines-3' compatible with OpenAI Gym version >=0.24."
   ],
   "metadata": {
    "id": "GFLqD4myma0X",
    "pycharm": {
     "name": "#%% md\n"
    }
   }
  },
  {
   "cell_type": "code",
   "source": [
    "#!pip install git+https://github.com/carlosluis/stable-baselines3@fix_tests"
   ],
   "metadata": {
    "id": "nK6o27_PmqZs",
    "outputId": "eb045f11-e48d-4c7b-8746-5cf95a8782e8",
    "colab": {
     "base_uri": "https://localhost:8080/"
    },
    "pycharm": {
     "name": "#%%\n"
    }
   },
   "execution_count": 4,
   "outputs": [
    {
     "output_type": "stream",
     "name": "stdout",
     "text": [
      "Looking in indexes: https://pypi.org/simple, https://us-python.pkg.dev/colab-wheels/public/simple/\n",
      "Collecting git+https://github.com/carlosluis/stable-baselines3@fix_tests\n",
      "  Cloning https://github.com/carlosluis/stable-baselines3 (to revision fix_tests) to /tmp/pip-req-build-5lcodqdf\n",
      "  Running command git clone -q https://github.com/carlosluis/stable-baselines3 /tmp/pip-req-build-5lcodqdf\n",
      "  Running command git checkout -b fix_tests --track origin/fix_tests\n",
      "  Switched to a new branch 'fix_tests'\n",
      "  Branch 'fix_tests' set up to track remote branch 'fix_tests' from 'origin'.\n",
      "Collecting gym==0.25\n",
      "  Downloading gym-0.25.0.tar.gz (720 kB)\n",
      "\u001B[K     |████████████████████████████████| 720 kB 2.1 MB/s \n",
      "\u001B[?25h  Installing build dependencies ... \u001B[?25l\u001B[?25hdone\n",
      "  Getting requirements to build wheel ... \u001B[?25l\u001B[?25hdone\n",
      "    Preparing wheel metadata ... \u001B[?25l\u001B[?25hdone\n",
      "Requirement already satisfied: numpy in /usr/local/lib/python3.7/dist-packages (from stable-baselines3==1.6.1a4) (1.21.6)\n",
      "Requirement already satisfied: torch>=1.11 in /usr/local/lib/python3.7/dist-packages (from stable-baselines3==1.6.1a4) (1.12.1+cu113)\n",
      "Requirement already satisfied: cloudpickle in /usr/local/lib/python3.7/dist-packages (from stable-baselines3==1.6.1a4) (1.5.0)\n",
      "Requirement already satisfied: pandas in /usr/local/lib/python3.7/dist-packages (from stable-baselines3==1.6.1a4) (1.3.5)\n",
      "Requirement already satisfied: matplotlib in /usr/local/lib/python3.7/dist-packages (from stable-baselines3==1.6.1a4) (3.2.2)\n",
      "Requirement already satisfied: importlib-metadata>=4.8.0 in /usr/local/lib/python3.7/dist-packages (from gym==0.25->stable-baselines3==1.6.1a4) (4.12.0)\n",
      "Requirement already satisfied: gym-notices>=0.0.4 in /usr/local/lib/python3.7/dist-packages (from gym==0.25->stable-baselines3==1.6.1a4) (0.0.8)\n",
      "Requirement already satisfied: zipp>=0.5 in /usr/local/lib/python3.7/dist-packages (from importlib-metadata>=4.8.0->gym==0.25->stable-baselines3==1.6.1a4) (3.8.1)\n",
      "Requirement already satisfied: typing-extensions>=3.6.4 in /usr/local/lib/python3.7/dist-packages (from importlib-metadata>=4.8.0->gym==0.25->stable-baselines3==1.6.1a4) (4.1.1)\n",
      "Requirement already satisfied: cycler>=0.10 in /usr/local/lib/python3.7/dist-packages (from matplotlib->stable-baselines3==1.6.1a4) (0.11.0)\n",
      "Requirement already satisfied: pyparsing!=2.0.4,!=2.1.2,!=2.1.6,>=2.0.1 in /usr/local/lib/python3.7/dist-packages (from matplotlib->stable-baselines3==1.6.1a4) (3.0.9)\n",
      "Requirement already satisfied: python-dateutil>=2.1 in /usr/local/lib/python3.7/dist-packages (from matplotlib->stable-baselines3==1.6.1a4) (2.8.2)\n",
      "Requirement already satisfied: kiwisolver>=1.0.1 in /usr/local/lib/python3.7/dist-packages (from matplotlib->stable-baselines3==1.6.1a4) (1.4.4)\n",
      "Requirement already satisfied: six>=1.5 in /usr/local/lib/python3.7/dist-packages (from python-dateutil>=2.1->matplotlib->stable-baselines3==1.6.1a4) (1.15.0)\n",
      "Requirement already satisfied: pytz>=2017.3 in /usr/local/lib/python3.7/dist-packages (from pandas->stable-baselines3==1.6.1a4) (2022.2.1)\n",
      "Building wheels for collected packages: stable-baselines3, gym\n",
      "  Building wheel for stable-baselines3 (setup.py) ... \u001B[?25l\u001B[?25hdone\n",
      "  Created wheel for stable-baselines3: filename=stable_baselines3-1.6.1a4-py3-none-any.whl size=168726 sha256=7101999df9306cd743ed2b4cb5f18945bfb357fc33794d7130fb87dd9d45862e\n",
      "  Stored in directory: /tmp/pip-ephem-wheel-cache-foabh4k6/wheels/f5/52/9d/2632ccdaa26fb5f7138d7d7c6610afc2faf6cd6e119de5c703\n",
      "  Building wheel for gym (PEP 517) ... \u001B[?25l\u001B[?25hdone\n",
      "  Created wheel for gym: filename=gym-0.25.0-py3-none-any.whl size=824434 sha256=f478bd47e6f60b9c5847cdc74c073087e61f0cc8cfb6b41d09417fc210b119ec\n",
      "  Stored in directory: /root/.cache/pip/wheels/2c/58/d8/1590abcfe48cdf414681b1e2b6647045b85f7c924563b664ee\n",
      "Successfully built stable-baselines3 gym\n",
      "Installing collected packages: gym, stable-baselines3\n",
      "  Attempting uninstall: gym\n",
      "    Found existing installation: gym 0.25.2\n",
      "    Uninstalling gym-0.25.2:\n",
      "      Successfully uninstalled gym-0.25.2\n",
      "Successfully installed gym-0.25.0 stable-baselines3-1.6.1a4\n"
     ]
    }
   ]
  },
  {
   "cell_type": "markdown",
   "source": [
    "We complete the instalation of the rest of the required libraries with the requirements.txt file from the repository."
   ],
   "metadata": {
    "id": "bY4WU3xOmS1b",
    "pycharm": {
     "name": "#%% md\n"
    }
   }
  },
  {
   "cell_type": "code",
   "source": [
    "!pip install -r /content/drive/MyDrive/Github/3D-bin-packing/requirements.txt"
   ],
   "metadata": {
    "id": "8d929L_NmwQN",
    "outputId": "e3806738-cf31-4b53-cbcc-d4710586130c",
    "colab": {
     "base_uri": "https://localhost:8080/",
     "height": 1000
    },
    "pycharm": {
     "name": "#%%\n"
    }
   },
   "execution_count": 6,
   "outputs": [
    {
     "output_type": "stream",
     "name": "stdout",
     "text": [
      "Looking in indexes: https://pypi.org/simple, https://us-python.pkg.dev/colab-wheels/public/simple/\n",
      "Requirement already satisfied: gym==0.25.0 in /usr/local/lib/python3.7/dist-packages (from -r /content/drive/MyDrive/3D-bin-packing/requirements.txt (line 1)) (0.25.0)\n",
      "Collecting nptyping==2.3.1\n",
      "  Using cached nptyping-2.3.1-py3-none-any.whl (32 kB)\n",
      "Collecting numpy==1.21.5\n",
      "  Using cached numpy-1.21.5-cp37-cp37m-manylinux_2_12_x86_64.manylinux2010_x86_64.whl (15.7 MB)\n",
      "Collecting Pillow==9.2.0\n",
      "  Using cached Pillow-9.2.0-cp37-cp37m-manylinux_2_17_x86_64.manylinux2014_x86_64.whl (3.1 MB)\n",
      "Collecting plotly==5.9.0\n",
      "  Using cached plotly-5.9.0-py2.py3-none-any.whl (15.2 MB)\n",
      "Collecting pytest==7.1.2\n",
      "  Using cached pytest-7.1.2-py3-none-any.whl (297 kB)\n",
      "Collecting sb3_contrib==1.6.0\n",
      "  Using cached sb3_contrib-1.6.0-py3-none-any.whl (78 kB)\n",
      "Requirement already satisfied: importlib-metadata>=4.8.0 in /usr/local/lib/python3.7/dist-packages (from gym==0.25.0->-r /content/drive/MyDrive/3D-bin-packing/requirements.txt (line 1)) (4.12.0)\n",
      "Requirement already satisfied: gym-notices>=0.0.4 in /usr/local/lib/python3.7/dist-packages (from gym==0.25.0->-r /content/drive/MyDrive/3D-bin-packing/requirements.txt (line 1)) (0.0.8)\n",
      "Requirement already satisfied: cloudpickle>=1.2.0 in /usr/local/lib/python3.7/dist-packages (from gym==0.25.0->-r /content/drive/MyDrive/3D-bin-packing/requirements.txt (line 1)) (1.5.0)\n",
      "Requirement already satisfied: typing-extensions<5.0.0,>=4.0.0 in /usr/local/lib/python3.7/dist-packages (from nptyping==2.3.1->-r /content/drive/MyDrive/3D-bin-packing/requirements.txt (line 2)) (4.1.1)\n",
      "Requirement already satisfied: tenacity>=6.2.0 in /usr/local/lib/python3.7/dist-packages (from plotly==5.9.0->-r /content/drive/MyDrive/3D-bin-packing/requirements.txt (line 5)) (8.0.1)\n",
      "Requirement already satisfied: packaging in /usr/local/lib/python3.7/dist-packages (from pytest==7.1.2->-r /content/drive/MyDrive/3D-bin-packing/requirements.txt (line 6)) (21.3)\n",
      "Collecting pluggy<2.0,>=0.12\n",
      "  Downloading pluggy-1.0.0-py2.py3-none-any.whl (13 kB)\n",
      "Requirement already satisfied: tomli>=1.0.0 in /usr/local/lib/python3.7/dist-packages (from pytest==7.1.2->-r /content/drive/MyDrive/3D-bin-packing/requirements.txt (line 6)) (2.0.1)\n",
      "Collecting iniconfig\n",
      "  Downloading iniconfig-1.1.1-py2.py3-none-any.whl (5.0 kB)\n",
      "Requirement already satisfied: attrs>=19.2.0 in /usr/local/lib/python3.7/dist-packages (from pytest==7.1.2->-r /content/drive/MyDrive/3D-bin-packing/requirements.txt (line 6)) (22.1.0)\n",
      "Requirement already satisfied: py>=1.8.2 in /usr/local/lib/python3.7/dist-packages (from pytest==7.1.2->-r /content/drive/MyDrive/3D-bin-packing/requirements.txt (line 6)) (1.11.0)\n",
      "Requirement already satisfied: stable-baselines3>=1.6.0 in /usr/local/lib/python3.7/dist-packages (from sb3_contrib==1.6.0->-r /content/drive/MyDrive/3D-bin-packing/requirements.txt (line 7)) (1.6.1a4)\n",
      "Requirement already satisfied: zipp>=0.5 in /usr/local/lib/python3.7/dist-packages (from importlib-metadata>=4.8.0->gym==0.25.0->-r /content/drive/MyDrive/3D-bin-packing/requirements.txt (line 1)) (3.8.1)\n",
      "Requirement already satisfied: pandas in /usr/local/lib/python3.7/dist-packages (from stable-baselines3>=1.6.0->sb3_contrib==1.6.0->-r /content/drive/MyDrive/3D-bin-packing/requirements.txt (line 7)) (1.3.5)\n",
      "Requirement already satisfied: matplotlib in /usr/local/lib/python3.7/dist-packages (from stable-baselines3>=1.6.0->sb3_contrib==1.6.0->-r /content/drive/MyDrive/3D-bin-packing/requirements.txt (line 7)) (3.2.2)\n",
      "Requirement already satisfied: torch>=1.11 in /usr/local/lib/python3.7/dist-packages (from stable-baselines3>=1.6.0->sb3_contrib==1.6.0->-r /content/drive/MyDrive/3D-bin-packing/requirements.txt (line 7)) (1.12.1+cu113)\n",
      "Requirement already satisfied: pyparsing!=2.0.4,!=2.1.2,!=2.1.6,>=2.0.1 in /usr/local/lib/python3.7/dist-packages (from matplotlib->stable-baselines3>=1.6.0->sb3_contrib==1.6.0->-r /content/drive/MyDrive/3D-bin-packing/requirements.txt (line 7)) (3.0.9)\n",
      "Requirement already satisfied: kiwisolver>=1.0.1 in /usr/local/lib/python3.7/dist-packages (from matplotlib->stable-baselines3>=1.6.0->sb3_contrib==1.6.0->-r /content/drive/MyDrive/3D-bin-packing/requirements.txt (line 7)) (1.4.4)\n",
      "Requirement already satisfied: cycler>=0.10 in /usr/local/lib/python3.7/dist-packages (from matplotlib->stable-baselines3>=1.6.0->sb3_contrib==1.6.0->-r /content/drive/MyDrive/3D-bin-packing/requirements.txt (line 7)) (0.11.0)\n",
      "Requirement already satisfied: python-dateutil>=2.1 in /usr/local/lib/python3.7/dist-packages (from matplotlib->stable-baselines3>=1.6.0->sb3_contrib==1.6.0->-r /content/drive/MyDrive/3D-bin-packing/requirements.txt (line 7)) (2.8.2)\n",
      "Requirement already satisfied: six>=1.5 in /usr/local/lib/python3.7/dist-packages (from python-dateutil>=2.1->matplotlib->stable-baselines3>=1.6.0->sb3_contrib==1.6.0->-r /content/drive/MyDrive/3D-bin-packing/requirements.txt (line 7)) (1.15.0)\n",
      "Requirement already satisfied: pytz>=2017.3 in /usr/local/lib/python3.7/dist-packages (from pandas->stable-baselines3>=1.6.0->sb3_contrib==1.6.0->-r /content/drive/MyDrive/3D-bin-packing/requirements.txt (line 7)) (2022.2.1)\n",
      "Installing collected packages: numpy, pluggy, iniconfig, sb3-contrib, pytest, plotly, Pillow, nptyping\n",
      "  Attempting uninstall: numpy\n",
      "    Found existing installation: numpy 1.21.6\n",
      "    Uninstalling numpy-1.21.6:\n",
      "      Successfully uninstalled numpy-1.21.6\n",
      "  Attempting uninstall: pluggy\n",
      "    Found existing installation: pluggy 0.7.1\n",
      "    Uninstalling pluggy-0.7.1:\n",
      "      Successfully uninstalled pluggy-0.7.1\n",
      "  Attempting uninstall: pytest\n",
      "    Found existing installation: pytest 3.6.4\n",
      "    Uninstalling pytest-3.6.4:\n",
      "      Successfully uninstalled pytest-3.6.4\n",
      "  Attempting uninstall: plotly\n",
      "    Found existing installation: plotly 5.5.0\n",
      "    Uninstalling plotly-5.5.0:\n",
      "      Successfully uninstalled plotly-5.5.0\n",
      "  Attempting uninstall: Pillow\n",
      "    Found existing installation: Pillow 7.1.2\n",
      "    Uninstalling Pillow-7.1.2:\n",
      "      Successfully uninstalled Pillow-7.1.2\n",
      "Successfully installed Pillow-9.2.0 iniconfig-1.1.1 nptyping-2.3.1 numpy-1.21.5 plotly-5.9.0 pluggy-1.0.0 pytest-7.1.2 sb3-contrib-1.6.0\n"
     ]
    },
    {
     "output_type": "display_data",
     "data": {
      "application/vnd.colab-display-data+json": {
       "pip_warning": {
        "packages": [
         "PIL",
         "numpy"
        ]
       }
      }
     },
     "metadata": {}
    }
   ]
  },
  {
   "cell_type": "markdown",
   "source": [],
   "metadata": {
    "id": "_DGawSJkmRlH",
    "pycharm": {
     "name": "#%% md\n"
    }
   }
  },
  {
   "cell_type": "markdown",
   "source": [
    "Next we add the path to be able to find the environment files."
   ],
   "metadata": {
    "id": "QN8Kqo-T2kd2",
    "pycharm": {
     "name": "#%% md\n"
    }
   }
  },
  {
   "cell_type": "code",
   "source": [
    "import sys\n",
    "import os\n",
    "\n",
    "py_file_location = \"/content/drive/MyDrive/Github/3D-bin-packing\"\n",
    "sys.path.append(os.path.abspath(py_file_location))"
   ],
   "metadata": {
    "id": "EXmG4bMB2kCx",
    "pycharm": {
     "name": "#%%\n"
    }
   },
   "execution_count": 13,
   "outputs": []
  },
  {
   "cell_type": "markdown",
   "source": [
    "We now test the PPO algorithm with the 3D bin packing environment."
   ],
   "metadata": {
    "collapsed": false,
    "pycharm": {
     "name": "#%% md\n"
    },
    "id": "_rJlODKjgikm"
   }
  },
  {
   "cell_type": "code",
   "execution_count": 6,
   "outputs": [],
   "source": [
    "import warnings\n",
    "\n",
    "import gym\n",
    "from numpy.typing import NDArray\n",
    "from sb3_contrib.common.wrappers import ActionMasker\n",
    "from sb3_contrib.ppo_mask import MaskablePPO\n",
    "from stable_baselines3.common.callbacks import CheckpointCallback\n",
    "from stable_baselines3.common.env_util import make_vec_env\n",
    "\n",
    "from src.utils import boxes_generator\n"
   ],
   "metadata": {
    "collapsed": false,
    "pycharm": {
     "name": "#%%\n"
    }
   }
  },
  {
   "cell_type": "code",
   "execution_count": 7,
   "outputs": [],
   "source": [
    "\n",
    "def mask_fn(env: gym.Env) -> NDArray:\n",
    "    return env.get_action_mask\n",
    "\n",
    "\n",
    "def make_env(container_size, num_boxes, num_visible_boxes=1, seed=0):\n",
    "    \"\"\"\n",
    "    Utility function for initializing bin packing env with action masking\n",
    "    :param seed: (int) the inital seed for RNG\n",
    "    :param rank: (int) index of the subprocess\n",
    "    \"\"\"\n",
    "\n",
    "    env = gym.make(\n",
    "        \"PackingEnv-v0\",\n",
    "        container_size=container_size,\n",
    "        box_sizes=boxes_generator(container_size, num_boxes, seed),\n",
    "        num_visible_boxes=num_visible_boxes,\n",
    "    )\n",
    "    env = ActionMasker(env, mask_fn)\n",
    "    return env"
   ],
   "metadata": {
    "pycharm": {
     "name": "#%%\n"
    },
    "id": "PvOUNkKagikn"
   }
  },
  {
   "cell_type": "code",
   "execution_count": null,
   "outputs": [
    {
     "name": "stderr",
     "output_type": "stream",
     "text": [
      "Process ForkServerProcess-13:\n",
      "Process ForkServerProcess-14:\n",
      "Traceback (most recent call last):\n",
      "Traceback (most recent call last):\n",
      "  File \"/opt/anaconda3/envs/3D-bin-packing/lib/python3.9/multiprocessing/process.py\", line 315, in _bootstrap\n",
      "    self.run()\n",
      "  File \"/opt/anaconda3/envs/3D-bin-packing/lib/python3.9/multiprocessing/process.py\", line 315, in _bootstrap\n",
      "    self.run()\n",
      "  File \"/opt/anaconda3/envs/3D-bin-packing/lib/python3.9/multiprocessing/process.py\", line 108, in run\n",
      "    self._target(*self._args, **self._kwargs)\n",
      "  File \"/opt/anaconda3/envs/3D-bin-packing/lib/python3.9/multiprocessing/process.py\", line 108, in run\n",
      "    self._target(*self._args, **self._kwargs)\n",
      "  File \"/opt/anaconda3/envs/3D-bin-packing/lib/python3.9/site-packages/stable_baselines3/common/vec_env/subproc_vec_env.py\", line 27, in _worker\n",
      "    env = env_fn_wrapper.var()\n",
      "  File \"/opt/anaconda3/envs/3D-bin-packing/lib/python3.9/site-packages/stable_baselines3/common/vec_env/subproc_vec_env.py\", line 27, in _worker\n",
      "    env = env_fn_wrapper.var()\n",
      "  File \"/var/folders/yr/wjd7fsqn2zv8rd2hgfd614yh0000gn/T/ipykernel_19914/1084085288.py\", line 17, in _init\n",
      "  File \"/var/folders/yr/wjd7fsqn2zv8rd2hgfd614yh0000gn/T/ipykernel_19914/1084085288.py\", line 17, in _init\n",
      "  File \"/Users/luis/Documents/code/fourthbrain-mle-course/repos/3D-bin-packing/src/utils.py\", line 47, in boxes_generator\n",
      "    axis = rd.choices(list(range(dim)), weights=box0_size, k=1)[0]\n",
      "  File \"/Users/luis/Documents/code/fourthbrain-mle-course/repos/3D-bin-packing/src/utils.py\", line 47, in boxes_generator\n",
      "    axis = rd.choices(list(range(dim)), weights=box0_size, k=1)[0]\n",
      "KeyboardInterrupt\n",
      "KeyboardInterrupt\n"
     ]
    },
    {
     "ename": "KeyboardInterrupt",
     "evalue": "",
     "output_type": "error",
     "traceback": [
      "\u001B[0;31m---------------------------------------------------------------------------\u001B[0m",
      "\u001B[0;31mKeyboardInterrupt\u001B[0m                         Traceback (most recent call last)",
      "Input \u001B[0;32mIn [10]\u001B[0m, in \u001B[0;36m<cell line: 7>\u001B[0;34m()\u001B[0m\n\u001B[1;32m      5\u001B[0m num_boxes \u001B[38;5;241m=\u001B[39m \u001B[38;5;241m15\u001B[39m\n\u001B[1;32m      6\u001B[0m num_visible_boxes \u001B[38;5;241m=\u001B[39m \u001B[38;5;241m15\u001B[39m\n\u001B[0;32m----> 7\u001B[0m train_env \u001B[38;5;241m=\u001B[39m \u001B[43mSubprocVecEnv\u001B[49m\u001B[43m(\u001B[49m\u001B[43m[\u001B[49m\u001B[43mmake_env\u001B[49m\u001B[43m(\u001B[49m\u001B[43mrank\u001B[49m\u001B[43m \u001B[49m\u001B[38;5;241;43m=\u001B[39;49m\u001B[43m \u001B[49m\u001B[43mi\u001B[49m\u001B[43m,\u001B[49m\u001B[43m \u001B[49m\u001B[43mcontainer_size\u001B[49m\u001B[43m \u001B[49m\u001B[38;5;241;43m=\u001B[39;49m\u001B[43m \u001B[49m\u001B[43mcontainer_size\u001B[49m\u001B[43m,\u001B[49m\u001B[43m \u001B[49m\u001B[43mnum_boxes\u001B[49m\u001B[38;5;241;43m=\u001B[39;49m\u001B[43mnum_boxes\u001B[49m\u001B[43m,\u001B[49m\u001B[43m \u001B[49m\u001B[43mnum_visible_boxes\u001B[49m\u001B[38;5;241;43m=\u001B[39;49m\u001B[43mnum_visible_boxes\u001B[49m\u001B[43m)\u001B[49m\u001B[43m \u001B[49m\u001B[38;5;28;43;01mfor\u001B[39;49;00m\u001B[43m \u001B[49m\u001B[43mi\u001B[49m\u001B[43m \u001B[49m\u001B[38;5;129;43;01min\u001B[39;49;00m\u001B[43m \u001B[49m\u001B[38;5;28;43mrange\u001B[39;49m\u001B[43m(\u001B[49m\u001B[43mnum_cpu\u001B[49m\u001B[43m)\u001B[49m\u001B[43m]\u001B[49m\u001B[43m)\u001B[49m\n\u001B[1;32m      8\u001B[0m \u001B[38;5;28mprint\u001B[39m(\u001B[38;5;124m\"\u001B[39m\u001B[38;5;124mfinished creating train env\u001B[39m\u001B[38;5;124m\"\u001B[39m)\n\u001B[1;32m     10\u001B[0m \u001B[38;5;66;03m## Callback options\u001B[39;00m\n",
      "File \u001B[0;32m/opt/anaconda3/envs/3D-bin-packing/lib/python3.9/site-packages/stable_baselines3/common/vec_env/subproc_vec_env.py:114\u001B[0m, in \u001B[0;36mSubprocVecEnv.__init__\u001B[0;34m(self, env_fns, start_method)\u001B[0m\n\u001B[1;32m    111\u001B[0m     work_remote\u001B[38;5;241m.\u001B[39mclose()\n\u001B[1;32m    113\u001B[0m \u001B[38;5;28mself\u001B[39m\u001B[38;5;241m.\u001B[39mremotes[\u001B[38;5;241m0\u001B[39m]\u001B[38;5;241m.\u001B[39msend((\u001B[38;5;124m\"\u001B[39m\u001B[38;5;124mget_spaces\u001B[39m\u001B[38;5;124m\"\u001B[39m, \u001B[38;5;28;01mNone\u001B[39;00m))\n\u001B[0;32m--> 114\u001B[0m observation_space, action_space \u001B[38;5;241m=\u001B[39m \u001B[38;5;28;43mself\u001B[39;49m\u001B[38;5;241;43m.\u001B[39;49m\u001B[43mremotes\u001B[49m\u001B[43m[\u001B[49m\u001B[38;5;241;43m0\u001B[39;49m\u001B[43m]\u001B[49m\u001B[38;5;241;43m.\u001B[39;49m\u001B[43mrecv\u001B[49m\u001B[43m(\u001B[49m\u001B[43m)\u001B[49m\n\u001B[1;32m    115\u001B[0m VecEnv\u001B[38;5;241m.\u001B[39m\u001B[38;5;21m__init__\u001B[39m(\u001B[38;5;28mself\u001B[39m, \u001B[38;5;28mlen\u001B[39m(env_fns), observation_space, action_space)\n",
      "File \u001B[0;32m/opt/anaconda3/envs/3D-bin-packing/lib/python3.9/multiprocessing/connection.py:255\u001B[0m, in \u001B[0;36m_ConnectionBase.recv\u001B[0;34m(self)\u001B[0m\n\u001B[1;32m    253\u001B[0m \u001B[38;5;28mself\u001B[39m\u001B[38;5;241m.\u001B[39m_check_closed()\n\u001B[1;32m    254\u001B[0m \u001B[38;5;28mself\u001B[39m\u001B[38;5;241m.\u001B[39m_check_readable()\n\u001B[0;32m--> 255\u001B[0m buf \u001B[38;5;241m=\u001B[39m \u001B[38;5;28;43mself\u001B[39;49m\u001B[38;5;241;43m.\u001B[39;49m\u001B[43m_recv_bytes\u001B[49m\u001B[43m(\u001B[49m\u001B[43m)\u001B[49m\n\u001B[1;32m    256\u001B[0m \u001B[38;5;28;01mreturn\u001B[39;00m _ForkingPickler\u001B[38;5;241m.\u001B[39mloads(buf\u001B[38;5;241m.\u001B[39mgetbuffer())\n",
      "File \u001B[0;32m/opt/anaconda3/envs/3D-bin-packing/lib/python3.9/multiprocessing/connection.py:419\u001B[0m, in \u001B[0;36mConnection._recv_bytes\u001B[0;34m(self, maxsize)\u001B[0m\n\u001B[1;32m    418\u001B[0m \u001B[38;5;28;01mdef\u001B[39;00m \u001B[38;5;21m_recv_bytes\u001B[39m(\u001B[38;5;28mself\u001B[39m, maxsize\u001B[38;5;241m=\u001B[39m\u001B[38;5;28;01mNone\u001B[39;00m):\n\u001B[0;32m--> 419\u001B[0m     buf \u001B[38;5;241m=\u001B[39m \u001B[38;5;28;43mself\u001B[39;49m\u001B[38;5;241;43m.\u001B[39;49m\u001B[43m_recv\u001B[49m\u001B[43m(\u001B[49m\u001B[38;5;241;43m4\u001B[39;49m\u001B[43m)\u001B[49m\n\u001B[1;32m    420\u001B[0m     size, \u001B[38;5;241m=\u001B[39m struct\u001B[38;5;241m.\u001B[39munpack(\u001B[38;5;124m\"\u001B[39m\u001B[38;5;124m!i\u001B[39m\u001B[38;5;124m\"\u001B[39m, buf\u001B[38;5;241m.\u001B[39mgetvalue())\n\u001B[1;32m    421\u001B[0m     \u001B[38;5;28;01mif\u001B[39;00m size \u001B[38;5;241m==\u001B[39m \u001B[38;5;241m-\u001B[39m\u001B[38;5;241m1\u001B[39m:\n",
      "File \u001B[0;32m/opt/anaconda3/envs/3D-bin-packing/lib/python3.9/multiprocessing/connection.py:384\u001B[0m, in \u001B[0;36mConnection._recv\u001B[0;34m(self, size, read)\u001B[0m\n\u001B[1;32m    382\u001B[0m remaining \u001B[38;5;241m=\u001B[39m size\n\u001B[1;32m    383\u001B[0m \u001B[38;5;28;01mwhile\u001B[39;00m remaining \u001B[38;5;241m>\u001B[39m \u001B[38;5;241m0\u001B[39m:\n\u001B[0;32m--> 384\u001B[0m     chunk \u001B[38;5;241m=\u001B[39m \u001B[43mread\u001B[49m\u001B[43m(\u001B[49m\u001B[43mhandle\u001B[49m\u001B[43m,\u001B[49m\u001B[43m \u001B[49m\u001B[43mremaining\u001B[49m\u001B[43m)\u001B[49m\n\u001B[1;32m    385\u001B[0m     n \u001B[38;5;241m=\u001B[39m \u001B[38;5;28mlen\u001B[39m(chunk)\n\u001B[1;32m    386\u001B[0m     \u001B[38;5;28;01mif\u001B[39;00m n \u001B[38;5;241m==\u001B[39m \u001B[38;5;241m0\u001B[39m:\n",
      "\u001B[0;31mKeyboardInterrupt\u001B[0m: "
     ]
    }
   ],
   "source": [
    "warnings.filterwarnings(\"ignore\", category=DeprecationWarning)\n",
    "# Environment initialization\n",
    "container_size = [5, 5, 5]\n",
    "num_boxes = 10\n",
    "num_visible_boxes = 10\n",
    "num_env = 4\n",
    "env_kwargs = dict(\n",
    "    container_size=container_size,\n",
    "    num_boxes=num_boxes,\n",
    "    num_visible_boxes=num_visible_boxes,\n",
    "    seed=42,\n",
    "    render_mode=\"rgb_array\",\n",
    ")\n",
    "env = make_vec_env(make_env, n_envs=num_env, env_kwargs=env_kwargs)\n",
    "print(\"finished initialization of vectorized environment\")\n",
    "print(\"beginning training\")\n",
    "\n",
    "# MaskablePPO initialization\n",
    "model = MaskablePPO(\"MultiInputPolicy\", env, gamma=0.4, verbose=1)\n",
    "checkpoint_callback = CheckpointCallback(\n",
    "    save_freq=50, save_path=\"../logs/\", name_prefix=\"rl_model\"\n",
    ")\n",
    "model.learn(5000, callback=checkpoint_callback)\n",
    "print(\"done training\")\n",
    "model.save(\"ppo_mask\")"
   ],
   "metadata": {
    "collapsed": false,
    "pycharm": {
     "name": "#%%\n"
    }
   }
  },
  {
   "cell_type": "code",
   "execution_count": null,
   "outputs": [],
   "source": [
    "# obs = env.reset()\n",
    "# while True:\n",
    "#     # Retrieve current action mask\n",
    "#     action_masks = get_action_masks(env)\n",
    "#     action, _states = model.predict(obs, action_masks=action_masks)\n",
    "#     obs, rewards, dones, info = env.step(action)\n",
    "#     env.render()\n"
   ],
   "metadata": {
    "collapsed": false,
    "pycharm": {
     "name": "#%%\n"
    }
   }
  }
 ],
 "metadata": {
  "kernelspec": {
   "display_name": "Python 3",
   "language": "python",
   "name": "python3"
  },
  "language_info": {
   "codemirror_mode": {
    "name": "ipython",
    "version": 2
   },
   "file_extension": ".py",
   "mimetype": "text/x-python",
   "name": "python",
   "nbconvert_exporter": "python",
   "pygments_lexer": "ipython2",
   "version": "2.7.6"
  },
  "colab": {
   "provenance": []
  },
  "accelerator": "GPU"
 },
 "nbformat": 4,
 "nbformat_minor": 0
}