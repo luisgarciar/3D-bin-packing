{
 "cells": [
  {
   "cell_type": "markdown",
   "source": [
    "# Demo for the Gym environment\n",
    "\n",
    "In this notebook we test the gym environment for the packing problem with a random agent."
   ],
   "metadata": {
    "collapsed": false,
    "pycharm": {
     "name": "#%% md\n"
    }
   }
  },
  {
   "cell_type": "code",
   "execution_count": 1,
   "outputs": [],
   "source": [
    "# Add parent directory to path\n",
    "import os\n",
    "import sys\n",
    "p_dir = os.path.split(os.getcwd())[0]\n",
    "if p_dir not in sys.path:\n",
    "    sys.path.append(p_dir)"
   ],
   "metadata": {
    "collapsed": false,
    "pycharm": {
     "name": "#%%\n"
    }
   }
  },
  {
   "cell_type": "code",
   "execution_count": 5,
   "outputs": [
    {
     "ename": "AssertionError",
     "evalue": "Expects the mask to be for an action, actual for [10 10]",
     "output_type": "error",
     "traceback": [
      "\u001B[0;31m---------------------------------------------------------------------------\u001B[0m",
      "\u001B[0;31mAssertionError\u001B[0m                            Traceback (most recent call last)",
      "Input \u001B[0;32mIn [5]\u001B[0m, in \u001B[0;36m<cell line: 13>\u001B[0;34m()\u001B[0m\n\u001B[1;32m     14\u001B[0m action_mask \u001B[38;5;241m=\u001B[39m obs[\u001B[38;5;124m'\u001B[39m\u001B[38;5;124maction_mask\u001B[39m\u001B[38;5;124m'\u001B[39m]\n\u001B[1;32m     15\u001B[0m action_mask_dict \u001B[38;5;241m=\u001B[39m {\u001B[38;5;124m'\u001B[39m\u001B[38;5;124mposition\u001B[39m\u001B[38;5;124m'\u001B[39m: action_mask}\n\u001B[0;32m---> 16\u001B[0m action \u001B[38;5;241m=\u001B[39m \u001B[43menv\u001B[49m\u001B[38;5;241;43m.\u001B[39;49m\u001B[43maction_space\u001B[49m\u001B[38;5;241;43m.\u001B[39;49m\u001B[43msample\u001B[49m\u001B[43m(\u001B[49m\u001B[43maction_mask_dict\u001B[49m\u001B[43m)\u001B[49m\n\u001B[1;32m     17\u001B[0m obs, reward, done, info \u001B[38;5;241m=\u001B[39m env\u001B[38;5;241m.\u001B[39mstep(action)\n\u001B[1;32m     18\u001B[0m env\u001B[38;5;241m.\u001B[39mrender()\n",
      "File \u001B[0;32m/opt/anaconda3/envs/3D-bin-packing/lib/python3.10/site-packages/gym/spaces/dict.py:160\u001B[0m, in \u001B[0;36mDict.sample\u001B[0;34m(self, mask)\u001B[0m\n\u001B[1;32m    153\u001B[0m     \u001B[38;5;28;01massert\u001B[39;00m \u001B[38;5;28misinstance\u001B[39m(\n\u001B[1;32m    154\u001B[0m         mask, \u001B[38;5;28mdict\u001B[39m\n\u001B[1;32m    155\u001B[0m     ), \u001B[38;5;124mf\u001B[39m\u001B[38;5;124m\"\u001B[39m\u001B[38;5;124mExpects mask to be a dict, actual type: \u001B[39m\u001B[38;5;132;01m{\u001B[39;00m\u001B[38;5;28mtype\u001B[39m(mask)\u001B[38;5;132;01m}\u001B[39;00m\u001B[38;5;124m\"\u001B[39m\n\u001B[1;32m    156\u001B[0m     \u001B[38;5;28;01massert\u001B[39;00m (\n\u001B[1;32m    157\u001B[0m         mask\u001B[38;5;241m.\u001B[39mkeys() \u001B[38;5;241m==\u001B[39m \u001B[38;5;28mself\u001B[39m\u001B[38;5;241m.\u001B[39mspaces\u001B[38;5;241m.\u001B[39mkeys()\n\u001B[1;32m    158\u001B[0m     ), \u001B[38;5;124mf\u001B[39m\u001B[38;5;124m\"\u001B[39m\u001B[38;5;124mExpect mask keys to be same as space keys, mask keys: \u001B[39m\u001B[38;5;132;01m{\u001B[39;00mmask\u001B[38;5;241m.\u001B[39mkeys()\u001B[38;5;132;01m}\u001B[39;00m\u001B[38;5;124m, space keys: \u001B[39m\u001B[38;5;132;01m{\u001B[39;00m\u001B[38;5;28mself\u001B[39m\u001B[38;5;241m.\u001B[39mspaces\u001B[38;5;241m.\u001B[39mkeys()\u001B[38;5;132;01m}\u001B[39;00m\u001B[38;5;124m\"\u001B[39m\n\u001B[1;32m    159\u001B[0m     \u001B[38;5;28;01mreturn\u001B[39;00m OrderedDict(\n\u001B[0;32m--> 160\u001B[0m         [(k, space\u001B[38;5;241m.\u001B[39msample(mask[k])) \u001B[38;5;28;01mfor\u001B[39;00m k, space \u001B[38;5;129;01min\u001B[39;00m \u001B[38;5;28mself\u001B[39m\u001B[38;5;241m.\u001B[39mspaces\u001B[38;5;241m.\u001B[39mitems()]\n\u001B[1;32m    161\u001B[0m     )\n\u001B[1;32m    163\u001B[0m \u001B[38;5;28;01mreturn\u001B[39;00m OrderedDict([(k, space\u001B[38;5;241m.\u001B[39msample()) \u001B[38;5;28;01mfor\u001B[39;00m k, space \u001B[38;5;129;01min\u001B[39;00m \u001B[38;5;28mself\u001B[39m\u001B[38;5;241m.\u001B[39mspaces\u001B[38;5;241m.\u001B[39mitems()])\n",
      "File \u001B[0;32m/opt/anaconda3/envs/3D-bin-packing/lib/python3.10/site-packages/gym/spaces/dict.py:160\u001B[0m, in \u001B[0;36m<listcomp>\u001B[0;34m(.0)\u001B[0m\n\u001B[1;32m    153\u001B[0m     \u001B[38;5;28;01massert\u001B[39;00m \u001B[38;5;28misinstance\u001B[39m(\n\u001B[1;32m    154\u001B[0m         mask, \u001B[38;5;28mdict\u001B[39m\n\u001B[1;32m    155\u001B[0m     ), \u001B[38;5;124mf\u001B[39m\u001B[38;5;124m\"\u001B[39m\u001B[38;5;124mExpects mask to be a dict, actual type: \u001B[39m\u001B[38;5;132;01m{\u001B[39;00m\u001B[38;5;28mtype\u001B[39m(mask)\u001B[38;5;132;01m}\u001B[39;00m\u001B[38;5;124m\"\u001B[39m\n\u001B[1;32m    156\u001B[0m     \u001B[38;5;28;01massert\u001B[39;00m (\n\u001B[1;32m    157\u001B[0m         mask\u001B[38;5;241m.\u001B[39mkeys() \u001B[38;5;241m==\u001B[39m \u001B[38;5;28mself\u001B[39m\u001B[38;5;241m.\u001B[39mspaces\u001B[38;5;241m.\u001B[39mkeys()\n\u001B[1;32m    158\u001B[0m     ), \u001B[38;5;124mf\u001B[39m\u001B[38;5;124m\"\u001B[39m\u001B[38;5;124mExpect mask keys to be same as space keys, mask keys: \u001B[39m\u001B[38;5;132;01m{\u001B[39;00mmask\u001B[38;5;241m.\u001B[39mkeys()\u001B[38;5;132;01m}\u001B[39;00m\u001B[38;5;124m, space keys: \u001B[39m\u001B[38;5;132;01m{\u001B[39;00m\u001B[38;5;28mself\u001B[39m\u001B[38;5;241m.\u001B[39mspaces\u001B[38;5;241m.\u001B[39mkeys()\u001B[38;5;132;01m}\u001B[39;00m\u001B[38;5;124m\"\u001B[39m\n\u001B[1;32m    159\u001B[0m     \u001B[38;5;28;01mreturn\u001B[39;00m OrderedDict(\n\u001B[0;32m--> 160\u001B[0m         [(k, \u001B[43mspace\u001B[49m\u001B[38;5;241;43m.\u001B[39;49m\u001B[43msample\u001B[49m\u001B[43m(\u001B[49m\u001B[43mmask\u001B[49m\u001B[43m[\u001B[49m\u001B[43mk\u001B[49m\u001B[43m]\u001B[49m\u001B[43m)\u001B[49m) \u001B[38;5;28;01mfor\u001B[39;00m k, space \u001B[38;5;129;01min\u001B[39;00m \u001B[38;5;28mself\u001B[39m\u001B[38;5;241m.\u001B[39mspaces\u001B[38;5;241m.\u001B[39mitems()]\n\u001B[1;32m    161\u001B[0m     )\n\u001B[1;32m    163\u001B[0m \u001B[38;5;28;01mreturn\u001B[39;00m OrderedDict([(k, space\u001B[38;5;241m.\u001B[39msample()) \u001B[38;5;28;01mfor\u001B[39;00m k, space \u001B[38;5;129;01min\u001B[39;00m \u001B[38;5;28mself\u001B[39m\u001B[38;5;241m.\u001B[39mspaces\u001B[38;5;241m.\u001B[39mitems()])\n",
      "File \u001B[0;32m/opt/anaconda3/envs/3D-bin-packing/lib/python3.10/site-packages/gym/spaces/multi_discrete.py:115\u001B[0m, in \u001B[0;36mMultiDiscrete.sample\u001B[0;34m(self, mask)\u001B[0m\n\u001B[1;32m    107\u001B[0m             \u001B[38;5;28;01massert\u001B[39;00m \u001B[38;5;28mlen\u001B[39m(sub_mask) \u001B[38;5;241m==\u001B[39m \u001B[38;5;28mlen\u001B[39m(\n\u001B[1;32m    108\u001B[0m                 sub_nvec\n\u001B[1;32m    109\u001B[0m             ), \u001B[38;5;124mf\u001B[39m\u001B[38;5;124m\"\u001B[39m\u001B[38;5;124mExpects the mask length to be equal to the number of actions, mask length: \u001B[39m\u001B[38;5;132;01m{\u001B[39;00m\u001B[38;5;28mlen\u001B[39m(sub_mask)\u001B[38;5;132;01m}\u001B[39;00m\u001B[38;5;124m, nvec length: \u001B[39m\u001B[38;5;132;01m{\u001B[39;00m\u001B[38;5;28mlen\u001B[39m(sub_nvec)\u001B[38;5;132;01m}\u001B[39;00m\u001B[38;5;124m\"\u001B[39m\n\u001B[1;32m    110\u001B[0m             \u001B[38;5;28;01mreturn\u001B[39;00m [\n\u001B[1;32m    111\u001B[0m                 _apply_mask(new_mask, new_nvec)\n\u001B[1;32m    112\u001B[0m                 \u001B[38;5;28;01mfor\u001B[39;00m new_mask, new_nvec \u001B[38;5;129;01min\u001B[39;00m \u001B[38;5;28mzip\u001B[39m(sub_mask, sub_nvec)\n\u001B[1;32m    113\u001B[0m             ]\n\u001B[0;32m--> 115\u001B[0m     \u001B[38;5;28;01mreturn\u001B[39;00m np\u001B[38;5;241m.\u001B[39marray(\u001B[43m_apply_mask\u001B[49m\u001B[43m(\u001B[49m\u001B[43mmask\u001B[49m\u001B[43m,\u001B[49m\u001B[43m \u001B[49m\u001B[38;5;28;43mself\u001B[39;49m\u001B[38;5;241;43m.\u001B[39;49m\u001B[43mnvec\u001B[49m\u001B[43m)\u001B[49m, dtype\u001B[38;5;241m=\u001B[39m\u001B[38;5;28mself\u001B[39m\u001B[38;5;241m.\u001B[39mdtype)\n\u001B[1;32m    117\u001B[0m \u001B[38;5;28;01mreturn\u001B[39;00m (\u001B[38;5;28mself\u001B[39m\u001B[38;5;241m.\u001B[39mnp_random\u001B[38;5;241m.\u001B[39mrandom(\u001B[38;5;28mself\u001B[39m\u001B[38;5;241m.\u001B[39mnvec\u001B[38;5;241m.\u001B[39mshape) \u001B[38;5;241m*\u001B[39m \u001B[38;5;28mself\u001B[39m\u001B[38;5;241m.\u001B[39mnvec)\u001B[38;5;241m.\u001B[39mastype(\u001B[38;5;28mself\u001B[39m\u001B[38;5;241m.\u001B[39mdtype)\n",
      "File \u001B[0;32m/opt/anaconda3/envs/3D-bin-packing/lib/python3.10/site-packages/gym/spaces/multi_discrete.py:84\u001B[0m, in \u001B[0;36mMultiDiscrete.sample.<locals>._apply_mask\u001B[0;34m(sub_mask, sub_nvec)\u001B[0m\n\u001B[1;32m     80\u001B[0m \u001B[38;5;28;01mdef\u001B[39;00m \u001B[38;5;21m_apply_mask\u001B[39m(\n\u001B[1;32m     81\u001B[0m     sub_mask: SAMPLE_MASK_TYPE, sub_nvec: np\u001B[38;5;241m.\u001B[39mndarray\n\u001B[1;32m     82\u001B[0m ) \u001B[38;5;241m-\u001B[39m\u001B[38;5;241m>\u001B[39m Union[\u001B[38;5;28mint\u001B[39m, List[\u001B[38;5;28mint\u001B[39m]]:\n\u001B[1;32m     83\u001B[0m     \u001B[38;5;28;01mif\u001B[39;00m \u001B[38;5;28misinstance\u001B[39m(sub_mask, np\u001B[38;5;241m.\u001B[39mndarray):\n\u001B[0;32m---> 84\u001B[0m         \u001B[38;5;28;01massert\u001B[39;00m np\u001B[38;5;241m.\u001B[39missubdtype(\n\u001B[1;32m     85\u001B[0m             \u001B[38;5;28mtype\u001B[39m(sub_nvec), np\u001B[38;5;241m.\u001B[39minteger\n\u001B[1;32m     86\u001B[0m         ), \u001B[38;5;124mf\u001B[39m\u001B[38;5;124m\"\u001B[39m\u001B[38;5;124mExpects the mask to be for an action, actual for \u001B[39m\u001B[38;5;132;01m{\u001B[39;00msub_nvec\u001B[38;5;132;01m}\u001B[39;00m\u001B[38;5;124m\"\u001B[39m\n\u001B[1;32m     87\u001B[0m         \u001B[38;5;28;01massert\u001B[39;00m (\n\u001B[1;32m     88\u001B[0m             \u001B[38;5;28mlen\u001B[39m(sub_mask) \u001B[38;5;241m==\u001B[39m sub_nvec\n\u001B[1;32m     89\u001B[0m         ), \u001B[38;5;124mf\u001B[39m\u001B[38;5;124m\"\u001B[39m\u001B[38;5;124mExpects the mask length to be equal to the number of actions, mask length: \u001B[39m\u001B[38;5;132;01m{\u001B[39;00m\u001B[38;5;28mlen\u001B[39m(sub_mask)\u001B[38;5;132;01m}\u001B[39;00m\u001B[38;5;124m, nvec length: \u001B[39m\u001B[38;5;132;01m{\u001B[39;00msub_nvec\u001B[38;5;132;01m}\u001B[39;00m\u001B[38;5;124m\"\u001B[39m\n\u001B[1;32m     90\u001B[0m         \u001B[38;5;28;01massert\u001B[39;00m (\n\u001B[1;32m     91\u001B[0m             sub_mask\u001B[38;5;241m.\u001B[39mdtype \u001B[38;5;241m==\u001B[39m np\u001B[38;5;241m.\u001B[39mint8\n\u001B[1;32m     92\u001B[0m         ), \u001B[38;5;124mf\u001B[39m\u001B[38;5;124m\"\u001B[39m\u001B[38;5;124mExpects the mask dtype to be np.int8, actual dtype: \u001B[39m\u001B[38;5;132;01m{\u001B[39;00msub_mask\u001B[38;5;241m.\u001B[39mdtype\u001B[38;5;132;01m}\u001B[39;00m\u001B[38;5;124m\"\u001B[39m\n",
      "\u001B[0;31mAssertionError\u001B[0m: Expects the mask to be for an action, actual for [10 10]"
     ]
    }
   ],
   "source": [
    "# Create the environment\n",
    "from src.utils import boxes_generator\n",
    "from gym.utils.env_checker import check_env\n",
    "from gym import make\n",
    "from src.packing_env import PackingEnv0\n",
    "\n",
    "env = make('PackingEnv0', new_step_api=False, container_size = [10, 10, 10],\n",
    "                          box_sizes =  boxes_generator([10, 10, 10], 64, 42),\n",
    "                          num_visible_boxes = 1, )\n",
    "obs = env.reset()\n",
    "\n",
    "\n",
    "for step_num in range(10):\n",
    "    action_mask = obs['action_mask']\n",
    "    action_mask_dict = {'position': action_mask}\n",
    "    action = env.action_space.sample(action_mask_dict)\n",
    "    obs, reward, done, info = env.step(action)\n",
    "    env.render()\n",
    "    if done:\n",
    "        break\n",
    "\n",
    "#env = make(PackingEnv0(boxes_generator(10, [10, 10, 10], [1, 1, 1])))"
   ],
   "metadata": {
    "collapsed": false,
    "pycharm": {
     "name": "#%%\n"
    }
   }
  },
  {
   "cell_type": "code",
   "execution_count": null,
   "outputs": [],
   "source": [],
   "metadata": {
    "collapsed": false,
    "pycharm": {
     "name": "#%%\n"
    }
   }
  }
 ],
 "metadata": {
  "kernelspec": {
   "display_name": "Python 3",
   "language": "python",
   "name": "python3"
  },
  "language_info": {
   "codemirror_mode": {
    "name": "ipython",
    "version": 2
   },
   "file_extension": ".py",
   "mimetype": "text/x-python",
   "name": "python",
   "nbconvert_exporter": "python",
   "pygments_lexer": "ipython2",
   "version": "2.7.6"
  }
 },
 "nbformat": 4,
 "nbformat_minor": 0
}