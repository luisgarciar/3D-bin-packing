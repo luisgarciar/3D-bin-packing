{
 "cells": [
  {
   "cell_type": "markdown",
   "source": [
    "# Demo for the Gym environment\n",
    "\n",
    "In this notebook we test the gym environment for the packing problem with a random agent."
   ],
   "metadata": {
    "collapsed": false,
    "pycharm": {
     "name": "#%% md\n"
    }
   }
  },
  {
   "cell_type": "code",
   "execution_count": 7,
   "outputs": [],
   "source": [
    "# Add parent directory to path\n",
    "import os\n",
    "import sys\n",
    "p_dir = os.path.split(os.getcwd())[0]\n",
    "if p_dir not in sys.path:\n",
    "    sys.path.append(p_dir)"
   ],
   "metadata": {
    "collapsed": false,
    "pycharm": {
     "name": "#%%\n"
    }
   }
  },
  {
   "cell_type": "code",
   "execution_count": 8,
   "outputs": [],
   "source": [
    "# Create the environment\n",
    "from src.utils import boxes_generator\n",
    "from gym import make\n",
    "import time\n",
    "import warnings\n",
    "\n",
    "warnings.filterwarnings(\"ignore\", category=DeprecationWarning)\n",
    "env = make('PackingEnv0', new_step_api=False, container_size=[11, 11, 11], box_sizes=boxes_generator([10, 10, 10], num_items= 64, seed = 5),\n",
    "num_visible_boxes=1,  render_mode='human')\n",
    "obs = env.reset()\n",
    "\n",
    "for step_num in range(100):\n",
    "    action_mask = obs['action_mask']\n",
    "    action = env.action_space.sample(action_mask)\n",
    "    obs, reward, done, info = env.step(action)\n",
    "    if done:\n",
    "        break\n",
    "# env.render()"
   ],
   "metadata": {
    "collapsed": false,
    "pycharm": {
     "name": "#%%\n"
    }
   }
  },
  {
   "cell_type": "code",
   "execution_count": 17,
   "outputs": [
    {
     "data": {
      "text/plain": "[Box id: 0, Size: 2 x 4 x 4, Position: (-1, -1, -1),\n Box id: 1, Size: 1 x 5 x 3, Position: (-1, -1, -1),\n Box id: 2, Size: 1 x 5 x 2, Position: (-1, -1, -1),\n Box id: 3, Size: 1 x 5 x 1, Position: (-1, -1, -1),\n Box id: 4, Size: 1 x 5 x 3, Position: (-1, -1, -1),\n Box id: 5, Size: 9 x 2 x 1, Position: (-1, -1, -1),\n Box id: 6, Size: 1 x 2 x 1, Position: (-1, -1, -1),\n Box id: 7, Size: 1 x 4 x 5, Position: (-1, -1, -1),\n Box id: 8, Size: 1 x 4 x 5, Position: (-1, -1, -1),\n Box id: 9, Size: 8 x 2 x 1, Position: (-1, -1, -1),\n Box id: 10, Size: 2 x 2 x 1, Position: (-1, -1, -1),\n Box id: 11, Size: 1 x 8 x 1, Position: (-1, -1, -1),\n Box id: 12, Size: 1 x 8 x 1, Position: (-1, -1, -1),\n Box id: 13, Size: 5 x 7 x 1, Position: (-1, -1, -1),\n Box id: 14, Size: 1 x 3 x 2, Position: (-1, -1, -1),\n Box id: 15, Size: 1 x 4 x 4, Position: (-1, -1, -1),\n Box id: 16, Size: 1 x 1 x 5, Position: (-1, -1, -1),\n Box id: 17, Size: 1 x 2 x 5, Position: (-1, -1, -1),\n Box id: 18, Size: 1 x 4 x 3, Position: (-1, -1, -1),\n Box id: 19, Size: 3 x 1 x 3, Position: (-1, -1, -1),\n Box id: 20, Size: 2 x 4 x 2, Position: (-1, -1, -1),\n Box id: 21, Size: 4 x 2 x 1, Position: (-1, -1, -1),\n Box id: 22, Size: 4 x 1 x 2, Position: (-1, -1, -1),\n Box id: 23, Size: 6 x 1 x 1, Position: (-1, -1, -1),\n Box id: 24, Size: 4 x 2 x 1, Position: (-1, -1, -1),\n Box id: 25, Size: 6 x 2 x 1, Position: (-1, -1, -1),\n Box id: 26, Size: 2 x 1 x 1, Position: (-1, -1, -1),\n Box id: 27, Size: 3 x 1 x 1, Position: (-1, -1, -1),\n Box id: 28, Size: 4 x 2 x 1, Position: (-1, -1, -1),\n Box id: 29, Size: 4 x 2 x 3, Position: (-1, -1, -1),\n Box id: 30, Size: 6 x 2 x 3, Position: (-1, -1, -1),\n Box id: 31, Size: 4 x 4 x 1, Position: (-1, -1, -1),\n Box id: 32, Size: 4 x 1 x 1, Position: (-1, -1, -1),\n Box id: 33, Size: 5 x 2 x 1, Position: (-1, -1, -1),\n Box id: 34, Size: 3 x 5 x 2, Position: (-1, -1, -1),\n Box id: 35, Size: 3 x 1 x 2, Position: (-1, -1, -1),\n Box id: 36, Size: 3 x 4 x 2, Position: (-1, -1, -1),\n Box id: 37, Size: 3 x 3 x 1, Position: (-1, -1, -1),\n Box id: 38, Size: 3 x 3 x 1, Position: (-1, -1, -1),\n Box id: 39, Size: 1 x 4 x 2, Position: (-1, -1, -1),\n Box id: 40, Size: 1 x 4 x 2, Position: (-1, -1, -1),\n Box id: 41, Size: 3 x 1 x 1, Position: (-1, -1, -1),\n Box id: 42, Size: 1 x 1 x 1, Position: (-1, -1, -1),\n Box id: 43, Size: 5 x 1 x 3, Position: (-1, -1, -1),\n Box id: 44, Size: 5 x 1 x 3, Position: (-1, -1, -1),\n Box id: 45, Size: 3 x 1 x 2, Position: (-1, -1, -1),\n Box id: 46, Size: 1 x 1 x 1, Position: (-1, -1, -1),\n Box id: 47, Size: 5 x 1 x 1, Position: (-1, -1, -1),\n Box id: 48, Size: 3 x 3 x 3, Position: (-1, -1, -1),\n Box id: 49, Size: 5 x 2 x 1, Position: (-1, -1, -1),\n Box id: 50, Size: 5 x 2 x 1, Position: (-1, -1, -1),\n Box id: 51, Size: 1 x 8 x 2, Position: (-1, -1, -1),\n Box id: 52, Size: 1 x 8 x 2, Position: (-1, -1, -1),\n Box id: 53, Size: 1 x 1 x 2, Position: (-1, -1, -1),\n Box id: 54, Size: 1 x 1 x 3, Position: (-1, -1, -1),\n Box id: 55, Size: 3 x 1 x 2, Position: (-1, -1, -1),\n Box id: 56, Size: 3 x 3 x 2, Position: (-1, -1, -1),\n Box id: 57, Size: 2 x 3 x 1, Position: (-1, -1, -1),\n Box id: 58, Size: 3 x 3 x 1, Position: (-1, -1, -1),\n Box id: 59, Size: 2 x 5 x 1, Position: (-1, -1, -1),\n Box id: 60, Size: 3 x 1 x 3, Position: (-1, -1, -1),\n Box id: 61, Size: 3 x 2 x 3, Position: (-1, -1, -1),\n Box id: 62, Size: 2 x 2 x 2, Position: (-1, -1, -1),\n Box id: 63, Size: 2 x 2 x 2, Position: (-1, -1, -1),\n Box id: 64, Size: 3 x 1 x 1, Position: (-1, -1, -1),\n Box id: 65, Size: 3 x 1 x 1, Position: (-1, -1, -1),\n Box id: 66, Size: 1 x 5 x 1, Position: (-1, -1, -1),\n Box id: 67, Size: 3 x 1 x 1, Position: (-1, -1, -1),\n Box id: 68, Size: 3 x 4 x 1, Position: (-1, -1, -1),\n Box id: 69, Size: 3 x 2 x 1, Position: (-1, -1, -1),\n Box id: 70, Size: 1 x 2 x 1, Position: (-1, -1, -1),\n Box id: 71, Size: 4 x 2 x 1, Position: (-1, -1, -1),\n Box id: 72, Size: 4 x 3 x 1, Position: (-1, -1, -1),\n Box id: 73, Size: 1 x 5 x 1, Position: (-1, -1, -1),\n Box id: 74, Size: 4 x 5 x 1, Position: (-1, -1, -1),\n Box id: 75, Size: 5 x 1 x 2, Position: (-1, -1, -1),\n Box id: 76, Size: 5 x 1 x 2, Position: (-1, -1, -1),\n Box id: 77, Size: 4 x 1 x 1, Position: (-1, -1, -1),\n Box id: 78, Size: 4 x 1 x 1, Position: (-1, -1, -1),\n Box id: 79, Size: 3 x 2 x 2, Position: (-1, -1, -1),\n Box id: 80, Size: 3 x 3 x 2, Position: (-1, -1, -1),\n Box id: 81, Size: 6 x 2 x 1, Position: (-1, -1, -1),\n Box id: 82, Size: 2 x 1 x 1, Position: (-1, -1, -1),\n Box id: 83, Size: 2 x 1 x 1, Position: (-1, -1, -1),\n Box id: 84, Size: 3 x 2 x 1, Position: (-1, -1, -1),\n Box id: 85, Size: 3 x 2 x 1, Position: (-1, -1, -1),\n Box id: 86, Size: 3 x 1 x 2, Position: (-1, -1, -1),\n Box id: 87, Size: 1 x 2 x 1, Position: (-1, -1, -1),\n Box id: 88, Size: 1 x 2 x 4, Position: (-1, -1, -1),\n Box id: 89, Size: 3 x 1 x 2, Position: (-1, -1, -1),\n Box id: 90, Size: 3 x 1 x 2, Position: (-1, -1, -1),\n Box id: 91, Size: 1 x 1 x 2, Position: (-1, -1, -1),\n Box id: 92, Size: 1 x 1 x 1, Position: (-1, -1, -1),\n Box id: 93, Size: 4 x 1 x 3, Position: (-1, -1, -1),\n Box id: 94, Size: 4 x 2 x 3, Position: (-1, -1, -1),\n Box id: 95, Size: 3 x 1 x 1, Position: (-1, -1, -1),\n Box id: 96, Size: 3 x 1 x 2, Position: (-1, -1, -1),\n Box id: 97, Size: 1 x 4 x 2, Position: (-1, -1, -1),\n Box id: 98, Size: 1 x 2 x 2, Position: (-1, -1, -1),\n Box id: 99, Size: 1 x 2 x 2, Position: (-1, -1, -1)]"
     },
     "execution_count": 17,
     "metadata": {},
     "output_type": "execute_result"
    }
   ],
   "source": [
    "env.initial_boxes"
   ],
   "metadata": {
    "collapsed": false,
    "pycharm": {
     "name": "#%%\n"
    }
   }
  },
  {
   "cell_type": "code",
   "execution_count": 18,
   "outputs": [
    {
     "data": {
      "text/plain": "[Box id: 0, Size: 2 x 4 x 4, Position: (8, 1, 0),\n Box id: 1, Size: 1 x 5 x 3, Position: (3, 6, 0),\n Box id: 2, Size: 1 x 5 x 2, Position: (1, 4, 0),\n Box id: 3, Size: 1 x 5 x 1, Position: (4, 1, 0),\n Box id: 4, Size: 1 x 5 x 3, Position: (10, 6, 0),\n Box id: 6, Size: 1 x 2 x 1, Position: (4, 3, 1),\n Box id: 7, Size: 1 x 4 x 5, Position: (7, 6, 0),\n Box id: 8, Size: 1 x 4 x 5, Position: (3, 6, 3),\n Box id: 10, Size: 2 x 2 x 1, Position: (1, 9, 0),\n Box id: 11, Size: 1 x 8 x 1, Position: (5, 1, 0),\n Box id: 12, Size: 1 x 8 x 1, Position: (6, 1, 0),\n Box id: 14, Size: 1 x 3 x 2, Position: (7, 7, 5),\n Box id: 15, Size: 1 x 4 x 4, Position: (7, 1, 0),\n Box id: 16, Size: 1 x 1 x 5, Position: (6, 3, 1),\n Box id: 17, Size: 1 x 2 x 5, Position: (0, 2, 0),\n Box id: 18, Size: 1 x 4 x 3, Position: (6, 5, 1),\n Box id: 19, Size: 3 x 1 x 3, Position: (5, 0, 0),\n Box id: 20, Size: 2 x 4 x 2, Position: (8, 7, 0),\n Box id: 21, Size: 4 x 2 x 1, Position: (0, 0, 0),\n Box id: 22, Size: 4 x 1 x 2, Position: (2, 1, 1),\n Box id: 26, Size: 2 x 1 x 1, Position: (7, 3, 4),\n Box id: 27, Size: 3 x 1 x 1, Position: (4, 2, 1),\n Box id: 32, Size: 4 x 1 x 1, Position: (2, 1, 3),\n Box id: 35, Size: 3 x 1 x 2, Position: (1, 2, 0),\n Box id: 39, Size: 1 x 4 x 2, Position: (0, 7, 0),\n Box id: 40, Size: 1 x 4 x 2, Position: (2, 5, 0),\n Box id: 41, Size: 3 x 1 x 1, Position: (3, 2, 2),\n Box id: 42, Size: 1 x 1 x 1, Position: (1, 10, 1),\n Box id: 45, Size: 3 x 1 x 2, Position: (5, 0, 3),\n Box id: 46, Size: 1 x 1 x 1, Position: (8, 8, 2),\n Box id: 53, Size: 1 x 1 x 2, Position: (2, 7, 2),\n Box id: 54, Size: 1 x 1 x 3, Position: (9, 8, 2),\n Box id: 55, Size: 3 x 1 x 2, Position: (2, 1, 4),\n Box id: 60, Size: 3 x 1 x 3, Position: (0, 8, 2),\n Box id: 61, Size: 3 x 2 x 3, Position: (4, 9, 0),\n Box id: 62, Size: 2 x 2 x 2, Position: (1, 5, 2),\n Box id: 63, Size: 2 x 2 x 2, Position: (2, 3, 0),\n Box id: 64, Size: 3 x 1 x 1, Position: (7, 1, 4),\n Box id: 65, Size: 3 x 1 x 1, Position: (3, 2, 3),\n Box id: 66, Size: 1 x 5 x 1, Position: (10, 1, 0),\n Box id: 67, Size: 3 x 1 x 1, Position: (7, 2, 4),\n Box id: 69, Size: 3 x 2 x 1, Position: (2, 3, 2),\n Box id: 70, Size: 1 x 2 x 1, Position: (5, 6, 1),\n Box id: 73, Size: 1 x 5 x 1, Position: (10, 6, 3),\n Box id: 77, Size: 4 x 1 x 1, Position: (0, 0, 1),\n Box id: 78, Size: 4 x 1 x 1, Position: (3, 10, 3),\n Box id: 79, Size: 3 x 2 x 2, Position: (2, 3, 3),\n Box id: 82, Size: 2 x 1 x 1, Position: (8, 10, 2),\n Box id: 83, Size: 2 x 1 x 1, Position: (7, 2, 5),\n Box id: 84, Size: 3 x 2 x 1, Position: (2, 3, 5),\n Box id: 85, Size: 3 x 2 x 1, Position: (2, 3, 6),\n Box id: 86, Size: 3 x 1 x 2, Position: (7, 4, 4),\n Box id: 87, Size: 1 x 2 x 1, Position: (3, 6, 8),\n Box id: 88, Size: 1 x 2 x 4, Position: (5, 1, 4),\n Box id: 89, Size: 3 x 1 x 2, Position: (0, 8, 5),\n Box id: 90, Size: 3 x 1 x 2, Position: (2, 3, 7),\n Box id: 91, Size: 1 x 1 x 2, Position: (10, 3, 1),\n Box id: 92, Size: 1 x 1 x 1, Position: (5, 8, 1),\n Box id: 93, Size: 4 x 1 x 3, Position: (0, 0, 2),\n Box id: 95, Size: 3 x 1 x 1, Position: (0, 8, 7),\n Box id: 96, Size: 3 x 1 x 2, Position: (1, 0, 5),\n Box id: 97, Size: 1 x 4 x 2, Position: (10, 6, 4),\n Box id: 98, Size: 1 x 2 x 2, Position: (5, 7, 2),\n Box id: 99, Size: 1 x 2 x 2, Position: (6, 5, 4)]"
     },
     "execution_count": 18,
     "metadata": {},
     "output_type": "execute_result"
    }
   ],
   "source": [
    "env.container.boxes"
   ],
   "metadata": {
    "collapsed": false,
    "pycharm": {
     "name": "#%%\n"
    }
   }
  },
  {
   "cell_type": "code",
   "execution_count": 19,
   "outputs": [
    {
     "data": {
      "text/plain": "64"
     },
     "execution_count": 19,
     "metadata": {},
     "output_type": "execute_result"
    }
   ],
   "source": [
    "len(env.packed_boxes)"
   ],
   "metadata": {
    "collapsed": false,
    "pycharm": {
     "name": "#%%\n"
    }
   }
  },
  {
   "cell_type": "code",
   "execution_count": 20,
   "outputs": [
    {
     "data": {
      "text/plain": "36"
     },
     "execution_count": 20,
     "metadata": {},
     "output_type": "execute_result"
    }
   ],
   "source": [
    "len(env.skipped_boxes)"
   ],
   "metadata": {
    "collapsed": false,
    "pycharm": {
     "name": "#%%\n"
    }
   }
  },
  {
   "cell_type": "code",
   "execution_count": 21,
   "outputs": [],
   "source": [
    "env.container.plot()\n",
    "warnings.filterwarnings(\"ignore\", category=DeprecationWarning)"
   ],
   "metadata": {
    "collapsed": false,
    "pycharm": {
     "name": "#%%\n"
    }
   }
  },
  {
   "cell_type": "code",
   "execution_count": 22,
   "outputs": [
    {
     "data": {
      "application/vnd.plotly.v1+json": {
       "data": [
        {
         "line": {
          "color": "yellow",
          "width": 3
         },
         "mode": "lines",
         "x": [
          0,
          11
         ],
         "y": [
          0,
          0
         ],
         "z": [
          0,
          0
         ],
         "type": "scatter3d"
        },
        {
         "line": {
          "color": "yellow",
          "width": 3
         },
         "mode": "lines",
         "x": [
          0,
          0
         ],
         "y": [
          0,
          11
         ],
         "z": [
          0,
          0
         ],
         "type": "scatter3d"
        },
        {
         "line": {
          "color": "yellow",
          "width": 3
         },
         "mode": "lines",
         "x": [
          0,
          0
         ],
         "y": [
          0,
          0
         ],
         "z": [
          0,
          11
         ],
         "type": "scatter3d"
        },
        {
         "line": {
          "color": "yellow",
          "width": 3
         },
         "mode": "lines",
         "x": [
          11,
          11
         ],
         "y": [
          0,
          11
         ],
         "z": [
          0,
          0
         ],
         "type": "scatter3d"
        },
        {
         "line": {
          "color": "yellow",
          "width": 3
         },
         "mode": "lines",
         "x": [
          11,
          11
         ],
         "y": [
          0,
          0
         ],
         "z": [
          0,
          11
         ],
         "type": "scatter3d"
        },
        {
         "line": {
          "color": "yellow",
          "width": 3
         },
         "mode": "lines",
         "x": [
          0,
          11
         ],
         "y": [
          11,
          11
         ],
         "z": [
          0,
          0
         ],
         "type": "scatter3d"
        },
        {
         "line": {
          "color": "yellow",
          "width": 3
         },
         "mode": "lines",
         "x": [
          0,
          0
         ],
         "y": [
          11,
          11
         ],
         "z": [
          0,
          11
         ],
         "type": "scatter3d"
        },
        {
         "line": {
          "color": "yellow",
          "width": 3
         },
         "mode": "lines",
         "x": [
          11,
          11
         ],
         "y": [
          11,
          11
         ],
         "z": [
          0,
          11
         ],
         "type": "scatter3d"
        },
        {
         "line": {
          "color": "yellow",
          "width": 3
         },
         "mode": "lines",
         "x": [
          0,
          11
         ],
         "y": [
          0,
          0
         ],
         "z": [
          11,
          11
         ],
         "type": "scatter3d"
        },
        {
         "line": {
          "color": "yellow",
          "width": 3
         },
         "mode": "lines",
         "x": [
          0,
          0
         ],
         "y": [
          0,
          11
         ],
         "z": [
          11,
          11
         ],
         "type": "scatter3d"
        },
        {
         "line": {
          "color": "yellow",
          "width": 3
         },
         "mode": "lines",
         "x": [
          11,
          11
         ],
         "y": [
          0,
          11
         ],
         "z": [
          11,
          11
         ],
         "type": "scatter3d"
        },
        {
         "line": {
          "color": "yellow",
          "width": 3
         },
         "mode": "lines",
         "x": [
          0,
          11
         ],
         "y": [
          11,
          11
         ],
         "z": [
          11,
          11
         ],
         "type": "scatter3d"
        },
        {
         "color": "#EB663B",
         "flatshading": true,
         "i": [
          1,
          2,
          5,
          6,
          1,
          4,
          3,
          6,
          1,
          7,
          0,
          6
         ],
         "j": [
          0,
          3,
          4,
          7,
          0,
          5,
          2,
          7,
          3,
          5,
          2,
          4
         ],
         "k": [
          2,
          1,
          6,
          5,
          4,
          1,
          6,
          3,
          7,
          1,
          6,
          0
         ],
         "opacity": 1,
         "x": [
          0,
          2,
          0,
          2,
          0,
          2,
          0,
          2
         ],
         "y": [
          5,
          5,
          9,
          9,
          5,
          5,
          9,
          9
         ],
         "z": [
          0,
          0,
          0,
          0,
          4,
          4,
          4,
          4
         ],
         "type": "mesh3d"
        },
        {
         "line": {
          "color": "black",
          "width": 0
         },
         "mode": "lines",
         "x": [
          0,
          2
         ],
         "y": [
          9,
          9
         ],
         "z": [
          4,
          4
         ],
         "type": "scatter3d"
        },
        {
         "color": "#862A16",
         "flatshading": true,
         "i": [
          1,
          2,
          5,
          6,
          1,
          4,
          3,
          6,
          1,
          7,
          0,
          6
         ],
         "j": [
          0,
          3,
          4,
          7,
          0,
          5,
          2,
          7,
          3,
          5,
          2,
          4
         ],
         "k": [
          2,
          1,
          6,
          5,
          4,
          1,
          6,
          3,
          7,
          1,
          6,
          0
         ],
         "opacity": 1,
         "x": [
          10,
          11,
          10,
          11,
          10,
          11,
          10,
          11
         ],
         "y": [
          5,
          5,
          10,
          10,
          5,
          5,
          10,
          10
         ],
         "z": [
          0,
          0,
          0,
          0,
          3,
          3,
          3,
          3
         ],
         "type": "mesh3d"
        },
        {
         "line": {
          "color": "black",
          "width": 0
         },
         "mode": "lines",
         "x": [
          10,
          11
         ],
         "y": [
          10,
          10
         ],
         "z": [
          3,
          3
         ],
         "type": "scatter3d"
        },
        {
         "color": "#FC0080",
         "flatshading": true,
         "i": [
          1,
          2,
          5,
          6,
          1,
          4,
          3,
          6,
          1,
          7,
          0,
          6
         ],
         "j": [
          0,
          3,
          4,
          7,
          0,
          5,
          2,
          7,
          3,
          5,
          2,
          4
         ],
         "k": [
          2,
          1,
          6,
          5,
          4,
          1,
          6,
          3,
          7,
          1,
          6,
          0
         ],
         "opacity": 1,
         "x": [
          4,
          5,
          4,
          5,
          4,
          5,
          4,
          5
         ],
         "y": [
          3,
          3,
          8,
          8,
          3,
          3,
          8,
          8
         ],
         "z": [
          0,
          0,
          0,
          0,
          2,
          2,
          2,
          2
         ],
         "type": "mesh3d"
        },
        {
         "line": {
          "color": "black",
          "width": 0
         },
         "mode": "lines",
         "x": [
          4,
          5
         ],
         "y": [
          8,
          8
         ],
         "z": [
          2,
          2
         ],
         "type": "scatter3d"
        },
        {
         "color": "#EB663B",
         "flatshading": true,
         "i": [
          1,
          2,
          5,
          6,
          1,
          4,
          3,
          6,
          1,
          7,
          0,
          6
         ],
         "j": [
          0,
          3,
          4,
          7,
          0,
          5,
          2,
          7,
          3,
          5,
          2,
          4
         ],
         "k": [
          2,
          1,
          6,
          5,
          4,
          1,
          6,
          3,
          7,
          1,
          6,
          0
         ],
         "opacity": 1,
         "x": [
          3,
          4,
          3,
          4,
          3,
          4,
          3,
          4
         ],
         "y": [
          1,
          1,
          6,
          6,
          1,
          1,
          6,
          6
         ],
         "z": [
          0,
          0,
          0,
          0,
          1,
          1,
          1,
          1
         ],
         "type": "mesh3d"
        },
        {
         "line": {
          "color": "black",
          "width": 0
         },
         "mode": "lines",
         "x": [
          3,
          4
         ],
         "y": [
          6,
          6
         ],
         "z": [
          1,
          1
         ],
         "type": "scatter3d"
        },
        {
         "color": "#1616A7",
         "flatshading": true,
         "i": [
          1,
          2,
          5,
          6,
          1,
          4,
          3,
          6,
          1,
          7,
          0,
          6
         ],
         "j": [
          0,
          3,
          4,
          7,
          0,
          5,
          2,
          7,
          3,
          5,
          2,
          4
         ],
         "k": [
          2,
          1,
          6,
          5,
          4,
          1,
          6,
          3,
          7,
          1,
          6,
          0
         ],
         "opacity": 1,
         "x": [
          5,
          6,
          5,
          6,
          5,
          6,
          5,
          6
         ],
         "y": [
          4,
          4,
          9,
          9,
          4,
          4,
          9,
          9
         ],
         "z": [
          0,
          0,
          0,
          0,
          3,
          3,
          3,
          3
         ],
         "type": "mesh3d"
        },
        {
         "line": {
          "color": "black",
          "width": 0
         },
         "mode": "lines",
         "x": [
          5,
          6
         ],
         "y": [
          9,
          9
         ],
         "z": [
          3,
          3
         ],
         "type": "scatter3d"
        },
        {
         "color": "#AF0038",
         "flatshading": true,
         "i": [
          1,
          2,
          5,
          6,
          1,
          4,
          3,
          6,
          1,
          7,
          0,
          6
         ],
         "j": [
          0,
          3,
          4,
          7,
          0,
          5,
          2,
          7,
          3,
          5,
          2,
          4
         ],
         "k": [
          2,
          1,
          6,
          5,
          4,
          1,
          6,
          3,
          7,
          1,
          6,
          0
         ],
         "opacity": 1,
         "x": [
          1,
          10,
          1,
          10,
          1,
          10,
          1,
          10
         ],
         "y": [
          9,
          9,
          11,
          11,
          9,
          9,
          11,
          11
         ],
         "z": [
          0,
          0,
          0,
          0,
          1,
          1,
          1,
          1
         ],
         "type": "mesh3d"
        },
        {
         "line": {
          "color": "black",
          "width": 0
         },
         "mode": "lines",
         "x": [
          1,
          10
         ],
         "y": [
          11,
          11
         ],
         "z": [
          1,
          1
         ],
         "type": "scatter3d"
        },
        {
         "color": "#EB663B",
         "flatshading": true,
         "i": [
          1,
          2,
          5,
          6,
          1,
          4,
          3,
          6,
          1,
          7,
          0,
          6
         ],
         "j": [
          0,
          3,
          4,
          7,
          0,
          5,
          2,
          7,
          3,
          5,
          2,
          4
         ],
         "k": [
          2,
          1,
          6,
          5,
          4,
          1,
          6,
          3,
          7,
          1,
          6,
          0
         ],
         "opacity": 1,
         "x": [
          10,
          11,
          10,
          11,
          10,
          11,
          10,
          11
         ],
         "y": [
          1,
          1,
          3,
          3,
          1,
          1,
          3,
          3
         ],
         "z": [
          0,
          0,
          0,
          0,
          1,
          1,
          1,
          1
         ],
         "type": "mesh3d"
        },
        {
         "line": {
          "color": "black",
          "width": 0
         },
         "mode": "lines",
         "x": [
          10,
          11
         ],
         "y": [
          3,
          3
         ],
         "z": [
          1,
          1
         ],
         "type": "scatter3d"
        },
        {
         "color": "#FB0D0D",
         "flatshading": true,
         "i": [
          1,
          2,
          5,
          6,
          1,
          4,
          3,
          6,
          1,
          7,
          0,
          6
         ],
         "j": [
          0,
          3,
          4,
          7,
          0,
          5,
          2,
          7,
          3,
          5,
          2,
          4
         ],
         "k": [
          2,
          1,
          6,
          5,
          4,
          1,
          6,
          3,
          7,
          1,
          6,
          0
         ],
         "opacity": 1,
         "x": [
          2,
          3,
          2,
          3,
          2,
          3,
          2,
          3
         ],
         "y": [
          5,
          5,
          9,
          9,
          5,
          5,
          9,
          9
         ],
         "z": [
          0,
          0,
          0,
          0,
          5,
          5,
          5,
          5
         ],
         "type": "mesh3d"
        },
        {
         "line": {
          "color": "black",
          "width": 0
         },
         "mode": "lines",
         "x": [
          2,
          3
         ],
         "y": [
          9,
          9
         ],
         "z": [
          5,
          5
         ],
         "type": "scatter3d"
        },
        {
         "color": "#DA16FF",
         "flatshading": true,
         "i": [
          1,
          2,
          5,
          6,
          1,
          4,
          3,
          6,
          1,
          7,
          0,
          6
         ],
         "j": [
          0,
          3,
          4,
          7,
          0,
          5,
          2,
          7,
          3,
          5,
          2,
          4
         ],
         "k": [
          2,
          1,
          6,
          5,
          4,
          1,
          6,
          3,
          7,
          1,
          6,
          0
         ],
         "opacity": 1,
         "x": [
          5,
          6,
          5,
          6,
          5,
          6,
          5,
          6
         ],
         "y": [
          5,
          5,
          9,
          9,
          5,
          5,
          9,
          9
         ],
         "z": [
          3,
          3,
          3,
          3,
          8,
          8,
          8,
          8
         ],
         "type": "mesh3d"
        },
        {
         "line": {
          "color": "black",
          "width": 0
         },
         "mode": "lines",
         "x": [
          5,
          6
         ],
         "y": [
          9,
          9
         ],
         "z": [
          8,
          8
         ],
         "type": "scatter3d"
        },
        {
         "color": "#E15F99",
         "flatshading": true,
         "i": [
          1,
          2,
          5,
          6,
          1,
          4,
          3,
          6,
          1,
          7,
          0,
          6
         ],
         "j": [
          0,
          3,
          4,
          7,
          0,
          5,
          2,
          7,
          3,
          5,
          2,
          4
         ],
         "k": [
          2,
          1,
          6,
          5,
          4,
          1,
          6,
          3,
          7,
          1,
          6,
          0
         ],
         "opacity": 1,
         "x": [
          2,
          10,
          2,
          10,
          2,
          10,
          2,
          10
         ],
         "y": [
          9,
          9,
          11,
          11,
          9,
          9,
          11,
          11
         ],
         "z": [
          1,
          1,
          1,
          1,
          2,
          2,
          2,
          2
         ],
         "type": "mesh3d"
        },
        {
         "line": {
          "color": "black",
          "width": 0
         },
         "mode": "lines",
         "x": [
          2,
          10
         ],
         "y": [
          11,
          11
         ],
         "z": [
          2,
          2
         ],
         "type": "scatter3d"
        },
        {
         "color": "#6C7C32",
         "flatshading": true,
         "i": [
          1,
          2,
          5,
          6,
          1,
          4,
          3,
          6,
          1,
          7,
          0,
          6
         ],
         "j": [
          0,
          3,
          4,
          7,
          0,
          5,
          2,
          7,
          3,
          5,
          2,
          4
         ],
         "k": [
          2,
          1,
          6,
          5,
          4,
          1,
          6,
          3,
          7,
          1,
          6,
          0
         ],
         "opacity": 1,
         "x": [
          5,
          7,
          5,
          7,
          5,
          7,
          5,
          7
         ],
         "y": [
          2,
          2,
          4,
          4,
          2,
          2,
          4,
          4
         ],
         "z": [
          0,
          0,
          0,
          0,
          1,
          1,
          1,
          1
         ],
         "type": "mesh3d"
        },
        {
         "line": {
          "color": "black",
          "width": 0
         },
         "mode": "lines",
         "x": [
          5,
          7
         ],
         "y": [
          4,
          4
         ],
         "z": [
          1,
          1
         ],
         "type": "scatter3d"
        },
        {
         "color": "#1616A7",
         "flatshading": true,
         "i": [
          1,
          2,
          5,
          6,
          1,
          4,
          3,
          6,
          1,
          7,
          0,
          6
         ],
         "j": [
          0,
          3,
          4,
          7,
          0,
          5,
          2,
          7,
          3,
          5,
          2,
          4
         ],
         "k": [
          2,
          1,
          6,
          5,
          4,
          1,
          6,
          3,
          7,
          1,
          6,
          0
         ],
         "opacity": 1,
         "x": [
          7,
          8,
          7,
          8,
          7,
          8,
          7,
          8
         ],
         "y": [
          0,
          0,
          8,
          8,
          0,
          0,
          8,
          8
         ],
         "z": [
          0,
          0,
          0,
          0,
          1,
          1,
          1,
          1
         ],
         "type": "mesh3d"
        },
        {
         "line": {
          "color": "black",
          "width": 0
         },
         "mode": "lines",
         "x": [
          7,
          8
         ],
         "y": [
          8,
          8
         ],
         "z": [
          1,
          1
         ],
         "type": "scatter3d"
        },
        {
         "color": "#DA60CA",
         "flatshading": true,
         "i": [
          1,
          2,
          5,
          6,
          1,
          4,
          3,
          6,
          1,
          7,
          0,
          6
         ],
         "j": [
          0,
          3,
          4,
          7,
          0,
          5,
          2,
          7,
          3,
          5,
          2,
          4
         ],
         "k": [
          2,
          1,
          6,
          5,
          4,
          1,
          6,
          3,
          7,
          1,
          6,
          0
         ],
         "opacity": 1,
         "x": [
          9,
          10,
          9,
          10,
          9,
          10,
          9,
          10
         ],
         "y": [
          0,
          0,
          8,
          8,
          0,
          0,
          8,
          8
         ],
         "z": [
          0,
          0,
          0,
          0,
          1,
          1,
          1,
          1
         ],
         "type": "mesh3d"
        },
        {
         "line": {
          "color": "black",
          "width": 0
         },
         "mode": "lines",
         "x": [
          9,
          10
         ],
         "y": [
          8,
          8
         ],
         "z": [
          1,
          1
         ],
         "type": "scatter3d"
        },
        {
         "color": "#DA60CA",
         "flatshading": true,
         "i": [
          1,
          2,
          5,
          6,
          1,
          4,
          3,
          6,
          1,
          7,
          0,
          6
         ],
         "j": [
          0,
          3,
          4,
          7,
          0,
          5,
          2,
          7,
          3,
          5,
          2,
          4
         ],
         "k": [
          2,
          1,
          6,
          5,
          4,
          1,
          6,
          3,
          7,
          1,
          6,
          0
         ],
         "opacity": 1,
         "x": [
          5,
          6,
          5,
          6,
          5,
          6,
          5,
          6
         ],
         "y": [
          6,
          6,
          9,
          9,
          6,
          6,
          9,
          9
         ],
         "z": [
          8,
          8,
          8,
          8,
          10,
          10,
          10,
          10
         ],
         "type": "mesh3d"
        },
        {
         "line": {
          "color": "black",
          "width": 0
         },
         "mode": "lines",
         "x": [
          5,
          6
         ],
         "y": [
          9,
          9
         ],
         "z": [
          10,
          10
         ],
         "type": "scatter3d"
        },
        {
         "color": "#750D86",
         "flatshading": true,
         "i": [
          1,
          2,
          5,
          6,
          1,
          4,
          3,
          6,
          1,
          7,
          0,
          6
         ],
         "j": [
          0,
          3,
          4,
          7,
          0,
          5,
          2,
          7,
          3,
          5,
          2,
          4
         ],
         "k": [
          2,
          1,
          6,
          5,
          4,
          1,
          6,
          3,
          7,
          1,
          6,
          0
         ],
         "opacity": 1,
         "x": [
          7,
          8,
          7,
          8,
          7,
          8,
          7,
          8
         ],
         "y": [
          0,
          0,
          4,
          4,
          0,
          0,
          4,
          4
         ],
         "z": [
          1,
          1,
          1,
          1,
          5,
          5,
          5,
          5
         ],
         "type": "mesh3d"
        },
        {
         "line": {
          "color": "black",
          "width": 0
         },
         "mode": "lines",
         "x": [
          7,
          8
         ],
         "y": [
          4,
          4
         ],
         "z": [
          5,
          5
         ],
         "type": "scatter3d"
        },
        {
         "color": "#6C4516",
         "flatshading": true,
         "i": [
          1,
          2,
          5,
          6,
          1,
          4,
          3,
          6,
          1,
          7,
          0,
          6
         ],
         "j": [
          0,
          3,
          4,
          7,
          0,
          5,
          2,
          7,
          3,
          5,
          2,
          4
         ],
         "k": [
          2,
          1,
          6,
          5,
          4,
          1,
          6,
          3,
          7,
          1,
          6,
          0
         ],
         "opacity": 1,
         "x": [
          2,
          3,
          2,
          3,
          2,
          3,
          2,
          3
         ],
         "y": [
          1,
          1,
          2,
          2,
          1,
          1,
          2,
          2
         ],
         "z": [
          0,
          0,
          0,
          0,
          5,
          5,
          5,
          5
         ],
         "type": "mesh3d"
        },
        {
         "line": {
          "color": "black",
          "width": 0
         },
         "mode": "lines",
         "x": [
          2,
          3
         ],
         "y": [
          2,
          2
         ],
         "z": [
          5,
          5
         ],
         "type": "scatter3d"
        },
        {
         "color": "#FB0D0D",
         "flatshading": true,
         "i": [
          1,
          2,
          5,
          6,
          1,
          4,
          3,
          6,
          1,
          7,
          0,
          6
         ],
         "j": [
          0,
          3,
          4,
          7,
          0,
          5,
          2,
          7,
          3,
          5,
          2,
          4
         ],
         "k": [
          2,
          1,
          6,
          5,
          4,
          1,
          6,
          3,
          7,
          1,
          6,
          0
         ],
         "opacity": 1,
         "x": [
          4,
          5,
          4,
          5,
          4,
          5,
          4,
          5
         ],
         "y": [
          1,
          1,
          3,
          3,
          1,
          1,
          3,
          3
         ],
         "z": [
          0,
          0,
          0,
          0,
          5,
          5,
          5,
          5
         ],
         "type": "mesh3d"
        },
        {
         "line": {
          "color": "black",
          "width": 0
         },
         "mode": "lines",
         "x": [
          4,
          5
         ],
         "y": [
          3,
          3
         ],
         "z": [
          5,
          5
         ],
         "type": "scatter3d"
        },
        {
         "color": "#B68100",
         "flatshading": true,
         "i": [
          1,
          2,
          5,
          6,
          1,
          4,
          3,
          6,
          1,
          7,
          0,
          6
         ],
         "j": [
          0,
          3,
          4,
          7,
          0,
          5,
          2,
          7,
          3,
          5,
          2,
          4
         ],
         "k": [
          2,
          1,
          6,
          5,
          4,
          1,
          6,
          3,
          7,
          1,
          6,
          0
         ],
         "opacity": 1,
         "x": [
          2,
          3,
          2,
          3,
          2,
          3,
          2,
          3
         ],
         "y": [
          5,
          5,
          9,
          9,
          5,
          5,
          9,
          9
         ],
         "z": [
          5,
          5,
          5,
          5,
          8,
          8,
          8,
          8
         ],
         "type": "mesh3d"
        },
        {
         "line": {
          "color": "black",
          "width": 0
         },
         "mode": "lines",
         "x": [
          2,
          3
         ],
         "y": [
          9,
          9
         ],
         "z": [
          8,
          8
         ],
         "type": "scatter3d"
        },
        {
         "color": "#DA16FF",
         "flatshading": true,
         "i": [
          1,
          2,
          5,
          6,
          1,
          4,
          3,
          6,
          1,
          7,
          0,
          6
         ],
         "j": [
          0,
          3,
          4,
          7,
          0,
          5,
          2,
          7,
          3,
          5,
          2,
          4
         ],
         "k": [
          2,
          1,
          6,
          5,
          4,
          1,
          6,
          3,
          7,
          1,
          6,
          0
         ],
         "opacity": 1,
         "x": [
          0,
          3,
          0,
          3,
          0,
          3,
          0,
          3
         ],
         "y": [
          4,
          4,
          5,
          5,
          4,
          4,
          5,
          5
         ],
         "z": [
          0,
          0,
          0,
          0,
          3,
          3,
          3,
          3
         ],
         "type": "mesh3d"
        },
        {
         "line": {
          "color": "black",
          "width": 0
         },
         "mode": "lines",
         "x": [
          0,
          3
         ],
         "y": [
          5,
          5
         ],
         "z": [
          3,
          3
         ],
         "type": "scatter3d"
        },
        {
         "color": "#FC0080",
         "flatshading": true,
         "i": [
          1,
          2,
          5,
          6,
          1,
          4,
          3,
          6,
          1,
          7,
          0,
          6
         ],
         "j": [
          0,
          3,
          4,
          7,
          0,
          5,
          2,
          7,
          3,
          5,
          2,
          4
         ],
         "k": [
          2,
          1,
          6,
          5,
          4,
          1,
          6,
          3,
          7,
          1,
          6,
          0
         ],
         "opacity": 1,
         "x": [
          0,
          2,
          0,
          2,
          0,
          2,
          0,
          2
         ],
         "y": [
          5,
          5,
          9,
          9,
          5,
          5,
          9,
          9
         ],
         "z": [
          4,
          4,
          4,
          4,
          6,
          6,
          6,
          6
         ],
         "type": "mesh3d"
        },
        {
         "line": {
          "color": "black",
          "width": 0
         },
         "mode": "lines",
         "x": [
          0,
          2
         ],
         "y": [
          9,
          9
         ],
         "z": [
          6,
          6
         ],
         "type": "scatter3d"
        },
        {
         "color": "#222A2A",
         "flatshading": true,
         "i": [
          1,
          2,
          5,
          6,
          1,
          4,
          3,
          6,
          1,
          7,
          0,
          6
         ],
         "j": [
          0,
          3,
          4,
          7,
          0,
          5,
          2,
          7,
          3,
          5,
          2,
          4
         ],
         "k": [
          2,
          1,
          6,
          5,
          4,
          1,
          6,
          3,
          7,
          1,
          6,
          0
         ],
         "opacity": 1,
         "x": [
          4,
          8,
          4,
          8,
          4,
          8,
          4,
          8
         ],
         "y": [
          9,
          9,
          11,
          11,
          9,
          9,
          11,
          11
         ],
         "z": [
          2,
          2,
          2,
          2,
          3,
          3,
          3,
          3
         ],
         "type": "mesh3d"
        },
        {
         "line": {
          "color": "black",
          "width": 0
         },
         "mode": "lines",
         "x": [
          4,
          8
         ],
         "y": [
          11,
          11
         ],
         "z": [
          3,
          3
         ],
         "type": "scatter3d"
        },
        {
         "color": "#B68100",
         "flatshading": true,
         "i": [
          1,
          2,
          5,
          6,
          1,
          4,
          3,
          6,
          1,
          7,
          0,
          6
         ],
         "j": [
          0,
          3,
          4,
          7,
          0,
          5,
          2,
          7,
          3,
          5,
          2,
          4
         ],
         "k": [
          2,
          1,
          6,
          5,
          4,
          1,
          6,
          3,
          7,
          1,
          6,
          0
         ],
         "opacity": 1,
         "x": [
          2,
          6,
          2,
          6,
          2,
          6,
          2,
          6
         ],
         "y": [
          0,
          0,
          1,
          1,
          0,
          0,
          1,
          1
         ],
         "z": [
          0,
          0,
          0,
          0,
          2,
          2,
          2,
          2
         ],
         "type": "mesh3d"
        },
        {
         "line": {
          "color": "black",
          "width": 0
         },
         "mode": "lines",
         "x": [
          2,
          6
         ],
         "y": [
          1,
          1
         ],
         "z": [
          2,
          2
         ],
         "type": "scatter3d"
        },
        {
         "color": "#EB663B",
         "flatshading": true,
         "i": [
          1,
          2,
          5,
          6,
          1,
          4,
          3,
          6,
          1,
          7,
          0,
          6
         ],
         "j": [
          0,
          3,
          4,
          7,
          0,
          5,
          2,
          7,
          3,
          5,
          2,
          4
         ],
         "k": [
          2,
          1,
          6,
          5,
          4,
          1,
          6,
          3,
          7,
          1,
          6,
          0
         ],
         "opacity": 1,
         "x": [
          4,
          8,
          4,
          8,
          4,
          8,
          4,
          8
         ],
         "y": [
          9,
          9,
          11,
          11,
          9,
          9,
          11,
          11
         ],
         "z": [
          3,
          3,
          3,
          3,
          4,
          4,
          4,
          4
         ],
         "type": "mesh3d"
        },
        {
         "line": {
          "color": "black",
          "width": 0
         },
         "mode": "lines",
         "x": [
          4,
          8
         ],
         "y": [
          11,
          11
         ],
         "z": [
          4,
          4
         ],
         "type": "scatter3d"
        },
        {
         "color": "#DA16FF",
         "flatshading": true,
         "i": [
          1,
          2,
          5,
          6,
          1,
          4,
          3,
          6,
          1,
          7,
          0,
          6
         ],
         "j": [
          0,
          3,
          4,
          7,
          0,
          5,
          2,
          7,
          3,
          5,
          2,
          4
         ],
         "k": [
          2,
          1,
          6,
          5,
          4,
          1,
          6,
          3,
          7,
          1,
          6,
          0
         ],
         "opacity": 1,
         "x": [
          4,
          6,
          4,
          6,
          4,
          6,
          4,
          6
         ],
         "y": [
          0,
          0,
          1,
          1,
          0,
          0,
          1,
          1
         ],
         "z": [
          2,
          2,
          2,
          2,
          3,
          3,
          3,
          3
         ],
         "type": "mesh3d"
        },
        {
         "line": {
          "color": "black",
          "width": 0
         },
         "mode": "lines",
         "x": [
          4,
          6
         ],
         "y": [
          1,
          1
         ],
         "z": [
          3,
          3
         ],
         "type": "scatter3d"
        },
        {
         "color": "#B68100",
         "flatshading": true,
         "i": [
          1,
          2,
          5,
          6,
          1,
          4,
          3,
          6,
          1,
          7,
          0,
          6
         ],
         "j": [
          0,
          3,
          4,
          7,
          0,
          5,
          2,
          7,
          3,
          5,
          2,
          4
         ],
         "k": [
          2,
          1,
          6,
          5,
          4,
          1,
          6,
          3,
          7,
          1,
          6,
          0
         ],
         "opacity": 1,
         "x": [
          7,
          10,
          7,
          10,
          7,
          10,
          7,
          10
         ],
         "y": [
          8,
          8,
          9,
          9,
          8,
          8,
          9,
          9
         ],
         "z": [
          0,
          0,
          0,
          0,
          1,
          1,
          1,
          1
         ],
         "type": "mesh3d"
        },
        {
         "line": {
          "color": "black",
          "width": 0
         },
         "mode": "lines",
         "x": [
          7,
          10
         ],
         "y": [
          9,
          9
         ],
         "z": [
          1,
          1
         ],
         "type": "scatter3d"
        },
        {
         "color": "#FC0080",
         "flatshading": true,
         "i": [
          1,
          2,
          5,
          6,
          1,
          4,
          3,
          6,
          1,
          7,
          0,
          6
         ],
         "j": [
          0,
          3,
          4,
          7,
          0,
          5,
          2,
          7,
          3,
          5,
          2,
          4
         ],
         "k": [
          2,
          1,
          6,
          5,
          4,
          1,
          6,
          3,
          7,
          1,
          6,
          0
         ],
         "opacity": 1,
         "x": [
          4,
          8,
          4,
          8,
          4,
          8,
          4,
          8
         ],
         "y": [
          9,
          9,
          11,
          11,
          9,
          9,
          11,
          11
         ],
         "z": [
          4,
          4,
          4,
          4,
          5,
          5,
          5,
          5
         ],
         "type": "mesh3d"
        },
        {
         "line": {
          "color": "black",
          "width": 0
         },
         "mode": "lines",
         "x": [
          4,
          8
         ],
         "y": [
          11,
          11
         ],
         "z": [
          5,
          5
         ],
         "type": "scatter3d"
        },
        {
         "color": "#222A2A",
         "flatshading": true,
         "i": [
          1,
          2,
          5,
          6,
          1,
          4,
          3,
          6,
          1,
          7,
          0,
          6
         ],
         "j": [
          0,
          3,
          4,
          7,
          0,
          5,
          2,
          7,
          3,
          5,
          2,
          4
         ],
         "k": [
          2,
          1,
          6,
          5,
          4,
          1,
          6,
          3,
          7,
          1,
          6,
          0
         ],
         "opacity": 1,
         "x": [
          4,
          8,
          4,
          8,
          4,
          8,
          4,
          8
         ],
         "y": [
          9,
          9,
          11,
          11,
          9,
          9,
          11,
          11
         ],
         "z": [
          5,
          5,
          5,
          5,
          8,
          8,
          8,
          8
         ],
         "type": "mesh3d"
        },
        {
         "line": {
          "color": "black",
          "width": 0
         },
         "mode": "lines",
         "x": [
          4,
          8
         ],
         "y": [
          11,
          11
         ],
         "z": [
          8,
          8
         ],
         "type": "scatter3d"
        },
        {
         "color": "#FC0080",
         "flatshading": true,
         "i": [
          1,
          2,
          5,
          6,
          1,
          4,
          3,
          6,
          1,
          7,
          0,
          6
         ],
         "j": [
          0,
          3,
          4,
          7,
          0,
          5,
          2,
          7,
          3,
          5,
          2,
          4
         ],
         "k": [
          2,
          1,
          6,
          5,
          4,
          1,
          6,
          3,
          7,
          1,
          6,
          0
         ],
         "opacity": 1,
         "x": [
          4,
          8,
          4,
          8,
          4,
          8,
          4,
          8
         ],
         "y": [
          10,
          10,
          11,
          11,
          10,
          10,
          11,
          11
         ],
         "z": [
          8,
          8,
          8,
          8,
          9,
          9,
          9,
          9
         ],
         "type": "mesh3d"
        },
        {
         "line": {
          "color": "black",
          "width": 0
         },
         "mode": "lines",
         "x": [
          4,
          8
         ],
         "y": [
          11,
          11
         ],
         "z": [
          9,
          9
         ],
         "type": "scatter3d"
        },
        {
         "color": "#A777F1",
         "flatshading": true,
         "i": [
          1,
          2,
          5,
          6,
          1,
          4,
          3,
          6,
          1,
          7,
          0,
          6
         ],
         "j": [
          0,
          3,
          4,
          7,
          0,
          5,
          2,
          7,
          3,
          5,
          2,
          4
         ],
         "k": [
          2,
          1,
          6,
          5,
          4,
          1,
          6,
          3,
          7,
          1,
          6,
          0
         ],
         "opacity": 1,
         "x": [
          0,
          3,
          0,
          3,
          0,
          3,
          0,
          3
         ],
         "y": [
          3,
          3,
          4,
          4,
          3,
          3,
          4,
          4
         ],
         "z": [
          0,
          0,
          0,
          0,
          2,
          2,
          2,
          2
         ],
         "type": "mesh3d"
        },
        {
         "line": {
          "color": "black",
          "width": 0
         },
         "mode": "lines",
         "x": [
          0,
          3
         ],
         "y": [
          4,
          4
         ],
         "z": [
          2,
          2
         ],
         "type": "scatter3d"
        },
        {
         "color": "#AF0038",
         "flatshading": true,
         "i": [
          1,
          2,
          5,
          6,
          1,
          4,
          3,
          6,
          1,
          7,
          0,
          6
         ],
         "j": [
          0,
          3,
          4,
          7,
          0,
          5,
          2,
          7,
          3,
          5,
          2,
          4
         ],
         "k": [
          2,
          1,
          6,
          5,
          4,
          1,
          6,
          3,
          7,
          1,
          6,
          0
         ],
         "opacity": 1,
         "x": [
          9,
          10,
          9,
          10,
          9,
          10,
          9,
          10
         ],
         "y": [
          4,
          4,
          8,
          8,
          4,
          4,
          8,
          8
         ],
         "z": [
          1,
          1,
          1,
          1,
          3,
          3,
          3,
          3
         ],
         "type": "mesh3d"
        },
        {
         "line": {
          "color": "black",
          "width": 0
         },
         "mode": "lines",
         "x": [
          9,
          10
         ],
         "y": [
          8,
          8
         ],
         "z": [
          3,
          3
         ],
         "type": "scatter3d"
        },
        {
         "color": "#2E91E5",
         "flatshading": true,
         "i": [
          1,
          2,
          5,
          6,
          1,
          4,
          3,
          6,
          1,
          7,
          0,
          6
         ],
         "j": [
          0,
          3,
          4,
          7,
          0,
          5,
          2,
          7,
          3,
          5,
          2,
          4
         ],
         "k": [
          2,
          1,
          6,
          5,
          4,
          1,
          6,
          3,
          7,
          1,
          6,
          0
         ],
         "opacity": 1,
         "x": [
          7,
          8,
          7,
          8,
          7,
          8,
          7,
          8
         ],
         "y": [
          4,
          4,
          8,
          8,
          4,
          4,
          8,
          8
         ],
         "z": [
          1,
          1,
          1,
          1,
          3,
          3,
          3,
          3
         ],
         "type": "mesh3d"
        },
        {
         "line": {
          "color": "black",
          "width": 0
         },
         "mode": "lines",
         "x": [
          7,
          8
         ],
         "y": [
          8,
          8
         ],
         "z": [
          3,
          3
         ],
         "type": "scatter3d"
        },
        {
         "color": "#DA60CA",
         "flatshading": true,
         "i": [
          1,
          2,
          5,
          6,
          1,
          4,
          3,
          6,
          1,
          7,
          0,
          6
         ],
         "j": [
          0,
          3,
          4,
          7,
          0,
          5,
          2,
          7,
          3,
          5,
          2,
          4
         ],
         "k": [
          2,
          1,
          6,
          5,
          4,
          1,
          6,
          3,
          7,
          1,
          6,
          0
         ],
         "opacity": 1,
         "x": [
          0,
          3,
          0,
          3,
          0,
          3,
          0,
          3
         ],
         "y": [
          2,
          2,
          3,
          3,
          2,
          2,
          3,
          3
         ],
         "z": [
          0,
          0,
          0,
          0,
          1,
          1,
          1,
          1
         ],
         "type": "mesh3d"
        },
        {
         "line": {
          "color": "black",
          "width": 0
         },
         "mode": "lines",
         "x": [
          0,
          3
         ],
         "y": [
          3,
          3
         ],
         "z": [
          1,
          1
         ],
         "type": "scatter3d"
        },
        {
         "color": "#1616A7",
         "flatshading": true,
         "i": [
          1,
          2,
          5,
          6,
          1,
          4,
          3,
          6,
          1,
          7,
          0,
          6
         ],
         "j": [
          0,
          3,
          4,
          7,
          0,
          5,
          2,
          7,
          3,
          5,
          2,
          4
         ],
         "k": [
          2,
          1,
          6,
          5,
          4,
          1,
          6,
          3,
          7,
          1,
          6,
          0
         ],
         "opacity": 1,
         "x": [
          9,
          10,
          9,
          10,
          9,
          10,
          9,
          10
         ],
         "y": [
          1,
          1,
          2,
          2,
          1,
          1,
          2,
          2
         ],
         "z": [
          1,
          1,
          1,
          1,
          2,
          2,
          2,
          2
         ],
         "type": "mesh3d"
        },
        {
         "line": {
          "color": "black",
          "width": 0
         },
         "mode": "lines",
         "x": [
          9,
          10
         ],
         "y": [
          2,
          2
         ],
         "z": [
          2,
          2
         ],
         "type": "scatter3d"
        },
        {
         "color": "#FB0D0D",
         "flatshading": true,
         "i": [
          1,
          2,
          5,
          6,
          1,
          4,
          3,
          6,
          1,
          7,
          0,
          6
         ],
         "j": [
          0,
          3,
          4,
          7,
          0,
          5,
          2,
          7,
          3,
          5,
          2,
          4
         ],
         "k": [
          2,
          1,
          6,
          5,
          4,
          1,
          6,
          3,
          7,
          1,
          6,
          0
         ],
         "opacity": 1,
         "x": [
          5,
          8,
          5,
          8,
          5,
          8,
          5,
          8
         ],
         "y": [
          9,
          9,
          10,
          10,
          9,
          9,
          10,
          10
         ],
         "z": [
          8,
          8,
          8,
          8,
          10,
          10,
          10,
          10
         ],
         "type": "mesh3d"
        },
        {
         "line": {
          "color": "black",
          "width": 0
         },
         "mode": "lines",
         "x": [
          5,
          8
         ],
         "y": [
          10,
          10
         ],
         "z": [
          10,
          10
         ],
         "type": "scatter3d"
        },
        {
         "color": "#AF0038",
         "flatshading": true,
         "i": [
          1,
          2,
          5,
          6,
          1,
          4,
          3,
          6,
          1,
          7,
          0,
          6
         ],
         "j": [
          0,
          3,
          4,
          7,
          0,
          5,
          2,
          7,
          3,
          5,
          2,
          4
         ],
         "k": [
          2,
          1,
          6,
          5,
          4,
          1,
          6,
          3,
          7,
          1,
          6,
          0
         ],
         "opacity": 1,
         "x": [
          3,
          4,
          3,
          4,
          3,
          4,
          3,
          4
         ],
         "y": [
          4,
          4,
          5,
          5,
          4,
          4,
          5,
          5
         ],
         "z": [
          1,
          1,
          1,
          1,
          2,
          2,
          2,
          2
         ],
         "type": "mesh3d"
        },
        {
         "line": {
          "color": "black",
          "width": 0
         },
         "mode": "lines",
         "x": [
          3,
          4
         ],
         "y": [
          5,
          5
         ],
         "z": [
          2,
          2
         ],
         "type": "scatter3d"
        },
        {
         "color": "#1616A7",
         "flatshading": true,
         "i": [
          1,
          2,
          5,
          6,
          1,
          4,
          3,
          6,
          1,
          7,
          0,
          6
         ],
         "j": [
          0,
          3,
          4,
          7,
          0,
          5,
          2,
          7,
          3,
          5,
          2,
          4
         ],
         "k": [
          2,
          1,
          6,
          5,
          4,
          1,
          6,
          3,
          7,
          1,
          6,
          0
         ],
         "opacity": 1,
         "x": [
          8,
          9,
          8,
          9,
          8,
          9,
          8,
          9
         ],
         "y": [
          0,
          0,
          8,
          8,
          0,
          0,
          8,
          8
         ],
         "z": [
          0,
          0,
          0,
          0,
          2,
          2,
          2,
          2
         ],
         "type": "mesh3d"
        },
        {
         "line": {
          "color": "black",
          "width": 0
         },
         "mode": "lines",
         "x": [
          8,
          9
         ],
         "y": [
          8,
          8
         ],
         "z": [
          2,
          2
         ],
         "type": "scatter3d"
        },
        {
         "color": "#DA60CA",
         "flatshading": true,
         "i": [
          1,
          2,
          5,
          6,
          1,
          4,
          3,
          6,
          1,
          7,
          0,
          6
         ],
         "j": [
          0,
          3,
          4,
          7,
          0,
          5,
          2,
          7,
          3,
          5,
          2,
          4
         ],
         "k": [
          2,
          1,
          6,
          5,
          4,
          1,
          6,
          3,
          7,
          1,
          6,
          0
         ],
         "opacity": 1,
         "x": [
          8,
          9,
          8,
          9,
          8,
          9,
          8,
          9
         ],
         "y": [
          0,
          0,
          8,
          8,
          0,
          0,
          8,
          8
         ],
         "z": [
          2,
          2,
          2,
          2,
          4,
          4,
          4,
          4
         ],
         "type": "mesh3d"
        },
        {
         "line": {
          "color": "black",
          "width": 0
         },
         "mode": "lines",
         "x": [
          8,
          9
         ],
         "y": [
          8,
          8
         ],
         "z": [
          4,
          4
         ],
         "type": "scatter3d"
        },
        {
         "color": "#750D86",
         "flatshading": true,
         "i": [
          1,
          2,
          5,
          6,
          1,
          4,
          3,
          6,
          1,
          7,
          0,
          6
         ],
         "j": [
          0,
          3,
          4,
          7,
          0,
          5,
          2,
          7,
          3,
          5,
          2,
          4
         ],
         "k": [
          2,
          1,
          6,
          5,
          4,
          1,
          6,
          3,
          7,
          1,
          6,
          0
         ],
         "opacity": 1,
         "x": [
          1,
          2,
          1,
          2,
          1,
          2,
          1,
          2
         ],
         "y": [
          5,
          5,
          6,
          6,
          5,
          5,
          6,
          6
         ],
         "z": [
          6,
          6,
          6,
          6,
          8,
          8,
          8,
          8
         ],
         "type": "mesh3d"
        },
        {
         "line": {
          "color": "black",
          "width": 0
         },
         "mode": "lines",
         "x": [
          1,
          2
         ],
         "y": [
          6,
          6
         ],
         "z": [
          8,
          8
         ],
         "type": "scatter3d"
        },
        {
         "color": "#511CFB",
         "flatshading": true,
         "i": [
          1,
          2,
          5,
          6,
          1,
          4,
          3,
          6,
          1,
          7,
          0,
          6
         ],
         "j": [
          0,
          3,
          4,
          7,
          0,
          5,
          2,
          7,
          3,
          5,
          2,
          4
         ],
         "k": [
          2,
          1,
          6,
          5,
          4,
          1,
          6,
          3,
          7,
          1,
          6,
          0
         ],
         "opacity": 1,
         "x": [
          5,
          6,
          5,
          6,
          5,
          6,
          5,
          6
         ],
         "y": [
          8,
          8,
          9,
          9,
          8,
          8,
          9,
          9
         ],
         "z": [
          10,
          10,
          10,
          10,
          13,
          13,
          13,
          13
         ],
         "type": "mesh3d"
        },
        {
         "line": {
          "color": "black",
          "width": 0
         },
         "mode": "lines",
         "x": [
          5,
          6
         ],
         "y": [
          9,
          9
         ],
         "z": [
          13,
          13
         ],
         "type": "scatter3d"
        },
        {
         "color": "#B2828D",
         "flatshading": true,
         "i": [
          1,
          2,
          5,
          6,
          1,
          4,
          3,
          6,
          1,
          7,
          0,
          6
         ],
         "j": [
          0,
          3,
          4,
          7,
          0,
          5,
          2,
          7,
          3,
          5,
          2,
          4
         ],
         "k": [
          2,
          1,
          6,
          5,
          4,
          1,
          6,
          3,
          7,
          1,
          6,
          0
         ],
         "opacity": 1,
         "x": [
          7,
          10,
          7,
          10,
          7,
          10,
          7,
          10
         ],
         "y": [
          8,
          8,
          9,
          9,
          8,
          8,
          9,
          9
         ],
         "z": [
          1,
          1,
          1,
          1,
          3,
          3,
          3,
          3
         ],
         "type": "mesh3d"
        },
        {
         "line": {
          "color": "black",
          "width": 0
         },
         "mode": "lines",
         "x": [
          7,
          10
         ],
         "y": [
          9,
          9
         ],
         "z": [
          3,
          3
         ],
         "type": "scatter3d"
        },
        {
         "color": "#778AAE",
         "flatshading": true,
         "i": [
          1,
          2,
          5,
          6,
          1,
          4,
          3,
          6,
          1,
          7,
          0,
          6
         ],
         "j": [
          0,
          3,
          4,
          7,
          0,
          5,
          2,
          7,
          3,
          5,
          2,
          4
         ],
         "k": [
          2,
          1,
          6,
          5,
          4,
          1,
          6,
          3,
          7,
          1,
          6,
          0
         ],
         "opacity": 1,
         "x": [
          9,
          11,
          9,
          11,
          9,
          11,
          9,
          11
         ],
         "y": [
          5,
          5,
          8,
          8,
          5,
          5,
          8,
          8
         ],
         "z": [
          3,
          3,
          3,
          3,
          4,
          4,
          4,
          4
         ],
         "type": "mesh3d"
        },
        {
         "line": {
          "color": "black",
          "width": 0
         },
         "mode": "lines",
         "x": [
          9,
          11
         ],
         "y": [
          8,
          8
         ],
         "z": [
          4,
          4
         ],
         "type": "scatter3d"
        },
        {
         "color": "#1616A7",
         "flatshading": true,
         "i": [
          1,
          2,
          5,
          6,
          1,
          4,
          3,
          6,
          1,
          7,
          0,
          6
         ],
         "j": [
          0,
          3,
          4,
          7,
          0,
          5,
          2,
          7,
          3,
          5,
          2,
          4
         ],
         "k": [
          2,
          1,
          6,
          5,
          4,
          1,
          6,
          3,
          7,
          1,
          6,
          0
         ],
         "opacity": 1,
         "x": [
          8,
          11,
          8,
          11,
          8,
          11,
          8,
          11
         ],
         "y": [
          5,
          5,
          8,
          8,
          5,
          5,
          8,
          8
         ],
         "z": [
          4,
          4,
          4,
          4,
          5,
          5,
          5,
          5
         ],
         "type": "mesh3d"
        },
        {
         "line": {
          "color": "black",
          "width": 0
         },
         "mode": "lines",
         "x": [
          8,
          11
         ],
         "y": [
          8,
          8
         ],
         "z": [
          5,
          5
         ],
         "type": "scatter3d"
        },
        {
         "color": "#6C4516",
         "flatshading": true,
         "i": [
          1,
          2,
          5,
          6,
          1,
          4,
          3,
          6,
          1,
          7,
          0,
          6
         ],
         "j": [
          0,
          3,
          4,
          7,
          0,
          5,
          2,
          7,
          3,
          5,
          2,
          4
         ],
         "k": [
          2,
          1,
          6,
          5,
          4,
          1,
          6,
          3,
          7,
          1,
          6,
          0
         ],
         "opacity": 1,
         "x": [
          8,
          11,
          8,
          11,
          8,
          11,
          8,
          11
         ],
         "y": [
          7,
          7,
          8,
          8,
          7,
          7,
          8,
          8
         ],
         "z": [
          5,
          5,
          5,
          5,
          8,
          8,
          8,
          8
         ],
         "type": "mesh3d"
        },
        {
         "line": {
          "color": "black",
          "width": 0
         },
         "mode": "lines",
         "x": [
          8,
          11
         ],
         "y": [
          8,
          8
         ],
         "z": [
          8,
          8
         ],
         "type": "scatter3d"
        },
        {
         "color": "#750D86",
         "flatshading": true,
         "i": [
          1,
          2,
          5,
          6,
          1,
          4,
          3,
          6,
          1,
          7,
          0,
          6
         ],
         "j": [
          0,
          3,
          4,
          7,
          0,
          5,
          2,
          7,
          3,
          5,
          2,
          4
         ],
         "k": [
          2,
          1,
          6,
          5,
          4,
          1,
          6,
          3,
          7,
          1,
          6,
          0
         ],
         "opacity": 1,
         "x": [
          8,
          11,
          8,
          11,
          8,
          11,
          8,
          11
         ],
         "y": [
          5,
          5,
          7,
          7,
          5,
          5,
          7,
          7
         ],
         "z": [
          5,
          5,
          5,
          5,
          8,
          8,
          8,
          8
         ],
         "type": "mesh3d"
        },
        {
         "line": {
          "color": "black",
          "width": 0
         },
         "mode": "lines",
         "x": [
          8,
          11
         ],
         "y": [
          7,
          7
         ],
         "z": [
          8,
          8
         ],
         "type": "scatter3d"
        },
        {
         "color": "#0D2A63",
         "flatshading": true,
         "i": [
          1,
          2,
          5,
          6,
          1,
          4,
          3,
          6,
          1,
          7,
          0,
          6
         ],
         "j": [
          0,
          3,
          4,
          7,
          0,
          5,
          2,
          7,
          3,
          5,
          2,
          4
         ],
         "k": [
          2,
          1,
          6,
          5,
          4,
          1,
          6,
          3,
          7,
          1,
          6,
          0
         ],
         "opacity": 1,
         "x": [
          9,
          11,
          9,
          11,
          9,
          11,
          9,
          11
         ],
         "y": [
          5,
          5,
          7,
          7,
          5,
          5,
          7,
          7
         ],
         "z": [
          8,
          8,
          8,
          8,
          10,
          10,
          10,
          10
         ],
         "type": "mesh3d"
        },
        {
         "line": {
          "color": "black",
          "width": 0
         },
         "mode": "lines",
         "x": [
          9,
          11
         ],
         "y": [
          7,
          7
         ],
         "z": [
          10,
          10
         ],
         "type": "scatter3d"
        },
        {
         "color": "#AF0038",
         "flatshading": true,
         "i": [
          1,
          2,
          5,
          6,
          1,
          4,
          3,
          6,
          1,
          7,
          0,
          6
         ],
         "j": [
          0,
          3,
          4,
          7,
          0,
          5,
          2,
          7,
          3,
          5,
          2,
          4
         ],
         "k": [
          2,
          1,
          6,
          5,
          4,
          1,
          6,
          3,
          7,
          1,
          6,
          0
         ],
         "opacity": 1,
         "x": [
          0,
          2,
          0,
          2,
          0,
          2,
          0,
          2
         ],
         "y": [
          6,
          6,
          8,
          8,
          6,
          6,
          8,
          8
         ],
         "z": [
          6,
          6,
          6,
          6,
          8,
          8,
          8,
          8
         ],
         "type": "mesh3d"
        },
        {
         "line": {
          "color": "black",
          "width": 0
         },
         "mode": "lines",
         "x": [
          0,
          2
         ],
         "y": [
          8,
          8
         ],
         "z": [
          8,
          8
         ],
         "type": "scatter3d"
        },
        {
         "color": "#1616A7",
         "flatshading": true,
         "i": [
          1,
          2,
          5,
          6,
          1,
          4,
          3,
          6,
          1,
          7,
          0,
          6
         ],
         "j": [
          0,
          3,
          4,
          7,
          0,
          5,
          2,
          7,
          3,
          5,
          2,
          4
         ],
         "k": [
          2,
          1,
          6,
          5,
          4,
          1,
          6,
          3,
          7,
          1,
          6,
          0
         ],
         "opacity": 1,
         "x": [
          0,
          3,
          0,
          3,
          0,
          3,
          0,
          3
         ],
         "y": [
          2,
          2,
          3,
          3,
          2,
          2,
          3,
          3
         ],
         "z": [
          1,
          1,
          1,
          1,
          2,
          2,
          2,
          2
         ],
         "type": "mesh3d"
        },
        {
         "line": {
          "color": "black",
          "width": 0
         },
         "mode": "lines",
         "x": [
          0,
          3
         ],
         "y": [
          3,
          3
         ],
         "z": [
          2,
          2
         ],
         "type": "scatter3d"
        },
        {
         "color": "#DA60CA",
         "flatshading": true,
         "i": [
          1,
          2,
          5,
          6,
          1,
          4,
          3,
          6,
          1,
          7,
          0,
          6
         ],
         "j": [
          0,
          3,
          4,
          7,
          0,
          5,
          2,
          7,
          3,
          5,
          2,
          4
         ],
         "k": [
          2,
          1,
          6,
          5,
          4,
          1,
          6,
          3,
          7,
          1,
          6,
          0
         ],
         "opacity": 1,
         "x": [
          0,
          3,
          0,
          3,
          0,
          3,
          0,
          3
         ],
         "y": [
          4,
          4,
          5,
          5,
          4,
          4,
          5,
          5
         ],
         "z": [
          3,
          3,
          3,
          3,
          4,
          4,
          4,
          4
         ],
         "type": "mesh3d"
        },
        {
         "line": {
          "color": "black",
          "width": 0
         },
         "mode": "lines",
         "x": [
          0,
          3
         ],
         "y": [
          5,
          5
         ],
         "z": [
          4,
          4
         ],
         "type": "scatter3d"
        },
        {
         "color": "#AF0038",
         "flatshading": true,
         "i": [
          1,
          2,
          5,
          6,
          1,
          4,
          3,
          6,
          1,
          7,
          0,
          6
         ],
         "j": [
          0,
          3,
          4,
          7,
          0,
          5,
          2,
          7,
          3,
          5,
          2,
          4
         ],
         "k": [
          2,
          1,
          6,
          5,
          4,
          1,
          6,
          3,
          7,
          1,
          6,
          0
         ],
         "opacity": 1,
         "x": [
          4,
          5,
          4,
          5,
          4,
          5,
          4,
          5
         ],
         "y": [
          3,
          3,
          8,
          8,
          3,
          3,
          8,
          8
         ],
         "z": [
          2,
          2,
          2,
          2,
          3,
          3,
          3,
          3
         ],
         "type": "mesh3d"
        },
        {
         "line": {
          "color": "black",
          "width": 0
         },
         "mode": "lines",
         "x": [
          4,
          5
         ],
         "y": [
          8,
          8
         ],
         "z": [
          3,
          3
         ],
         "type": "scatter3d"
        },
        {
         "color": "#0D2A63",
         "flatshading": true,
         "i": [
          1,
          2,
          5,
          6,
          1,
          4,
          3,
          6,
          1,
          7,
          0,
          6
         ],
         "j": [
          0,
          3,
          4,
          7,
          0,
          5,
          2,
          7,
          3,
          5,
          2,
          4
         ],
         "k": [
          2,
          1,
          6,
          5,
          4,
          1,
          6,
          3,
          7,
          1,
          6,
          0
         ],
         "opacity": 1,
         "x": [
          7,
          10,
          7,
          10,
          7,
          10,
          7,
          10
         ],
         "y": [
          8,
          8,
          9,
          9,
          8,
          8,
          9,
          9
         ],
         "z": [
          3,
          3,
          3,
          3,
          4,
          4,
          4,
          4
         ],
         "type": "mesh3d"
        },
        {
         "line": {
          "color": "black",
          "width": 0
         },
         "mode": "lines",
         "x": [
          7,
          10
         ],
         "y": [
          9,
          9
         ],
         "z": [
          4,
          4
         ],
         "type": "scatter3d"
        },
        {
         "color": "#FB0D0D",
         "flatshading": true,
         "i": [
          1,
          2,
          5,
          6,
          1,
          4,
          3,
          6,
          1,
          7,
          0,
          6
         ],
         "j": [
          0,
          3,
          4,
          7,
          0,
          5,
          2,
          7,
          3,
          5,
          2,
          4
         ],
         "k": [
          2,
          1,
          6,
          5,
          4,
          1,
          6,
          3,
          7,
          1,
          6,
          0
         ],
         "opacity": 1,
         "x": [
          0,
          3,
          0,
          3,
          0,
          3,
          0,
          3
         ],
         "y": [
          6,
          6,
          8,
          8,
          6,
          6,
          8,
          8
         ],
         "z": [
          8,
          8,
          8,
          8,
          9,
          9,
          9,
          9
         ],
         "type": "mesh3d"
        },
        {
         "line": {
          "color": "black",
          "width": 0
         },
         "mode": "lines",
         "x": [
          0,
          3
         ],
         "y": [
          8,
          8
         ],
         "z": [
          9,
          9
         ],
         "type": "scatter3d"
        },
        {
         "color": "#2E91E5",
         "flatshading": true,
         "i": [
          1,
          2,
          5,
          6,
          1,
          4,
          3,
          6,
          1,
          7,
          0,
          6
         ],
         "j": [
          0,
          3,
          4,
          7,
          0,
          5,
          2,
          7,
          3,
          5,
          2,
          4
         ],
         "k": [
          2,
          1,
          6,
          5,
          4,
          1,
          6,
          3,
          7,
          1,
          6,
          0
         ],
         "opacity": 1,
         "x": [
          9,
          10,
          9,
          10,
          9,
          10,
          9,
          10
         ],
         "y": [
          5,
          5,
          7,
          7,
          5,
          5,
          7,
          7
         ],
         "z": [
          10,
          10,
          10,
          10,
          11,
          11,
          11,
          11
         ],
         "type": "mesh3d"
        },
        {
         "line": {
          "color": "black",
          "width": 0
         },
         "mode": "lines",
         "x": [
          9,
          10
         ],
         "y": [
          7,
          7
         ],
         "z": [
          11,
          11
         ],
         "type": "scatter3d"
        },
        {
         "color": "#B68100",
         "flatshading": true,
         "i": [
          1,
          2,
          5,
          6,
          1,
          4,
          3,
          6,
          1,
          7,
          0,
          6
         ],
         "j": [
          0,
          3,
          4,
          7,
          0,
          5,
          2,
          7,
          3,
          5,
          2,
          4
         ],
         "k": [
          2,
          1,
          6,
          5,
          4,
          1,
          6,
          3,
          7,
          1,
          6,
          0
         ],
         "opacity": 1,
         "x": [
          6,
          7,
          6,
          7,
          6,
          7,
          6,
          7
         ],
         "y": [
          4,
          4,
          9,
          9,
          4,
          4,
          9,
          9
         ],
         "z": [
          0,
          0,
          0,
          0,
          1,
          1,
          1,
          1
         ],
         "type": "mesh3d"
        },
        {
         "line": {
          "color": "black",
          "width": 0
         },
         "mode": "lines",
         "x": [
          6,
          7
         ],
         "y": [
          9,
          9
         ],
         "z": [
          1,
          1
         ],
         "type": "scatter3d"
        },
        {
         "color": "#511CFB",
         "flatshading": true,
         "i": [
          1,
          2,
          5,
          6,
          1,
          4,
          3,
          6,
          1,
          7,
          0,
          6
         ],
         "j": [
          0,
          3,
          4,
          7,
          0,
          5,
          2,
          7,
          3,
          5,
          2,
          4
         ],
         "k": [
          2,
          1,
          6,
          5,
          4,
          1,
          6,
          3,
          7,
          1,
          6,
          0
         ],
         "opacity": 1,
         "x": [
          4,
          8,
          4,
          8,
          4,
          8,
          4,
          8
         ],
         "y": [
          10,
          10,
          11,
          11,
          10,
          10,
          11,
          11
         ],
         "z": [
          9,
          9,
          9,
          9,
          10,
          10,
          10,
          10
         ],
         "type": "mesh3d"
        },
        {
         "line": {
          "color": "black",
          "width": 0
         },
         "mode": "lines",
         "x": [
          4,
          8
         ],
         "y": [
          11,
          11
         ],
         "z": [
          10,
          10
         ],
         "type": "scatter3d"
        },
        {
         "color": "#00A08B",
         "flatshading": true,
         "i": [
          1,
          2,
          5,
          6,
          1,
          4,
          3,
          6,
          1,
          7,
          0,
          6
         ],
         "j": [
          0,
          3,
          4,
          7,
          0,
          5,
          2,
          7,
          3,
          5,
          2,
          4
         ],
         "k": [
          2,
          1,
          6,
          5,
          4,
          1,
          6,
          3,
          7,
          1,
          6,
          0
         ],
         "opacity": 1,
         "x": [
          4,
          8,
          4,
          8,
          4,
          8,
          4,
          8
         ],
         "y": [
          10,
          10,
          11,
          11,
          10,
          10,
          11,
          11
         ],
         "z": [
          10,
          10,
          10,
          10,
          11,
          11,
          11,
          11
         ],
         "type": "mesh3d"
        },
        {
         "line": {
          "color": "black",
          "width": 0
         },
         "mode": "lines",
         "x": [
          4,
          8
         ],
         "y": [
          11,
          11
         ],
         "z": [
          11,
          11
         ],
         "type": "scatter3d"
        },
        {
         "color": "#1616A7",
         "flatshading": true,
         "i": [
          1,
          2,
          5,
          6,
          1,
          4,
          3,
          6,
          1,
          7,
          0,
          6
         ],
         "j": [
          0,
          3,
          4,
          7,
          0,
          5,
          2,
          7,
          3,
          5,
          2,
          4
         ],
         "k": [
          2,
          1,
          6,
          5,
          4,
          1,
          6,
          3,
          7,
          1,
          6,
          0
         ],
         "opacity": 1,
         "x": [
          0,
          3,
          0,
          3,
          0,
          3,
          0,
          3
         ],
         "y": [
          6,
          6,
          8,
          8,
          6,
          6,
          8,
          8
         ],
         "z": [
          9,
          9,
          9,
          9,
          11,
          11,
          11,
          11
         ],
         "type": "mesh3d"
        },
        {
         "line": {
          "color": "black",
          "width": 0
         },
         "mode": "lines",
         "x": [
          0,
          3
         ],
         "y": [
          8,
          8
         ],
         "z": [
          11,
          11
         ],
         "type": "scatter3d"
        },
        {
         "color": "#FC0080",
         "flatshading": true,
         "i": [
          1,
          2,
          5,
          6,
          1,
          4,
          3,
          6,
          1,
          7,
          0,
          6
         ],
         "j": [
          0,
          3,
          4,
          7,
          0,
          5,
          2,
          7,
          3,
          5,
          2,
          4
         ],
         "k": [
          2,
          1,
          6,
          5,
          4,
          1,
          6,
          3,
          7,
          1,
          6,
          0
         ],
         "opacity": 1,
         "x": [
          5,
          7,
          5,
          7,
          5,
          7,
          5,
          7
         ],
         "y": [
          3,
          3,
          4,
          4,
          3,
          3,
          4,
          4
         ],
         "z": [
          1,
          1,
          1,
          1,
          2,
          2,
          2,
          2
         ],
         "type": "mesh3d"
        },
        {
         "line": {
          "color": "black",
          "width": 0
         },
         "mode": "lines",
         "x": [
          5,
          7
         ],
         "y": [
          4,
          4
         ],
         "z": [
          2,
          2
         ],
         "type": "scatter3d"
        },
        {
         "color": "#B2828D",
         "flatshading": true,
         "i": [
          1,
          2,
          5,
          6,
          1,
          4,
          3,
          6,
          1,
          7,
          0,
          6
         ],
         "j": [
          0,
          3,
          4,
          7,
          0,
          5,
          2,
          7,
          3,
          5,
          2,
          4
         ],
         "k": [
          2,
          1,
          6,
          5,
          4,
          1,
          6,
          3,
          7,
          1,
          6,
          0
         ],
         "opacity": 1,
         "x": [
          0,
          2,
          0,
          2,
          0,
          2,
          0,
          2
         ],
         "y": [
          4,
          4,
          5,
          5,
          4,
          4,
          5,
          5
         ],
         "z": [
          4,
          4,
          4,
          4,
          5,
          5,
          5,
          5
         ],
         "type": "mesh3d"
        },
        {
         "line": {
          "color": "black",
          "width": 0
         },
         "mode": "lines",
         "x": [
          0,
          2
         ],
         "y": [
          5,
          5
         ],
         "z": [
          5,
          5
         ],
         "type": "scatter3d"
        },
        {
         "color": "#620042",
         "flatshading": true,
         "i": [
          1,
          2,
          5,
          6,
          1,
          4,
          3,
          6,
          1,
          7,
          0,
          6
         ],
         "j": [
          0,
          3,
          4,
          7,
          0,
          5,
          2,
          7,
          3,
          5,
          2,
          4
         ],
         "k": [
          2,
          1,
          6,
          5,
          4,
          1,
          6,
          3,
          7,
          1,
          6,
          0
         ],
         "opacity": 1,
         "x": [
          0,
          3,
          0,
          3,
          0,
          3,
          0,
          3
         ],
         "y": [
          6,
          6,
          8,
          8,
          6,
          6,
          8,
          8
         ],
         "z": [
          11,
          11,
          11,
          11,
          12,
          12,
          12,
          12
         ],
         "type": "mesh3d"
        },
        {
         "line": {
          "color": "black",
          "width": 0
         },
         "mode": "lines",
         "x": [
          0,
          3
         ],
         "y": [
          8,
          8
         ],
         "z": [
          12,
          12
         ],
         "type": "scatter3d"
        },
        {
         "color": "#1616A7",
         "flatshading": true,
         "i": [
          1,
          2,
          5,
          6,
          1,
          4,
          3,
          6,
          1,
          7,
          0,
          6
         ],
         "j": [
          0,
          3,
          4,
          7,
          0,
          5,
          2,
          7,
          3,
          5,
          2,
          4
         ],
         "k": [
          2,
          1,
          6,
          5,
          4,
          1,
          6,
          3,
          7,
          1,
          6,
          0
         ],
         "opacity": 1,
         "x": [
          0,
          3,
          0,
          3,
          0,
          3,
          0,
          3
         ],
         "y": [
          6,
          6,
          8,
          8,
          6,
          6,
          8,
          8
         ],
         "z": [
          12,
          12,
          12,
          12,
          13,
          13,
          13,
          13
         ],
         "type": "mesh3d"
        },
        {
         "line": {
          "color": "black",
          "width": 0
         },
         "mode": "lines",
         "x": [
          0,
          3
         ],
         "y": [
          8,
          8
         ],
         "z": [
          13,
          13
         ],
         "type": "scatter3d"
        },
        {
         "color": "#DA60CA",
         "flatshading": true,
         "i": [
          1,
          2,
          5,
          6,
          1,
          4,
          3,
          6,
          1,
          7,
          0,
          6
         ],
         "j": [
          0,
          3,
          4,
          7,
          0,
          5,
          2,
          7,
          3,
          5,
          2,
          4
         ],
         "k": [
          2,
          1,
          6,
          5,
          4,
          1,
          6,
          3,
          7,
          1,
          6,
          0
         ],
         "opacity": 1,
         "x": [
          0,
          3,
          0,
          3,
          0,
          3,
          0,
          3
         ],
         "y": [
          3,
          3,
          4,
          4,
          3,
          3,
          4,
          4
         ],
         "z": [
          2,
          2,
          2,
          2,
          4,
          4,
          4,
          4
         ],
         "type": "mesh3d"
        },
        {
         "line": {
          "color": "black",
          "width": 0
         },
         "mode": "lines",
         "x": [
          0,
          3
         ],
         "y": [
          4,
          4
         ],
         "z": [
          4,
          4
         ],
         "type": "scatter3d"
        },
        {
         "color": "#A777F1",
         "flatshading": true,
         "i": [
          1,
          2,
          5,
          6,
          1,
          4,
          3,
          6,
          1,
          7,
          0,
          6
         ],
         "j": [
          0,
          3,
          4,
          7,
          0,
          5,
          2,
          7,
          3,
          5,
          2,
          4
         ],
         "k": [
          2,
          1,
          6,
          5,
          4,
          1,
          6,
          3,
          7,
          1,
          6,
          0
         ],
         "opacity": 1,
         "x": [
          3,
          4,
          3,
          4,
          3,
          4,
          3,
          4
         ],
         "y": [
          9,
          9,
          11,
          11,
          9,
          9,
          11,
          11
         ],
         "z": [
          2,
          2,
          2,
          2,
          3,
          3,
          3,
          3
         ],
         "type": "mesh3d"
        },
        {
         "line": {
          "color": "black",
          "width": 0
         },
         "mode": "lines",
         "x": [
          3,
          4
         ],
         "y": [
          11,
          11
         ],
         "z": [
          3,
          3
         ],
         "type": "scatter3d"
        },
        {
         "color": "#2E91E5",
         "flatshading": true,
         "i": [
          1,
          2,
          5,
          6,
          1,
          4,
          3,
          6,
          1,
          7,
          0,
          6
         ],
         "j": [
          0,
          3,
          4,
          7,
          0,
          5,
          2,
          7,
          3,
          5,
          2,
          4
         ],
         "k": [
          2,
          1,
          6,
          5,
          4,
          1,
          6,
          3,
          7,
          1,
          6,
          0
         ],
         "opacity": 1,
         "x": [
          3,
          4,
          3,
          4,
          3,
          4,
          3,
          4
         ],
         "y": [
          1,
          1,
          3,
          3,
          1,
          1,
          3,
          3
         ],
         "z": [
          1,
          1,
          1,
          1,
          5,
          5,
          5,
          5
         ],
         "type": "mesh3d"
        },
        {
         "line": {
          "color": "black",
          "width": 0
         },
         "mode": "lines",
         "x": [
          3,
          4
         ],
         "y": [
          3,
          3
         ],
         "z": [
          5,
          5
         ],
         "type": "scatter3d"
        },
        {
         "color": "#AF0038",
         "flatshading": true,
         "i": [
          1,
          2,
          5,
          6,
          1,
          4,
          3,
          6,
          1,
          7,
          0,
          6
         ],
         "j": [
          0,
          3,
          4,
          7,
          0,
          5,
          2,
          7,
          3,
          5,
          2,
          4
         ],
         "k": [
          2,
          1,
          6,
          5,
          4,
          1,
          6,
          3,
          7,
          1,
          6,
          0
         ],
         "opacity": 1,
         "x": [
          2,
          5,
          2,
          5,
          2,
          5,
          2,
          5
         ],
         "y": [
          1,
          1,
          2,
          2,
          1,
          1,
          2,
          2
         ],
         "z": [
          5,
          5,
          5,
          5,
          7,
          7,
          7,
          7
         ],
         "type": "mesh3d"
        },
        {
         "line": {
          "color": "black",
          "width": 0
         },
         "mode": "lines",
         "x": [
          2,
          5
         ],
         "y": [
          2,
          2
         ],
         "z": [
          7,
          7
         ],
         "type": "scatter3d"
        },
        {
         "color": "#2E91E5",
         "flatshading": true,
         "i": [
          1,
          2,
          5,
          6,
          1,
          4,
          3,
          6,
          1,
          7,
          0,
          6
         ],
         "j": [
          0,
          3,
          4,
          7,
          0,
          5,
          2,
          7,
          3,
          5,
          2,
          4
         ],
         "k": [
          2,
          1,
          6,
          5,
          4,
          1,
          6,
          3,
          7,
          1,
          6,
          0
         ],
         "opacity": 1,
         "x": [
          5,
          8,
          5,
          8,
          5,
          8,
          5,
          8
         ],
         "y": [
          10,
          10,
          11,
          11,
          10,
          10,
          11,
          11
         ],
         "z": [
          11,
          11,
          11,
          11,
          13,
          13,
          13,
          13
         ],
         "type": "mesh3d"
        },
        {
         "line": {
          "color": "black",
          "width": 0
         },
         "mode": "lines",
         "x": [
          5,
          8
         ],
         "y": [
          11,
          11
         ],
         "z": [
          13,
          13
         ],
         "type": "scatter3d"
        },
        {
         "color": "#6C4516",
         "flatshading": true,
         "i": [
          1,
          2,
          5,
          6,
          1,
          4,
          3,
          6,
          1,
          7,
          0,
          6
         ],
         "j": [
          0,
          3,
          4,
          7,
          0,
          5,
          2,
          7,
          3,
          5,
          2,
          4
         ],
         "k": [
          2,
          1,
          6,
          5,
          4,
          1,
          6,
          3,
          7,
          1,
          6,
          0
         ],
         "opacity": 1,
         "x": [
          4,
          5,
          4,
          5,
          4,
          5,
          4,
          5
         ],
         "y": [
          7,
          7,
          8,
          8,
          7,
          7,
          8,
          8
         ],
         "z": [
          3,
          3,
          3,
          3,
          5,
          5,
          5,
          5
         ],
         "type": "mesh3d"
        },
        {
         "line": {
          "color": "black",
          "width": 0
         },
         "mode": "lines",
         "x": [
          4,
          5
         ],
         "y": [
          8,
          8
         ],
         "z": [
          5,
          5
         ],
         "type": "scatter3d"
        },
        {
         "color": "#6C4516",
         "flatshading": true,
         "i": [
          1,
          2,
          5,
          6,
          1,
          4,
          3,
          6,
          1,
          7,
          0,
          6
         ],
         "j": [
          0,
          3,
          4,
          7,
          0,
          5,
          2,
          7,
          3,
          5,
          2,
          4
         ],
         "k": [
          2,
          1,
          6,
          5,
          4,
          1,
          6,
          3,
          7,
          1,
          6,
          0
         ],
         "opacity": 1,
         "x": [
          10,
          11,
          10,
          11,
          10,
          11,
          10,
          11
         ],
         "y": [
          2,
          2,
          3,
          3,
          2,
          2,
          3,
          3
         ],
         "z": [
          1,
          1,
          1,
          1,
          2,
          2,
          2,
          2
         ],
         "type": "mesh3d"
        },
        {
         "line": {
          "color": "black",
          "width": 0
         },
         "mode": "lines",
         "x": [
          10,
          11
         ],
         "y": [
          3,
          3
         ],
         "z": [
          2,
          2
         ],
         "type": "scatter3d"
        },
        {
         "color": "#1CA71C",
         "flatshading": true,
         "i": [
          1,
          2,
          5,
          6,
          1,
          4,
          3,
          6,
          1,
          7,
          0,
          6
         ],
         "j": [
          0,
          3,
          4,
          7,
          0,
          5,
          2,
          7,
          3,
          5,
          2,
          4
         ],
         "k": [
          2,
          1,
          6,
          5,
          4,
          1,
          6,
          3,
          7,
          1,
          6,
          0
         ],
         "opacity": 1,
         "x": [
          7,
          10,
          7,
          10,
          7,
          10,
          7,
          10
         ],
         "y": [
          8,
          8,
          9,
          9,
          8,
          8,
          9,
          9
         ],
         "z": [
          4,
          4,
          4,
          4,
          5,
          5,
          5,
          5
         ],
         "type": "mesh3d"
        },
        {
         "line": {
          "color": "black",
          "width": 0
         },
         "mode": "lines",
         "x": [
          7,
          10
         ],
         "y": [
          9,
          9
         ],
         "z": [
          5,
          5
         ],
         "type": "scatter3d"
        },
        {
         "color": "#B68100",
         "flatshading": true,
         "i": [
          1,
          2,
          5,
          6,
          1,
          4,
          3,
          6,
          1,
          7,
          0,
          6
         ],
         "j": [
          0,
          3,
          4,
          7,
          0,
          5,
          2,
          7,
          3,
          5,
          2,
          4
         ],
         "k": [
          2,
          1,
          6,
          5,
          4,
          1,
          6,
          3,
          7,
          1,
          6,
          0
         ],
         "opacity": 1,
         "x": [
          7,
          10,
          7,
          10,
          7,
          10,
          7,
          10
         ],
         "y": [
          8,
          8,
          9,
          9,
          8,
          8,
          9,
          9
         ],
         "z": [
          5,
          5,
          5,
          5,
          7,
          7,
          7,
          7
         ],
         "type": "mesh3d"
        },
        {
         "line": {
          "color": "black",
          "width": 0
         },
         "mode": "lines",
         "x": [
          7,
          10
         ],
         "y": [
          9,
          9
         ],
         "z": [
          7,
          7
         ],
         "type": "scatter3d"
        },
        {
         "color": "#511CFB",
         "flatshading": true,
         "i": [
          1,
          2,
          5,
          6,
          1,
          4,
          3,
          6,
          1,
          7,
          0,
          6
         ],
         "j": [
          0,
          3,
          4,
          7,
          0,
          5,
          2,
          7,
          3,
          5,
          2,
          4
         ],
         "k": [
          2,
          1,
          6,
          5,
          4,
          1,
          6,
          3,
          7,
          1,
          6,
          0
         ],
         "opacity": 1,
         "x": [
          8,
          9,
          8,
          9,
          8,
          9,
          8,
          9
         ],
         "y": [
          0,
          0,
          4,
          4,
          0,
          0,
          4,
          4
         ],
         "z": [
          4,
          4,
          4,
          4,
          6,
          6,
          6,
          6
         ],
         "type": "mesh3d"
        },
        {
         "line": {
          "color": "black",
          "width": 0
         },
         "mode": "lines",
         "x": [
          8,
          9
         ],
         "y": [
          4,
          4
         ],
         "z": [
          6,
          6
         ],
         "type": "scatter3d"
        },
        {
         "color": "#B68100",
         "flatshading": true,
         "i": [
          1,
          2,
          5,
          6,
          1,
          4,
          3,
          6,
          1,
          7,
          0,
          6
         ],
         "j": [
          0,
          3,
          4,
          7,
          0,
          5,
          2,
          7,
          3,
          5,
          2,
          4
         ],
         "k": [
          2,
          1,
          6,
          5,
          4,
          1,
          6,
          3,
          7,
          1,
          6,
          0
         ],
         "opacity": 1,
         "x": [
          0,
          1,
          0,
          1,
          0,
          1,
          0,
          1
         ],
         "y": [
          9,
          9,
          11,
          11,
          9,
          9,
          11,
          11
         ],
         "z": [
          0,
          0,
          0,
          0,
          2,
          2,
          2,
          2
         ],
         "type": "mesh3d"
        },
        {
         "line": {
          "color": "black",
          "width": 0
         },
         "mode": "lines",
         "x": [
          0,
          1
         ],
         "y": [
          11,
          11
         ],
         "z": [
          2,
          2
         ],
         "type": "scatter3d"
        },
        {
         "color": "#750D86",
         "flatshading": true,
         "i": [
          1,
          2,
          5,
          6,
          1,
          4,
          3,
          6,
          1,
          7,
          0,
          6
         ],
         "j": [
          0,
          3,
          4,
          7,
          0,
          5,
          2,
          7,
          3,
          5,
          2,
          4
         ],
         "k": [
          2,
          1,
          6,
          5,
          4,
          1,
          6,
          3,
          7,
          1,
          6,
          0
         ],
         "opacity": 1,
         "x": [
          8,
          9,
          8,
          9,
          8,
          9,
          8,
          9
         ],
         "y": [
          5,
          5,
          7,
          7,
          5,
          5,
          7,
          7
         ],
         "z": [
          8,
          8,
          8,
          8,
          10,
          10,
          10,
          10
         ],
         "type": "mesh3d"
        },
        {
         "line": {
          "color": "black",
          "width": 0
         },
         "mode": "lines",
         "x": [
          8,
          9
         ],
         "y": [
          7,
          7
         ],
         "z": [
          10,
          10
         ],
         "type": "scatter3d"
        }
       ],
       "layout": {
        "template": {
         "data": {
          "barpolar": [
           {
            "marker": {
             "line": {
              "color": "rgb(17,17,17)",
              "width": 0.5
             },
             "pattern": {
              "fillmode": "overlay",
              "size": 10,
              "solidity": 0.2
             }
            },
            "type": "barpolar"
           }
          ],
          "bar": [
           {
            "error_x": {
             "color": "#f2f5fa"
            },
            "error_y": {
             "color": "#f2f5fa"
            },
            "marker": {
             "line": {
              "color": "rgb(17,17,17)",
              "width": 0.5
             },
             "pattern": {
              "fillmode": "overlay",
              "size": 10,
              "solidity": 0.2
             }
            },
            "type": "bar"
           }
          ],
          "carpet": [
           {
            "aaxis": {
             "endlinecolor": "#A2B1C6",
             "gridcolor": "#506784",
             "linecolor": "#506784",
             "minorgridcolor": "#506784",
             "startlinecolor": "#A2B1C6"
            },
            "baxis": {
             "endlinecolor": "#A2B1C6",
             "gridcolor": "#506784",
             "linecolor": "#506784",
             "minorgridcolor": "#506784",
             "startlinecolor": "#A2B1C6"
            },
            "type": "carpet"
           }
          ],
          "choropleth": [
           {
            "colorbar": {
             "outlinewidth": 0,
             "ticks": ""
            },
            "type": "choropleth"
           }
          ],
          "contourcarpet": [
           {
            "colorbar": {
             "outlinewidth": 0,
             "ticks": ""
            },
            "type": "contourcarpet"
           }
          ],
          "contour": [
           {
            "colorbar": {
             "outlinewidth": 0,
             "ticks": ""
            },
            "colorscale": [
             [
              0.0,
              "#0d0887"
             ],
             [
              0.1111111111111111,
              "#46039f"
             ],
             [
              0.2222222222222222,
              "#7201a8"
             ],
             [
              0.3333333333333333,
              "#9c179e"
             ],
             [
              0.4444444444444444,
              "#bd3786"
             ],
             [
              0.5555555555555556,
              "#d8576b"
             ],
             [
              0.6666666666666666,
              "#ed7953"
             ],
             [
              0.7777777777777778,
              "#fb9f3a"
             ],
             [
              0.8888888888888888,
              "#fdca26"
             ],
             [
              1.0,
              "#f0f921"
             ]
            ],
            "type": "contour"
           }
          ],
          "heatmapgl": [
           {
            "colorbar": {
             "outlinewidth": 0,
             "ticks": ""
            },
            "colorscale": [
             [
              0.0,
              "#0d0887"
             ],
             [
              0.1111111111111111,
              "#46039f"
             ],
             [
              0.2222222222222222,
              "#7201a8"
             ],
             [
              0.3333333333333333,
              "#9c179e"
             ],
             [
              0.4444444444444444,
              "#bd3786"
             ],
             [
              0.5555555555555556,
              "#d8576b"
             ],
             [
              0.6666666666666666,
              "#ed7953"
             ],
             [
              0.7777777777777778,
              "#fb9f3a"
             ],
             [
              0.8888888888888888,
              "#fdca26"
             ],
             [
              1.0,
              "#f0f921"
             ]
            ],
            "type": "heatmapgl"
           }
          ],
          "heatmap": [
           {
            "colorbar": {
             "outlinewidth": 0,
             "ticks": ""
            },
            "colorscale": [
             [
              0.0,
              "#0d0887"
             ],
             [
              0.1111111111111111,
              "#46039f"
             ],
             [
              0.2222222222222222,
              "#7201a8"
             ],
             [
              0.3333333333333333,
              "#9c179e"
             ],
             [
              0.4444444444444444,
              "#bd3786"
             ],
             [
              0.5555555555555556,
              "#d8576b"
             ],
             [
              0.6666666666666666,
              "#ed7953"
             ],
             [
              0.7777777777777778,
              "#fb9f3a"
             ],
             [
              0.8888888888888888,
              "#fdca26"
             ],
             [
              1.0,
              "#f0f921"
             ]
            ],
            "type": "heatmap"
           }
          ],
          "histogram2dcontour": [
           {
            "colorbar": {
             "outlinewidth": 0,
             "ticks": ""
            },
            "colorscale": [
             [
              0.0,
              "#0d0887"
             ],
             [
              0.1111111111111111,
              "#46039f"
             ],
             [
              0.2222222222222222,
              "#7201a8"
             ],
             [
              0.3333333333333333,
              "#9c179e"
             ],
             [
              0.4444444444444444,
              "#bd3786"
             ],
             [
              0.5555555555555556,
              "#d8576b"
             ],
             [
              0.6666666666666666,
              "#ed7953"
             ],
             [
              0.7777777777777778,
              "#fb9f3a"
             ],
             [
              0.8888888888888888,
              "#fdca26"
             ],
             [
              1.0,
              "#f0f921"
             ]
            ],
            "type": "histogram2dcontour"
           }
          ],
          "histogram2d": [
           {
            "colorbar": {
             "outlinewidth": 0,
             "ticks": ""
            },
            "colorscale": [
             [
              0.0,
              "#0d0887"
             ],
             [
              0.1111111111111111,
              "#46039f"
             ],
             [
              0.2222222222222222,
              "#7201a8"
             ],
             [
              0.3333333333333333,
              "#9c179e"
             ],
             [
              0.4444444444444444,
              "#bd3786"
             ],
             [
              0.5555555555555556,
              "#d8576b"
             ],
             [
              0.6666666666666666,
              "#ed7953"
             ],
             [
              0.7777777777777778,
              "#fb9f3a"
             ],
             [
              0.8888888888888888,
              "#fdca26"
             ],
             [
              1.0,
              "#f0f921"
             ]
            ],
            "type": "histogram2d"
           }
          ],
          "histogram": [
           {
            "marker": {
             "pattern": {
              "fillmode": "overlay",
              "size": 10,
              "solidity": 0.2
             }
            },
            "type": "histogram"
           }
          ],
          "mesh3d": [
           {
            "colorbar": {
             "outlinewidth": 0,
             "ticks": ""
            },
            "type": "mesh3d"
           }
          ],
          "parcoords": [
           {
            "line": {
             "colorbar": {
              "outlinewidth": 0,
              "ticks": ""
             }
            },
            "type": "parcoords"
           }
          ],
          "pie": [
           {
            "automargin": true,
            "type": "pie"
           }
          ],
          "scatter3d": [
           {
            "line": {
             "colorbar": {
              "outlinewidth": 0,
              "ticks": ""
             }
            },
            "marker": {
             "colorbar": {
              "outlinewidth": 0,
              "ticks": ""
             }
            },
            "type": "scatter3d"
           }
          ],
          "scattercarpet": [
           {
            "marker": {
             "colorbar": {
              "outlinewidth": 0,
              "ticks": ""
             }
            },
            "type": "scattercarpet"
           }
          ],
          "scattergeo": [
           {
            "marker": {
             "colorbar": {
              "outlinewidth": 0,
              "ticks": ""
             }
            },
            "type": "scattergeo"
           }
          ],
          "scattergl": [
           {
            "marker": {
             "line": {
              "color": "#283442"
             }
            },
            "type": "scattergl"
           }
          ],
          "scattermapbox": [
           {
            "marker": {
             "colorbar": {
              "outlinewidth": 0,
              "ticks": ""
             }
            },
            "type": "scattermapbox"
           }
          ],
          "scatterpolargl": [
           {
            "marker": {
             "colorbar": {
              "outlinewidth": 0,
              "ticks": ""
             }
            },
            "type": "scatterpolargl"
           }
          ],
          "scatterpolar": [
           {
            "marker": {
             "colorbar": {
              "outlinewidth": 0,
              "ticks": ""
             }
            },
            "type": "scatterpolar"
           }
          ],
          "scatter": [
           {
            "marker": {
             "line": {
              "color": "#283442"
             }
            },
            "type": "scatter"
           }
          ],
          "scatterternary": [
           {
            "marker": {
             "colorbar": {
              "outlinewidth": 0,
              "ticks": ""
             }
            },
            "type": "scatterternary"
           }
          ],
          "surface": [
           {
            "colorbar": {
             "outlinewidth": 0,
             "ticks": ""
            },
            "colorscale": [
             [
              0.0,
              "#0d0887"
             ],
             [
              0.1111111111111111,
              "#46039f"
             ],
             [
              0.2222222222222222,
              "#7201a8"
             ],
             [
              0.3333333333333333,
              "#9c179e"
             ],
             [
              0.4444444444444444,
              "#bd3786"
             ],
             [
              0.5555555555555556,
              "#d8576b"
             ],
             [
              0.6666666666666666,
              "#ed7953"
             ],
             [
              0.7777777777777778,
              "#fb9f3a"
             ],
             [
              0.8888888888888888,
              "#fdca26"
             ],
             [
              1.0,
              "#f0f921"
             ]
            ],
            "type": "surface"
           }
          ],
          "table": [
           {
            "cells": {
             "fill": {
              "color": "#506784"
             },
             "line": {
              "color": "rgb(17,17,17)"
             }
            },
            "header": {
             "fill": {
              "color": "#2a3f5f"
             },
             "line": {
              "color": "rgb(17,17,17)"
             }
            },
            "type": "table"
           }
          ]
         },
         "layout": {
          "annotationdefaults": {
           "arrowcolor": "#f2f5fa",
           "arrowhead": 0,
           "arrowwidth": 1
          },
          "autotypenumbers": "strict",
          "coloraxis": {
           "colorbar": {
            "outlinewidth": 0,
            "ticks": ""
           }
          },
          "colorscale": {
           "diverging": [
            [
             0,
             "#8e0152"
            ],
            [
             0.1,
             "#c51b7d"
            ],
            [
             0.2,
             "#de77ae"
            ],
            [
             0.3,
             "#f1b6da"
            ],
            [
             0.4,
             "#fde0ef"
            ],
            [
             0.5,
             "#f7f7f7"
            ],
            [
             0.6,
             "#e6f5d0"
            ],
            [
             0.7,
             "#b8e186"
            ],
            [
             0.8,
             "#7fbc41"
            ],
            [
             0.9,
             "#4d9221"
            ],
            [
             1,
             "#276419"
            ]
           ],
           "sequential": [
            [
             0.0,
             "#0d0887"
            ],
            [
             0.1111111111111111,
             "#46039f"
            ],
            [
             0.2222222222222222,
             "#7201a8"
            ],
            [
             0.3333333333333333,
             "#9c179e"
            ],
            [
             0.4444444444444444,
             "#bd3786"
            ],
            [
             0.5555555555555556,
             "#d8576b"
            ],
            [
             0.6666666666666666,
             "#ed7953"
            ],
            [
             0.7777777777777778,
             "#fb9f3a"
            ],
            [
             0.8888888888888888,
             "#fdca26"
            ],
            [
             1.0,
             "#f0f921"
            ]
           ],
           "sequentialminus": [
            [
             0.0,
             "#0d0887"
            ],
            [
             0.1111111111111111,
             "#46039f"
            ],
            [
             0.2222222222222222,
             "#7201a8"
            ],
            [
             0.3333333333333333,
             "#9c179e"
            ],
            [
             0.4444444444444444,
             "#bd3786"
            ],
            [
             0.5555555555555556,
             "#d8576b"
            ],
            [
             0.6666666666666666,
             "#ed7953"
            ],
            [
             0.7777777777777778,
             "#fb9f3a"
            ],
            [
             0.8888888888888888,
             "#fdca26"
            ],
            [
             1.0,
             "#f0f921"
            ]
           ]
          },
          "colorway": [
           "#636efa",
           "#EF553B",
           "#00cc96",
           "#ab63fa",
           "#FFA15A",
           "#19d3f3",
           "#FF6692",
           "#B6E880",
           "#FF97FF",
           "#FECB52"
          ],
          "font": {
           "color": "#f2f5fa"
          },
          "geo": {
           "bgcolor": "rgb(17,17,17)",
           "lakecolor": "rgb(17,17,17)",
           "landcolor": "rgb(17,17,17)",
           "showlakes": true,
           "showland": true,
           "subunitcolor": "#506784"
          },
          "hoverlabel": {
           "align": "left"
          },
          "hovermode": "closest",
          "mapbox": {
           "style": "dark"
          },
          "paper_bgcolor": "rgb(17,17,17)",
          "plot_bgcolor": "rgb(17,17,17)",
          "polar": {
           "angularaxis": {
            "gridcolor": "#506784",
            "linecolor": "#506784",
            "ticks": ""
           },
           "bgcolor": "rgb(17,17,17)",
           "radialaxis": {
            "gridcolor": "#506784",
            "linecolor": "#506784",
            "ticks": ""
           }
          },
          "scene": {
           "xaxis": {
            "backgroundcolor": "rgb(17,17,17)",
            "gridcolor": "#506784",
            "gridwidth": 2,
            "linecolor": "#506784",
            "showbackground": true,
            "ticks": "",
            "zerolinecolor": "#C8D4E3"
           },
           "yaxis": {
            "backgroundcolor": "rgb(17,17,17)",
            "gridcolor": "#506784",
            "gridwidth": 2,
            "linecolor": "#506784",
            "showbackground": true,
            "ticks": "",
            "zerolinecolor": "#C8D4E3"
           },
           "zaxis": {
            "backgroundcolor": "rgb(17,17,17)",
            "gridcolor": "#506784",
            "gridwidth": 2,
            "linecolor": "#506784",
            "showbackground": true,
            "ticks": "",
            "zerolinecolor": "#C8D4E3"
           }
          },
          "shapedefaults": {
           "line": {
            "color": "#f2f5fa"
           }
          },
          "sliderdefaults": {
           "bgcolor": "#C8D4E3",
           "bordercolor": "rgb(17,17,17)",
           "borderwidth": 1,
           "tickwidth": 0
          },
          "ternary": {
           "aaxis": {
            "gridcolor": "#506784",
            "linecolor": "#506784",
            "ticks": ""
           },
           "baxis": {
            "gridcolor": "#506784",
            "linecolor": "#506784",
            "ticks": ""
           },
           "bgcolor": "rgb(17,17,17)",
           "caxis": {
            "gridcolor": "#506784",
            "linecolor": "#506784",
            "ticks": ""
           }
          },
          "title": {
           "x": 0.05
          },
          "updatemenudefaults": {
           "bgcolor": "#506784",
           "borderwidth": 0
          },
          "xaxis": {
           "automargin": true,
           "gridcolor": "#283442",
           "linecolor": "#506784",
           "ticks": "",
           "title": {
            "standoff": 15
           },
           "zerolinecolor": "#283442",
           "zerolinewidth": 2
          },
          "yaxis": {
           "automargin": true,
           "gridcolor": "#283442",
           "linecolor": "#506784",
           "ticks": "",
           "title": {
            "standoff": 15
           },
           "zerolinecolor": "#283442",
           "zerolinewidth": 2
          }
         }
        },
        "scene": {
         "camera": {
          "eye": {
           "x": 2,
           "y": 2,
           "z": 0.1
          }
         },
         "xaxis": {
          "nticks": 13,
          "range": [
           0,
           12
          ],
          "showgrid": false,
          "showticklabels": false
         },
         "yaxis": {
          "nticks": 13,
          "range": [
           0,
           12
          ],
          "showgrid": false,
          "showticklabels": false
         },
         "zaxis": {
          "nticks": 13,
          "range": [
           0,
           12
          ],
          "showgrid": false,
          "showticklabels": false
         },
         "aspectmode": "cube"
        },
        "showlegend": false,
        "width": 1200,
        "height": 1200,
        "margin": {
         "r": 20,
         "l": 10,
         "b": 10,
         "t": 10
        }
       },
       "config": {
        "plotlyServerURL": "https://plot.ly"
       }
      },
      "text/html": "<div>                            <div id=\"cb09082e-c647-47b7-95b9-9a566ff50099\" class=\"plotly-graph-div\" style=\"height:1200px; width:1200px;\"></div>            <script type=\"text/javascript\">                require([\"plotly\"], function(Plotly) {                    window.PLOTLYENV=window.PLOTLYENV || {};                                    if (document.getElementById(\"cb09082e-c647-47b7-95b9-9a566ff50099\")) {                    Plotly.newPlot(                        \"cb09082e-c647-47b7-95b9-9a566ff50099\",                        [{\"line\":{\"color\":\"yellow\",\"width\":3},\"mode\":\"lines\",\"x\":[0,11],\"y\":[0,0],\"z\":[0,0],\"type\":\"scatter3d\"},{\"line\":{\"color\":\"yellow\",\"width\":3},\"mode\":\"lines\",\"x\":[0,0],\"y\":[0,11],\"z\":[0,0],\"type\":\"scatter3d\"},{\"line\":{\"color\":\"yellow\",\"width\":3},\"mode\":\"lines\",\"x\":[0,0],\"y\":[0,0],\"z\":[0,11],\"type\":\"scatter3d\"},{\"line\":{\"color\":\"yellow\",\"width\":3},\"mode\":\"lines\",\"x\":[11,11],\"y\":[0,11],\"z\":[0,0],\"type\":\"scatter3d\"},{\"line\":{\"color\":\"yellow\",\"width\":3},\"mode\":\"lines\",\"x\":[11,11],\"y\":[0,0],\"z\":[0,11],\"type\":\"scatter3d\"},{\"line\":{\"color\":\"yellow\",\"width\":3},\"mode\":\"lines\",\"x\":[0,11],\"y\":[11,11],\"z\":[0,0],\"type\":\"scatter3d\"},{\"line\":{\"color\":\"yellow\",\"width\":3},\"mode\":\"lines\",\"x\":[0,0],\"y\":[11,11],\"z\":[0,11],\"type\":\"scatter3d\"},{\"line\":{\"color\":\"yellow\",\"width\":3},\"mode\":\"lines\",\"x\":[11,11],\"y\":[11,11],\"z\":[0,11],\"type\":\"scatter3d\"},{\"line\":{\"color\":\"yellow\",\"width\":3},\"mode\":\"lines\",\"x\":[0,11],\"y\":[0,0],\"z\":[11,11],\"type\":\"scatter3d\"},{\"line\":{\"color\":\"yellow\",\"width\":3},\"mode\":\"lines\",\"x\":[0,0],\"y\":[0,11],\"z\":[11,11],\"type\":\"scatter3d\"},{\"line\":{\"color\":\"yellow\",\"width\":3},\"mode\":\"lines\",\"x\":[11,11],\"y\":[0,11],\"z\":[11,11],\"type\":\"scatter3d\"},{\"line\":{\"color\":\"yellow\",\"width\":3},\"mode\":\"lines\",\"x\":[0,11],\"y\":[11,11],\"z\":[11,11],\"type\":\"scatter3d\"},{\"color\":\"#EB663B\",\"flatshading\":true,\"i\":[1,2,5,6,1,4,3,6,1,7,0,6],\"j\":[0,3,4,7,0,5,2,7,3,5,2,4],\"k\":[2,1,6,5,4,1,6,3,7,1,6,0],\"opacity\":1,\"x\":[0,2,0,2,0,2,0,2],\"y\":[5,5,9,9,5,5,9,9],\"z\":[0,0,0,0,4,4,4,4],\"type\":\"mesh3d\"},{\"line\":{\"color\":\"black\",\"width\":0},\"mode\":\"lines\",\"x\":[0,2],\"y\":[9,9],\"z\":[4,4],\"type\":\"scatter3d\"},{\"color\":\"#862A16\",\"flatshading\":true,\"i\":[1,2,5,6,1,4,3,6,1,7,0,6],\"j\":[0,3,4,7,0,5,2,7,3,5,2,4],\"k\":[2,1,6,5,4,1,6,3,7,1,6,0],\"opacity\":1,\"x\":[10,11,10,11,10,11,10,11],\"y\":[5,5,10,10,5,5,10,10],\"z\":[0,0,0,0,3,3,3,3],\"type\":\"mesh3d\"},{\"line\":{\"color\":\"black\",\"width\":0},\"mode\":\"lines\",\"x\":[10,11],\"y\":[10,10],\"z\":[3,3],\"type\":\"scatter3d\"},{\"color\":\"#FC0080\",\"flatshading\":true,\"i\":[1,2,5,6,1,4,3,6,1,7,0,6],\"j\":[0,3,4,7,0,5,2,7,3,5,2,4],\"k\":[2,1,6,5,4,1,6,3,7,1,6,0],\"opacity\":1,\"x\":[4,5,4,5,4,5,4,5],\"y\":[3,3,8,8,3,3,8,8],\"z\":[0,0,0,0,2,2,2,2],\"type\":\"mesh3d\"},{\"line\":{\"color\":\"black\",\"width\":0},\"mode\":\"lines\",\"x\":[4,5],\"y\":[8,8],\"z\":[2,2],\"type\":\"scatter3d\"},{\"color\":\"#EB663B\",\"flatshading\":true,\"i\":[1,2,5,6,1,4,3,6,1,7,0,6],\"j\":[0,3,4,7,0,5,2,7,3,5,2,4],\"k\":[2,1,6,5,4,1,6,3,7,1,6,0],\"opacity\":1,\"x\":[3,4,3,4,3,4,3,4],\"y\":[1,1,6,6,1,1,6,6],\"z\":[0,0,0,0,1,1,1,1],\"type\":\"mesh3d\"},{\"line\":{\"color\":\"black\",\"width\":0},\"mode\":\"lines\",\"x\":[3,4],\"y\":[6,6],\"z\":[1,1],\"type\":\"scatter3d\"},{\"color\":\"#1616A7\",\"flatshading\":true,\"i\":[1,2,5,6,1,4,3,6,1,7,0,6],\"j\":[0,3,4,7,0,5,2,7,3,5,2,4],\"k\":[2,1,6,5,4,1,6,3,7,1,6,0],\"opacity\":1,\"x\":[5,6,5,6,5,6,5,6],\"y\":[4,4,9,9,4,4,9,9],\"z\":[0,0,0,0,3,3,3,3],\"type\":\"mesh3d\"},{\"line\":{\"color\":\"black\",\"width\":0},\"mode\":\"lines\",\"x\":[5,6],\"y\":[9,9],\"z\":[3,3],\"type\":\"scatter3d\"},{\"color\":\"#AF0038\",\"flatshading\":true,\"i\":[1,2,5,6,1,4,3,6,1,7,0,6],\"j\":[0,3,4,7,0,5,2,7,3,5,2,4],\"k\":[2,1,6,5,4,1,6,3,7,1,6,0],\"opacity\":1,\"x\":[1,10,1,10,1,10,1,10],\"y\":[9,9,11,11,9,9,11,11],\"z\":[0,0,0,0,1,1,1,1],\"type\":\"mesh3d\"},{\"line\":{\"color\":\"black\",\"width\":0},\"mode\":\"lines\",\"x\":[1,10],\"y\":[11,11],\"z\":[1,1],\"type\":\"scatter3d\"},{\"color\":\"#EB663B\",\"flatshading\":true,\"i\":[1,2,5,6,1,4,3,6,1,7,0,6],\"j\":[0,3,4,7,0,5,2,7,3,5,2,4],\"k\":[2,1,6,5,4,1,6,3,7,1,6,0],\"opacity\":1,\"x\":[10,11,10,11,10,11,10,11],\"y\":[1,1,3,3,1,1,3,3],\"z\":[0,0,0,0,1,1,1,1],\"type\":\"mesh3d\"},{\"line\":{\"color\":\"black\",\"width\":0},\"mode\":\"lines\",\"x\":[10,11],\"y\":[3,3],\"z\":[1,1],\"type\":\"scatter3d\"},{\"color\":\"#FB0D0D\",\"flatshading\":true,\"i\":[1,2,5,6,1,4,3,6,1,7,0,6],\"j\":[0,3,4,7,0,5,2,7,3,5,2,4],\"k\":[2,1,6,5,4,1,6,3,7,1,6,0],\"opacity\":1,\"x\":[2,3,2,3,2,3,2,3],\"y\":[5,5,9,9,5,5,9,9],\"z\":[0,0,0,0,5,5,5,5],\"type\":\"mesh3d\"},{\"line\":{\"color\":\"black\",\"width\":0},\"mode\":\"lines\",\"x\":[2,3],\"y\":[9,9],\"z\":[5,5],\"type\":\"scatter3d\"},{\"color\":\"#DA16FF\",\"flatshading\":true,\"i\":[1,2,5,6,1,4,3,6,1,7,0,6],\"j\":[0,3,4,7,0,5,2,7,3,5,2,4],\"k\":[2,1,6,5,4,1,6,3,7,1,6,0],\"opacity\":1,\"x\":[5,6,5,6,5,6,5,6],\"y\":[5,5,9,9,5,5,9,9],\"z\":[3,3,3,3,8,8,8,8],\"type\":\"mesh3d\"},{\"line\":{\"color\":\"black\",\"width\":0},\"mode\":\"lines\",\"x\":[5,6],\"y\":[9,9],\"z\":[8,8],\"type\":\"scatter3d\"},{\"color\":\"#E15F99\",\"flatshading\":true,\"i\":[1,2,5,6,1,4,3,6,1,7,0,6],\"j\":[0,3,4,7,0,5,2,7,3,5,2,4],\"k\":[2,1,6,5,4,1,6,3,7,1,6,0],\"opacity\":1,\"x\":[2,10,2,10,2,10,2,10],\"y\":[9,9,11,11,9,9,11,11],\"z\":[1,1,1,1,2,2,2,2],\"type\":\"mesh3d\"},{\"line\":{\"color\":\"black\",\"width\":0},\"mode\":\"lines\",\"x\":[2,10],\"y\":[11,11],\"z\":[2,2],\"type\":\"scatter3d\"},{\"color\":\"#6C7C32\",\"flatshading\":true,\"i\":[1,2,5,6,1,4,3,6,1,7,0,6],\"j\":[0,3,4,7,0,5,2,7,3,5,2,4],\"k\":[2,1,6,5,4,1,6,3,7,1,6,0],\"opacity\":1,\"x\":[5,7,5,7,5,7,5,7],\"y\":[2,2,4,4,2,2,4,4],\"z\":[0,0,0,0,1,1,1,1],\"type\":\"mesh3d\"},{\"line\":{\"color\":\"black\",\"width\":0},\"mode\":\"lines\",\"x\":[5,7],\"y\":[4,4],\"z\":[1,1],\"type\":\"scatter3d\"},{\"color\":\"#1616A7\",\"flatshading\":true,\"i\":[1,2,5,6,1,4,3,6,1,7,0,6],\"j\":[0,3,4,7,0,5,2,7,3,5,2,4],\"k\":[2,1,6,5,4,1,6,3,7,1,6,0],\"opacity\":1,\"x\":[7,8,7,8,7,8,7,8],\"y\":[0,0,8,8,0,0,8,8],\"z\":[0,0,0,0,1,1,1,1],\"type\":\"mesh3d\"},{\"line\":{\"color\":\"black\",\"width\":0},\"mode\":\"lines\",\"x\":[7,8],\"y\":[8,8],\"z\":[1,1],\"type\":\"scatter3d\"},{\"color\":\"#DA60CA\",\"flatshading\":true,\"i\":[1,2,5,6,1,4,3,6,1,7,0,6],\"j\":[0,3,4,7,0,5,2,7,3,5,2,4],\"k\":[2,1,6,5,4,1,6,3,7,1,6,0],\"opacity\":1,\"x\":[9,10,9,10,9,10,9,10],\"y\":[0,0,8,8,0,0,8,8],\"z\":[0,0,0,0,1,1,1,1],\"type\":\"mesh3d\"},{\"line\":{\"color\":\"black\",\"width\":0},\"mode\":\"lines\",\"x\":[9,10],\"y\":[8,8],\"z\":[1,1],\"type\":\"scatter3d\"},{\"color\":\"#DA60CA\",\"flatshading\":true,\"i\":[1,2,5,6,1,4,3,6,1,7,0,6],\"j\":[0,3,4,7,0,5,2,7,3,5,2,4],\"k\":[2,1,6,5,4,1,6,3,7,1,6,0],\"opacity\":1,\"x\":[5,6,5,6,5,6,5,6],\"y\":[6,6,9,9,6,6,9,9],\"z\":[8,8,8,8,10,10,10,10],\"type\":\"mesh3d\"},{\"line\":{\"color\":\"black\",\"width\":0},\"mode\":\"lines\",\"x\":[5,6],\"y\":[9,9],\"z\":[10,10],\"type\":\"scatter3d\"},{\"color\":\"#750D86\",\"flatshading\":true,\"i\":[1,2,5,6,1,4,3,6,1,7,0,6],\"j\":[0,3,4,7,0,5,2,7,3,5,2,4],\"k\":[2,1,6,5,4,1,6,3,7,1,6,0],\"opacity\":1,\"x\":[7,8,7,8,7,8,7,8],\"y\":[0,0,4,4,0,0,4,4],\"z\":[1,1,1,1,5,5,5,5],\"type\":\"mesh3d\"},{\"line\":{\"color\":\"black\",\"width\":0},\"mode\":\"lines\",\"x\":[7,8],\"y\":[4,4],\"z\":[5,5],\"type\":\"scatter3d\"},{\"color\":\"#6C4516\",\"flatshading\":true,\"i\":[1,2,5,6,1,4,3,6,1,7,0,6],\"j\":[0,3,4,7,0,5,2,7,3,5,2,4],\"k\":[2,1,6,5,4,1,6,3,7,1,6,0],\"opacity\":1,\"x\":[2,3,2,3,2,3,2,3],\"y\":[1,1,2,2,1,1,2,2],\"z\":[0,0,0,0,5,5,5,5],\"type\":\"mesh3d\"},{\"line\":{\"color\":\"black\",\"width\":0},\"mode\":\"lines\",\"x\":[2,3],\"y\":[2,2],\"z\":[5,5],\"type\":\"scatter3d\"},{\"color\":\"#FB0D0D\",\"flatshading\":true,\"i\":[1,2,5,6,1,4,3,6,1,7,0,6],\"j\":[0,3,4,7,0,5,2,7,3,5,2,4],\"k\":[2,1,6,5,4,1,6,3,7,1,6,0],\"opacity\":1,\"x\":[4,5,4,5,4,5,4,5],\"y\":[1,1,3,3,1,1,3,3],\"z\":[0,0,0,0,5,5,5,5],\"type\":\"mesh3d\"},{\"line\":{\"color\":\"black\",\"width\":0},\"mode\":\"lines\",\"x\":[4,5],\"y\":[3,3],\"z\":[5,5],\"type\":\"scatter3d\"},{\"color\":\"#B68100\",\"flatshading\":true,\"i\":[1,2,5,6,1,4,3,6,1,7,0,6],\"j\":[0,3,4,7,0,5,2,7,3,5,2,4],\"k\":[2,1,6,5,4,1,6,3,7,1,6,0],\"opacity\":1,\"x\":[2,3,2,3,2,3,2,3],\"y\":[5,5,9,9,5,5,9,9],\"z\":[5,5,5,5,8,8,8,8],\"type\":\"mesh3d\"},{\"line\":{\"color\":\"black\",\"width\":0},\"mode\":\"lines\",\"x\":[2,3],\"y\":[9,9],\"z\":[8,8],\"type\":\"scatter3d\"},{\"color\":\"#DA16FF\",\"flatshading\":true,\"i\":[1,2,5,6,1,4,3,6,1,7,0,6],\"j\":[0,3,4,7,0,5,2,7,3,5,2,4],\"k\":[2,1,6,5,4,1,6,3,7,1,6,0],\"opacity\":1,\"x\":[0,3,0,3,0,3,0,3],\"y\":[4,4,5,5,4,4,5,5],\"z\":[0,0,0,0,3,3,3,3],\"type\":\"mesh3d\"},{\"line\":{\"color\":\"black\",\"width\":0},\"mode\":\"lines\",\"x\":[0,3],\"y\":[5,5],\"z\":[3,3],\"type\":\"scatter3d\"},{\"color\":\"#FC0080\",\"flatshading\":true,\"i\":[1,2,5,6,1,4,3,6,1,7,0,6],\"j\":[0,3,4,7,0,5,2,7,3,5,2,4],\"k\":[2,1,6,5,4,1,6,3,7,1,6,0],\"opacity\":1,\"x\":[0,2,0,2,0,2,0,2],\"y\":[5,5,9,9,5,5,9,9],\"z\":[4,4,4,4,6,6,6,6],\"type\":\"mesh3d\"},{\"line\":{\"color\":\"black\",\"width\":0},\"mode\":\"lines\",\"x\":[0,2],\"y\":[9,9],\"z\":[6,6],\"type\":\"scatter3d\"},{\"color\":\"#222A2A\",\"flatshading\":true,\"i\":[1,2,5,6,1,4,3,6,1,7,0,6],\"j\":[0,3,4,7,0,5,2,7,3,5,2,4],\"k\":[2,1,6,5,4,1,6,3,7,1,6,0],\"opacity\":1,\"x\":[4,8,4,8,4,8,4,8],\"y\":[9,9,11,11,9,9,11,11],\"z\":[2,2,2,2,3,3,3,3],\"type\":\"mesh3d\"},{\"line\":{\"color\":\"black\",\"width\":0},\"mode\":\"lines\",\"x\":[4,8],\"y\":[11,11],\"z\":[3,3],\"type\":\"scatter3d\"},{\"color\":\"#B68100\",\"flatshading\":true,\"i\":[1,2,5,6,1,4,3,6,1,7,0,6],\"j\":[0,3,4,7,0,5,2,7,3,5,2,4],\"k\":[2,1,6,5,4,1,6,3,7,1,6,0],\"opacity\":1,\"x\":[2,6,2,6,2,6,2,6],\"y\":[0,0,1,1,0,0,1,1],\"z\":[0,0,0,0,2,2,2,2],\"type\":\"mesh3d\"},{\"line\":{\"color\":\"black\",\"width\":0},\"mode\":\"lines\",\"x\":[2,6],\"y\":[1,1],\"z\":[2,2],\"type\":\"scatter3d\"},{\"color\":\"#EB663B\",\"flatshading\":true,\"i\":[1,2,5,6,1,4,3,6,1,7,0,6],\"j\":[0,3,4,7,0,5,2,7,3,5,2,4],\"k\":[2,1,6,5,4,1,6,3,7,1,6,0],\"opacity\":1,\"x\":[4,8,4,8,4,8,4,8],\"y\":[9,9,11,11,9,9,11,11],\"z\":[3,3,3,3,4,4,4,4],\"type\":\"mesh3d\"},{\"line\":{\"color\":\"black\",\"width\":0},\"mode\":\"lines\",\"x\":[4,8],\"y\":[11,11],\"z\":[4,4],\"type\":\"scatter3d\"},{\"color\":\"#DA16FF\",\"flatshading\":true,\"i\":[1,2,5,6,1,4,3,6,1,7,0,6],\"j\":[0,3,4,7,0,5,2,7,3,5,2,4],\"k\":[2,1,6,5,4,1,6,3,7,1,6,0],\"opacity\":1,\"x\":[4,6,4,6,4,6,4,6],\"y\":[0,0,1,1,0,0,1,1],\"z\":[2,2,2,2,3,3,3,3],\"type\":\"mesh3d\"},{\"line\":{\"color\":\"black\",\"width\":0},\"mode\":\"lines\",\"x\":[4,6],\"y\":[1,1],\"z\":[3,3],\"type\":\"scatter3d\"},{\"color\":\"#B68100\",\"flatshading\":true,\"i\":[1,2,5,6,1,4,3,6,1,7,0,6],\"j\":[0,3,4,7,0,5,2,7,3,5,2,4],\"k\":[2,1,6,5,4,1,6,3,7,1,6,0],\"opacity\":1,\"x\":[7,10,7,10,7,10,7,10],\"y\":[8,8,9,9,8,8,9,9],\"z\":[0,0,0,0,1,1,1,1],\"type\":\"mesh3d\"},{\"line\":{\"color\":\"black\",\"width\":0},\"mode\":\"lines\",\"x\":[7,10],\"y\":[9,9],\"z\":[1,1],\"type\":\"scatter3d\"},{\"color\":\"#FC0080\",\"flatshading\":true,\"i\":[1,2,5,6,1,4,3,6,1,7,0,6],\"j\":[0,3,4,7,0,5,2,7,3,5,2,4],\"k\":[2,1,6,5,4,1,6,3,7,1,6,0],\"opacity\":1,\"x\":[4,8,4,8,4,8,4,8],\"y\":[9,9,11,11,9,9,11,11],\"z\":[4,4,4,4,5,5,5,5],\"type\":\"mesh3d\"},{\"line\":{\"color\":\"black\",\"width\":0},\"mode\":\"lines\",\"x\":[4,8],\"y\":[11,11],\"z\":[5,5],\"type\":\"scatter3d\"},{\"color\":\"#222A2A\",\"flatshading\":true,\"i\":[1,2,5,6,1,4,3,6,1,7,0,6],\"j\":[0,3,4,7,0,5,2,7,3,5,2,4],\"k\":[2,1,6,5,4,1,6,3,7,1,6,0],\"opacity\":1,\"x\":[4,8,4,8,4,8,4,8],\"y\":[9,9,11,11,9,9,11,11],\"z\":[5,5,5,5,8,8,8,8],\"type\":\"mesh3d\"},{\"line\":{\"color\":\"black\",\"width\":0},\"mode\":\"lines\",\"x\":[4,8],\"y\":[11,11],\"z\":[8,8],\"type\":\"scatter3d\"},{\"color\":\"#FC0080\",\"flatshading\":true,\"i\":[1,2,5,6,1,4,3,6,1,7,0,6],\"j\":[0,3,4,7,0,5,2,7,3,5,2,4],\"k\":[2,1,6,5,4,1,6,3,7,1,6,0],\"opacity\":1,\"x\":[4,8,4,8,4,8,4,8],\"y\":[10,10,11,11,10,10,11,11],\"z\":[8,8,8,8,9,9,9,9],\"type\":\"mesh3d\"},{\"line\":{\"color\":\"black\",\"width\":0},\"mode\":\"lines\",\"x\":[4,8],\"y\":[11,11],\"z\":[9,9],\"type\":\"scatter3d\"},{\"color\":\"#A777F1\",\"flatshading\":true,\"i\":[1,2,5,6,1,4,3,6,1,7,0,6],\"j\":[0,3,4,7,0,5,2,7,3,5,2,4],\"k\":[2,1,6,5,4,1,6,3,7,1,6,0],\"opacity\":1,\"x\":[0,3,0,3,0,3,0,3],\"y\":[3,3,4,4,3,3,4,4],\"z\":[0,0,0,0,2,2,2,2],\"type\":\"mesh3d\"},{\"line\":{\"color\":\"black\",\"width\":0},\"mode\":\"lines\",\"x\":[0,3],\"y\":[4,4],\"z\":[2,2],\"type\":\"scatter3d\"},{\"color\":\"#AF0038\",\"flatshading\":true,\"i\":[1,2,5,6,1,4,3,6,1,7,0,6],\"j\":[0,3,4,7,0,5,2,7,3,5,2,4],\"k\":[2,1,6,5,4,1,6,3,7,1,6,0],\"opacity\":1,\"x\":[9,10,9,10,9,10,9,10],\"y\":[4,4,8,8,4,4,8,8],\"z\":[1,1,1,1,3,3,3,3],\"type\":\"mesh3d\"},{\"line\":{\"color\":\"black\",\"width\":0},\"mode\":\"lines\",\"x\":[9,10],\"y\":[8,8],\"z\":[3,3],\"type\":\"scatter3d\"},{\"color\":\"#2E91E5\",\"flatshading\":true,\"i\":[1,2,5,6,1,4,3,6,1,7,0,6],\"j\":[0,3,4,7,0,5,2,7,3,5,2,4],\"k\":[2,1,6,5,4,1,6,3,7,1,6,0],\"opacity\":1,\"x\":[7,8,7,8,7,8,7,8],\"y\":[4,4,8,8,4,4,8,8],\"z\":[1,1,1,1,3,3,3,3],\"type\":\"mesh3d\"},{\"line\":{\"color\":\"black\",\"width\":0},\"mode\":\"lines\",\"x\":[7,8],\"y\":[8,8],\"z\":[3,3],\"type\":\"scatter3d\"},{\"color\":\"#DA60CA\",\"flatshading\":true,\"i\":[1,2,5,6,1,4,3,6,1,7,0,6],\"j\":[0,3,4,7,0,5,2,7,3,5,2,4],\"k\":[2,1,6,5,4,1,6,3,7,1,6,0],\"opacity\":1,\"x\":[0,3,0,3,0,3,0,3],\"y\":[2,2,3,3,2,2,3,3],\"z\":[0,0,0,0,1,1,1,1],\"type\":\"mesh3d\"},{\"line\":{\"color\":\"black\",\"width\":0},\"mode\":\"lines\",\"x\":[0,3],\"y\":[3,3],\"z\":[1,1],\"type\":\"scatter3d\"},{\"color\":\"#1616A7\",\"flatshading\":true,\"i\":[1,2,5,6,1,4,3,6,1,7,0,6],\"j\":[0,3,4,7,0,5,2,7,3,5,2,4],\"k\":[2,1,6,5,4,1,6,3,7,1,6,0],\"opacity\":1,\"x\":[9,10,9,10,9,10,9,10],\"y\":[1,1,2,2,1,1,2,2],\"z\":[1,1,1,1,2,2,2,2],\"type\":\"mesh3d\"},{\"line\":{\"color\":\"black\",\"width\":0},\"mode\":\"lines\",\"x\":[9,10],\"y\":[2,2],\"z\":[2,2],\"type\":\"scatter3d\"},{\"color\":\"#FB0D0D\",\"flatshading\":true,\"i\":[1,2,5,6,1,4,3,6,1,7,0,6],\"j\":[0,3,4,7,0,5,2,7,3,5,2,4],\"k\":[2,1,6,5,4,1,6,3,7,1,6,0],\"opacity\":1,\"x\":[5,8,5,8,5,8,5,8],\"y\":[9,9,10,10,9,9,10,10],\"z\":[8,8,8,8,10,10,10,10],\"type\":\"mesh3d\"},{\"line\":{\"color\":\"black\",\"width\":0},\"mode\":\"lines\",\"x\":[5,8],\"y\":[10,10],\"z\":[10,10],\"type\":\"scatter3d\"},{\"color\":\"#AF0038\",\"flatshading\":true,\"i\":[1,2,5,6,1,4,3,6,1,7,0,6],\"j\":[0,3,4,7,0,5,2,7,3,5,2,4],\"k\":[2,1,6,5,4,1,6,3,7,1,6,0],\"opacity\":1,\"x\":[3,4,3,4,3,4,3,4],\"y\":[4,4,5,5,4,4,5,5],\"z\":[1,1,1,1,2,2,2,2],\"type\":\"mesh3d\"},{\"line\":{\"color\":\"black\",\"width\":0},\"mode\":\"lines\",\"x\":[3,4],\"y\":[5,5],\"z\":[2,2],\"type\":\"scatter3d\"},{\"color\":\"#1616A7\",\"flatshading\":true,\"i\":[1,2,5,6,1,4,3,6,1,7,0,6],\"j\":[0,3,4,7,0,5,2,7,3,5,2,4],\"k\":[2,1,6,5,4,1,6,3,7,1,6,0],\"opacity\":1,\"x\":[8,9,8,9,8,9,8,9],\"y\":[0,0,8,8,0,0,8,8],\"z\":[0,0,0,0,2,2,2,2],\"type\":\"mesh3d\"},{\"line\":{\"color\":\"black\",\"width\":0},\"mode\":\"lines\",\"x\":[8,9],\"y\":[8,8],\"z\":[2,2],\"type\":\"scatter3d\"},{\"color\":\"#DA60CA\",\"flatshading\":true,\"i\":[1,2,5,6,1,4,3,6,1,7,0,6],\"j\":[0,3,4,7,0,5,2,7,3,5,2,4],\"k\":[2,1,6,5,4,1,6,3,7,1,6,0],\"opacity\":1,\"x\":[8,9,8,9,8,9,8,9],\"y\":[0,0,8,8,0,0,8,8],\"z\":[2,2,2,2,4,4,4,4],\"type\":\"mesh3d\"},{\"line\":{\"color\":\"black\",\"width\":0},\"mode\":\"lines\",\"x\":[8,9],\"y\":[8,8],\"z\":[4,4],\"type\":\"scatter3d\"},{\"color\":\"#750D86\",\"flatshading\":true,\"i\":[1,2,5,6,1,4,3,6,1,7,0,6],\"j\":[0,3,4,7,0,5,2,7,3,5,2,4],\"k\":[2,1,6,5,4,1,6,3,7,1,6,0],\"opacity\":1,\"x\":[1,2,1,2,1,2,1,2],\"y\":[5,5,6,6,5,5,6,6],\"z\":[6,6,6,6,8,8,8,8],\"type\":\"mesh3d\"},{\"line\":{\"color\":\"black\",\"width\":0},\"mode\":\"lines\",\"x\":[1,2],\"y\":[6,6],\"z\":[8,8],\"type\":\"scatter3d\"},{\"color\":\"#511CFB\",\"flatshading\":true,\"i\":[1,2,5,6,1,4,3,6,1,7,0,6],\"j\":[0,3,4,7,0,5,2,7,3,5,2,4],\"k\":[2,1,6,5,4,1,6,3,7,1,6,0],\"opacity\":1,\"x\":[5,6,5,6,5,6,5,6],\"y\":[8,8,9,9,8,8,9,9],\"z\":[10,10,10,10,13,13,13,13],\"type\":\"mesh3d\"},{\"line\":{\"color\":\"black\",\"width\":0},\"mode\":\"lines\",\"x\":[5,6],\"y\":[9,9],\"z\":[13,13],\"type\":\"scatter3d\"},{\"color\":\"#B2828D\",\"flatshading\":true,\"i\":[1,2,5,6,1,4,3,6,1,7,0,6],\"j\":[0,3,4,7,0,5,2,7,3,5,2,4],\"k\":[2,1,6,5,4,1,6,3,7,1,6,0],\"opacity\":1,\"x\":[7,10,7,10,7,10,7,10],\"y\":[8,8,9,9,8,8,9,9],\"z\":[1,1,1,1,3,3,3,3],\"type\":\"mesh3d\"},{\"line\":{\"color\":\"black\",\"width\":0},\"mode\":\"lines\",\"x\":[7,10],\"y\":[9,9],\"z\":[3,3],\"type\":\"scatter3d\"},{\"color\":\"#778AAE\",\"flatshading\":true,\"i\":[1,2,5,6,1,4,3,6,1,7,0,6],\"j\":[0,3,4,7,0,5,2,7,3,5,2,4],\"k\":[2,1,6,5,4,1,6,3,7,1,6,0],\"opacity\":1,\"x\":[9,11,9,11,9,11,9,11],\"y\":[5,5,8,8,5,5,8,8],\"z\":[3,3,3,3,4,4,4,4],\"type\":\"mesh3d\"},{\"line\":{\"color\":\"black\",\"width\":0},\"mode\":\"lines\",\"x\":[9,11],\"y\":[8,8],\"z\":[4,4],\"type\":\"scatter3d\"},{\"color\":\"#1616A7\",\"flatshading\":true,\"i\":[1,2,5,6,1,4,3,6,1,7,0,6],\"j\":[0,3,4,7,0,5,2,7,3,5,2,4],\"k\":[2,1,6,5,4,1,6,3,7,1,6,0],\"opacity\":1,\"x\":[8,11,8,11,8,11,8,11],\"y\":[5,5,8,8,5,5,8,8],\"z\":[4,4,4,4,5,5,5,5],\"type\":\"mesh3d\"},{\"line\":{\"color\":\"black\",\"width\":0},\"mode\":\"lines\",\"x\":[8,11],\"y\":[8,8],\"z\":[5,5],\"type\":\"scatter3d\"},{\"color\":\"#6C4516\",\"flatshading\":true,\"i\":[1,2,5,6,1,4,3,6,1,7,0,6],\"j\":[0,3,4,7,0,5,2,7,3,5,2,4],\"k\":[2,1,6,5,4,1,6,3,7,1,6,0],\"opacity\":1,\"x\":[8,11,8,11,8,11,8,11],\"y\":[7,7,8,8,7,7,8,8],\"z\":[5,5,5,5,8,8,8,8],\"type\":\"mesh3d\"},{\"line\":{\"color\":\"black\",\"width\":0},\"mode\":\"lines\",\"x\":[8,11],\"y\":[8,8],\"z\":[8,8],\"type\":\"scatter3d\"},{\"color\":\"#750D86\",\"flatshading\":true,\"i\":[1,2,5,6,1,4,3,6,1,7,0,6],\"j\":[0,3,4,7,0,5,2,7,3,5,2,4],\"k\":[2,1,6,5,4,1,6,3,7,1,6,0],\"opacity\":1,\"x\":[8,11,8,11,8,11,8,11],\"y\":[5,5,7,7,5,5,7,7],\"z\":[5,5,5,5,8,8,8,8],\"type\":\"mesh3d\"},{\"line\":{\"color\":\"black\",\"width\":0},\"mode\":\"lines\",\"x\":[8,11],\"y\":[7,7],\"z\":[8,8],\"type\":\"scatter3d\"},{\"color\":\"#0D2A63\",\"flatshading\":true,\"i\":[1,2,5,6,1,4,3,6,1,7,0,6],\"j\":[0,3,4,7,0,5,2,7,3,5,2,4],\"k\":[2,1,6,5,4,1,6,3,7,1,6,0],\"opacity\":1,\"x\":[9,11,9,11,9,11,9,11],\"y\":[5,5,7,7,5,5,7,7],\"z\":[8,8,8,8,10,10,10,10],\"type\":\"mesh3d\"},{\"line\":{\"color\":\"black\",\"width\":0},\"mode\":\"lines\",\"x\":[9,11],\"y\":[7,7],\"z\":[10,10],\"type\":\"scatter3d\"},{\"color\":\"#AF0038\",\"flatshading\":true,\"i\":[1,2,5,6,1,4,3,6,1,7,0,6],\"j\":[0,3,4,7,0,5,2,7,3,5,2,4],\"k\":[2,1,6,5,4,1,6,3,7,1,6,0],\"opacity\":1,\"x\":[0,2,0,2,0,2,0,2],\"y\":[6,6,8,8,6,6,8,8],\"z\":[6,6,6,6,8,8,8,8],\"type\":\"mesh3d\"},{\"line\":{\"color\":\"black\",\"width\":0},\"mode\":\"lines\",\"x\":[0,2],\"y\":[8,8],\"z\":[8,8],\"type\":\"scatter3d\"},{\"color\":\"#1616A7\",\"flatshading\":true,\"i\":[1,2,5,6,1,4,3,6,1,7,0,6],\"j\":[0,3,4,7,0,5,2,7,3,5,2,4],\"k\":[2,1,6,5,4,1,6,3,7,1,6,0],\"opacity\":1,\"x\":[0,3,0,3,0,3,0,3],\"y\":[2,2,3,3,2,2,3,3],\"z\":[1,1,1,1,2,2,2,2],\"type\":\"mesh3d\"},{\"line\":{\"color\":\"black\",\"width\":0},\"mode\":\"lines\",\"x\":[0,3],\"y\":[3,3],\"z\":[2,2],\"type\":\"scatter3d\"},{\"color\":\"#DA60CA\",\"flatshading\":true,\"i\":[1,2,5,6,1,4,3,6,1,7,0,6],\"j\":[0,3,4,7,0,5,2,7,3,5,2,4],\"k\":[2,1,6,5,4,1,6,3,7,1,6,0],\"opacity\":1,\"x\":[0,3,0,3,0,3,0,3],\"y\":[4,4,5,5,4,4,5,5],\"z\":[3,3,3,3,4,4,4,4],\"type\":\"mesh3d\"},{\"line\":{\"color\":\"black\",\"width\":0},\"mode\":\"lines\",\"x\":[0,3],\"y\":[5,5],\"z\":[4,4],\"type\":\"scatter3d\"},{\"color\":\"#AF0038\",\"flatshading\":true,\"i\":[1,2,5,6,1,4,3,6,1,7,0,6],\"j\":[0,3,4,7,0,5,2,7,3,5,2,4],\"k\":[2,1,6,5,4,1,6,3,7,1,6,0],\"opacity\":1,\"x\":[4,5,4,5,4,5,4,5],\"y\":[3,3,8,8,3,3,8,8],\"z\":[2,2,2,2,3,3,3,3],\"type\":\"mesh3d\"},{\"line\":{\"color\":\"black\",\"width\":0},\"mode\":\"lines\",\"x\":[4,5],\"y\":[8,8],\"z\":[3,3],\"type\":\"scatter3d\"},{\"color\":\"#0D2A63\",\"flatshading\":true,\"i\":[1,2,5,6,1,4,3,6,1,7,0,6],\"j\":[0,3,4,7,0,5,2,7,3,5,2,4],\"k\":[2,1,6,5,4,1,6,3,7,1,6,0],\"opacity\":1,\"x\":[7,10,7,10,7,10,7,10],\"y\":[8,8,9,9,8,8,9,9],\"z\":[3,3,3,3,4,4,4,4],\"type\":\"mesh3d\"},{\"line\":{\"color\":\"black\",\"width\":0},\"mode\":\"lines\",\"x\":[7,10],\"y\":[9,9],\"z\":[4,4],\"type\":\"scatter3d\"},{\"color\":\"#FB0D0D\",\"flatshading\":true,\"i\":[1,2,5,6,1,4,3,6,1,7,0,6],\"j\":[0,3,4,7,0,5,2,7,3,5,2,4],\"k\":[2,1,6,5,4,1,6,3,7,1,6,0],\"opacity\":1,\"x\":[0,3,0,3,0,3,0,3],\"y\":[6,6,8,8,6,6,8,8],\"z\":[8,8,8,8,9,9,9,9],\"type\":\"mesh3d\"},{\"line\":{\"color\":\"black\",\"width\":0},\"mode\":\"lines\",\"x\":[0,3],\"y\":[8,8],\"z\":[9,9],\"type\":\"scatter3d\"},{\"color\":\"#2E91E5\",\"flatshading\":true,\"i\":[1,2,5,6,1,4,3,6,1,7,0,6],\"j\":[0,3,4,7,0,5,2,7,3,5,2,4],\"k\":[2,1,6,5,4,1,6,3,7,1,6,0],\"opacity\":1,\"x\":[9,10,9,10,9,10,9,10],\"y\":[5,5,7,7,5,5,7,7],\"z\":[10,10,10,10,11,11,11,11],\"type\":\"mesh3d\"},{\"line\":{\"color\":\"black\",\"width\":0},\"mode\":\"lines\",\"x\":[9,10],\"y\":[7,7],\"z\":[11,11],\"type\":\"scatter3d\"},{\"color\":\"#B68100\",\"flatshading\":true,\"i\":[1,2,5,6,1,4,3,6,1,7,0,6],\"j\":[0,3,4,7,0,5,2,7,3,5,2,4],\"k\":[2,1,6,5,4,1,6,3,7,1,6,0],\"opacity\":1,\"x\":[6,7,6,7,6,7,6,7],\"y\":[4,4,9,9,4,4,9,9],\"z\":[0,0,0,0,1,1,1,1],\"type\":\"mesh3d\"},{\"line\":{\"color\":\"black\",\"width\":0},\"mode\":\"lines\",\"x\":[6,7],\"y\":[9,9],\"z\":[1,1],\"type\":\"scatter3d\"},{\"color\":\"#511CFB\",\"flatshading\":true,\"i\":[1,2,5,6,1,4,3,6,1,7,0,6],\"j\":[0,3,4,7,0,5,2,7,3,5,2,4],\"k\":[2,1,6,5,4,1,6,3,7,1,6,0],\"opacity\":1,\"x\":[4,8,4,8,4,8,4,8],\"y\":[10,10,11,11,10,10,11,11],\"z\":[9,9,9,9,10,10,10,10],\"type\":\"mesh3d\"},{\"line\":{\"color\":\"black\",\"width\":0},\"mode\":\"lines\",\"x\":[4,8],\"y\":[11,11],\"z\":[10,10],\"type\":\"scatter3d\"},{\"color\":\"#00A08B\",\"flatshading\":true,\"i\":[1,2,5,6,1,4,3,6,1,7,0,6],\"j\":[0,3,4,7,0,5,2,7,3,5,2,4],\"k\":[2,1,6,5,4,1,6,3,7,1,6,0],\"opacity\":1,\"x\":[4,8,4,8,4,8,4,8],\"y\":[10,10,11,11,10,10,11,11],\"z\":[10,10,10,10,11,11,11,11],\"type\":\"mesh3d\"},{\"line\":{\"color\":\"black\",\"width\":0},\"mode\":\"lines\",\"x\":[4,8],\"y\":[11,11],\"z\":[11,11],\"type\":\"scatter3d\"},{\"color\":\"#1616A7\",\"flatshading\":true,\"i\":[1,2,5,6,1,4,3,6,1,7,0,6],\"j\":[0,3,4,7,0,5,2,7,3,5,2,4],\"k\":[2,1,6,5,4,1,6,3,7,1,6,0],\"opacity\":1,\"x\":[0,3,0,3,0,3,0,3],\"y\":[6,6,8,8,6,6,8,8],\"z\":[9,9,9,9,11,11,11,11],\"type\":\"mesh3d\"},{\"line\":{\"color\":\"black\",\"width\":0},\"mode\":\"lines\",\"x\":[0,3],\"y\":[8,8],\"z\":[11,11],\"type\":\"scatter3d\"},{\"color\":\"#FC0080\",\"flatshading\":true,\"i\":[1,2,5,6,1,4,3,6,1,7,0,6],\"j\":[0,3,4,7,0,5,2,7,3,5,2,4],\"k\":[2,1,6,5,4,1,6,3,7,1,6,0],\"opacity\":1,\"x\":[5,7,5,7,5,7,5,7],\"y\":[3,3,4,4,3,3,4,4],\"z\":[1,1,1,1,2,2,2,2],\"type\":\"mesh3d\"},{\"line\":{\"color\":\"black\",\"width\":0},\"mode\":\"lines\",\"x\":[5,7],\"y\":[4,4],\"z\":[2,2],\"type\":\"scatter3d\"},{\"color\":\"#B2828D\",\"flatshading\":true,\"i\":[1,2,5,6,1,4,3,6,1,7,0,6],\"j\":[0,3,4,7,0,5,2,7,3,5,2,4],\"k\":[2,1,6,5,4,1,6,3,7,1,6,0],\"opacity\":1,\"x\":[0,2,0,2,0,2,0,2],\"y\":[4,4,5,5,4,4,5,5],\"z\":[4,4,4,4,5,5,5,5],\"type\":\"mesh3d\"},{\"line\":{\"color\":\"black\",\"width\":0},\"mode\":\"lines\",\"x\":[0,2],\"y\":[5,5],\"z\":[5,5],\"type\":\"scatter3d\"},{\"color\":\"#620042\",\"flatshading\":true,\"i\":[1,2,5,6,1,4,3,6,1,7,0,6],\"j\":[0,3,4,7,0,5,2,7,3,5,2,4],\"k\":[2,1,6,5,4,1,6,3,7,1,6,0],\"opacity\":1,\"x\":[0,3,0,3,0,3,0,3],\"y\":[6,6,8,8,6,6,8,8],\"z\":[11,11,11,11,12,12,12,12],\"type\":\"mesh3d\"},{\"line\":{\"color\":\"black\",\"width\":0},\"mode\":\"lines\",\"x\":[0,3],\"y\":[8,8],\"z\":[12,12],\"type\":\"scatter3d\"},{\"color\":\"#1616A7\",\"flatshading\":true,\"i\":[1,2,5,6,1,4,3,6,1,7,0,6],\"j\":[0,3,4,7,0,5,2,7,3,5,2,4],\"k\":[2,1,6,5,4,1,6,3,7,1,6,0],\"opacity\":1,\"x\":[0,3,0,3,0,3,0,3],\"y\":[6,6,8,8,6,6,8,8],\"z\":[12,12,12,12,13,13,13,13],\"type\":\"mesh3d\"},{\"line\":{\"color\":\"black\",\"width\":0},\"mode\":\"lines\",\"x\":[0,3],\"y\":[8,8],\"z\":[13,13],\"type\":\"scatter3d\"},{\"color\":\"#DA60CA\",\"flatshading\":true,\"i\":[1,2,5,6,1,4,3,6,1,7,0,6],\"j\":[0,3,4,7,0,5,2,7,3,5,2,4],\"k\":[2,1,6,5,4,1,6,3,7,1,6,0],\"opacity\":1,\"x\":[0,3,0,3,0,3,0,3],\"y\":[3,3,4,4,3,3,4,4],\"z\":[2,2,2,2,4,4,4,4],\"type\":\"mesh3d\"},{\"line\":{\"color\":\"black\",\"width\":0},\"mode\":\"lines\",\"x\":[0,3],\"y\":[4,4],\"z\":[4,4],\"type\":\"scatter3d\"},{\"color\":\"#A777F1\",\"flatshading\":true,\"i\":[1,2,5,6,1,4,3,6,1,7,0,6],\"j\":[0,3,4,7,0,5,2,7,3,5,2,4],\"k\":[2,1,6,5,4,1,6,3,7,1,6,0],\"opacity\":1,\"x\":[3,4,3,4,3,4,3,4],\"y\":[9,9,11,11,9,9,11,11],\"z\":[2,2,2,2,3,3,3,3],\"type\":\"mesh3d\"},{\"line\":{\"color\":\"black\",\"width\":0},\"mode\":\"lines\",\"x\":[3,4],\"y\":[11,11],\"z\":[3,3],\"type\":\"scatter3d\"},{\"color\":\"#2E91E5\",\"flatshading\":true,\"i\":[1,2,5,6,1,4,3,6,1,7,0,6],\"j\":[0,3,4,7,0,5,2,7,3,5,2,4],\"k\":[2,1,6,5,4,1,6,3,7,1,6,0],\"opacity\":1,\"x\":[3,4,3,4,3,4,3,4],\"y\":[1,1,3,3,1,1,3,3],\"z\":[1,1,1,1,5,5,5,5],\"type\":\"mesh3d\"},{\"line\":{\"color\":\"black\",\"width\":0},\"mode\":\"lines\",\"x\":[3,4],\"y\":[3,3],\"z\":[5,5],\"type\":\"scatter3d\"},{\"color\":\"#AF0038\",\"flatshading\":true,\"i\":[1,2,5,6,1,4,3,6,1,7,0,6],\"j\":[0,3,4,7,0,5,2,7,3,5,2,4],\"k\":[2,1,6,5,4,1,6,3,7,1,6,0],\"opacity\":1,\"x\":[2,5,2,5,2,5,2,5],\"y\":[1,1,2,2,1,1,2,2],\"z\":[5,5,5,5,7,7,7,7],\"type\":\"mesh3d\"},{\"line\":{\"color\":\"black\",\"width\":0},\"mode\":\"lines\",\"x\":[2,5],\"y\":[2,2],\"z\":[7,7],\"type\":\"scatter3d\"},{\"color\":\"#2E91E5\",\"flatshading\":true,\"i\":[1,2,5,6,1,4,3,6,1,7,0,6],\"j\":[0,3,4,7,0,5,2,7,3,5,2,4],\"k\":[2,1,6,5,4,1,6,3,7,1,6,0],\"opacity\":1,\"x\":[5,8,5,8,5,8,5,8],\"y\":[10,10,11,11,10,10,11,11],\"z\":[11,11,11,11,13,13,13,13],\"type\":\"mesh3d\"},{\"line\":{\"color\":\"black\",\"width\":0},\"mode\":\"lines\",\"x\":[5,8],\"y\":[11,11],\"z\":[13,13],\"type\":\"scatter3d\"},{\"color\":\"#6C4516\",\"flatshading\":true,\"i\":[1,2,5,6,1,4,3,6,1,7,0,6],\"j\":[0,3,4,7,0,5,2,7,3,5,2,4],\"k\":[2,1,6,5,4,1,6,3,7,1,6,0],\"opacity\":1,\"x\":[4,5,4,5,4,5,4,5],\"y\":[7,7,8,8,7,7,8,8],\"z\":[3,3,3,3,5,5,5,5],\"type\":\"mesh3d\"},{\"line\":{\"color\":\"black\",\"width\":0},\"mode\":\"lines\",\"x\":[4,5],\"y\":[8,8],\"z\":[5,5],\"type\":\"scatter3d\"},{\"color\":\"#6C4516\",\"flatshading\":true,\"i\":[1,2,5,6,1,4,3,6,1,7,0,6],\"j\":[0,3,4,7,0,5,2,7,3,5,2,4],\"k\":[2,1,6,5,4,1,6,3,7,1,6,0],\"opacity\":1,\"x\":[10,11,10,11,10,11,10,11],\"y\":[2,2,3,3,2,2,3,3],\"z\":[1,1,1,1,2,2,2,2],\"type\":\"mesh3d\"},{\"line\":{\"color\":\"black\",\"width\":0},\"mode\":\"lines\",\"x\":[10,11],\"y\":[3,3],\"z\":[2,2],\"type\":\"scatter3d\"},{\"color\":\"#1CA71C\",\"flatshading\":true,\"i\":[1,2,5,6,1,4,3,6,1,7,0,6],\"j\":[0,3,4,7,0,5,2,7,3,5,2,4],\"k\":[2,1,6,5,4,1,6,3,7,1,6,0],\"opacity\":1,\"x\":[7,10,7,10,7,10,7,10],\"y\":[8,8,9,9,8,8,9,9],\"z\":[4,4,4,4,5,5,5,5],\"type\":\"mesh3d\"},{\"line\":{\"color\":\"black\",\"width\":0},\"mode\":\"lines\",\"x\":[7,10],\"y\":[9,9],\"z\":[5,5],\"type\":\"scatter3d\"},{\"color\":\"#B68100\",\"flatshading\":true,\"i\":[1,2,5,6,1,4,3,6,1,7,0,6],\"j\":[0,3,4,7,0,5,2,7,3,5,2,4],\"k\":[2,1,6,5,4,1,6,3,7,1,6,0],\"opacity\":1,\"x\":[7,10,7,10,7,10,7,10],\"y\":[8,8,9,9,8,8,9,9],\"z\":[5,5,5,5,7,7,7,7],\"type\":\"mesh3d\"},{\"line\":{\"color\":\"black\",\"width\":0},\"mode\":\"lines\",\"x\":[7,10],\"y\":[9,9],\"z\":[7,7],\"type\":\"scatter3d\"},{\"color\":\"#511CFB\",\"flatshading\":true,\"i\":[1,2,5,6,1,4,3,6,1,7,0,6],\"j\":[0,3,4,7,0,5,2,7,3,5,2,4],\"k\":[2,1,6,5,4,1,6,3,7,1,6,0],\"opacity\":1,\"x\":[8,9,8,9,8,9,8,9],\"y\":[0,0,4,4,0,0,4,4],\"z\":[4,4,4,4,6,6,6,6],\"type\":\"mesh3d\"},{\"line\":{\"color\":\"black\",\"width\":0},\"mode\":\"lines\",\"x\":[8,9],\"y\":[4,4],\"z\":[6,6],\"type\":\"scatter3d\"},{\"color\":\"#B68100\",\"flatshading\":true,\"i\":[1,2,5,6,1,4,3,6,1,7,0,6],\"j\":[0,3,4,7,0,5,2,7,3,5,2,4],\"k\":[2,1,6,5,4,1,6,3,7,1,6,0],\"opacity\":1,\"x\":[0,1,0,1,0,1,0,1],\"y\":[9,9,11,11,9,9,11,11],\"z\":[0,0,0,0,2,2,2,2],\"type\":\"mesh3d\"},{\"line\":{\"color\":\"black\",\"width\":0},\"mode\":\"lines\",\"x\":[0,1],\"y\":[11,11],\"z\":[2,2],\"type\":\"scatter3d\"},{\"color\":\"#750D86\",\"flatshading\":true,\"i\":[1,2,5,6,1,4,3,6,1,7,0,6],\"j\":[0,3,4,7,0,5,2,7,3,5,2,4],\"k\":[2,1,6,5,4,1,6,3,7,1,6,0],\"opacity\":1,\"x\":[8,9,8,9,8,9,8,9],\"y\":[5,5,7,7,5,5,7,7],\"z\":[8,8,8,8,10,10,10,10],\"type\":\"mesh3d\"},{\"line\":{\"color\":\"black\",\"width\":0},\"mode\":\"lines\",\"x\":[8,9],\"y\":[7,7],\"z\":[10,10],\"type\":\"scatter3d\"}],                        {\"template\":{\"data\":{\"barpolar\":[{\"marker\":{\"line\":{\"color\":\"rgb(17,17,17)\",\"width\":0.5},\"pattern\":{\"fillmode\":\"overlay\",\"size\":10,\"solidity\":0.2}},\"type\":\"barpolar\"}],\"bar\":[{\"error_x\":{\"color\":\"#f2f5fa\"},\"error_y\":{\"color\":\"#f2f5fa\"},\"marker\":{\"line\":{\"color\":\"rgb(17,17,17)\",\"width\":0.5},\"pattern\":{\"fillmode\":\"overlay\",\"size\":10,\"solidity\":0.2}},\"type\":\"bar\"}],\"carpet\":[{\"aaxis\":{\"endlinecolor\":\"#A2B1C6\",\"gridcolor\":\"#506784\",\"linecolor\":\"#506784\",\"minorgridcolor\":\"#506784\",\"startlinecolor\":\"#A2B1C6\"},\"baxis\":{\"endlinecolor\":\"#A2B1C6\",\"gridcolor\":\"#506784\",\"linecolor\":\"#506784\",\"minorgridcolor\":\"#506784\",\"startlinecolor\":\"#A2B1C6\"},\"type\":\"carpet\"}],\"choropleth\":[{\"colorbar\":{\"outlinewidth\":0,\"ticks\":\"\"},\"type\":\"choropleth\"}],\"contourcarpet\":[{\"colorbar\":{\"outlinewidth\":0,\"ticks\":\"\"},\"type\":\"contourcarpet\"}],\"contour\":[{\"colorbar\":{\"outlinewidth\":0,\"ticks\":\"\"},\"colorscale\":[[0.0,\"#0d0887\"],[0.1111111111111111,\"#46039f\"],[0.2222222222222222,\"#7201a8\"],[0.3333333333333333,\"#9c179e\"],[0.4444444444444444,\"#bd3786\"],[0.5555555555555556,\"#d8576b\"],[0.6666666666666666,\"#ed7953\"],[0.7777777777777778,\"#fb9f3a\"],[0.8888888888888888,\"#fdca26\"],[1.0,\"#f0f921\"]],\"type\":\"contour\"}],\"heatmapgl\":[{\"colorbar\":{\"outlinewidth\":0,\"ticks\":\"\"},\"colorscale\":[[0.0,\"#0d0887\"],[0.1111111111111111,\"#46039f\"],[0.2222222222222222,\"#7201a8\"],[0.3333333333333333,\"#9c179e\"],[0.4444444444444444,\"#bd3786\"],[0.5555555555555556,\"#d8576b\"],[0.6666666666666666,\"#ed7953\"],[0.7777777777777778,\"#fb9f3a\"],[0.8888888888888888,\"#fdca26\"],[1.0,\"#f0f921\"]],\"type\":\"heatmapgl\"}],\"heatmap\":[{\"colorbar\":{\"outlinewidth\":0,\"ticks\":\"\"},\"colorscale\":[[0.0,\"#0d0887\"],[0.1111111111111111,\"#46039f\"],[0.2222222222222222,\"#7201a8\"],[0.3333333333333333,\"#9c179e\"],[0.4444444444444444,\"#bd3786\"],[0.5555555555555556,\"#d8576b\"],[0.6666666666666666,\"#ed7953\"],[0.7777777777777778,\"#fb9f3a\"],[0.8888888888888888,\"#fdca26\"],[1.0,\"#f0f921\"]],\"type\":\"heatmap\"}],\"histogram2dcontour\":[{\"colorbar\":{\"outlinewidth\":0,\"ticks\":\"\"},\"colorscale\":[[0.0,\"#0d0887\"],[0.1111111111111111,\"#46039f\"],[0.2222222222222222,\"#7201a8\"],[0.3333333333333333,\"#9c179e\"],[0.4444444444444444,\"#bd3786\"],[0.5555555555555556,\"#d8576b\"],[0.6666666666666666,\"#ed7953\"],[0.7777777777777778,\"#fb9f3a\"],[0.8888888888888888,\"#fdca26\"],[1.0,\"#f0f921\"]],\"type\":\"histogram2dcontour\"}],\"histogram2d\":[{\"colorbar\":{\"outlinewidth\":0,\"ticks\":\"\"},\"colorscale\":[[0.0,\"#0d0887\"],[0.1111111111111111,\"#46039f\"],[0.2222222222222222,\"#7201a8\"],[0.3333333333333333,\"#9c179e\"],[0.4444444444444444,\"#bd3786\"],[0.5555555555555556,\"#d8576b\"],[0.6666666666666666,\"#ed7953\"],[0.7777777777777778,\"#fb9f3a\"],[0.8888888888888888,\"#fdca26\"],[1.0,\"#f0f921\"]],\"type\":\"histogram2d\"}],\"histogram\":[{\"marker\":{\"pattern\":{\"fillmode\":\"overlay\",\"size\":10,\"solidity\":0.2}},\"type\":\"histogram\"}],\"mesh3d\":[{\"colorbar\":{\"outlinewidth\":0,\"ticks\":\"\"},\"type\":\"mesh3d\"}],\"parcoords\":[{\"line\":{\"colorbar\":{\"outlinewidth\":0,\"ticks\":\"\"}},\"type\":\"parcoords\"}],\"pie\":[{\"automargin\":true,\"type\":\"pie\"}],\"scatter3d\":[{\"line\":{\"colorbar\":{\"outlinewidth\":0,\"ticks\":\"\"}},\"marker\":{\"colorbar\":{\"outlinewidth\":0,\"ticks\":\"\"}},\"type\":\"scatter3d\"}],\"scattercarpet\":[{\"marker\":{\"colorbar\":{\"outlinewidth\":0,\"ticks\":\"\"}},\"type\":\"scattercarpet\"}],\"scattergeo\":[{\"marker\":{\"colorbar\":{\"outlinewidth\":0,\"ticks\":\"\"}},\"type\":\"scattergeo\"}],\"scattergl\":[{\"marker\":{\"line\":{\"color\":\"#283442\"}},\"type\":\"scattergl\"}],\"scattermapbox\":[{\"marker\":{\"colorbar\":{\"outlinewidth\":0,\"ticks\":\"\"}},\"type\":\"scattermapbox\"}],\"scatterpolargl\":[{\"marker\":{\"colorbar\":{\"outlinewidth\":0,\"ticks\":\"\"}},\"type\":\"scatterpolargl\"}],\"scatterpolar\":[{\"marker\":{\"colorbar\":{\"outlinewidth\":0,\"ticks\":\"\"}},\"type\":\"scatterpolar\"}],\"scatter\":[{\"marker\":{\"line\":{\"color\":\"#283442\"}},\"type\":\"scatter\"}],\"scatterternary\":[{\"marker\":{\"colorbar\":{\"outlinewidth\":0,\"ticks\":\"\"}},\"type\":\"scatterternary\"}],\"surface\":[{\"colorbar\":{\"outlinewidth\":0,\"ticks\":\"\"},\"colorscale\":[[0.0,\"#0d0887\"],[0.1111111111111111,\"#46039f\"],[0.2222222222222222,\"#7201a8\"],[0.3333333333333333,\"#9c179e\"],[0.4444444444444444,\"#bd3786\"],[0.5555555555555556,\"#d8576b\"],[0.6666666666666666,\"#ed7953\"],[0.7777777777777778,\"#fb9f3a\"],[0.8888888888888888,\"#fdca26\"],[1.0,\"#f0f921\"]],\"type\":\"surface\"}],\"table\":[{\"cells\":{\"fill\":{\"color\":\"#506784\"},\"line\":{\"color\":\"rgb(17,17,17)\"}},\"header\":{\"fill\":{\"color\":\"#2a3f5f\"},\"line\":{\"color\":\"rgb(17,17,17)\"}},\"type\":\"table\"}]},\"layout\":{\"annotationdefaults\":{\"arrowcolor\":\"#f2f5fa\",\"arrowhead\":0,\"arrowwidth\":1},\"autotypenumbers\":\"strict\",\"coloraxis\":{\"colorbar\":{\"outlinewidth\":0,\"ticks\":\"\"}},\"colorscale\":{\"diverging\":[[0,\"#8e0152\"],[0.1,\"#c51b7d\"],[0.2,\"#de77ae\"],[0.3,\"#f1b6da\"],[0.4,\"#fde0ef\"],[0.5,\"#f7f7f7\"],[0.6,\"#e6f5d0\"],[0.7,\"#b8e186\"],[0.8,\"#7fbc41\"],[0.9,\"#4d9221\"],[1,\"#276419\"]],\"sequential\":[[0.0,\"#0d0887\"],[0.1111111111111111,\"#46039f\"],[0.2222222222222222,\"#7201a8\"],[0.3333333333333333,\"#9c179e\"],[0.4444444444444444,\"#bd3786\"],[0.5555555555555556,\"#d8576b\"],[0.6666666666666666,\"#ed7953\"],[0.7777777777777778,\"#fb9f3a\"],[0.8888888888888888,\"#fdca26\"],[1.0,\"#f0f921\"]],\"sequentialminus\":[[0.0,\"#0d0887\"],[0.1111111111111111,\"#46039f\"],[0.2222222222222222,\"#7201a8\"],[0.3333333333333333,\"#9c179e\"],[0.4444444444444444,\"#bd3786\"],[0.5555555555555556,\"#d8576b\"],[0.6666666666666666,\"#ed7953\"],[0.7777777777777778,\"#fb9f3a\"],[0.8888888888888888,\"#fdca26\"],[1.0,\"#f0f921\"]]},\"colorway\":[\"#636efa\",\"#EF553B\",\"#00cc96\",\"#ab63fa\",\"#FFA15A\",\"#19d3f3\",\"#FF6692\",\"#B6E880\",\"#FF97FF\",\"#FECB52\"],\"font\":{\"color\":\"#f2f5fa\"},\"geo\":{\"bgcolor\":\"rgb(17,17,17)\",\"lakecolor\":\"rgb(17,17,17)\",\"landcolor\":\"rgb(17,17,17)\",\"showlakes\":true,\"showland\":true,\"subunitcolor\":\"#506784\"},\"hoverlabel\":{\"align\":\"left\"},\"hovermode\":\"closest\",\"mapbox\":{\"style\":\"dark\"},\"paper_bgcolor\":\"rgb(17,17,17)\",\"plot_bgcolor\":\"rgb(17,17,17)\",\"polar\":{\"angularaxis\":{\"gridcolor\":\"#506784\",\"linecolor\":\"#506784\",\"ticks\":\"\"},\"bgcolor\":\"rgb(17,17,17)\",\"radialaxis\":{\"gridcolor\":\"#506784\",\"linecolor\":\"#506784\",\"ticks\":\"\"}},\"scene\":{\"xaxis\":{\"backgroundcolor\":\"rgb(17,17,17)\",\"gridcolor\":\"#506784\",\"gridwidth\":2,\"linecolor\":\"#506784\",\"showbackground\":true,\"ticks\":\"\",\"zerolinecolor\":\"#C8D4E3\"},\"yaxis\":{\"backgroundcolor\":\"rgb(17,17,17)\",\"gridcolor\":\"#506784\",\"gridwidth\":2,\"linecolor\":\"#506784\",\"showbackground\":true,\"ticks\":\"\",\"zerolinecolor\":\"#C8D4E3\"},\"zaxis\":{\"backgroundcolor\":\"rgb(17,17,17)\",\"gridcolor\":\"#506784\",\"gridwidth\":2,\"linecolor\":\"#506784\",\"showbackground\":true,\"ticks\":\"\",\"zerolinecolor\":\"#C8D4E3\"}},\"shapedefaults\":{\"line\":{\"color\":\"#f2f5fa\"}},\"sliderdefaults\":{\"bgcolor\":\"#C8D4E3\",\"bordercolor\":\"rgb(17,17,17)\",\"borderwidth\":1,\"tickwidth\":0},\"ternary\":{\"aaxis\":{\"gridcolor\":\"#506784\",\"linecolor\":\"#506784\",\"ticks\":\"\"},\"baxis\":{\"gridcolor\":\"#506784\",\"linecolor\":\"#506784\",\"ticks\":\"\"},\"bgcolor\":\"rgb(17,17,17)\",\"caxis\":{\"gridcolor\":\"#506784\",\"linecolor\":\"#506784\",\"ticks\":\"\"}},\"title\":{\"x\":0.05},\"updatemenudefaults\":{\"bgcolor\":\"#506784\",\"borderwidth\":0},\"xaxis\":{\"automargin\":true,\"gridcolor\":\"#283442\",\"linecolor\":\"#506784\",\"ticks\":\"\",\"title\":{\"standoff\":15},\"zerolinecolor\":\"#283442\",\"zerolinewidth\":2},\"yaxis\":{\"automargin\":true,\"gridcolor\":\"#283442\",\"linecolor\":\"#506784\",\"ticks\":\"\",\"title\":{\"standoff\":15},\"zerolinecolor\":\"#283442\",\"zerolinewidth\":2}}},\"scene\":{\"camera\":{\"eye\":{\"x\":2,\"y\":2,\"z\":0.1}},\"xaxis\":{\"nticks\":13,\"range\":[0,12],\"showgrid\":false,\"showticklabels\":false},\"yaxis\":{\"nticks\":13,\"range\":[0,12],\"showgrid\":false,\"showticklabels\":false},\"zaxis\":{\"nticks\":13,\"range\":[0,12],\"showgrid\":false,\"showticklabels\":false},\"aspectmode\":\"cube\"},\"showlegend\":false,\"width\":1200,\"height\":1200,\"margin\":{\"r\":20,\"l\":10,\"b\":10,\"t\":10}},                        {\"responsive\": true}                    ).then(function(){\n                            \nvar gd = document.getElementById('cb09082e-c647-47b7-95b9-9a566ff50099');\nvar x = new MutationObserver(function (mutations, observer) {{\n        var display = window.getComputedStyle(gd).display;\n        if (!display || display === 'none') {{\n            console.log([gd, 'removed!']);\n            Plotly.purge(gd);\n            observer.disconnect();\n        }}\n}});\n\n// Listen for the removal of the full notebook cells\nvar notebookContainer = gd.closest('#notebook-container');\nif (notebookContainer) {{\n    x.observe(notebookContainer, {childList: true});\n}}\n\n// Listen for the clearing of the current output cell\nvar outputEl = gd.closest('.output');\nif (outputEl) {{\n    x.observe(outputEl, {childList: true});\n}}\n\n                        })                };                });            </script>        </div>"
     },
     "metadata": {},
     "output_type": "display_data"
    }
   ],
   "source": [
    "env = make('PackingEnv0', new_step_api=False, container_size=[11, 11, 11], box_sizes=boxes_generator([10, 10, 10], num_items= 100, seed = 5),\n",
    "num_visible_boxes=1,  render_mode='human')\n",
    "obs = env.reset()\n",
    "\n",
    "for step_num in range(100):\n",
    "    action_mask = obs['action_mask']\n",
    "    action = env.action_space.sample(action_mask)\n",
    "    obs, reward, done, info = env.step(action)\n",
    "    if done:\n",
    "        break\n",
    "\n",
    "env.container.plot()"
   ],
   "metadata": {
    "collapsed": false,
    "pycharm": {
     "name": "#%%\n"
    }
   }
  },
  {
   "cell_type": "code",
   "execution_count": 23,
   "outputs": [
    {
     "data": {
      "text/plain": "[Box id: 0, Size: 2 x 4 x 4, Position: (0, 5, 0),\n Box id: 1, Size: 1 x 5 x 3, Position: (10, 5, 0),\n Box id: 2, Size: 1 x 5 x 2, Position: (4, 3, 0),\n Box id: 3, Size: 1 x 5 x 1, Position: (3, 1, 0),\n Box id: 4, Size: 1 x 5 x 3, Position: (5, 4, 0),\n Box id: 5, Size: 9 x 2 x 1, Position: (1, 9, 0),\n Box id: 6, Size: 1 x 2 x 1, Position: (10, 1, 0),\n Box id: 7, Size: 1 x 4 x 5, Position: (2, 5, 0),\n Box id: 8, Size: 1 x 4 x 5, Position: (5, 5, 3),\n Box id: 9, Size: 8 x 2 x 1, Position: (2, 9, 1),\n Box id: 10, Size: 2 x 2 x 1, Position: (5, 2, 0),\n Box id: 11, Size: 1 x 8 x 1, Position: (7, 0, 0),\n Box id: 12, Size: 1 x 8 x 1, Position: (9, 0, 0),\n Box id: 14, Size: 1 x 3 x 2, Position: (5, 6, 8),\n Box id: 15, Size: 1 x 4 x 4, Position: (7, 0, 1),\n Box id: 16, Size: 1 x 1 x 5, Position: (2, 1, 0),\n Box id: 17, Size: 1 x 2 x 5, Position: (4, 1, 0),\n Box id: 18, Size: 1 x 4 x 3, Position: (2, 5, 5),\n Box id: 19, Size: 3 x 1 x 3, Position: (0, 4, 0),\n Box id: 20, Size: 2 x 4 x 2, Position: (0, 5, 4),\n Box id: 21, Size: 4 x 2 x 1, Position: (4, 9, 2),\n Box id: 22, Size: 4 x 1 x 2, Position: (2, 0, 0),\n Box id: 24, Size: 4 x 2 x 1, Position: (4, 9, 3),\n Box id: 26, Size: 2 x 1 x 1, Position: (4, 0, 2),\n Box id: 27, Size: 3 x 1 x 1, Position: (7, 8, 0),\n Box id: 28, Size: 4 x 2 x 1, Position: (4, 9, 4),\n Box id: 29, Size: 4 x 2 x 3, Position: (4, 9, 5),\n Box id: 32, Size: 4 x 1 x 1, Position: (4, 10, 8),\n Box id: 35, Size: 3 x 1 x 2, Position: (0, 3, 0),\n Box id: 39, Size: 1 x 4 x 2, Position: (9, 4, 1),\n Box id: 40, Size: 1 x 4 x 2, Position: (7, 4, 1),\n Box id: 41, Size: 3 x 1 x 1, Position: (0, 2, 0),\n Box id: 42, Size: 1 x 1 x 1, Position: (9, 1, 1),\n Box id: 45, Size: 3 x 1 x 2, Position: (5, 9, 8),\n Box id: 46, Size: 1 x 1 x 1, Position: (3, 4, 1),\n Box id: 51, Size: 1 x 8 x 2, Position: (8, 0, 0),\n Box id: 52, Size: 1 x 8 x 2, Position: (8, 0, 2),\n Box id: 53, Size: 1 x 1 x 2, Position: (1, 5, 6),\n Box id: 54, Size: 1 x 1 x 3, Position: (5, 8, 10),\n Box id: 55, Size: 3 x 1 x 2, Position: (7, 8, 1),\n Box id: 57, Size: 2 x 3 x 1, Position: (9, 5, 3),\n Box id: 58, Size: 3 x 3 x 1, Position: (8, 5, 4),\n Box id: 60, Size: 3 x 1 x 3, Position: (8, 7, 5),\n Box id: 61, Size: 3 x 2 x 3, Position: (8, 5, 5),\n Box id: 62, Size: 2 x 2 x 2, Position: (9, 5, 8),\n Box id: 63, Size: 2 x 2 x 2, Position: (0, 6, 6),\n Box id: 64, Size: 3 x 1 x 1, Position: (0, 2, 1),\n Box id: 65, Size: 3 x 1 x 1, Position: (0, 4, 3),\n Box id: 66, Size: 1 x 5 x 1, Position: (4, 3, 2),\n Box id: 67, Size: 3 x 1 x 1, Position: (7, 8, 3),\n Box id: 69, Size: 3 x 2 x 1, Position: (0, 6, 8),\n Box id: 70, Size: 1 x 2 x 1, Position: (9, 5, 10),\n Box id: 73, Size: 1 x 5 x 1, Position: (6, 4, 0),\n Box id: 77, Size: 4 x 1 x 1, Position: (4, 10, 9),\n Box id: 78, Size: 4 x 1 x 1, Position: (4, 10, 10),\n Box id: 79, Size: 3 x 2 x 2, Position: (0, 6, 9),\n Box id: 82, Size: 2 x 1 x 1, Position: (5, 3, 1),\n Box id: 83, Size: 2 x 1 x 1, Position: (0, 4, 4),\n Box id: 84, Size: 3 x 2 x 1, Position: (0, 6, 11),\n Box id: 85, Size: 3 x 2 x 1, Position: (0, 6, 12),\n Box id: 86, Size: 3 x 1 x 2, Position: (0, 3, 2),\n Box id: 87, Size: 1 x 2 x 1, Position: (3, 9, 2),\n Box id: 88, Size: 1 x 2 x 4, Position: (3, 1, 1),\n Box id: 89, Size: 3 x 1 x 2, Position: (2, 1, 5),\n Box id: 90, Size: 3 x 1 x 2, Position: (5, 10, 11),\n Box id: 91, Size: 1 x 1 x 2, Position: (4, 7, 3),\n Box id: 92, Size: 1 x 1 x 1, Position: (10, 2, 1),\n Box id: 95, Size: 3 x 1 x 1, Position: (7, 8, 4),\n Box id: 96, Size: 3 x 1 x 2, Position: (7, 8, 5),\n Box id: 97, Size: 1 x 4 x 2, Position: (8, 0, 4),\n Box id: 98, Size: 1 x 2 x 2, Position: (0, 9, 0),\n Box id: 99, Size: 1 x 2 x 2, Position: (8, 5, 8)]"
     },
     "execution_count": 23,
     "metadata": {},
     "output_type": "execute_result"
    }
   ],
   "source": [
    "env.container.boxes"
   ],
   "metadata": {
    "collapsed": false,
    "pycharm": {
     "name": "#%%\n"
    }
   }
  },
  {
   "cell_type": "code",
   "execution_count": null,
   "outputs": [],
   "source": [],
   "metadata": {
    "collapsed": false,
    "pycharm": {
     "name": "#%%\n"
    }
   }
  }
 ],
 "metadata": {
  "kernelspec": {
   "display_name": "Python 3",
   "language": "python",
   "name": "python3"
  },
  "language_info": {
   "codemirror_mode": {
    "name": "ipython",
    "version": 2
   },
   "file_extension": ".py",
   "mimetype": "text/x-python",
   "name": "python",
   "nbconvert_exporter": "python",
   "pygments_lexer": "ipython2",
   "version": "2.7.6"
  }
 },
 "nbformat": 4,
 "nbformat_minor": 0
}