{
 "cells": [
  {
   "cell_type": "markdown",
   "source": [
    "# Demo for the Gym environment\n",
    "\n",
    "In this notebook we test the gym environment for the packing problem with a random agent."
   ],
   "metadata": {
    "collapsed": false,
    "pycharm": {
     "name": "#%% md\n"
    }
   }
  },
  {
   "cell_type": "code",
   "execution_count": 1,
   "outputs": [],
   "source": [
    "# Add parent directory to path\n",
    "import os\n",
    "import sys\n",
    "\n",
    "p_dir = os.path.split(os.getcwd())[0]\n",
    "if p_dir not in sys.path:\n",
    "    sys.path.append(p_dir)"
   ],
   "metadata": {
    "collapsed": false,
    "pycharm": {
     "name": "#%%\n"
    }
   }
  },
  {
   "cell_type": "code",
   "execution_count": 12,
   "outputs": [],
   "source": [
    "# Create the environment\n",
    "from src.utils import boxes_generator\n",
    "from gym import make\n",
    "import warnings\n",
    "\n",
    "#Ignore plotly and gym deprecation warnings\n",
    "warnings.filterwarnings(\"ignore\", category=DeprecationWarning)"
   ],
   "metadata": {
    "collapsed": false,
    "pycharm": {
     "name": "#%%\n"
    }
   }
  },
  {
   "cell_type": "code",
   "execution_count": 13,
   "outputs": [
    {
     "name": "stderr",
     "output_type": "stream",
     "text": [
      "  Image 1 captured. (elapsed time: 0.0 min; 4 sec)\n",
      "  Image 2 captured. (elapsed time: 0.0 min; 9 sec)\n",
      "  Image 3 captured. (elapsed time: 0.0 min; 16 sec)\n",
      "  Image 4 captured. (elapsed time: 0.0 min; 22 sec)\n",
      "  Image 5 captured. (elapsed time: 0.0 min; 30 sec)\n",
      "  Image 6 captured. (elapsed time: 0.0 min; 36 sec)\n",
      "  Image 7 captured. (elapsed time: 0.0 min; 41 sec)\n",
      "  Image 8 captured. (elapsed time: 0.0 min; 51 sec)\n",
      "  Image 9 captured. (elapsed time: 0.0 min; 58 sec)\n",
      "  Image 10 captured. (elapsed time: 1.0 min; 3 sec)\n",
      "  Image 11 captured. (elapsed time: 1.0 min; 7 sec)\n",
      "  Image 12 captured. (elapsed time: 1.0 min; 12 sec)\n",
      "  Image 13 captured. (elapsed time: 1.0 min; 16 sec)\n",
      "  Image 14 captured. (elapsed time: 1.0 min; 21 sec)\n",
      "  Image 15 captured. (elapsed time: 1.0 min; 28 sec)\n",
      "  Image 16 captured. (elapsed time: 1.0 min; 34 sec)\n",
      "  Image 17 captured. (elapsed time: 1.0 min; 41 sec)\n",
      "  Image 18 captured. (elapsed time: 1.0 min; 46 sec)\n",
      "  Image 19 captured. (elapsed time: 1.0 min; 50 sec)\n",
      "  Image 20 captured. (elapsed time: 1.0 min; 54 sec)\n",
      "  Image 21 captured. (elapsed time: 1.0 min; 58 sec)\n",
      "  Image 22 captured. (elapsed time: 2.0 min; 2 sec)\n",
      "  Image 23 captured. (elapsed time: 2.0 min; 6 sec)\n",
      "  Image 24 captured. (elapsed time: 2.0 min; 10 sec)\n",
      "  Image 25 captured. (elapsed time: 2.0 min; 13 sec)\n",
      "  Image 26 captured. (elapsed time: 2.0 min; 17 sec)\n",
      "  Image 27 captured. (elapsed time: 2.0 min; 21 sec)\n",
      "  Image 28 captured. (elapsed time: 2.0 min; 25 sec)\n",
      "  Image 29 captured. (elapsed time: 2.0 min; 29 sec)\n",
      "  Image 30 captured. (elapsed time: 2.0 min; 33 sec)\n",
      "  Image 31 captured. (elapsed time: 2.0 min; 37 sec)\n",
      "  Image 32 captured. (elapsed time: 2.0 min; 41 sec)\n",
      "  Image 33 captured. (elapsed time: 2.0 min; 46 sec)\n",
      "  Image 34 captured. (elapsed time: 2.0 min; 50 sec)\n",
      "  Image 35 captured. (elapsed time: 2.0 min; 55 sec)\n",
      "  Image 36 captured. (elapsed time: 2.0 min; 59 sec)\n",
      "  Image 37 captured. (elapsed time: 3.0 min; 5 sec)\n",
      "  Image 38 captured. (elapsed time: 3.0 min; 10 sec)\n",
      "  Image 39 captured. (elapsed time: 3.0 min; 15 sec)\n",
      "  Image 40 captured. (elapsed time: 3.0 min; 20 sec)\n",
      "  Image 41 captured. (elapsed time: 3.0 min; 26 sec)\n",
      "  Image 42 captured. (elapsed time: 3.0 min; 30 sec)\n",
      "  Image 43 captured. (elapsed time: 3.0 min; 34 sec)\n",
      "  Image 44 captured. (elapsed time: 3.0 min; 39 sec)\n",
      "  Image 45 captured. (elapsed time: 3.0 min; 57 sec)\n",
      "  Image 46 captured. (elapsed time: 4.0 min; 18 sec)\n",
      "  Image 47 captured. (elapsed time: 4.0 min; 32 sec)\n",
      "  Image 48 captured. (elapsed time: 4.0 min; 39 sec)\n",
      "  Image 49 captured. (elapsed time: 4.0 min; 45 sec)\n",
      "  Image 50 captured. (elapsed time: 4.0 min; 50 sec)\n",
      "  Image 51 captured. (elapsed time: 4.0 min; 54 sec)\n",
      "  Image 52 captured. (elapsed time: 5.0 min; 0 sec)\n",
      "  Image 53 captured. (elapsed time: 5.0 min; 5 sec)\n",
      "  Image 54 captured. (elapsed time: 5.0 min; 11 sec)\n",
      "  Image 55 captured. (elapsed time: 5.0 min; 16 sec)\n",
      "  Image 56 captured. (elapsed time: 5.0 min; 31 sec)\n",
      "  Image 57 captured. (elapsed time: 5.0 min; 38 sec)\n",
      "  Image 58 captured. (elapsed time: 5.0 min; 45 sec)\n",
      "  Image 59 captured. (elapsed time: 5.0 min; 51 sec)\n",
      "  Image 60 captured. (elapsed time: 5.0 min; 57 sec)\n",
      "  Image 61 captured. (elapsed time: 6.0 min; 9 sec)\n",
      "  Image 62 captured. (elapsed time: 6.0 min; 26 sec)\n",
      "  Image 63 captured. (elapsed time: 6.0 min; 35 sec)\n",
      "  Image 64 captured. (elapsed time: 6.0 min; 44 sec)\n",
      "  gif created: ../gifs/random_rollout2.gif (time to generate gif: 0.0 min; 9 sec)\n"
     ]
    }
   ],
   "source": [
    "from plotly_gif import GIF\n",
    "\n",
    "gif = GIF(gif_name=\"random_rollout2.gif\", gif_path=\"../gifs\")\n",
    "\n",
    "#Environment initialization\n",
    "env = make(\n",
    "        \"PackingEnv-v0\",\n",
    "        container_size=[10, 10, 10],\n",
    "        box_sizes=boxes_generator([10, 10, 10], 64, 42),\n",
    "        num_visible_boxes=1,\n",
    "    )\n",
    "obs = env.reset()\n",
    "\n",
    "# Rollout of random actions\n",
    "for step_num in range(80):\n",
    "    fig = env.render()\n",
    "    gif.create_image(fig)\n",
    "    action_mask = obs['action_mask']\n",
    "\n",
    "    action = env.action_space.sample(action_mask)\n",
    "    obs, reward, done, info = env.step(action)\n",
    "    if done:\n",
    "        break\n",
    "\n",
    "gif.create_gif(length=5000)\n",
    "fig = env.container.plot()\n",
    "fig.show()\n"
   ],
   "metadata": {
    "collapsed": false,
    "pycharm": {
     "name": "#%%\n"
    }
   }
  },
  {
   "cell_type": "code",
   "execution_count": 9,
   "outputs": [
    {
     "data": {
      "application/vnd.plotly.v1+json": {
       "data": [
        {
         "line": {
          "color": "yellow",
          "width": 3
         },
         "mode": "lines",
         "x": [
          0,
          11
         ],
         "y": [
          0,
          0
         ],
         "z": [
          0,
          0
         ],
         "type": "scatter3d"
        },
        {
         "line": {
          "color": "yellow",
          "width": 3
         },
         "mode": "lines",
         "x": [
          0,
          0
         ],
         "y": [
          0,
          11
         ],
         "z": [
          0,
          0
         ],
         "type": "scatter3d"
        },
        {
         "line": {
          "color": "yellow",
          "width": 3
         },
         "mode": "lines",
         "x": [
          0,
          0
         ],
         "y": [
          0,
          0
         ],
         "z": [
          0,
          11
         ],
         "type": "scatter3d"
        },
        {
         "line": {
          "color": "yellow",
          "width": 3
         },
         "mode": "lines",
         "x": [
          11,
          11
         ],
         "y": [
          0,
          11
         ],
         "z": [
          0,
          0
         ],
         "type": "scatter3d"
        },
        {
         "line": {
          "color": "yellow",
          "width": 3
         },
         "mode": "lines",
         "x": [
          11,
          11
         ],
         "y": [
          0,
          0
         ],
         "z": [
          0,
          11
         ],
         "type": "scatter3d"
        },
        {
         "line": {
          "color": "yellow",
          "width": 3
         },
         "mode": "lines",
         "x": [
          0,
          11
         ],
         "y": [
          11,
          11
         ],
         "z": [
          0,
          0
         ],
         "type": "scatter3d"
        },
        {
         "line": {
          "color": "yellow",
          "width": 3
         },
         "mode": "lines",
         "x": [
          0,
          0
         ],
         "y": [
          11,
          11
         ],
         "z": [
          0,
          11
         ],
         "type": "scatter3d"
        },
        {
         "line": {
          "color": "yellow",
          "width": 3
         },
         "mode": "lines",
         "x": [
          11,
          11
         ],
         "y": [
          11,
          11
         ],
         "z": [
          0,
          11
         ],
         "type": "scatter3d"
        },
        {
         "line": {
          "color": "yellow",
          "width": 3
         },
         "mode": "lines",
         "x": [
          0,
          11
         ],
         "y": [
          0,
          0
         ],
         "z": [
          11,
          11
         ],
         "type": "scatter3d"
        },
        {
         "line": {
          "color": "yellow",
          "width": 3
         },
         "mode": "lines",
         "x": [
          0,
          0
         ],
         "y": [
          0,
          11
         ],
         "z": [
          11,
          11
         ],
         "type": "scatter3d"
        },
        {
         "line": {
          "color": "yellow",
          "width": 3
         },
         "mode": "lines",
         "x": [
          11,
          11
         ],
         "y": [
          0,
          11
         ],
         "z": [
          11,
          11
         ],
         "type": "scatter3d"
        },
        {
         "line": {
          "color": "yellow",
          "width": 3
         },
         "mode": "lines",
         "x": [
          0,
          11
         ],
         "y": [
          11,
          11
         ],
         "z": [
          11,
          11
         ],
         "type": "scatter3d"
        },
        {
         "color": "#FC0080",
         "flatshading": true,
         "i": [
          1,
          2,
          5,
          6,
          1,
          4,
          3,
          6,
          1,
          7,
          0,
          6
         ],
         "j": [
          0,
          3,
          4,
          7,
          0,
          5,
          2,
          7,
          3,
          5,
          2,
          4
         ],
         "k": [
          2,
          1,
          6,
          5,
          4,
          1,
          6,
          3,
          7,
          1,
          6,
          0
         ],
         "opacity": 1,
         "x": [
          1,
          5,
          1,
          5,
          1,
          5,
          1,
          5
         ],
         "y": [
          0,
          0,
          3,
          3,
          0,
          0,
          3,
          3
         ],
         "z": [
          0,
          0,
          0,
          0,
          3,
          3,
          3,
          3
         ],
         "type": "mesh3d"
        },
        {
         "line": {
          "color": "black",
          "width": 0
         },
         "mode": "lines",
         "x": [
          1,
          5
         ],
         "y": [
          3,
          3
         ],
         "z": [
          3,
          3
         ],
         "type": "scatter3d"
        },
        {
         "color": "#511CFB",
         "flatshading": true,
         "i": [
          1,
          2,
          5,
          6,
          1,
          4,
          3,
          6,
          1,
          7,
          0,
          6
         ],
         "j": [
          0,
          3,
          4,
          7,
          0,
          5,
          2,
          7,
          3,
          5,
          2,
          4
         ],
         "k": [
          2,
          1,
          6,
          5,
          4,
          1,
          6,
          3,
          7,
          1,
          6,
          0
         ],
         "opacity": 1,
         "x": [
          9,
          11,
          9,
          11,
          9,
          11,
          9,
          11
         ],
         "y": [
          1,
          1,
          5,
          5,
          1,
          1,
          5,
          5
         ],
         "z": [
          0,
          0,
          0,
          0,
          4,
          4,
          4,
          4
         ],
         "type": "mesh3d"
        },
        {
         "line": {
          "color": "black",
          "width": 0
         },
         "mode": "lines",
         "x": [
          9,
          11
         ],
         "y": [
          5,
          5
         ],
         "z": [
          4,
          4
         ],
         "type": "scatter3d"
        },
        {
         "color": "#A777F1",
         "flatshading": true,
         "i": [
          1,
          2,
          5,
          6,
          1,
          4,
          3,
          6,
          1,
          7,
          0,
          6
         ],
         "j": [
          0,
          3,
          4,
          7,
          0,
          5,
          2,
          7,
          3,
          5,
          2,
          4
         ],
         "k": [
          2,
          1,
          6,
          5,
          4,
          1,
          6,
          3,
          7,
          1,
          6,
          0
         ],
         "opacity": 1,
         "x": [
          2,
          3,
          2,
          3,
          2,
          3,
          2,
          3
         ],
         "y": [
          3,
          3,
          8,
          8,
          3,
          3,
          8,
          8
         ],
         "z": [
          0,
          0,
          0,
          0,
          3,
          3,
          3,
          3
         ],
         "type": "mesh3d"
        },
        {
         "line": {
          "color": "black",
          "width": 0
         },
         "mode": "lines",
         "x": [
          2,
          3
         ],
         "y": [
          8,
          8
         ],
         "z": [
          3,
          3
         ],
         "type": "scatter3d"
        },
        {
         "color": "#B2828D",
         "flatshading": true,
         "i": [
          1,
          2,
          5,
          6,
          1,
          4,
          3,
          6,
          1,
          7,
          0,
          6
         ],
         "j": [
          0,
          3,
          4,
          7,
          0,
          5,
          2,
          7,
          3,
          5,
          2,
          4
         ],
         "k": [
          2,
          1,
          6,
          5,
          4,
          1,
          6,
          3,
          7,
          1,
          6,
          0
         ],
         "opacity": 1,
         "x": [
          5,
          6,
          5,
          6,
          5,
          6,
          5,
          6
         ],
         "y": [
          5,
          5,
          10,
          10,
          5,
          5,
          10,
          10
         ],
         "z": [
          0,
          0,
          0,
          0,
          2,
          2,
          2,
          2
         ],
         "type": "mesh3d"
        },
        {
         "line": {
          "color": "black",
          "width": 0
         },
         "mode": "lines",
         "x": [
          5,
          6
         ],
         "y": [
          10,
          10
         ],
         "z": [
          2,
          2
         ],
         "type": "scatter3d"
        },
        {
         "color": "#511CFB",
         "flatshading": true,
         "i": [
          1,
          2,
          5,
          6,
          1,
          4,
          3,
          6,
          1,
          7,
          0,
          6
         ],
         "j": [
          0,
          3,
          4,
          7,
          0,
          5,
          2,
          7,
          3,
          5,
          2,
          4
         ],
         "k": [
          2,
          1,
          6,
          5,
          4,
          1,
          6,
          3,
          7,
          1,
          6,
          0
         ],
         "opacity": 1,
         "x": [
          0,
          1,
          0,
          1,
          0,
          1,
          0,
          1
         ],
         "y": [
          5,
          5,
          10,
          10,
          5,
          5,
          10,
          10
         ],
         "z": [
          0,
          0,
          0,
          0,
          1,
          1,
          1,
          1
         ],
         "type": "mesh3d"
        },
        {
         "line": {
          "color": "black",
          "width": 0
         },
         "mode": "lines",
         "x": [
          0,
          1
         ],
         "y": [
          10,
          10
         ],
         "z": [
          1,
          1
         ],
         "type": "scatter3d"
        },
        {
         "color": "#DA60CA",
         "flatshading": true,
         "i": [
          1,
          2,
          5,
          6,
          1,
          4,
          3,
          6,
          1,
          7,
          0,
          6
         ],
         "j": [
          0,
          3,
          4,
          7,
          0,
          5,
          2,
          7,
          3,
          5,
          2,
          4
         ],
         "k": [
          2,
          1,
          6,
          5,
          4,
          1,
          6,
          3,
          7,
          1,
          6,
          0
         ],
         "opacity": 1,
         "x": [
          7,
          8,
          7,
          8,
          7,
          8,
          7,
          8
         ],
         "y": [
          3,
          3,
          8,
          8,
          3,
          3,
          8,
          8
         ],
         "z": [
          0,
          0,
          0,
          0,
          3,
          3,
          3,
          3
         ],
         "type": "mesh3d"
        },
        {
         "line": {
          "color": "black",
          "width": 0
         },
         "mode": "lines",
         "x": [
          7,
          8
         ],
         "y": [
          8,
          8
         ],
         "z": [
          3,
          3
         ],
         "type": "scatter3d"
        },
        {
         "color": "#511CFB",
         "flatshading": true,
         "i": [
          1,
          2,
          5,
          6,
          1,
          4,
          3,
          6,
          1,
          7,
          0,
          6
         ],
         "j": [
          0,
          3,
          4,
          7,
          0,
          5,
          2,
          7,
          3,
          5,
          2,
          4
         ],
         "k": [
          2,
          1,
          6,
          5,
          4,
          1,
          6,
          3,
          7,
          1,
          6,
          0
         ],
         "opacity": 1,
         "x": [
          1,
          2,
          1,
          2,
          1,
          2,
          1,
          2
         ],
         "y": [
          7,
          7,
          9,
          9,
          7,
          7,
          9,
          9
         ],
         "z": [
          0,
          0,
          0,
          0,
          1,
          1,
          1,
          1
         ],
         "type": "mesh3d"
        },
        {
         "line": {
          "color": "black",
          "width": 0
         },
         "mode": "lines",
         "x": [
          1,
          2
         ],
         "y": [
          9,
          9
         ],
         "z": [
          1,
          1
         ],
         "type": "scatter3d"
        },
        {
         "color": "#862A16",
         "flatshading": true,
         "i": [
          1,
          2,
          5,
          6,
          1,
          4,
          3,
          6,
          1,
          7,
          0,
          6
         ],
         "j": [
          0,
          3,
          4,
          7,
          0,
          5,
          2,
          7,
          3,
          5,
          2,
          4
         ],
         "k": [
          2,
          1,
          6,
          5,
          4,
          1,
          6,
          3,
          7,
          1,
          6,
          0
         ],
         "opacity": 1,
         "x": [
          6,
          10,
          6,
          10,
          6,
          10,
          6,
          10
         ],
         "y": [
          10,
          10,
          11,
          11,
          10,
          10,
          11,
          11
         ],
         "z": [
          0,
          0,
          0,
          0,
          2,
          2,
          2,
          2
         ],
         "type": "mesh3d"
        },
        {
         "line": {
          "color": "black",
          "width": 0
         },
         "mode": "lines",
         "x": [
          6,
          10
         ],
         "y": [
          11,
          11
         ],
         "z": [
          2,
          2
         ],
         "type": "scatter3d"
        },
        {
         "color": "#222A2A",
         "flatshading": true,
         "i": [
          1,
          2,
          5,
          6,
          1,
          4,
          3,
          6,
          1,
          7,
          0,
          6
         ],
         "j": [
          0,
          3,
          4,
          7,
          0,
          5,
          2,
          7,
          3,
          5,
          2,
          4
         ],
         "k": [
          2,
          1,
          6,
          5,
          4,
          1,
          6,
          3,
          7,
          1,
          6,
          0
         ],
         "opacity": 1,
         "x": [
          9,
          10,
          9,
          10,
          9,
          10,
          9,
          10
         ],
         "y": [
          1,
          1,
          5,
          5,
          1,
          1,
          5,
          5
         ],
         "z": [
          4,
          4,
          4,
          4,
          9,
          9,
          9,
          9
         ],
         "type": "mesh3d"
        },
        {
         "line": {
          "color": "black",
          "width": 0
         },
         "mode": "lines",
         "x": [
          9,
          10
         ],
         "y": [
          5,
          5
         ],
         "z": [
          9,
          9
         ],
         "type": "scatter3d"
        },
        {
         "color": "#B68100",
         "flatshading": true,
         "i": [
          1,
          2,
          5,
          6,
          1,
          4,
          3,
          6,
          1,
          7,
          0,
          6
         ],
         "j": [
          0,
          3,
          4,
          7,
          0,
          5,
          2,
          7,
          3,
          5,
          2,
          4
         ],
         "k": [
          2,
          1,
          6,
          5,
          4,
          1,
          6,
          3,
          7,
          1,
          6,
          0
         ],
         "opacity": 1,
         "x": [
          6,
          7,
          6,
          7,
          6,
          7,
          6,
          7
         ],
         "y": [
          5,
          5,
          9,
          9,
          5,
          5,
          9,
          9
         ],
         "z": [
          0,
          0,
          0,
          0,
          5,
          5,
          5,
          5
         ],
         "type": "mesh3d"
        },
        {
         "line": {
          "color": "black",
          "width": 0
         },
         "mode": "lines",
         "x": [
          6,
          7
         ],
         "y": [
          9,
          9
         ],
         "z": [
          5,
          5
         ],
         "type": "scatter3d"
        },
        {
         "color": "#862A16",
         "flatshading": true,
         "i": [
          1,
          2,
          5,
          6,
          1,
          4,
          3,
          6,
          1,
          7,
          0,
          6
         ],
         "j": [
          0,
          3,
          4,
          7,
          0,
          5,
          2,
          7,
          3,
          5,
          2,
          4
         ],
         "k": [
          2,
          1,
          6,
          5,
          4,
          1,
          6,
          3,
          7,
          1,
          6,
          0
         ],
         "opacity": 1,
         "x": [
          2,
          4,
          2,
          4,
          2,
          4,
          2,
          4
         ],
         "y": [
          0,
          0,
          2,
          2,
          0,
          0,
          2,
          2
         ],
         "z": [
          3,
          3,
          3,
          3,
          4,
          4,
          4,
          4
         ],
         "type": "mesh3d"
        },
        {
         "line": {
          "color": "black",
          "width": 0
         },
         "mode": "lines",
         "x": [
          2,
          4
         ],
         "y": [
          2,
          2
         ],
         "z": [
          4,
          4
         ],
         "type": "scatter3d"
        },
        {
         "color": "#6C4516",
         "flatshading": true,
         "i": [
          1,
          2,
          5,
          6,
          1,
          4,
          3,
          6,
          1,
          7,
          0,
          6
         ],
         "j": [
          0,
          3,
          4,
          7,
          0,
          5,
          2,
          7,
          3,
          5,
          2,
          4
         ],
         "k": [
          2,
          1,
          6,
          5,
          4,
          1,
          6,
          3,
          7,
          1,
          6,
          0
         ],
         "opacity": 1,
         "x": [
          8,
          9,
          8,
          9,
          8,
          9,
          8,
          9
         ],
         "y": [
          1,
          1,
          9,
          9,
          1,
          1,
          9,
          9
         ],
         "z": [
          0,
          0,
          0,
          0,
          1,
          1,
          1,
          1
         ],
         "type": "mesh3d"
        },
        {
         "line": {
          "color": "black",
          "width": 0
         },
         "mode": "lines",
         "x": [
          8,
          9
         ],
         "y": [
          9,
          9
         ],
         "z": [
          1,
          1
         ],
         "type": "scatter3d"
        },
        {
         "color": "#0D2A63",
         "flatshading": true,
         "i": [
          1,
          2,
          5,
          6,
          1,
          4,
          3,
          6,
          1,
          7,
          0,
          6
         ],
         "j": [
          0,
          3,
          4,
          7,
          0,
          5,
          2,
          7,
          3,
          5,
          2,
          4
         ],
         "k": [
          2,
          1,
          6,
          5,
          4,
          1,
          6,
          3,
          7,
          1,
          6,
          0
         ],
         "opacity": 1,
         "x": [
          8,
          9,
          8,
          9,
          8,
          9,
          8,
          9
         ],
         "y": [
          1,
          1,
          9,
          9,
          1,
          1,
          9,
          9
         ],
         "z": [
          1,
          1,
          1,
          1,
          2,
          2,
          2,
          2
         ],
         "type": "mesh3d"
        },
        {
         "line": {
          "color": "black",
          "width": 0
         },
         "mode": "lines",
         "x": [
          8,
          9
         ],
         "y": [
          9,
          9
         ],
         "z": [
          2,
          2
         ],
         "type": "scatter3d"
        },
        {
         "color": "#0D2A63",
         "flatshading": true,
         "i": [
          1,
          2,
          5,
          6,
          1,
          4,
          3,
          6,
          1,
          7,
          0,
          6
         ],
         "j": [
          0,
          3,
          4,
          7,
          0,
          5,
          2,
          7,
          3,
          5,
          2,
          4
         ],
         "k": [
          2,
          1,
          6,
          5,
          4,
          1,
          6,
          3,
          7,
          1,
          6,
          0
         ],
         "opacity": 1,
         "x": [
          9,
          10,
          9,
          10,
          9,
          10,
          9,
          10
         ],
         "y": [
          2,
          2,
          5,
          5,
          2,
          2,
          5,
          5
         ],
         "z": [
          9,
          9,
          9,
          9,
          11,
          11,
          11,
          11
         ],
         "type": "mesh3d"
        },
        {
         "line": {
          "color": "black",
          "width": 0
         },
         "mode": "lines",
         "x": [
          9,
          10
         ],
         "y": [
          5,
          5
         ],
         "z": [
          11,
          11
         ],
         "type": "scatter3d"
        },
        {
         "color": "#511CFB",
         "flatshading": true,
         "i": [
          1,
          2,
          5,
          6,
          1,
          4,
          3,
          6,
          1,
          7,
          0,
          6
         ],
         "j": [
          0,
          3,
          4,
          7,
          0,
          5,
          2,
          7,
          3,
          5,
          2,
          4
         ],
         "k": [
          2,
          1,
          6,
          5,
          4,
          1,
          6,
          3,
          7,
          1,
          6,
          0
         ],
         "opacity": 1,
         "x": [
          6,
          7,
          6,
          7,
          6,
          7,
          6,
          7
         ],
         "y": [
          5,
          5,
          9,
          9,
          5,
          5,
          9,
          9
         ],
         "z": [
          5,
          5,
          5,
          5,
          9,
          9,
          9,
          9
         ],
         "type": "mesh3d"
        },
        {
         "line": {
          "color": "black",
          "width": 0
         },
         "mode": "lines",
         "x": [
          6,
          7
         ],
         "y": [
          9,
          9
         ],
         "z": [
          9,
          9
         ],
         "type": "scatter3d"
        },
        {
         "color": "#AF0038",
         "flatshading": true,
         "i": [
          1,
          2,
          5,
          6,
          1,
          4,
          3,
          6,
          1,
          7,
          0,
          6
         ],
         "j": [
          0,
          3,
          4,
          7,
          0,
          5,
          2,
          7,
          3,
          5,
          2,
          4
         ],
         "k": [
          2,
          1,
          6,
          5,
          4,
          1,
          6,
          3,
          7,
          1,
          6,
          0
         ],
         "opacity": 1,
         "x": [
          5,
          6,
          5,
          6,
          5,
          6,
          5,
          6
         ],
         "y": [
          3,
          3,
          4,
          4,
          3,
          3,
          4,
          4
         ],
         "z": [
          0,
          0,
          0,
          0,
          5,
          5,
          5,
          5
         ],
         "type": "mesh3d"
        },
        {
         "line": {
          "color": "black",
          "width": 0
         },
         "mode": "lines",
         "x": [
          5,
          6
         ],
         "y": [
          4,
          4
         ],
         "z": [
          5,
          5
         ],
         "type": "scatter3d"
        },
        {
         "color": "#B68100",
         "flatshading": true,
         "i": [
          1,
          2,
          5,
          6,
          1,
          4,
          3,
          6,
          1,
          7,
          0,
          6
         ],
         "j": [
          0,
          3,
          4,
          7,
          0,
          5,
          2,
          7,
          3,
          5,
          2,
          4
         ],
         "k": [
          2,
          1,
          6,
          5,
          4,
          1,
          6,
          3,
          7,
          1,
          6,
          0
         ],
         "opacity": 1,
         "x": [
          10,
          11,
          10,
          11,
          10,
          11,
          10,
          11
         ],
         "y": [
          1,
          1,
          3,
          3,
          1,
          1,
          3,
          3
         ],
         "z": [
          4,
          4,
          4,
          4,
          9,
          9,
          9,
          9
         ],
         "type": "mesh3d"
        },
        {
         "line": {
          "color": "black",
          "width": 0
         },
         "mode": "lines",
         "x": [
          10,
          11
         ],
         "y": [
          3,
          3
         ],
         "z": [
          9,
          9
         ],
         "type": "scatter3d"
        },
        {
         "color": "#750D86",
         "flatshading": true,
         "i": [
          1,
          2,
          5,
          6,
          1,
          4,
          3,
          6,
          1,
          7,
          0,
          6
         ],
         "j": [
          0,
          3,
          4,
          7,
          0,
          5,
          2,
          7,
          3,
          5,
          2,
          4
         ],
         "k": [
          2,
          1,
          6,
          5,
          4,
          1,
          6,
          3,
          7,
          1,
          6,
          0
         ],
         "opacity": 1,
         "x": [
          7,
          8,
          7,
          8,
          7,
          8,
          7,
          8
         ],
         "y": [
          8,
          8,
          10,
          10,
          8,
          8,
          10,
          10
         ],
         "z": [
          0,
          0,
          0,
          0,
          5,
          5,
          5,
          5
         ],
         "type": "mesh3d"
        },
        {
         "line": {
          "color": "black",
          "width": 0
         },
         "mode": "lines",
         "x": [
          7,
          8
         ],
         "y": [
          10,
          10
         ],
         "z": [
          5,
          5
         ],
         "type": "scatter3d"
        },
        {
         "color": "#00A08B",
         "flatshading": true,
         "i": [
          1,
          2,
          5,
          6,
          1,
          4,
          3,
          6,
          1,
          7,
          0,
          6
         ],
         "j": [
          0,
          3,
          4,
          7,
          0,
          5,
          2,
          7,
          3,
          5,
          2,
          4
         ],
         "k": [
          2,
          1,
          6,
          5,
          4,
          1,
          6,
          3,
          7,
          1,
          6,
          0
         ],
         "opacity": 1,
         "x": [
          8,
          9,
          8,
          9,
          8,
          9,
          8,
          9
         ],
         "y": [
          2,
          2,
          6,
          6,
          2,
          2,
          6,
          6
         ],
         "z": [
          2,
          2,
          2,
          2,
          5,
          5,
          5,
          5
         ],
         "type": "mesh3d"
        },
        {
         "line": {
          "color": "black",
          "width": 0
         },
         "mode": "lines",
         "x": [
          8,
          9
         ],
         "y": [
          6,
          6
         ],
         "z": [
          5,
          5
         ],
         "type": "scatter3d"
        },
        {
         "color": "#1CA71C",
         "flatshading": true,
         "i": [
          1,
          2,
          5,
          6,
          1,
          4,
          3,
          6,
          1,
          7,
          0,
          6
         ],
         "j": [
          0,
          3,
          4,
          7,
          0,
          5,
          2,
          7,
          3,
          5,
          2,
          4
         ],
         "k": [
          2,
          1,
          6,
          5,
          4,
          1,
          6,
          3,
          7,
          1,
          6,
          0
         ],
         "opacity": 1,
         "x": [
          3,
          4,
          3,
          4,
          3,
          4,
          3,
          4
         ],
         "y": [
          4,
          4,
          5,
          5,
          4,
          4,
          5,
          5
         ],
         "z": [
          0,
          0,
          0,
          0,
          3,
          3,
          3,
          3
         ],
         "type": "mesh3d"
        },
        {
         "line": {
          "color": "black",
          "width": 0
         },
         "mode": "lines",
         "x": [
          3,
          4
         ],
         "y": [
          5,
          5
         ],
         "z": [
          3,
          3
         ],
         "type": "scatter3d"
        },
        {
         "color": "#B68100",
         "flatshading": true,
         "i": [
          1,
          2,
          5,
          6,
          1,
          4,
          3,
          6,
          1,
          7,
          0,
          6
         ],
         "j": [
          0,
          3,
          4,
          7,
          0,
          5,
          2,
          7,
          3,
          5,
          2,
          4
         ],
         "k": [
          2,
          1,
          6,
          5,
          4,
          1,
          6,
          3,
          7,
          1,
          6,
          0
         ],
         "opacity": 1,
         "x": [
          2,
          5,
          2,
          5,
          2,
          5,
          2,
          5
         ],
         "y": [
          9,
          9,
          10,
          10,
          9,
          9,
          10,
          10
         ],
         "z": [
          0,
          0,
          0,
          0,
          2,
          2,
          2,
          2
         ],
         "type": "mesh3d"
        },
        {
         "line": {
          "color": "black",
          "width": 0
         },
         "mode": "lines",
         "x": [
          2,
          5
         ],
         "y": [
          10,
          10
         ],
         "z": [
          2,
          2
         ],
         "type": "scatter3d"
        },
        {
         "color": "#00A08B",
         "flatshading": true,
         "i": [
          1,
          2,
          5,
          6,
          1,
          4,
          3,
          6,
          1,
          7,
          0,
          6
         ],
         "j": [
          0,
          3,
          4,
          7,
          0,
          5,
          2,
          7,
          3,
          5,
          2,
          4
         ],
         "k": [
          2,
          1,
          6,
          5,
          4,
          1,
          6,
          3,
          7,
          1,
          6,
          0
         ],
         "opacity": 1,
         "x": [
          2,
          5,
          2,
          5,
          2,
          5,
          2,
          5
         ],
         "y": [
          2,
          2,
          3,
          3,
          2,
          2,
          3,
          3
         ],
         "z": [
          3,
          3,
          3,
          3,
          6,
          6,
          6,
          6
         ],
         "type": "mesh3d"
        },
        {
         "line": {
          "color": "black",
          "width": 0
         },
         "mode": "lines",
         "x": [
          2,
          5
         ],
         "y": [
          3,
          3
         ],
         "z": [
          6,
          6
         ],
         "type": "scatter3d"
        },
        {
         "color": "#A777F1",
         "flatshading": true,
         "i": [
          1,
          2,
          5,
          6,
          1,
          4,
          3,
          6,
          1,
          7,
          0,
          6
         ],
         "j": [
          0,
          3,
          4,
          7,
          0,
          5,
          2,
          7,
          3,
          5,
          2,
          4
         ],
         "k": [
          2,
          1,
          6,
          5,
          4,
          1,
          6,
          3,
          7,
          1,
          6,
          0
         ],
         "opacity": 1,
         "x": [
          5,
          8,
          5,
          8,
          5,
          8,
          5,
          8
         ],
         "y": [
          2,
          2,
          3,
          3,
          2,
          2,
          3,
          3
         ],
         "z": [
          0,
          0,
          0,
          0,
          5,
          5,
          5,
          5
         ],
         "type": "mesh3d"
        },
        {
         "line": {
          "color": "black",
          "width": 0
         },
         "mode": "lines",
         "x": [
          5,
          8
         ],
         "y": [
          3,
          3
         ],
         "z": [
          5,
          5
         ],
         "type": "scatter3d"
        },
        {
         "color": "#DA60CA",
         "flatshading": true,
         "i": [
          1,
          2,
          5,
          6,
          1,
          4,
          3,
          6,
          1,
          7,
          0,
          6
         ],
         "j": [
          0,
          3,
          4,
          7,
          0,
          5,
          2,
          7,
          3,
          5,
          2,
          4
         ],
         "k": [
          2,
          1,
          6,
          5,
          4,
          1,
          6,
          3,
          7,
          1,
          6,
          0
         ],
         "opacity": 1,
         "x": [
          9,
          11,
          9,
          11,
          9,
          11,
          9,
          11
         ],
         "y": [
          6,
          6,
          10,
          10,
          6,
          6,
          10,
          10
         ],
         "z": [
          0,
          0,
          0,
          0,
          2,
          2,
          2,
          2
         ],
         "type": "mesh3d"
        },
        {
         "line": {
          "color": "black",
          "width": 0
         },
         "mode": "lines",
         "x": [
          9,
          11
         ],
         "y": [
          10,
          10
         ],
         "z": [
          2,
          2
         ],
         "type": "scatter3d"
        },
        {
         "color": "#6C4516",
         "flatshading": true,
         "i": [
          1,
          2,
          5,
          6,
          1,
          4,
          3,
          6,
          1,
          7,
          0,
          6
         ],
         "j": [
          0,
          3,
          4,
          7,
          0,
          5,
          2,
          7,
          3,
          5,
          2,
          4
         ],
         "k": [
          2,
          1,
          6,
          5,
          4,
          1,
          6,
          3,
          7,
          1,
          6,
          0
         ],
         "opacity": 1,
         "x": [
          9,
          11,
          9,
          11,
          9,
          11,
          9,
          11
         ],
         "y": [
          6,
          6,
          10,
          10,
          6,
          6,
          10,
          10
         ],
         "z": [
          2,
          2,
          2,
          2,
          4,
          4,
          4,
          4
         ],
         "type": "mesh3d"
        },
        {
         "line": {
          "color": "black",
          "width": 0
         },
         "mode": "lines",
         "x": [
          9,
          11
         ],
         "y": [
          10,
          10
         ],
         "z": [
          4,
          4
         ],
         "type": "scatter3d"
        },
        {
         "color": "#778AAE",
         "flatshading": true,
         "i": [
          1,
          2,
          5,
          6,
          1,
          4,
          3,
          6,
          1,
          7,
          0,
          6
         ],
         "j": [
          0,
          3,
          4,
          7,
          0,
          5,
          2,
          7,
          3,
          5,
          2,
          4
         ],
         "k": [
          2,
          1,
          6,
          5,
          4,
          1,
          6,
          3,
          7,
          1,
          6,
          0
         ],
         "opacity": 1,
         "x": [
          7,
          11,
          7,
          11,
          7,
          11,
          7,
          11
         ],
         "y": [
          0,
          0,
          1,
          1,
          0,
          0,
          1,
          1
         ],
         "z": [
          0,
          0,
          0,
          0,
          2,
          2,
          2,
          2
         ],
         "type": "mesh3d"
        },
        {
         "line": {
          "color": "black",
          "width": 0
         },
         "mode": "lines",
         "x": [
          7,
          11
         ],
         "y": [
          1,
          1
         ],
         "z": [
          2,
          2
         ],
         "type": "scatter3d"
        },
        {
         "color": "#FC0080",
         "flatshading": true,
         "i": [
          1,
          2,
          5,
          6,
          1,
          4,
          3,
          6,
          1,
          7,
          0,
          6
         ],
         "j": [
          0,
          3,
          4,
          7,
          0,
          5,
          2,
          7,
          3,
          5,
          2,
          4
         ],
         "k": [
          2,
          1,
          6,
          5,
          4,
          1,
          6,
          3,
          7,
          1,
          6,
          0
         ],
         "opacity": 1,
         "x": [
          1,
          5,
          1,
          5,
          1,
          5,
          1,
          5
         ],
         "y": [
          10,
          10,
          11,
          11,
          10,
          10,
          11,
          11
         ],
         "z": [
          0,
          0,
          0,
          0,
          1,
          1,
          1,
          1
         ],
         "type": "mesh3d"
        },
        {
         "line": {
          "color": "black",
          "width": 0
         },
         "mode": "lines",
         "x": [
          1,
          5
         ],
         "y": [
          11,
          11
         ],
         "z": [
          1,
          1
         ],
         "type": "scatter3d"
        },
        {
         "color": "#6C7C32",
         "flatshading": true,
         "i": [
          1,
          2,
          5,
          6,
          1,
          4,
          3,
          6,
          1,
          7,
          0,
          6
         ],
         "j": [
          0,
          3,
          4,
          7,
          0,
          5,
          2,
          7,
          3,
          5,
          2,
          4
         ],
         "k": [
          2,
          1,
          6,
          5,
          4,
          1,
          6,
          3,
          7,
          1,
          6,
          0
         ],
         "opacity": 1,
         "x": [
          5,
          7,
          5,
          7,
          5,
          7,
          5,
          7
         ],
         "y": [
          2,
          2,
          3,
          3,
          2,
          2,
          3,
          3
         ],
         "z": [
          5,
          5,
          5,
          5,
          6,
          6,
          6,
          6
         ],
         "type": "mesh3d"
        },
        {
         "line": {
          "color": "black",
          "width": 0
         },
         "mode": "lines",
         "x": [
          5,
          7
         ],
         "y": [
          3,
          3
         ],
         "z": [
          6,
          6
         ],
         "type": "scatter3d"
        },
        {
         "color": "#862A16",
         "flatshading": true,
         "i": [
          1,
          2,
          5,
          6,
          1,
          4,
          3,
          6,
          1,
          7,
          0,
          6
         ],
         "j": [
          0,
          3,
          4,
          7,
          0,
          5,
          2,
          7,
          3,
          5,
          2,
          4
         ],
         "k": [
          2,
          1,
          6,
          5,
          4,
          1,
          6,
          3,
          7,
          1,
          6,
          0
         ],
         "opacity": 1,
         "x": [
          4,
          7,
          4,
          7,
          4,
          7,
          4,
          7
         ],
         "y": [
          4,
          4,
          5,
          5,
          4,
          4,
          5,
          5
         ],
         "z": [
          0,
          0,
          0,
          0,
          1,
          1,
          1,
          1
         ],
         "type": "mesh3d"
        },
        {
         "line": {
          "color": "black",
          "width": 0
         },
         "mode": "lines",
         "x": [
          4,
          7
         ],
         "y": [
          5,
          5
         ],
         "z": [
          1,
          1
         ],
         "type": "scatter3d"
        },
        {
         "color": "#0D2A63",
         "flatshading": true,
         "i": [
          1,
          2,
          5,
          6,
          1,
          4,
          3,
          6,
          1,
          7,
          0,
          6
         ],
         "j": [
          0,
          3,
          4,
          7,
          0,
          5,
          2,
          7,
          3,
          5,
          2,
          4
         ],
         "k": [
          2,
          1,
          6,
          5,
          4,
          1,
          6,
          3,
          7,
          1,
          6,
          0
         ],
         "opacity": 1,
         "x": [
          1,
          5,
          1,
          5,
          1,
          5,
          1,
          5
         ],
         "y": [
          10,
          10,
          11,
          11,
          10,
          10,
          11,
          11
         ],
         "z": [
          1,
          1,
          1,
          1,
          2,
          2,
          2,
          2
         ],
         "type": "mesh3d"
        },
        {
         "line": {
          "color": "black",
          "width": 0
         },
         "mode": "lines",
         "x": [
          1,
          5
         ],
         "y": [
          11,
          11
         ],
         "z": [
          2,
          2
         ],
         "type": "scatter3d"
        },
        {
         "color": "#B68100",
         "flatshading": true,
         "i": [
          1,
          2,
          5,
          6,
          1,
          4,
          3,
          6,
          1,
          7,
          0,
          6
         ],
         "j": [
          0,
          3,
          4,
          7,
          0,
          5,
          2,
          7,
          3,
          5,
          2,
          4
         ],
         "k": [
          2,
          1,
          6,
          5,
          4,
          1,
          6,
          3,
          7,
          1,
          6,
          0
         ],
         "opacity": 1,
         "x": [
          7,
          10,
          7,
          10,
          7,
          10,
          7,
          10
         ],
         "y": [
          10,
          10,
          11,
          11,
          10,
          10,
          11,
          11
         ],
         "z": [
          2,
          2,
          2,
          2,
          4,
          4,
          4,
          4
         ],
         "type": "mesh3d"
        },
        {
         "line": {
          "color": "black",
          "width": 0
         },
         "mode": "lines",
         "x": [
          7,
          10
         ],
         "y": [
          11,
          11
         ],
         "z": [
          4,
          4
         ],
         "type": "scatter3d"
        },
        {
         "color": "#FC0080",
         "flatshading": true,
         "i": [
          1,
          2,
          5,
          6,
          1,
          4,
          3,
          6,
          1,
          7,
          0,
          6
         ],
         "j": [
          0,
          3,
          4,
          7,
          0,
          5,
          2,
          7,
          3,
          5,
          2,
          4
         ],
         "k": [
          2,
          1,
          6,
          5,
          4,
          1,
          6,
          3,
          7,
          1,
          6,
          0
         ],
         "opacity": 1,
         "x": [
          7,
          8,
          7,
          8,
          7,
          8,
          7,
          8
         ],
         "y": [
          4,
          4,
          8,
          8,
          4,
          4,
          8,
          8
         ],
         "z": [
          3,
          3,
          3,
          3,
          5,
          5,
          5,
          5
         ],
         "type": "mesh3d"
        },
        {
         "line": {
          "color": "black",
          "width": 0
         },
         "mode": "lines",
         "x": [
          7,
          8
         ],
         "y": [
          8,
          8
         ],
         "z": [
          5,
          5
         ],
         "type": "scatter3d"
        },
        {
         "color": "#B2828D",
         "flatshading": true,
         "i": [
          1,
          2,
          5,
          6,
          1,
          4,
          3,
          6,
          1,
          7,
          0,
          6
         ],
         "j": [
          0,
          3,
          4,
          7,
          0,
          5,
          2,
          7,
          3,
          5,
          2,
          4
         ],
         "k": [
          2,
          1,
          6,
          5,
          4,
          1,
          6,
          3,
          7,
          1,
          6,
          0
         ],
         "opacity": 1,
         "x": [
          3,
          4,
          3,
          4,
          3,
          4,
          3,
          4
         ],
         "y": [
          5,
          5,
          9,
          9,
          5,
          5,
          9,
          9
         ],
         "z": [
          0,
          0,
          0,
          0,
          2,
          2,
          2,
          2
         ],
         "type": "mesh3d"
        },
        {
         "line": {
          "color": "black",
          "width": 0
         },
         "mode": "lines",
         "x": [
          3,
          4
         ],
         "y": [
          9,
          9
         ],
         "z": [
          2,
          2
         ],
         "type": "scatter3d"
        },
        {
         "color": "#511CFB",
         "flatshading": true,
         "i": [
          1,
          2,
          5,
          6,
          1,
          4,
          3,
          6,
          1,
          7,
          0,
          6
         ],
         "j": [
          0,
          3,
          4,
          7,
          0,
          5,
          2,
          7,
          3,
          5,
          2,
          4
         ],
         "k": [
          2,
          1,
          6,
          5,
          4,
          1,
          6,
          3,
          7,
          1,
          6,
          0
         ],
         "opacity": 1,
         "x": [
          2,
          5,
          2,
          5,
          2,
          5,
          2,
          5
         ],
         "y": [
          10,
          10,
          11,
          11,
          10,
          10,
          11,
          11
         ],
         "z": [
          2,
          2,
          2,
          2,
          3,
          3,
          3,
          3
         ],
         "type": "mesh3d"
        },
        {
         "line": {
          "color": "black",
          "width": 0
         },
         "mode": "lines",
         "x": [
          2,
          5
         ],
         "y": [
          11,
          11
         ],
         "z": [
          3,
          3
         ],
         "type": "scatter3d"
        },
        {
         "color": "#EB663B",
         "flatshading": true,
         "i": [
          1,
          2,
          5,
          6,
          1,
          4,
          3,
          6,
          1,
          7,
          0,
          6
         ],
         "j": [
          0,
          3,
          4,
          7,
          0,
          5,
          2,
          7,
          3,
          5,
          2,
          4
         ],
         "k": [
          2,
          1,
          6,
          5,
          4,
          1,
          6,
          3,
          7,
          1,
          6,
          0
         ],
         "opacity": 1,
         "x": [
          0,
          1,
          0,
          1,
          0,
          1,
          0,
          1
         ],
         "y": [
          8,
          8,
          9,
          9,
          8,
          8,
          9,
          9
         ],
         "z": [
          1,
          1,
          1,
          1,
          2,
          2,
          2,
          2
         ],
         "type": "mesh3d"
        },
        {
         "line": {
          "color": "black",
          "width": 0
         },
         "mode": "lines",
         "x": [
          0,
          1
         ],
         "y": [
          9,
          9
         ],
         "z": [
          2,
          2
         ],
         "type": "scatter3d"
        },
        {
         "color": "#AF0038",
         "flatshading": true,
         "i": [
          1,
          2,
          5,
          6,
          1,
          4,
          3,
          6,
          1,
          7,
          0,
          6
         ],
         "j": [
          0,
          3,
          4,
          7,
          0,
          5,
          2,
          7,
          3,
          5,
          2,
          4
         ],
         "k": [
          2,
          1,
          6,
          5,
          4,
          1,
          6,
          3,
          7,
          1,
          6,
          0
         ],
         "opacity": 1,
         "x": [
          2,
          7,
          2,
          7,
          2,
          7,
          2,
          7
         ],
         "y": [
          2,
          2,
          3,
          3,
          2,
          2,
          3,
          3
         ],
         "z": [
          6,
          6,
          6,
          6,
          9,
          9,
          9,
          9
         ],
         "type": "mesh3d"
        },
        {
         "line": {
          "color": "black",
          "width": 0
         },
         "mode": "lines",
         "x": [
          2,
          7
         ],
         "y": [
          3,
          3
         ],
         "z": [
          9,
          9
         ],
         "type": "scatter3d"
        },
        {
         "color": "#A777F1",
         "flatshading": true,
         "i": [
          1,
          2,
          5,
          6,
          1,
          4,
          3,
          6,
          1,
          7,
          0,
          6
         ],
         "j": [
          0,
          3,
          4,
          7,
          0,
          5,
          2,
          7,
          3,
          5,
          2,
          4
         ],
         "k": [
          2,
          1,
          6,
          5,
          4,
          1,
          6,
          3,
          7,
          1,
          6,
          0
         ],
         "opacity": 1,
         "x": [
          4,
          7,
          4,
          7,
          4,
          7,
          4,
          7
         ],
         "y": [
          2,
          2,
          3,
          3,
          2,
          2,
          3,
          3
         ],
         "z": [
          9,
          9,
          9,
          9,
          11,
          11,
          11,
          11
         ],
         "type": "mesh3d"
        },
        {
         "line": {
          "color": "black",
          "width": 0
         },
         "mode": "lines",
         "x": [
          4,
          7
         ],
         "y": [
          3,
          3
         ],
         "z": [
          11,
          11
         ],
         "type": "scatter3d"
        },
        {
         "color": "#B2828D",
         "flatshading": true,
         "i": [
          1,
          2,
          5,
          6,
          1,
          4,
          3,
          6,
          1,
          7,
          0,
          6
         ],
         "j": [
          0,
          3,
          4,
          7,
          0,
          5,
          2,
          7,
          3,
          5,
          2,
          4
         ],
         "k": [
          2,
          1,
          6,
          5,
          4,
          1,
          6,
          3,
          7,
          1,
          6,
          0
         ],
         "opacity": 1,
         "x": [
          3,
          4,
          3,
          4,
          3,
          4,
          3,
          4
         ],
         "y": [
          10,
          10,
          11,
          11,
          10,
          10,
          11,
          11
         ],
         "z": [
          3,
          3,
          3,
          3,
          4,
          4,
          4,
          4
         ],
         "type": "mesh3d"
        },
        {
         "line": {
          "color": "black",
          "width": 0
         },
         "mode": "lines",
         "x": [
          3,
          4
         ],
         "y": [
          11,
          11
         ],
         "z": [
          4,
          4
         ],
         "type": "scatter3d"
        },
        {
         "color": "#0D2A63",
         "flatshading": true,
         "i": [
          1,
          2,
          5,
          6,
          1,
          4,
          3,
          6,
          1,
          7,
          0,
          6
         ],
         "j": [
          0,
          3,
          4,
          7,
          0,
          5,
          2,
          7,
          3,
          5,
          2,
          4
         ],
         "k": [
          2,
          1,
          6,
          5,
          4,
          1,
          6,
          3,
          7,
          1,
          6,
          0
         ],
         "opacity": 1,
         "x": [
          2,
          3,
          2,
          3,
          2,
          3,
          2,
          3
         ],
         "y": [
          9,
          9,
          10,
          10,
          9,
          9,
          10,
          10
         ],
         "z": [
          2,
          2,
          2,
          2,
          4,
          4,
          4,
          4
         ],
         "type": "mesh3d"
        },
        {
         "line": {
          "color": "black",
          "width": 0
         },
         "mode": "lines",
         "x": [
          2,
          3
         ],
         "y": [
          10,
          10
         ],
         "z": [
          4,
          4
         ],
         "type": "scatter3d"
        },
        {
         "color": "#2E91E5",
         "flatshading": true,
         "i": [
          1,
          2,
          5,
          6,
          1,
          4,
          3,
          6,
          1,
          7,
          0,
          6
         ],
         "j": [
          0,
          3,
          4,
          7,
          0,
          5,
          2,
          7,
          3,
          5,
          2,
          4
         ],
         "k": [
          2,
          1,
          6,
          5,
          4,
          1,
          6,
          3,
          7,
          1,
          6,
          0
         ],
         "opacity": 1,
         "x": [
          2,
          3,
          2,
          3,
          2,
          3,
          2,
          3
         ],
         "y": [
          7,
          7,
          8,
          8,
          7,
          7,
          8,
          8
         ],
         "z": [
          3,
          3,
          3,
          3,
          6,
          6,
          6,
          6
         ],
         "type": "mesh3d"
        },
        {
         "line": {
          "color": "black",
          "width": 0
         },
         "mode": "lines",
         "x": [
          2,
          3
         ],
         "y": [
          8,
          8
         ],
         "z": [
          6,
          6
         ],
         "type": "scatter3d"
        },
        {
         "color": "#DA16FF",
         "flatshading": true,
         "i": [
          1,
          2,
          5,
          6,
          1,
          4,
          3,
          6,
          1,
          7,
          0,
          6
         ],
         "j": [
          0,
          3,
          4,
          7,
          0,
          5,
          2,
          7,
          3,
          5,
          2,
          4
         ],
         "k": [
          2,
          1,
          6,
          5,
          4,
          1,
          6,
          3,
          7,
          1,
          6,
          0
         ],
         "opacity": 1,
         "x": [
          4,
          7,
          4,
          7,
          4,
          7,
          4,
          7
         ],
         "y": [
          4,
          4,
          5,
          5,
          4,
          4,
          5,
          5
         ],
         "z": [
          1,
          1,
          1,
          1,
          3,
          3,
          3,
          3
         ],
         "type": "mesh3d"
        },
        {
         "line": {
          "color": "black",
          "width": 0
         },
         "mode": "lines",
         "x": [
          4,
          7
         ],
         "y": [
          5,
          5
         ],
         "z": [
          3,
          3
         ],
         "type": "scatter3d"
        },
        {
         "color": "#B68100",
         "flatshading": true,
         "i": [
          1,
          2,
          5,
          6,
          1,
          4,
          3,
          6,
          1,
          7,
          0,
          6
         ],
         "j": [
          0,
          3,
          4,
          7,
          0,
          5,
          2,
          7,
          3,
          5,
          2,
          4
         ],
         "k": [
          2,
          1,
          6,
          5,
          4,
          1,
          6,
          3,
          7,
          1,
          6,
          0
         ],
         "opacity": 1,
         "x": [
          9,
          11,
          9,
          11,
          9,
          11,
          9,
          11
         ],
         "y": [
          7,
          7,
          10,
          10,
          7,
          7,
          10,
          10
         ],
         "z": [
          4,
          4,
          4,
          4,
          5,
          5,
          5,
          5
         ],
         "type": "mesh3d"
        },
        {
         "line": {
          "color": "black",
          "width": 0
         },
         "mode": "lines",
         "x": [
          9,
          11
         ],
         "y": [
          10,
          10
         ],
         "z": [
          5,
          5
         ],
         "type": "scatter3d"
        },
        {
         "color": "#B2828D",
         "flatshading": true,
         "i": [
          1,
          2,
          5,
          6,
          1,
          4,
          3,
          6,
          1,
          7,
          0,
          6
         ],
         "j": [
          0,
          3,
          4,
          7,
          0,
          5,
          2,
          7,
          3,
          5,
          2,
          4
         ],
         "k": [
          2,
          1,
          6,
          5,
          4,
          1,
          6,
          3,
          7,
          1,
          6,
          0
         ],
         "opacity": 1,
         "x": [
          7,
          10,
          7,
          10,
          7,
          10,
          7,
          10
         ],
         "y": [
          0,
          0,
          1,
          1,
          0,
          0,
          1,
          1
         ],
         "z": [
          2,
          2,
          2,
          2,
          5,
          5,
          5,
          5
         ],
         "type": "mesh3d"
        },
        {
         "line": {
          "color": "black",
          "width": 0
         },
         "mode": "lines",
         "x": [
          7,
          10
         ],
         "y": [
          1,
          1
         ],
         "z": [
          5,
          5
         ],
         "type": "scatter3d"
        },
        {
         "color": "#6C7C32",
         "flatshading": true,
         "i": [
          1,
          2,
          5,
          6,
          1,
          4,
          3,
          6,
          1,
          7,
          0,
          6
         ],
         "j": [
          0,
          3,
          4,
          7,
          0,
          5,
          2,
          7,
          3,
          5,
          2,
          4
         ],
         "k": [
          2,
          1,
          6,
          5,
          4,
          1,
          6,
          3,
          7,
          1,
          6,
          0
         ],
         "opacity": 1,
         "x": [
          5,
          7,
          5,
          7,
          5,
          7,
          5,
          7
         ],
         "y": [
          0,
          0,
          2,
          2,
          0,
          0,
          2,
          2
         ],
         "z": [
          0,
          0,
          0,
          0,
          2,
          2,
          2,
          2
         ],
         "type": "mesh3d"
        },
        {
         "line": {
          "color": "black",
          "width": 0
         },
         "mode": "lines",
         "x": [
          5,
          7
         ],
         "y": [
          2,
          2
         ],
         "z": [
          2,
          2
         ],
         "type": "scatter3d"
        },
        {
         "color": "#778AAE",
         "flatshading": true,
         "i": [
          1,
          2,
          5,
          6,
          1,
          4,
          3,
          6,
          1,
          7,
          0,
          6
         ],
         "j": [
          0,
          3,
          4,
          7,
          0,
          5,
          2,
          7,
          3,
          5,
          2,
          4
         ],
         "k": [
          2,
          1,
          6,
          5,
          4,
          1,
          6,
          3,
          7,
          1,
          6,
          0
         ],
         "opacity": 1,
         "x": [
          7,
          9,
          7,
          9,
          7,
          9,
          7,
          9
         ],
         "y": [
          4,
          4,
          6,
          6,
          4,
          4,
          6,
          6
         ],
         "z": [
          5,
          5,
          5,
          5,
          7,
          7,
          7,
          7
         ],
         "type": "mesh3d"
        },
        {
         "line": {
          "color": "black",
          "width": 0
         },
         "mode": "lines",
         "x": [
          7,
          9
         ],
         "y": [
          6,
          6
         ],
         "z": [
          7,
          7
         ],
         "type": "scatter3d"
        }
       ],
       "layout": {
        "template": {
         "data": {
          "histogram2dcontour": [
           {
            "type": "histogram2dcontour",
            "colorbar": {
             "outlinewidth": 0,
             "ticks": ""
            },
            "colorscale": [
             [
              0.0,
              "#0d0887"
             ],
             [
              0.1111111111111111,
              "#46039f"
             ],
             [
              0.2222222222222222,
              "#7201a8"
             ],
             [
              0.3333333333333333,
              "#9c179e"
             ],
             [
              0.4444444444444444,
              "#bd3786"
             ],
             [
              0.5555555555555556,
              "#d8576b"
             ],
             [
              0.6666666666666666,
              "#ed7953"
             ],
             [
              0.7777777777777778,
              "#fb9f3a"
             ],
             [
              0.8888888888888888,
              "#fdca26"
             ],
             [
              1.0,
              "#f0f921"
             ]
            ]
           }
          ],
          "choropleth": [
           {
            "type": "choropleth",
            "colorbar": {
             "outlinewidth": 0,
             "ticks": ""
            }
           }
          ],
          "histogram2d": [
           {
            "type": "histogram2d",
            "colorbar": {
             "outlinewidth": 0,
             "ticks": ""
            },
            "colorscale": [
             [
              0.0,
              "#0d0887"
             ],
             [
              0.1111111111111111,
              "#46039f"
             ],
             [
              0.2222222222222222,
              "#7201a8"
             ],
             [
              0.3333333333333333,
              "#9c179e"
             ],
             [
              0.4444444444444444,
              "#bd3786"
             ],
             [
              0.5555555555555556,
              "#d8576b"
             ],
             [
              0.6666666666666666,
              "#ed7953"
             ],
             [
              0.7777777777777778,
              "#fb9f3a"
             ],
             [
              0.8888888888888888,
              "#fdca26"
             ],
             [
              1.0,
              "#f0f921"
             ]
            ]
           }
          ],
          "heatmap": [
           {
            "type": "heatmap",
            "colorbar": {
             "outlinewidth": 0,
             "ticks": ""
            },
            "colorscale": [
             [
              0.0,
              "#0d0887"
             ],
             [
              0.1111111111111111,
              "#46039f"
             ],
             [
              0.2222222222222222,
              "#7201a8"
             ],
             [
              0.3333333333333333,
              "#9c179e"
             ],
             [
              0.4444444444444444,
              "#bd3786"
             ],
             [
              0.5555555555555556,
              "#d8576b"
             ],
             [
              0.6666666666666666,
              "#ed7953"
             ],
             [
              0.7777777777777778,
              "#fb9f3a"
             ],
             [
              0.8888888888888888,
              "#fdca26"
             ],
             [
              1.0,
              "#f0f921"
             ]
            ]
           }
          ],
          "heatmapgl": [
           {
            "type": "heatmapgl",
            "colorbar": {
             "outlinewidth": 0,
             "ticks": ""
            },
            "colorscale": [
             [
              0.0,
              "#0d0887"
             ],
             [
              0.1111111111111111,
              "#46039f"
             ],
             [
              0.2222222222222222,
              "#7201a8"
             ],
             [
              0.3333333333333333,
              "#9c179e"
             ],
             [
              0.4444444444444444,
              "#bd3786"
             ],
             [
              0.5555555555555556,
              "#d8576b"
             ],
             [
              0.6666666666666666,
              "#ed7953"
             ],
             [
              0.7777777777777778,
              "#fb9f3a"
             ],
             [
              0.8888888888888888,
              "#fdca26"
             ],
             [
              1.0,
              "#f0f921"
             ]
            ]
           }
          ],
          "contourcarpet": [
           {
            "type": "contourcarpet",
            "colorbar": {
             "outlinewidth": 0,
             "ticks": ""
            }
           }
          ],
          "contour": [
           {
            "type": "contour",
            "colorbar": {
             "outlinewidth": 0,
             "ticks": ""
            },
            "colorscale": [
             [
              0.0,
              "#0d0887"
             ],
             [
              0.1111111111111111,
              "#46039f"
             ],
             [
              0.2222222222222222,
              "#7201a8"
             ],
             [
              0.3333333333333333,
              "#9c179e"
             ],
             [
              0.4444444444444444,
              "#bd3786"
             ],
             [
              0.5555555555555556,
              "#d8576b"
             ],
             [
              0.6666666666666666,
              "#ed7953"
             ],
             [
              0.7777777777777778,
              "#fb9f3a"
             ],
             [
              0.8888888888888888,
              "#fdca26"
             ],
             [
              1.0,
              "#f0f921"
             ]
            ]
           }
          ],
          "surface": [
           {
            "type": "surface",
            "colorbar": {
             "outlinewidth": 0,
             "ticks": ""
            },
            "colorscale": [
             [
              0.0,
              "#0d0887"
             ],
             [
              0.1111111111111111,
              "#46039f"
             ],
             [
              0.2222222222222222,
              "#7201a8"
             ],
             [
              0.3333333333333333,
              "#9c179e"
             ],
             [
              0.4444444444444444,
              "#bd3786"
             ],
             [
              0.5555555555555556,
              "#d8576b"
             ],
             [
              0.6666666666666666,
              "#ed7953"
             ],
             [
              0.7777777777777778,
              "#fb9f3a"
             ],
             [
              0.8888888888888888,
              "#fdca26"
             ],
             [
              1.0,
              "#f0f921"
             ]
            ]
           }
          ],
          "mesh3d": [
           {
            "type": "mesh3d",
            "colorbar": {
             "outlinewidth": 0,
             "ticks": ""
            }
           }
          ],
          "scatter": [
           {
            "marker": {
             "line": {
              "color": "#283442"
             }
            },
            "type": "scatter"
           }
          ],
          "parcoords": [
           {
            "type": "parcoords",
            "line": {
             "colorbar": {
              "outlinewidth": 0,
              "ticks": ""
             }
            }
           }
          ],
          "scatterpolargl": [
           {
            "type": "scatterpolargl",
            "marker": {
             "colorbar": {
              "outlinewidth": 0,
              "ticks": ""
             }
            }
           }
          ],
          "bar": [
           {
            "error_x": {
             "color": "#f2f5fa"
            },
            "error_y": {
             "color": "#f2f5fa"
            },
            "marker": {
             "line": {
              "color": "rgb(17,17,17)",
              "width": 0.5
             },
             "pattern": {
              "fillmode": "overlay",
              "size": 10,
              "solidity": 0.2
             }
            },
            "type": "bar"
           }
          ],
          "scattergeo": [
           {
            "type": "scattergeo",
            "marker": {
             "colorbar": {
              "outlinewidth": 0,
              "ticks": ""
             }
            }
           }
          ],
          "scatterpolar": [
           {
            "type": "scatterpolar",
            "marker": {
             "colorbar": {
              "outlinewidth": 0,
              "ticks": ""
             }
            }
           }
          ],
          "histogram": [
           {
            "marker": {
             "pattern": {
              "fillmode": "overlay",
              "size": 10,
              "solidity": 0.2
             }
            },
            "type": "histogram"
           }
          ],
          "scattergl": [
           {
            "marker": {
             "line": {
              "color": "#283442"
             }
            },
            "type": "scattergl"
           }
          ],
          "scatter3d": [
           {
            "type": "scatter3d",
            "line": {
             "colorbar": {
              "outlinewidth": 0,
              "ticks": ""
             }
            },
            "marker": {
             "colorbar": {
              "outlinewidth": 0,
              "ticks": ""
             }
            }
           }
          ],
          "scattermapbox": [
           {
            "type": "scattermapbox",
            "marker": {
             "colorbar": {
              "outlinewidth": 0,
              "ticks": ""
             }
            }
           }
          ],
          "scatterternary": [
           {
            "type": "scatterternary",
            "marker": {
             "colorbar": {
              "outlinewidth": 0,
              "ticks": ""
             }
            }
           }
          ],
          "scattercarpet": [
           {
            "type": "scattercarpet",
            "marker": {
             "colorbar": {
              "outlinewidth": 0,
              "ticks": ""
             }
            }
           }
          ],
          "carpet": [
           {
            "aaxis": {
             "endlinecolor": "#A2B1C6",
             "gridcolor": "#506784",
             "linecolor": "#506784",
             "minorgridcolor": "#506784",
             "startlinecolor": "#A2B1C6"
            },
            "baxis": {
             "endlinecolor": "#A2B1C6",
             "gridcolor": "#506784",
             "linecolor": "#506784",
             "minorgridcolor": "#506784",
             "startlinecolor": "#A2B1C6"
            },
            "type": "carpet"
           }
          ],
          "table": [
           {
            "cells": {
             "fill": {
              "color": "#506784"
             },
             "line": {
              "color": "rgb(17,17,17)"
             }
            },
            "header": {
             "fill": {
              "color": "#2a3f5f"
             },
             "line": {
              "color": "rgb(17,17,17)"
             }
            },
            "type": "table"
           }
          ],
          "barpolar": [
           {
            "marker": {
             "line": {
              "color": "rgb(17,17,17)",
              "width": 0.5
             },
             "pattern": {
              "fillmode": "overlay",
              "size": 10,
              "solidity": 0.2
             }
            },
            "type": "barpolar"
           }
          ],
          "pie": [
           {
            "automargin": true,
            "type": "pie"
           }
          ]
         },
         "layout": {
          "autotypenumbers": "strict",
          "colorway": [
           "#636efa",
           "#EF553B",
           "#00cc96",
           "#ab63fa",
           "#FFA15A",
           "#19d3f3",
           "#FF6692",
           "#B6E880",
           "#FF97FF",
           "#FECB52"
          ],
          "font": {
           "color": "#f2f5fa"
          },
          "hovermode": "closest",
          "hoverlabel": {
           "align": "left"
          },
          "paper_bgcolor": "rgb(17,17,17)",
          "plot_bgcolor": "rgb(17,17,17)",
          "polar": {
           "bgcolor": "rgb(17,17,17)",
           "angularaxis": {
            "gridcolor": "#506784",
            "linecolor": "#506784",
            "ticks": ""
           },
           "radialaxis": {
            "gridcolor": "#506784",
            "linecolor": "#506784",
            "ticks": ""
           }
          },
          "ternary": {
           "bgcolor": "rgb(17,17,17)",
           "aaxis": {
            "gridcolor": "#506784",
            "linecolor": "#506784",
            "ticks": ""
           },
           "baxis": {
            "gridcolor": "#506784",
            "linecolor": "#506784",
            "ticks": ""
           },
           "caxis": {
            "gridcolor": "#506784",
            "linecolor": "#506784",
            "ticks": ""
           }
          },
          "coloraxis": {
           "colorbar": {
            "outlinewidth": 0,
            "ticks": ""
           }
          },
          "colorscale": {
           "sequential": [
            [
             0.0,
             "#0d0887"
            ],
            [
             0.1111111111111111,
             "#46039f"
            ],
            [
             0.2222222222222222,
             "#7201a8"
            ],
            [
             0.3333333333333333,
             "#9c179e"
            ],
            [
             0.4444444444444444,
             "#bd3786"
            ],
            [
             0.5555555555555556,
             "#d8576b"
            ],
            [
             0.6666666666666666,
             "#ed7953"
            ],
            [
             0.7777777777777778,
             "#fb9f3a"
            ],
            [
             0.8888888888888888,
             "#fdca26"
            ],
            [
             1.0,
             "#f0f921"
            ]
           ],
           "sequentialminus": [
            [
             0.0,
             "#0d0887"
            ],
            [
             0.1111111111111111,
             "#46039f"
            ],
            [
             0.2222222222222222,
             "#7201a8"
            ],
            [
             0.3333333333333333,
             "#9c179e"
            ],
            [
             0.4444444444444444,
             "#bd3786"
            ],
            [
             0.5555555555555556,
             "#d8576b"
            ],
            [
             0.6666666666666666,
             "#ed7953"
            ],
            [
             0.7777777777777778,
             "#fb9f3a"
            ],
            [
             0.8888888888888888,
             "#fdca26"
            ],
            [
             1.0,
             "#f0f921"
            ]
           ],
           "diverging": [
            [
             0,
             "#8e0152"
            ],
            [
             0.1,
             "#c51b7d"
            ],
            [
             0.2,
             "#de77ae"
            ],
            [
             0.3,
             "#f1b6da"
            ],
            [
             0.4,
             "#fde0ef"
            ],
            [
             0.5,
             "#f7f7f7"
            ],
            [
             0.6,
             "#e6f5d0"
            ],
            [
             0.7,
             "#b8e186"
            ],
            [
             0.8,
             "#7fbc41"
            ],
            [
             0.9,
             "#4d9221"
            ],
            [
             1,
             "#276419"
            ]
           ]
          },
          "xaxis": {
           "gridcolor": "#283442",
           "linecolor": "#506784",
           "ticks": "",
           "title": {
            "standoff": 15
           },
           "zerolinecolor": "#283442",
           "automargin": true,
           "zerolinewidth": 2
          },
          "yaxis": {
           "gridcolor": "#283442",
           "linecolor": "#506784",
           "ticks": "",
           "title": {
            "standoff": 15
           },
           "zerolinecolor": "#283442",
           "automargin": true,
           "zerolinewidth": 2
          },
          "scene": {
           "xaxis": {
            "backgroundcolor": "rgb(17,17,17)",
            "gridcolor": "#506784",
            "linecolor": "#506784",
            "showbackground": true,
            "ticks": "",
            "zerolinecolor": "#C8D4E3",
            "gridwidth": 2
           },
           "yaxis": {
            "backgroundcolor": "rgb(17,17,17)",
            "gridcolor": "#506784",
            "linecolor": "#506784",
            "showbackground": true,
            "ticks": "",
            "zerolinecolor": "#C8D4E3",
            "gridwidth": 2
           },
           "zaxis": {
            "backgroundcolor": "rgb(17,17,17)",
            "gridcolor": "#506784",
            "linecolor": "#506784",
            "showbackground": true,
            "ticks": "",
            "zerolinecolor": "#C8D4E3",
            "gridwidth": 2
           }
          },
          "shapedefaults": {
           "line": {
            "color": "#f2f5fa"
           }
          },
          "annotationdefaults": {
           "arrowcolor": "#f2f5fa",
           "arrowhead": 0,
           "arrowwidth": 1
          },
          "geo": {
           "bgcolor": "rgb(17,17,17)",
           "landcolor": "rgb(17,17,17)",
           "subunitcolor": "#506784",
           "showland": true,
           "showlakes": true,
           "lakecolor": "rgb(17,17,17)"
          },
          "title": {
           "x": 0.05
          },
          "updatemenudefaults": {
           "bgcolor": "#506784",
           "borderwidth": 0
          },
          "sliderdefaults": {
           "bgcolor": "#C8D4E3",
           "borderwidth": 1,
           "bordercolor": "rgb(17,17,17)",
           "tickwidth": 0
          },
          "mapbox": {
           "style": "dark"
          }
         }
        },
        "scene": {
         "camera": {
          "eye": {
           "x": 2,
           "y": 2,
           "z": 0.1
          }
         },
         "xaxis": {
          "nticks": 13,
          "range": [
           0,
           16
          ],
          "showgrid": false,
          "showticklabels": false
         },
         "yaxis": {
          "nticks": 13,
          "range": [
           0,
           16
          ],
          "showgrid": false,
          "showticklabels": false
         },
         "zaxis": {
          "nticks": 13,
          "range": [
           0,
           16
          ],
          "showgrid": false,
          "showticklabels": false
         },
         "aspectmode": "cube"
        },
        "showlegend": false,
        "width": 1200,
        "height": 1200,
        "margin": {
         "r": 20,
         "l": 10,
         "b": 10,
         "t": 10
        }
       },
       "config": {
        "plotlyServerURL": "https://plot.ly"
       }
      },
      "text/html": "<div>                            <div id=\"22f7920c-cbdc-470b-813c-2de207b8aff6\" class=\"plotly-graph-div\" style=\"height:1200px; width:1200px;\"></div>            <script type=\"text/javascript\">                require([\"plotly\"], function(Plotly) {                    window.PLOTLYENV=window.PLOTLYENV || {};                                    if (document.getElementById(\"22f7920c-cbdc-470b-813c-2de207b8aff6\")) {                    Plotly.newPlot(                        \"22f7920c-cbdc-470b-813c-2de207b8aff6\",                        [{\"line\":{\"color\":\"yellow\",\"width\":3},\"mode\":\"lines\",\"x\":[0,11],\"y\":[0,0],\"z\":[0,0],\"type\":\"scatter3d\"},{\"line\":{\"color\":\"yellow\",\"width\":3},\"mode\":\"lines\",\"x\":[0,0],\"y\":[0,11],\"z\":[0,0],\"type\":\"scatter3d\"},{\"line\":{\"color\":\"yellow\",\"width\":3},\"mode\":\"lines\",\"x\":[0,0],\"y\":[0,0],\"z\":[0,11],\"type\":\"scatter3d\"},{\"line\":{\"color\":\"yellow\",\"width\":3},\"mode\":\"lines\",\"x\":[11,11],\"y\":[0,11],\"z\":[0,0],\"type\":\"scatter3d\"},{\"line\":{\"color\":\"yellow\",\"width\":3},\"mode\":\"lines\",\"x\":[11,11],\"y\":[0,0],\"z\":[0,11],\"type\":\"scatter3d\"},{\"line\":{\"color\":\"yellow\",\"width\":3},\"mode\":\"lines\",\"x\":[0,11],\"y\":[11,11],\"z\":[0,0],\"type\":\"scatter3d\"},{\"line\":{\"color\":\"yellow\",\"width\":3},\"mode\":\"lines\",\"x\":[0,0],\"y\":[11,11],\"z\":[0,11],\"type\":\"scatter3d\"},{\"line\":{\"color\":\"yellow\",\"width\":3},\"mode\":\"lines\",\"x\":[11,11],\"y\":[11,11],\"z\":[0,11],\"type\":\"scatter3d\"},{\"line\":{\"color\":\"yellow\",\"width\":3},\"mode\":\"lines\",\"x\":[0,11],\"y\":[0,0],\"z\":[11,11],\"type\":\"scatter3d\"},{\"line\":{\"color\":\"yellow\",\"width\":3},\"mode\":\"lines\",\"x\":[0,0],\"y\":[0,11],\"z\":[11,11],\"type\":\"scatter3d\"},{\"line\":{\"color\":\"yellow\",\"width\":3},\"mode\":\"lines\",\"x\":[11,11],\"y\":[0,11],\"z\":[11,11],\"type\":\"scatter3d\"},{\"line\":{\"color\":\"yellow\",\"width\":3},\"mode\":\"lines\",\"x\":[0,11],\"y\":[11,11],\"z\":[11,11],\"type\":\"scatter3d\"},{\"color\":\"#FC0080\",\"flatshading\":true,\"i\":[1,2,5,6,1,4,3,6,1,7,0,6],\"j\":[0,3,4,7,0,5,2,7,3,5,2,4],\"k\":[2,1,6,5,4,1,6,3,7,1,6,0],\"opacity\":1,\"x\":[1,5,1,5,1,5,1,5],\"y\":[0,0,3,3,0,0,3,3],\"z\":[0,0,0,0,3,3,3,3],\"type\":\"mesh3d\"},{\"line\":{\"color\":\"black\",\"width\":0},\"mode\":\"lines\",\"x\":[1,5],\"y\":[3,3],\"z\":[3,3],\"type\":\"scatter3d\"},{\"color\":\"#511CFB\",\"flatshading\":true,\"i\":[1,2,5,6,1,4,3,6,1,7,0,6],\"j\":[0,3,4,7,0,5,2,7,3,5,2,4],\"k\":[2,1,6,5,4,1,6,3,7,1,6,0],\"opacity\":1,\"x\":[9,11,9,11,9,11,9,11],\"y\":[1,1,5,5,1,1,5,5],\"z\":[0,0,0,0,4,4,4,4],\"type\":\"mesh3d\"},{\"line\":{\"color\":\"black\",\"width\":0},\"mode\":\"lines\",\"x\":[9,11],\"y\":[5,5],\"z\":[4,4],\"type\":\"scatter3d\"},{\"color\":\"#A777F1\",\"flatshading\":true,\"i\":[1,2,5,6,1,4,3,6,1,7,0,6],\"j\":[0,3,4,7,0,5,2,7,3,5,2,4],\"k\":[2,1,6,5,4,1,6,3,7,1,6,0],\"opacity\":1,\"x\":[2,3,2,3,2,3,2,3],\"y\":[3,3,8,8,3,3,8,8],\"z\":[0,0,0,0,3,3,3,3],\"type\":\"mesh3d\"},{\"line\":{\"color\":\"black\",\"width\":0},\"mode\":\"lines\",\"x\":[2,3],\"y\":[8,8],\"z\":[3,3],\"type\":\"scatter3d\"},{\"color\":\"#B2828D\",\"flatshading\":true,\"i\":[1,2,5,6,1,4,3,6,1,7,0,6],\"j\":[0,3,4,7,0,5,2,7,3,5,2,4],\"k\":[2,1,6,5,4,1,6,3,7,1,6,0],\"opacity\":1,\"x\":[5,6,5,6,5,6,5,6],\"y\":[5,5,10,10,5,5,10,10],\"z\":[0,0,0,0,2,2,2,2],\"type\":\"mesh3d\"},{\"line\":{\"color\":\"black\",\"width\":0},\"mode\":\"lines\",\"x\":[5,6],\"y\":[10,10],\"z\":[2,2],\"type\":\"scatter3d\"},{\"color\":\"#511CFB\",\"flatshading\":true,\"i\":[1,2,5,6,1,4,3,6,1,7,0,6],\"j\":[0,3,4,7,0,5,2,7,3,5,2,4],\"k\":[2,1,6,5,4,1,6,3,7,1,6,0],\"opacity\":1,\"x\":[0,1,0,1,0,1,0,1],\"y\":[5,5,10,10,5,5,10,10],\"z\":[0,0,0,0,1,1,1,1],\"type\":\"mesh3d\"},{\"line\":{\"color\":\"black\",\"width\":0},\"mode\":\"lines\",\"x\":[0,1],\"y\":[10,10],\"z\":[1,1],\"type\":\"scatter3d\"},{\"color\":\"#DA60CA\",\"flatshading\":true,\"i\":[1,2,5,6,1,4,3,6,1,7,0,6],\"j\":[0,3,4,7,0,5,2,7,3,5,2,4],\"k\":[2,1,6,5,4,1,6,3,7,1,6,0],\"opacity\":1,\"x\":[7,8,7,8,7,8,7,8],\"y\":[3,3,8,8,3,3,8,8],\"z\":[0,0,0,0,3,3,3,3],\"type\":\"mesh3d\"},{\"line\":{\"color\":\"black\",\"width\":0},\"mode\":\"lines\",\"x\":[7,8],\"y\":[8,8],\"z\":[3,3],\"type\":\"scatter3d\"},{\"color\":\"#511CFB\",\"flatshading\":true,\"i\":[1,2,5,6,1,4,3,6,1,7,0,6],\"j\":[0,3,4,7,0,5,2,7,3,5,2,4],\"k\":[2,1,6,5,4,1,6,3,7,1,6,0],\"opacity\":1,\"x\":[1,2,1,2,1,2,1,2],\"y\":[7,7,9,9,7,7,9,9],\"z\":[0,0,0,0,1,1,1,1],\"type\":\"mesh3d\"},{\"line\":{\"color\":\"black\",\"width\":0},\"mode\":\"lines\",\"x\":[1,2],\"y\":[9,9],\"z\":[1,1],\"type\":\"scatter3d\"},{\"color\":\"#862A16\",\"flatshading\":true,\"i\":[1,2,5,6,1,4,3,6,1,7,0,6],\"j\":[0,3,4,7,0,5,2,7,3,5,2,4],\"k\":[2,1,6,5,4,1,6,3,7,1,6,0],\"opacity\":1,\"x\":[6,10,6,10,6,10,6,10],\"y\":[10,10,11,11,10,10,11,11],\"z\":[0,0,0,0,2,2,2,2],\"type\":\"mesh3d\"},{\"line\":{\"color\":\"black\",\"width\":0},\"mode\":\"lines\",\"x\":[6,10],\"y\":[11,11],\"z\":[2,2],\"type\":\"scatter3d\"},{\"color\":\"#222A2A\",\"flatshading\":true,\"i\":[1,2,5,6,1,4,3,6,1,7,0,6],\"j\":[0,3,4,7,0,5,2,7,3,5,2,4],\"k\":[2,1,6,5,4,1,6,3,7,1,6,0],\"opacity\":1,\"x\":[9,10,9,10,9,10,9,10],\"y\":[1,1,5,5,1,1,5,5],\"z\":[4,4,4,4,9,9,9,9],\"type\":\"mesh3d\"},{\"line\":{\"color\":\"black\",\"width\":0},\"mode\":\"lines\",\"x\":[9,10],\"y\":[5,5],\"z\":[9,9],\"type\":\"scatter3d\"},{\"color\":\"#B68100\",\"flatshading\":true,\"i\":[1,2,5,6,1,4,3,6,1,7,0,6],\"j\":[0,3,4,7,0,5,2,7,3,5,2,4],\"k\":[2,1,6,5,4,1,6,3,7,1,6,0],\"opacity\":1,\"x\":[6,7,6,7,6,7,6,7],\"y\":[5,5,9,9,5,5,9,9],\"z\":[0,0,0,0,5,5,5,5],\"type\":\"mesh3d\"},{\"line\":{\"color\":\"black\",\"width\":0},\"mode\":\"lines\",\"x\":[6,7],\"y\":[9,9],\"z\":[5,5],\"type\":\"scatter3d\"},{\"color\":\"#862A16\",\"flatshading\":true,\"i\":[1,2,5,6,1,4,3,6,1,7,0,6],\"j\":[0,3,4,7,0,5,2,7,3,5,2,4],\"k\":[2,1,6,5,4,1,6,3,7,1,6,0],\"opacity\":1,\"x\":[2,4,2,4,2,4,2,4],\"y\":[0,0,2,2,0,0,2,2],\"z\":[3,3,3,3,4,4,4,4],\"type\":\"mesh3d\"},{\"line\":{\"color\":\"black\",\"width\":0},\"mode\":\"lines\",\"x\":[2,4],\"y\":[2,2],\"z\":[4,4],\"type\":\"scatter3d\"},{\"color\":\"#6C4516\",\"flatshading\":true,\"i\":[1,2,5,6,1,4,3,6,1,7,0,6],\"j\":[0,3,4,7,0,5,2,7,3,5,2,4],\"k\":[2,1,6,5,4,1,6,3,7,1,6,0],\"opacity\":1,\"x\":[8,9,8,9,8,9,8,9],\"y\":[1,1,9,9,1,1,9,9],\"z\":[0,0,0,0,1,1,1,1],\"type\":\"mesh3d\"},{\"line\":{\"color\":\"black\",\"width\":0},\"mode\":\"lines\",\"x\":[8,9],\"y\":[9,9],\"z\":[1,1],\"type\":\"scatter3d\"},{\"color\":\"#0D2A63\",\"flatshading\":true,\"i\":[1,2,5,6,1,4,3,6,1,7,0,6],\"j\":[0,3,4,7,0,5,2,7,3,5,2,4],\"k\":[2,1,6,5,4,1,6,3,7,1,6,0],\"opacity\":1,\"x\":[8,9,8,9,8,9,8,9],\"y\":[1,1,9,9,1,1,9,9],\"z\":[1,1,1,1,2,2,2,2],\"type\":\"mesh3d\"},{\"line\":{\"color\":\"black\",\"width\":0},\"mode\":\"lines\",\"x\":[8,9],\"y\":[9,9],\"z\":[2,2],\"type\":\"scatter3d\"},{\"color\":\"#0D2A63\",\"flatshading\":true,\"i\":[1,2,5,6,1,4,3,6,1,7,0,6],\"j\":[0,3,4,7,0,5,2,7,3,5,2,4],\"k\":[2,1,6,5,4,1,6,3,7,1,6,0],\"opacity\":1,\"x\":[9,10,9,10,9,10,9,10],\"y\":[2,2,5,5,2,2,5,5],\"z\":[9,9,9,9,11,11,11,11],\"type\":\"mesh3d\"},{\"line\":{\"color\":\"black\",\"width\":0},\"mode\":\"lines\",\"x\":[9,10],\"y\":[5,5],\"z\":[11,11],\"type\":\"scatter3d\"},{\"color\":\"#511CFB\",\"flatshading\":true,\"i\":[1,2,5,6,1,4,3,6,1,7,0,6],\"j\":[0,3,4,7,0,5,2,7,3,5,2,4],\"k\":[2,1,6,5,4,1,6,3,7,1,6,0],\"opacity\":1,\"x\":[6,7,6,7,6,7,6,7],\"y\":[5,5,9,9,5,5,9,9],\"z\":[5,5,5,5,9,9,9,9],\"type\":\"mesh3d\"},{\"line\":{\"color\":\"black\",\"width\":0},\"mode\":\"lines\",\"x\":[6,7],\"y\":[9,9],\"z\":[9,9],\"type\":\"scatter3d\"},{\"color\":\"#AF0038\",\"flatshading\":true,\"i\":[1,2,5,6,1,4,3,6,1,7,0,6],\"j\":[0,3,4,7,0,5,2,7,3,5,2,4],\"k\":[2,1,6,5,4,1,6,3,7,1,6,0],\"opacity\":1,\"x\":[5,6,5,6,5,6,5,6],\"y\":[3,3,4,4,3,3,4,4],\"z\":[0,0,0,0,5,5,5,5],\"type\":\"mesh3d\"},{\"line\":{\"color\":\"black\",\"width\":0},\"mode\":\"lines\",\"x\":[5,6],\"y\":[4,4],\"z\":[5,5],\"type\":\"scatter3d\"},{\"color\":\"#B68100\",\"flatshading\":true,\"i\":[1,2,5,6,1,4,3,6,1,7,0,6],\"j\":[0,3,4,7,0,5,2,7,3,5,2,4],\"k\":[2,1,6,5,4,1,6,3,7,1,6,0],\"opacity\":1,\"x\":[10,11,10,11,10,11,10,11],\"y\":[1,1,3,3,1,1,3,3],\"z\":[4,4,4,4,9,9,9,9],\"type\":\"mesh3d\"},{\"line\":{\"color\":\"black\",\"width\":0},\"mode\":\"lines\",\"x\":[10,11],\"y\":[3,3],\"z\":[9,9],\"type\":\"scatter3d\"},{\"color\":\"#750D86\",\"flatshading\":true,\"i\":[1,2,5,6,1,4,3,6,1,7,0,6],\"j\":[0,3,4,7,0,5,2,7,3,5,2,4],\"k\":[2,1,6,5,4,1,6,3,7,1,6,0],\"opacity\":1,\"x\":[7,8,7,8,7,8,7,8],\"y\":[8,8,10,10,8,8,10,10],\"z\":[0,0,0,0,5,5,5,5],\"type\":\"mesh3d\"},{\"line\":{\"color\":\"black\",\"width\":0},\"mode\":\"lines\",\"x\":[7,8],\"y\":[10,10],\"z\":[5,5],\"type\":\"scatter3d\"},{\"color\":\"#00A08B\",\"flatshading\":true,\"i\":[1,2,5,6,1,4,3,6,1,7,0,6],\"j\":[0,3,4,7,0,5,2,7,3,5,2,4],\"k\":[2,1,6,5,4,1,6,3,7,1,6,0],\"opacity\":1,\"x\":[8,9,8,9,8,9,8,9],\"y\":[2,2,6,6,2,2,6,6],\"z\":[2,2,2,2,5,5,5,5],\"type\":\"mesh3d\"},{\"line\":{\"color\":\"black\",\"width\":0},\"mode\":\"lines\",\"x\":[8,9],\"y\":[6,6],\"z\":[5,5],\"type\":\"scatter3d\"},{\"color\":\"#1CA71C\",\"flatshading\":true,\"i\":[1,2,5,6,1,4,3,6,1,7,0,6],\"j\":[0,3,4,7,0,5,2,7,3,5,2,4],\"k\":[2,1,6,5,4,1,6,3,7,1,6,0],\"opacity\":1,\"x\":[3,4,3,4,3,4,3,4],\"y\":[4,4,5,5,4,4,5,5],\"z\":[0,0,0,0,3,3,3,3],\"type\":\"mesh3d\"},{\"line\":{\"color\":\"black\",\"width\":0},\"mode\":\"lines\",\"x\":[3,4],\"y\":[5,5],\"z\":[3,3],\"type\":\"scatter3d\"},{\"color\":\"#B68100\",\"flatshading\":true,\"i\":[1,2,5,6,1,4,3,6,1,7,0,6],\"j\":[0,3,4,7,0,5,2,7,3,5,2,4],\"k\":[2,1,6,5,4,1,6,3,7,1,6,0],\"opacity\":1,\"x\":[2,5,2,5,2,5,2,5],\"y\":[9,9,10,10,9,9,10,10],\"z\":[0,0,0,0,2,2,2,2],\"type\":\"mesh3d\"},{\"line\":{\"color\":\"black\",\"width\":0},\"mode\":\"lines\",\"x\":[2,5],\"y\":[10,10],\"z\":[2,2],\"type\":\"scatter3d\"},{\"color\":\"#00A08B\",\"flatshading\":true,\"i\":[1,2,5,6,1,4,3,6,1,7,0,6],\"j\":[0,3,4,7,0,5,2,7,3,5,2,4],\"k\":[2,1,6,5,4,1,6,3,7,1,6,0],\"opacity\":1,\"x\":[2,5,2,5,2,5,2,5],\"y\":[2,2,3,3,2,2,3,3],\"z\":[3,3,3,3,6,6,6,6],\"type\":\"mesh3d\"},{\"line\":{\"color\":\"black\",\"width\":0},\"mode\":\"lines\",\"x\":[2,5],\"y\":[3,3],\"z\":[6,6],\"type\":\"scatter3d\"},{\"color\":\"#A777F1\",\"flatshading\":true,\"i\":[1,2,5,6,1,4,3,6,1,7,0,6],\"j\":[0,3,4,7,0,5,2,7,3,5,2,4],\"k\":[2,1,6,5,4,1,6,3,7,1,6,0],\"opacity\":1,\"x\":[5,8,5,8,5,8,5,8],\"y\":[2,2,3,3,2,2,3,3],\"z\":[0,0,0,0,5,5,5,5],\"type\":\"mesh3d\"},{\"line\":{\"color\":\"black\",\"width\":0},\"mode\":\"lines\",\"x\":[5,8],\"y\":[3,3],\"z\":[5,5],\"type\":\"scatter3d\"},{\"color\":\"#DA60CA\",\"flatshading\":true,\"i\":[1,2,5,6,1,4,3,6,1,7,0,6],\"j\":[0,3,4,7,0,5,2,7,3,5,2,4],\"k\":[2,1,6,5,4,1,6,3,7,1,6,0],\"opacity\":1,\"x\":[9,11,9,11,9,11,9,11],\"y\":[6,6,10,10,6,6,10,10],\"z\":[0,0,0,0,2,2,2,2],\"type\":\"mesh3d\"},{\"line\":{\"color\":\"black\",\"width\":0},\"mode\":\"lines\",\"x\":[9,11],\"y\":[10,10],\"z\":[2,2],\"type\":\"scatter3d\"},{\"color\":\"#6C4516\",\"flatshading\":true,\"i\":[1,2,5,6,1,4,3,6,1,7,0,6],\"j\":[0,3,4,7,0,5,2,7,3,5,2,4],\"k\":[2,1,6,5,4,1,6,3,7,1,6,0],\"opacity\":1,\"x\":[9,11,9,11,9,11,9,11],\"y\":[6,6,10,10,6,6,10,10],\"z\":[2,2,2,2,4,4,4,4],\"type\":\"mesh3d\"},{\"line\":{\"color\":\"black\",\"width\":0},\"mode\":\"lines\",\"x\":[9,11],\"y\":[10,10],\"z\":[4,4],\"type\":\"scatter3d\"},{\"color\":\"#778AAE\",\"flatshading\":true,\"i\":[1,2,5,6,1,4,3,6,1,7,0,6],\"j\":[0,3,4,7,0,5,2,7,3,5,2,4],\"k\":[2,1,6,5,4,1,6,3,7,1,6,0],\"opacity\":1,\"x\":[7,11,7,11,7,11,7,11],\"y\":[0,0,1,1,0,0,1,1],\"z\":[0,0,0,0,2,2,2,2],\"type\":\"mesh3d\"},{\"line\":{\"color\":\"black\",\"width\":0},\"mode\":\"lines\",\"x\":[7,11],\"y\":[1,1],\"z\":[2,2],\"type\":\"scatter3d\"},{\"color\":\"#FC0080\",\"flatshading\":true,\"i\":[1,2,5,6,1,4,3,6,1,7,0,6],\"j\":[0,3,4,7,0,5,2,7,3,5,2,4],\"k\":[2,1,6,5,4,1,6,3,7,1,6,0],\"opacity\":1,\"x\":[1,5,1,5,1,5,1,5],\"y\":[10,10,11,11,10,10,11,11],\"z\":[0,0,0,0,1,1,1,1],\"type\":\"mesh3d\"},{\"line\":{\"color\":\"black\",\"width\":0},\"mode\":\"lines\",\"x\":[1,5],\"y\":[11,11],\"z\":[1,1],\"type\":\"scatter3d\"},{\"color\":\"#6C7C32\",\"flatshading\":true,\"i\":[1,2,5,6,1,4,3,6,1,7,0,6],\"j\":[0,3,4,7,0,5,2,7,3,5,2,4],\"k\":[2,1,6,5,4,1,6,3,7,1,6,0],\"opacity\":1,\"x\":[5,7,5,7,5,7,5,7],\"y\":[2,2,3,3,2,2,3,3],\"z\":[5,5,5,5,6,6,6,6],\"type\":\"mesh3d\"},{\"line\":{\"color\":\"black\",\"width\":0},\"mode\":\"lines\",\"x\":[5,7],\"y\":[3,3],\"z\":[6,6],\"type\":\"scatter3d\"},{\"color\":\"#862A16\",\"flatshading\":true,\"i\":[1,2,5,6,1,4,3,6,1,7,0,6],\"j\":[0,3,4,7,0,5,2,7,3,5,2,4],\"k\":[2,1,6,5,4,1,6,3,7,1,6,0],\"opacity\":1,\"x\":[4,7,4,7,4,7,4,7],\"y\":[4,4,5,5,4,4,5,5],\"z\":[0,0,0,0,1,1,1,1],\"type\":\"mesh3d\"},{\"line\":{\"color\":\"black\",\"width\":0},\"mode\":\"lines\",\"x\":[4,7],\"y\":[5,5],\"z\":[1,1],\"type\":\"scatter3d\"},{\"color\":\"#0D2A63\",\"flatshading\":true,\"i\":[1,2,5,6,1,4,3,6,1,7,0,6],\"j\":[0,3,4,7,0,5,2,7,3,5,2,4],\"k\":[2,1,6,5,4,1,6,3,7,1,6,0],\"opacity\":1,\"x\":[1,5,1,5,1,5,1,5],\"y\":[10,10,11,11,10,10,11,11],\"z\":[1,1,1,1,2,2,2,2],\"type\":\"mesh3d\"},{\"line\":{\"color\":\"black\",\"width\":0},\"mode\":\"lines\",\"x\":[1,5],\"y\":[11,11],\"z\":[2,2],\"type\":\"scatter3d\"},{\"color\":\"#B68100\",\"flatshading\":true,\"i\":[1,2,5,6,1,4,3,6,1,7,0,6],\"j\":[0,3,4,7,0,5,2,7,3,5,2,4],\"k\":[2,1,6,5,4,1,6,3,7,1,6,0],\"opacity\":1,\"x\":[7,10,7,10,7,10,7,10],\"y\":[10,10,11,11,10,10,11,11],\"z\":[2,2,2,2,4,4,4,4],\"type\":\"mesh3d\"},{\"line\":{\"color\":\"black\",\"width\":0},\"mode\":\"lines\",\"x\":[7,10],\"y\":[11,11],\"z\":[4,4],\"type\":\"scatter3d\"},{\"color\":\"#FC0080\",\"flatshading\":true,\"i\":[1,2,5,6,1,4,3,6,1,7,0,6],\"j\":[0,3,4,7,0,5,2,7,3,5,2,4],\"k\":[2,1,6,5,4,1,6,3,7,1,6,0],\"opacity\":1,\"x\":[7,8,7,8,7,8,7,8],\"y\":[4,4,8,8,4,4,8,8],\"z\":[3,3,3,3,5,5,5,5],\"type\":\"mesh3d\"},{\"line\":{\"color\":\"black\",\"width\":0},\"mode\":\"lines\",\"x\":[7,8],\"y\":[8,8],\"z\":[5,5],\"type\":\"scatter3d\"},{\"color\":\"#B2828D\",\"flatshading\":true,\"i\":[1,2,5,6,1,4,3,6,1,7,0,6],\"j\":[0,3,4,7,0,5,2,7,3,5,2,4],\"k\":[2,1,6,5,4,1,6,3,7,1,6,0],\"opacity\":1,\"x\":[3,4,3,4,3,4,3,4],\"y\":[5,5,9,9,5,5,9,9],\"z\":[0,0,0,0,2,2,2,2],\"type\":\"mesh3d\"},{\"line\":{\"color\":\"black\",\"width\":0},\"mode\":\"lines\",\"x\":[3,4],\"y\":[9,9],\"z\":[2,2],\"type\":\"scatter3d\"},{\"color\":\"#511CFB\",\"flatshading\":true,\"i\":[1,2,5,6,1,4,3,6,1,7,0,6],\"j\":[0,3,4,7,0,5,2,7,3,5,2,4],\"k\":[2,1,6,5,4,1,6,3,7,1,6,0],\"opacity\":1,\"x\":[2,5,2,5,2,5,2,5],\"y\":[10,10,11,11,10,10,11,11],\"z\":[2,2,2,2,3,3,3,3],\"type\":\"mesh3d\"},{\"line\":{\"color\":\"black\",\"width\":0},\"mode\":\"lines\",\"x\":[2,5],\"y\":[11,11],\"z\":[3,3],\"type\":\"scatter3d\"},{\"color\":\"#EB663B\",\"flatshading\":true,\"i\":[1,2,5,6,1,4,3,6,1,7,0,6],\"j\":[0,3,4,7,0,5,2,7,3,5,2,4],\"k\":[2,1,6,5,4,1,6,3,7,1,6,0],\"opacity\":1,\"x\":[0,1,0,1,0,1,0,1],\"y\":[8,8,9,9,8,8,9,9],\"z\":[1,1,1,1,2,2,2,2],\"type\":\"mesh3d\"},{\"line\":{\"color\":\"black\",\"width\":0},\"mode\":\"lines\",\"x\":[0,1],\"y\":[9,9],\"z\":[2,2],\"type\":\"scatter3d\"},{\"color\":\"#AF0038\",\"flatshading\":true,\"i\":[1,2,5,6,1,4,3,6,1,7,0,6],\"j\":[0,3,4,7,0,5,2,7,3,5,2,4],\"k\":[2,1,6,5,4,1,6,3,7,1,6,0],\"opacity\":1,\"x\":[2,7,2,7,2,7,2,7],\"y\":[2,2,3,3,2,2,3,3],\"z\":[6,6,6,6,9,9,9,9],\"type\":\"mesh3d\"},{\"line\":{\"color\":\"black\",\"width\":0},\"mode\":\"lines\",\"x\":[2,7],\"y\":[3,3],\"z\":[9,9],\"type\":\"scatter3d\"},{\"color\":\"#A777F1\",\"flatshading\":true,\"i\":[1,2,5,6,1,4,3,6,1,7,0,6],\"j\":[0,3,4,7,0,5,2,7,3,5,2,4],\"k\":[2,1,6,5,4,1,6,3,7,1,6,0],\"opacity\":1,\"x\":[4,7,4,7,4,7,4,7],\"y\":[2,2,3,3,2,2,3,3],\"z\":[9,9,9,9,11,11,11,11],\"type\":\"mesh3d\"},{\"line\":{\"color\":\"black\",\"width\":0},\"mode\":\"lines\",\"x\":[4,7],\"y\":[3,3],\"z\":[11,11],\"type\":\"scatter3d\"},{\"color\":\"#B2828D\",\"flatshading\":true,\"i\":[1,2,5,6,1,4,3,6,1,7,0,6],\"j\":[0,3,4,7,0,5,2,7,3,5,2,4],\"k\":[2,1,6,5,4,1,6,3,7,1,6,0],\"opacity\":1,\"x\":[3,4,3,4,3,4,3,4],\"y\":[10,10,11,11,10,10,11,11],\"z\":[3,3,3,3,4,4,4,4],\"type\":\"mesh3d\"},{\"line\":{\"color\":\"black\",\"width\":0},\"mode\":\"lines\",\"x\":[3,4],\"y\":[11,11],\"z\":[4,4],\"type\":\"scatter3d\"},{\"color\":\"#0D2A63\",\"flatshading\":true,\"i\":[1,2,5,6,1,4,3,6,1,7,0,6],\"j\":[0,3,4,7,0,5,2,7,3,5,2,4],\"k\":[2,1,6,5,4,1,6,3,7,1,6,0],\"opacity\":1,\"x\":[2,3,2,3,2,3,2,3],\"y\":[9,9,10,10,9,9,10,10],\"z\":[2,2,2,2,4,4,4,4],\"type\":\"mesh3d\"},{\"line\":{\"color\":\"black\",\"width\":0},\"mode\":\"lines\",\"x\":[2,3],\"y\":[10,10],\"z\":[4,4],\"type\":\"scatter3d\"},{\"color\":\"#2E91E5\",\"flatshading\":true,\"i\":[1,2,5,6,1,4,3,6,1,7,0,6],\"j\":[0,3,4,7,0,5,2,7,3,5,2,4],\"k\":[2,1,6,5,4,1,6,3,7,1,6,0],\"opacity\":1,\"x\":[2,3,2,3,2,3,2,3],\"y\":[7,7,8,8,7,7,8,8],\"z\":[3,3,3,3,6,6,6,6],\"type\":\"mesh3d\"},{\"line\":{\"color\":\"black\",\"width\":0},\"mode\":\"lines\",\"x\":[2,3],\"y\":[8,8],\"z\":[6,6],\"type\":\"scatter3d\"},{\"color\":\"#DA16FF\",\"flatshading\":true,\"i\":[1,2,5,6,1,4,3,6,1,7,0,6],\"j\":[0,3,4,7,0,5,2,7,3,5,2,4],\"k\":[2,1,6,5,4,1,6,3,7,1,6,0],\"opacity\":1,\"x\":[4,7,4,7,4,7,4,7],\"y\":[4,4,5,5,4,4,5,5],\"z\":[1,1,1,1,3,3,3,3],\"type\":\"mesh3d\"},{\"line\":{\"color\":\"black\",\"width\":0},\"mode\":\"lines\",\"x\":[4,7],\"y\":[5,5],\"z\":[3,3],\"type\":\"scatter3d\"},{\"color\":\"#B68100\",\"flatshading\":true,\"i\":[1,2,5,6,1,4,3,6,1,7,0,6],\"j\":[0,3,4,7,0,5,2,7,3,5,2,4],\"k\":[2,1,6,5,4,1,6,3,7,1,6,0],\"opacity\":1,\"x\":[9,11,9,11,9,11,9,11],\"y\":[7,7,10,10,7,7,10,10],\"z\":[4,4,4,4,5,5,5,5],\"type\":\"mesh3d\"},{\"line\":{\"color\":\"black\",\"width\":0},\"mode\":\"lines\",\"x\":[9,11],\"y\":[10,10],\"z\":[5,5],\"type\":\"scatter3d\"},{\"color\":\"#B2828D\",\"flatshading\":true,\"i\":[1,2,5,6,1,4,3,6,1,7,0,6],\"j\":[0,3,4,7,0,5,2,7,3,5,2,4],\"k\":[2,1,6,5,4,1,6,3,7,1,6,0],\"opacity\":1,\"x\":[7,10,7,10,7,10,7,10],\"y\":[0,0,1,1,0,0,1,1],\"z\":[2,2,2,2,5,5,5,5],\"type\":\"mesh3d\"},{\"line\":{\"color\":\"black\",\"width\":0},\"mode\":\"lines\",\"x\":[7,10],\"y\":[1,1],\"z\":[5,5],\"type\":\"scatter3d\"},{\"color\":\"#6C7C32\",\"flatshading\":true,\"i\":[1,2,5,6,1,4,3,6,1,7,0,6],\"j\":[0,3,4,7,0,5,2,7,3,5,2,4],\"k\":[2,1,6,5,4,1,6,3,7,1,6,0],\"opacity\":1,\"x\":[5,7,5,7,5,7,5,7],\"y\":[0,0,2,2,0,0,2,2],\"z\":[0,0,0,0,2,2,2,2],\"type\":\"mesh3d\"},{\"line\":{\"color\":\"black\",\"width\":0},\"mode\":\"lines\",\"x\":[5,7],\"y\":[2,2],\"z\":[2,2],\"type\":\"scatter3d\"},{\"color\":\"#778AAE\",\"flatshading\":true,\"i\":[1,2,5,6,1,4,3,6,1,7,0,6],\"j\":[0,3,4,7,0,5,2,7,3,5,2,4],\"k\":[2,1,6,5,4,1,6,3,7,1,6,0],\"opacity\":1,\"x\":[7,9,7,9,7,9,7,9],\"y\":[4,4,6,6,4,4,6,6],\"z\":[5,5,5,5,7,7,7,7],\"type\":\"mesh3d\"},{\"line\":{\"color\":\"black\",\"width\":0},\"mode\":\"lines\",\"x\":[7,9],\"y\":[6,6],\"z\":[7,7],\"type\":\"scatter3d\"}],                        {\"template\":{\"data\":{\"histogram2dcontour\":[{\"type\":\"histogram2dcontour\",\"colorbar\":{\"outlinewidth\":0,\"ticks\":\"\"},\"colorscale\":[[0.0,\"#0d0887\"],[0.1111111111111111,\"#46039f\"],[0.2222222222222222,\"#7201a8\"],[0.3333333333333333,\"#9c179e\"],[0.4444444444444444,\"#bd3786\"],[0.5555555555555556,\"#d8576b\"],[0.6666666666666666,\"#ed7953\"],[0.7777777777777778,\"#fb9f3a\"],[0.8888888888888888,\"#fdca26\"],[1.0,\"#f0f921\"]]}],\"choropleth\":[{\"type\":\"choropleth\",\"colorbar\":{\"outlinewidth\":0,\"ticks\":\"\"}}],\"histogram2d\":[{\"type\":\"histogram2d\",\"colorbar\":{\"outlinewidth\":0,\"ticks\":\"\"},\"colorscale\":[[0.0,\"#0d0887\"],[0.1111111111111111,\"#46039f\"],[0.2222222222222222,\"#7201a8\"],[0.3333333333333333,\"#9c179e\"],[0.4444444444444444,\"#bd3786\"],[0.5555555555555556,\"#d8576b\"],[0.6666666666666666,\"#ed7953\"],[0.7777777777777778,\"#fb9f3a\"],[0.8888888888888888,\"#fdca26\"],[1.0,\"#f0f921\"]]}],\"heatmap\":[{\"type\":\"heatmap\",\"colorbar\":{\"outlinewidth\":0,\"ticks\":\"\"},\"colorscale\":[[0.0,\"#0d0887\"],[0.1111111111111111,\"#46039f\"],[0.2222222222222222,\"#7201a8\"],[0.3333333333333333,\"#9c179e\"],[0.4444444444444444,\"#bd3786\"],[0.5555555555555556,\"#d8576b\"],[0.6666666666666666,\"#ed7953\"],[0.7777777777777778,\"#fb9f3a\"],[0.8888888888888888,\"#fdca26\"],[1.0,\"#f0f921\"]]}],\"heatmapgl\":[{\"type\":\"heatmapgl\",\"colorbar\":{\"outlinewidth\":0,\"ticks\":\"\"},\"colorscale\":[[0.0,\"#0d0887\"],[0.1111111111111111,\"#46039f\"],[0.2222222222222222,\"#7201a8\"],[0.3333333333333333,\"#9c179e\"],[0.4444444444444444,\"#bd3786\"],[0.5555555555555556,\"#d8576b\"],[0.6666666666666666,\"#ed7953\"],[0.7777777777777778,\"#fb9f3a\"],[0.8888888888888888,\"#fdca26\"],[1.0,\"#f0f921\"]]}],\"contourcarpet\":[{\"type\":\"contourcarpet\",\"colorbar\":{\"outlinewidth\":0,\"ticks\":\"\"}}],\"contour\":[{\"type\":\"contour\",\"colorbar\":{\"outlinewidth\":0,\"ticks\":\"\"},\"colorscale\":[[0.0,\"#0d0887\"],[0.1111111111111111,\"#46039f\"],[0.2222222222222222,\"#7201a8\"],[0.3333333333333333,\"#9c179e\"],[0.4444444444444444,\"#bd3786\"],[0.5555555555555556,\"#d8576b\"],[0.6666666666666666,\"#ed7953\"],[0.7777777777777778,\"#fb9f3a\"],[0.8888888888888888,\"#fdca26\"],[1.0,\"#f0f921\"]]}],\"surface\":[{\"type\":\"surface\",\"colorbar\":{\"outlinewidth\":0,\"ticks\":\"\"},\"colorscale\":[[0.0,\"#0d0887\"],[0.1111111111111111,\"#46039f\"],[0.2222222222222222,\"#7201a8\"],[0.3333333333333333,\"#9c179e\"],[0.4444444444444444,\"#bd3786\"],[0.5555555555555556,\"#d8576b\"],[0.6666666666666666,\"#ed7953\"],[0.7777777777777778,\"#fb9f3a\"],[0.8888888888888888,\"#fdca26\"],[1.0,\"#f0f921\"]]}],\"mesh3d\":[{\"type\":\"mesh3d\",\"colorbar\":{\"outlinewidth\":0,\"ticks\":\"\"}}],\"scatter\":[{\"marker\":{\"line\":{\"color\":\"#283442\"}},\"type\":\"scatter\"}],\"parcoords\":[{\"type\":\"parcoords\",\"line\":{\"colorbar\":{\"outlinewidth\":0,\"ticks\":\"\"}}}],\"scatterpolargl\":[{\"type\":\"scatterpolargl\",\"marker\":{\"colorbar\":{\"outlinewidth\":0,\"ticks\":\"\"}}}],\"bar\":[{\"error_x\":{\"color\":\"#f2f5fa\"},\"error_y\":{\"color\":\"#f2f5fa\"},\"marker\":{\"line\":{\"color\":\"rgb(17,17,17)\",\"width\":0.5},\"pattern\":{\"fillmode\":\"overlay\",\"size\":10,\"solidity\":0.2}},\"type\":\"bar\"}],\"scattergeo\":[{\"type\":\"scattergeo\",\"marker\":{\"colorbar\":{\"outlinewidth\":0,\"ticks\":\"\"}}}],\"scatterpolar\":[{\"type\":\"scatterpolar\",\"marker\":{\"colorbar\":{\"outlinewidth\":0,\"ticks\":\"\"}}}],\"histogram\":[{\"marker\":{\"pattern\":{\"fillmode\":\"overlay\",\"size\":10,\"solidity\":0.2}},\"type\":\"histogram\"}],\"scattergl\":[{\"marker\":{\"line\":{\"color\":\"#283442\"}},\"type\":\"scattergl\"}],\"scatter3d\":[{\"type\":\"scatter3d\",\"line\":{\"colorbar\":{\"outlinewidth\":0,\"ticks\":\"\"}},\"marker\":{\"colorbar\":{\"outlinewidth\":0,\"ticks\":\"\"}}}],\"scattermapbox\":[{\"type\":\"scattermapbox\",\"marker\":{\"colorbar\":{\"outlinewidth\":0,\"ticks\":\"\"}}}],\"scatterternary\":[{\"type\":\"scatterternary\",\"marker\":{\"colorbar\":{\"outlinewidth\":0,\"ticks\":\"\"}}}],\"scattercarpet\":[{\"type\":\"scattercarpet\",\"marker\":{\"colorbar\":{\"outlinewidth\":0,\"ticks\":\"\"}}}],\"carpet\":[{\"aaxis\":{\"endlinecolor\":\"#A2B1C6\",\"gridcolor\":\"#506784\",\"linecolor\":\"#506784\",\"minorgridcolor\":\"#506784\",\"startlinecolor\":\"#A2B1C6\"},\"baxis\":{\"endlinecolor\":\"#A2B1C6\",\"gridcolor\":\"#506784\",\"linecolor\":\"#506784\",\"minorgridcolor\":\"#506784\",\"startlinecolor\":\"#A2B1C6\"},\"type\":\"carpet\"}],\"table\":[{\"cells\":{\"fill\":{\"color\":\"#506784\"},\"line\":{\"color\":\"rgb(17,17,17)\"}},\"header\":{\"fill\":{\"color\":\"#2a3f5f\"},\"line\":{\"color\":\"rgb(17,17,17)\"}},\"type\":\"table\"}],\"barpolar\":[{\"marker\":{\"line\":{\"color\":\"rgb(17,17,17)\",\"width\":0.5},\"pattern\":{\"fillmode\":\"overlay\",\"size\":10,\"solidity\":0.2}},\"type\":\"barpolar\"}],\"pie\":[{\"automargin\":true,\"type\":\"pie\"}]},\"layout\":{\"autotypenumbers\":\"strict\",\"colorway\":[\"#636efa\",\"#EF553B\",\"#00cc96\",\"#ab63fa\",\"#FFA15A\",\"#19d3f3\",\"#FF6692\",\"#B6E880\",\"#FF97FF\",\"#FECB52\"],\"font\":{\"color\":\"#f2f5fa\"},\"hovermode\":\"closest\",\"hoverlabel\":{\"align\":\"left\"},\"paper_bgcolor\":\"rgb(17,17,17)\",\"plot_bgcolor\":\"rgb(17,17,17)\",\"polar\":{\"bgcolor\":\"rgb(17,17,17)\",\"angularaxis\":{\"gridcolor\":\"#506784\",\"linecolor\":\"#506784\",\"ticks\":\"\"},\"radialaxis\":{\"gridcolor\":\"#506784\",\"linecolor\":\"#506784\",\"ticks\":\"\"}},\"ternary\":{\"bgcolor\":\"rgb(17,17,17)\",\"aaxis\":{\"gridcolor\":\"#506784\",\"linecolor\":\"#506784\",\"ticks\":\"\"},\"baxis\":{\"gridcolor\":\"#506784\",\"linecolor\":\"#506784\",\"ticks\":\"\"},\"caxis\":{\"gridcolor\":\"#506784\",\"linecolor\":\"#506784\",\"ticks\":\"\"}},\"coloraxis\":{\"colorbar\":{\"outlinewidth\":0,\"ticks\":\"\"}},\"colorscale\":{\"sequential\":[[0.0,\"#0d0887\"],[0.1111111111111111,\"#46039f\"],[0.2222222222222222,\"#7201a8\"],[0.3333333333333333,\"#9c179e\"],[0.4444444444444444,\"#bd3786\"],[0.5555555555555556,\"#d8576b\"],[0.6666666666666666,\"#ed7953\"],[0.7777777777777778,\"#fb9f3a\"],[0.8888888888888888,\"#fdca26\"],[1.0,\"#f0f921\"]],\"sequentialminus\":[[0.0,\"#0d0887\"],[0.1111111111111111,\"#46039f\"],[0.2222222222222222,\"#7201a8\"],[0.3333333333333333,\"#9c179e\"],[0.4444444444444444,\"#bd3786\"],[0.5555555555555556,\"#d8576b\"],[0.6666666666666666,\"#ed7953\"],[0.7777777777777778,\"#fb9f3a\"],[0.8888888888888888,\"#fdca26\"],[1.0,\"#f0f921\"]],\"diverging\":[[0,\"#8e0152\"],[0.1,\"#c51b7d\"],[0.2,\"#de77ae\"],[0.3,\"#f1b6da\"],[0.4,\"#fde0ef\"],[0.5,\"#f7f7f7\"],[0.6,\"#e6f5d0\"],[0.7,\"#b8e186\"],[0.8,\"#7fbc41\"],[0.9,\"#4d9221\"],[1,\"#276419\"]]},\"xaxis\":{\"gridcolor\":\"#283442\",\"linecolor\":\"#506784\",\"ticks\":\"\",\"title\":{\"standoff\":15},\"zerolinecolor\":\"#283442\",\"automargin\":true,\"zerolinewidth\":2},\"yaxis\":{\"gridcolor\":\"#283442\",\"linecolor\":\"#506784\",\"ticks\":\"\",\"title\":{\"standoff\":15},\"zerolinecolor\":\"#283442\",\"automargin\":true,\"zerolinewidth\":2},\"scene\":{\"xaxis\":{\"backgroundcolor\":\"rgb(17,17,17)\",\"gridcolor\":\"#506784\",\"linecolor\":\"#506784\",\"showbackground\":true,\"ticks\":\"\",\"zerolinecolor\":\"#C8D4E3\",\"gridwidth\":2},\"yaxis\":{\"backgroundcolor\":\"rgb(17,17,17)\",\"gridcolor\":\"#506784\",\"linecolor\":\"#506784\",\"showbackground\":true,\"ticks\":\"\",\"zerolinecolor\":\"#C8D4E3\",\"gridwidth\":2},\"zaxis\":{\"backgroundcolor\":\"rgb(17,17,17)\",\"gridcolor\":\"#506784\",\"linecolor\":\"#506784\",\"showbackground\":true,\"ticks\":\"\",\"zerolinecolor\":\"#C8D4E3\",\"gridwidth\":2}},\"shapedefaults\":{\"line\":{\"color\":\"#f2f5fa\"}},\"annotationdefaults\":{\"arrowcolor\":\"#f2f5fa\",\"arrowhead\":0,\"arrowwidth\":1},\"geo\":{\"bgcolor\":\"rgb(17,17,17)\",\"landcolor\":\"rgb(17,17,17)\",\"subunitcolor\":\"#506784\",\"showland\":true,\"showlakes\":true,\"lakecolor\":\"rgb(17,17,17)\"},\"title\":{\"x\":0.05},\"updatemenudefaults\":{\"bgcolor\":\"#506784\",\"borderwidth\":0},\"sliderdefaults\":{\"bgcolor\":\"#C8D4E3\",\"borderwidth\":1,\"bordercolor\":\"rgb(17,17,17)\",\"tickwidth\":0},\"mapbox\":{\"style\":\"dark\"}}},\"scene\":{\"camera\":{\"eye\":{\"x\":2,\"y\":2,\"z\":0.1}},\"xaxis\":{\"nticks\":13,\"range\":[0,16],\"showgrid\":false,\"showticklabels\":false},\"yaxis\":{\"nticks\":13,\"range\":[0,16],\"showgrid\":false,\"showticklabels\":false},\"zaxis\":{\"nticks\":13,\"range\":[0,16],\"showgrid\":false,\"showticklabels\":false},\"aspectmode\":\"cube\"},\"showlegend\":false,\"width\":1200,\"height\":1200,\"margin\":{\"r\":20,\"l\":10,\"b\":10,\"t\":10}},                        {\"responsive\": true}                    ).then(function(){\n                            \nvar gd = document.getElementById('22f7920c-cbdc-470b-813c-2de207b8aff6');\nvar x = new MutationObserver(function (mutations, observer) {{\n        var display = window.getComputedStyle(gd).display;\n        if (!display || display === 'none') {{\n            console.log([gd, 'removed!']);\n            Plotly.purge(gd);\n            observer.disconnect();\n        }}\n}});\n\n// Listen for the removal of the full notebook cells\nvar notebookContainer = gd.closest('#notebook-container');\nif (notebookContainer) {{\n    x.observe(notebookContainer, {childList: true});\n}}\n\n// Listen for the clearing of the current output cell\nvar outputEl = gd.closest('.output');\nif (outputEl) {{\n    x.observe(outputEl, {childList: true});\n}}\n\n                        })                };                });            </script>        </div>"
     },
     "metadata": {},
     "output_type": "display_data"
    }
   ],
   "source": [],
   "metadata": {
    "collapsed": false,
    "pycharm": {
     "name": "#%%\n"
    }
   }
  }
 ],
 "metadata": {
  "kernelspec": {
   "display_name": "Python 3",
   "language": "python",
   "name": "python3"
  },
  "language_info": {
   "codemirror_mode": {
    "name": "ipython",
    "version": 2
   },
   "file_extension": ".py",
   "mimetype": "text/x-python",
   "name": "python",
   "nbconvert_exporter": "python",
   "pygments_lexer": "ipython2",
   "version": "2.7.6"
  }
 },
 "nbformat": 4,
 "nbformat_minor": 0
}