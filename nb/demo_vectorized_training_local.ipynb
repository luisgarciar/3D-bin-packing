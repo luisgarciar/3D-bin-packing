{
 "cells": [
  {
   "cell_type": "markdown",
   "source": [
    "## Using the StableBaselines3 library for reinforcement learning\n",
    "\n",
    "In this notebook we test an implementation of the proximal policy optimization (PPO)\n",
    "PPO is described in detail in https://arxiv.org/abs/1707.06347. It is a variant of Trust Region Policy Optimization (TRPO) described (in this paper )[https://arxiv.org/abs/1502.05477]. The PPO algorithm works in two phases. In one phase, a large number of rollouts are performed (in parallel). The rollouts are then aggregated on the driver and a surrogate optimization objective is defined based on those rollouts. We then use SGD to find the policy that maximizes that objective with a penalty term for diverging too much from the current policy.\n",
    "\n",
    "![ppo](https://raw.githubusercontent.com/ucbrise/risecamp/risecamp2018/ray/tutorial/rllib_exercises/ppo.png)"
   ],
   "metadata": {
    "collapsed": false,
    "pycharm": {
     "name": "#%% md\n"
    },
    "id": "LB3eLu4qgikf"
   }
  },
  {
   "cell_type": "markdown",
   "source": [],
   "metadata": {
    "id": "J8u4uQMdvCjR",
    "pycharm": {
     "name": "#%% md\n"
    }
   }
  },
  {
   "cell_type": "markdown",
   "source": [
    "We now test the PPO algorithm with the 3D bin packing environment."
   ],
   "metadata": {
    "collapsed": false,
    "pycharm": {
     "name": "#%% md\n"
    },
    "id": "_rJlODKjgikm"
   }
  },
  {
   "cell_type": "code",
   "execution_count": 12,
   "outputs": [],
   "source": [
    "import warnings\n",
    "warnings.filterwarnings(\"ignore\", category=DeprecationWarning)\n",
    "\n",
    "import gym\n",
    "from numpy.typing import NDArray\n",
    "from sb3_contrib.common.wrappers import ActionMasker\n",
    "from sb3_contrib.ppo_mask import MaskablePPO\n",
    "from stable_baselines3.common.callbacks import CheckpointCallback\n",
    "from stable_baselines3.common.env_util import make_vec_env\n",
    "\n",
    "from src.utils import boxes_generator"
   ],
   "metadata": {
    "collapsed": false,
    "pycharm": {
     "name": "#%%\n"
    }
   }
  },
  {
   "cell_type": "code",
   "execution_count": 13,
   "outputs": [],
   "source": [
    "def mask_fn(env: gym.Env) -> NDArray:\n",
    "    return env.get_action_mask\n",
    "\n",
    "def make_env(\n",
    "    container_size, num_boxes, num_visible_boxes=1, seed=0, render_mode=\"rgb_array\"\n",
    "):\n",
    "    \"\"\"\n",
    "    Utility function for initializing bin packing env with action masking\n",
    "    :param seed: (int) the inital seed for RNG\n",
    "    :param rank: (int) index of the subprocess\n",
    "    \"\"\"\n",
    "\n",
    "    env = gym.make(\n",
    "        \"PackingEnv-v0\",\n",
    "        container_size=container_size,\n",
    "        box_sizes=boxes_generator(container_size, num_boxes, seed),\n",
    "        num_visible_boxes=num_visible_boxes,\n",
    "        render_mode=render_mode,\n",
    "    )\n",
    "    env = ActionMasker(env, mask_fn)\n",
    "    return env\n"
   ],
   "metadata": {
    "pycharm": {
     "name": "#%%\n"
    },
    "id": "PvOUNkKagikn"
   }
  },
  {
   "cell_type": "code",
   "execution_count": 28,
   "outputs": [
    {
     "name": "stdout",
     "output_type": "stream",
     "text": [
      "finished initialization of vectorized environment\n",
      "beginning training\n",
      "Using cpu device\n",
      "---------------------------------\n",
      "| rollout/           |          |\n",
      "|    ep_len_mean     | 25.3     |\n",
      "|    ep_rew_mean     | 0.598    |\n",
      "| time/              |          |\n",
      "|    fps             | 29       |\n",
      "|    iterations      | 1        |\n",
      "|    time_elapsed    | 137      |\n",
      "|    total_timesteps | 4096     |\n",
      "---------------------------------\n",
      "done training\n"
     ]
    }
   ],
   "source": [
    "warnings.filterwarnings(\"ignore\", category=DeprecationWarning)\n",
    "# Environment initialization\n",
    "container_size = [5, 5, 5]\n",
    "num_boxes = 10\n",
    "num_visible_boxes = 10\n",
    "num_env = 2\n",
    "env_kwargs = dict(\n",
    "    container_size=container_size,\n",
    "    num_boxes=num_boxes,\n",
    "    num_visible_boxes=num_visible_boxes,\n",
    "    render_mode=\"rgb_array\",\n",
    "    seed=42,\n",
    "\n",
    ")\n",
    "env = make_vec_env(make_env, n_envs=num_env, env_kwargs=env_kwargs)\n",
    "print(\"finished initialization of vectorized environment\")\n",
    "print(\"beginning training\")\n",
    "\n",
    "# MaskablePPO initialization\n",
    "model = MaskablePPO(\"MultiInputPolicy\", env, gamma=0.4, verbose=1)\n",
    "checkpoint_callback = CheckpointCallback(\n",
    "    save_freq=10, save_path=\"../logs/\", name_prefix=\"rl_model\"\n",
    ")\n",
    "model.learn(1000, callback=checkpoint_callback)\n",
    "print(\"done training\")\n",
    "model.save(\"../models/ppo_mask_cont555_boxes10_vis10_steps_1000_numenv_2\")"
   ],
   "metadata": {
    "collapsed": false,
    "pycharm": {
     "name": "#%%\n"
    }
   }
  },
  {
   "cell_type": "code",
   "execution_count": 29,
   "outputs": [
    {
     "name": "stderr",
     "output_type": "stream",
     "text": [
      "/opt/anaconda3/envs/3D-bin-packing/lib/python3.9/site-packages/stable_baselines3/common/vec_env/vec_monitor.py:44: UserWarning: The environment is already wrapped with a `Monitor` wrapperbut you are wrapping it with a `VecMonitor` wrapper, the `Monitor` statistics will beoverwritten by the `VecMonitor` ones.\n",
      "  warnings.warn(\n"
     ]
    },
    {
     "name": "stdout",
     "output_type": "stream",
     "text": [
      "beginning evaluation\n",
      "Mean reward: 0.4480000138282776 +/- 0.00\n"
     ]
    }
   ],
   "source": [
    "from sb3_contrib.common.maskable.evaluation import evaluate_policy\n",
    "from stable_baselines3.common.vec_env.vec_monitor import VecMonitor\n",
    "import os\n",
    "\n",
    "model = MaskablePPO.load(\"../models/ppo_mask_cont555_boxes10_vis10_steps_50_numenv_2\")\n",
    "\n",
    "num_env = 2\n",
    "env_kwargs = dict(\n",
    "    container_size=container_size,\n",
    "    num_boxes=num_boxes,\n",
    "    num_visible_boxes=num_visible_boxes,\n",
    "    render_mode=\"rgb_array\",\n",
    "    seed=33,\n",
    "\n",
    ")\n",
    "eval_env = make_vec_env(make_env, n_envs=num_env, env_kwargs=env_kwargs)\n",
    "log_dir = \"../eval/\"\n",
    "os.makedirs(log_dir, exist_ok=True)\n",
    "eval_env = VecMonitor(eval_env, log_dir)\n",
    "\n",
    "print(\"beginning evaluation\")\n",
    "mean_reward, std_reward = evaluate_policy(model, eval_env, n_eval_episodes=10)\n",
    "print(f'Mean reward: {mean_reward} +/- {std_reward:.2f}')\n",
    "\n",
    "# obs = env.reset()\n",
    "# while True:\n",
    "#     # Retrieve current action mask\n",
    "#     action_masks = get_action_masks(env)\n",
    "#     action, _states = model.predict(obs, action_masks=action_masks)\n",
    "#     obs, rewards, dones, info = env.step(action)\n",
    "#     env.render()\n"
   ],
   "metadata": {
    "collapsed": false,
    "pycharm": {
     "name": "#%%\n"
    }
   }
  },
  {
   "cell_type": "code",
   "execution_count": 4,
   "outputs": [],
   "source": [
    "from plotly_gif import GIF\n",
    "from sb3_contrib.common.maskable.utils import get_action_masks\n",
    "\n",
    "gif = GIF(gif_name=\"555_10box_10vis_200steps.gif\", gif_path=\"../gifs\")\n",
    "\n",
    "container_size= [5,5,5]\n",
    "num_boxes = 10\n",
    "num_visible_boxes = 10\n",
    "seed= 33\n",
    "env_kwargs = dict(\n",
    "    container_size=container_size,\n",
    "    num_boxes=num_boxes,\n",
    "    num_visible_boxes=num_visible_boxes,\n",
    "    render_mode=\"human\",\n",
    "    seed=seed,\n",
    "\n",
    ")\n",
    "\n",
    "eval_env = make_vec_env(make_env, n_envs=2, env_kwargs=env_kwargs)\n",
    "\n",
    "done = False\n",
    "obs = eval_env.reset()\n"
   ],
   "metadata": {
    "collapsed": false,
    "pycharm": {
     "name": "#%%\n"
    }
   }
  },
  {
   "cell_type": "code",
   "execution_count": 5,
   "outputs": [
    {
     "name": "stderr",
     "output_type": "stream",
     "text": [
      "/opt/anaconda3/envs/3D-bin-packing/lib/python3.9/site-packages/stable_baselines3/common/vec_env/base_vec_env.py:179: UserWarning: Render not defined for <stable_baselines3.common.vec_env.dummy_vec_env.DummyVecEnv object at 0x13d0c9430>\n",
      "  warnings.warn(f\"Render not defined for {self}\")\n"
     ]
    },
    {
     "ename": "AttributeError",
     "evalue": "'NoneType' object has no attribute 'write_image'",
     "output_type": "error",
     "traceback": [
      "\u001B[0;31m---------------------------------------------------------------------------\u001B[0m",
      "\u001B[0;31mAttributeError\u001B[0m                            Traceback (most recent call last)",
      "Input \u001B[0;32mIn [5]\u001B[0m, in \u001B[0;36m<cell line: 1>\u001B[0;34m()\u001B[0m\n\u001B[1;32m      4\u001B[0m     obs, rewards, dones, info \u001B[38;5;241m=\u001B[39m eval_env\u001B[38;5;241m.\u001B[39mstep(action)\n\u001B[1;32m      5\u001B[0m     fig \u001B[38;5;241m=\u001B[39m eval_env\u001B[38;5;241m.\u001B[39mrender()\n\u001B[0;32m----> 6\u001B[0m     \u001B[43mgif\u001B[49m\u001B[38;5;241;43m.\u001B[39;49m\u001B[43mcreate_image\u001B[49m\u001B[43m(\u001B[49m\u001B[43mfig\u001B[49m\u001B[43m)\u001B[49m\n\u001B[1;32m      8\u001B[0m gif\u001B[38;5;241m.\u001B[39mcreate_gif(length\u001B[38;5;241m=\u001B[39m\u001B[38;5;241m5000\u001B[39m)\n\u001B[1;32m      9\u001B[0m fig \u001B[38;5;241m=\u001B[39m eval_env\u001B[38;5;241m.\u001B[39mcontainer\u001B[38;5;241m.\u001B[39mplot()\n",
      "File \u001B[0;32m/opt/anaconda3/envs/3D-bin-packing/lib/python3.9/site-packages/plotly_gif/gif.py:114\u001B[0m, in \u001B[0;36mGIF.create_image\u001B[0;34m(self, fig, **kwargs)\u001B[0m\n\u001B[1;32m    112\u001B[0m \u001B[38;5;28;01mif\u001B[39;00m \u001B[38;5;28mself\u001B[39m\u001B[38;5;241m.\u001B[39mmode \u001B[38;5;241m==\u001B[39m \u001B[38;5;124m\"\u001B[39m\u001B[38;5;124mbuffer\u001B[39m\u001B[38;5;124m\"\u001B[39m:\n\u001B[1;32m    113\u001B[0m     buffer \u001B[38;5;241m=\u001B[39m BytesIO()\n\u001B[0;32m--> 114\u001B[0m     \u001B[43mfig\u001B[49m\u001B[38;5;241;43m.\u001B[39;49m\u001B[43mwrite_image\u001B[49m(buffer, \u001B[38;5;28mformat\u001B[39m\u001B[38;5;241m=\u001B[39m\u001B[38;5;124m\"\u001B[39m\u001B[38;5;124mpng\u001B[39m\u001B[38;5;124m\"\u001B[39m, \u001B[38;5;241m*\u001B[39m\u001B[38;5;241m*\u001B[39mkwargs)\n\u001B[1;32m    115\u001B[0m     buffer\u001B[38;5;241m.\u001B[39mseek(\u001B[38;5;241m0\u001B[39m)\n\u001B[1;32m    116\u001B[0m     img \u001B[38;5;241m=\u001B[39m Image\u001B[38;5;241m.\u001B[39mopen(buffer)\n",
      "\u001B[0;31mAttributeError\u001B[0m: 'NoneType' object has no attribute 'write_image'"
     ]
    }
   ],
   "source": [
    "while not done:\n",
    "    # Retrieve current action mask\n",
    "    action, _states = model.predict(obs)\n",
    "    obs, rewards, dones, info = eval_env.step(action)\n",
    "    fig = eval_env.render()\n",
    "    gif.create_image(fig)\n",
    "\n",
    "gif.create_gif(length=5000)\n",
    "fig = eval_env.container.plot()\n",
    "\n",
    "\n"
   ],
   "metadata": {
    "collapsed": false,
    "pycharm": {
     "name": "#%%\n"
    }
   }
  },
  {
   "cell_type": "code",
   "execution_count": null,
   "outputs": [],
   "source": [],
   "metadata": {
    "collapsed": false,
    "pycharm": {
     "name": "#%%\n"
    }
   }
  }
 ],
 "metadata": {
  "kernelspec": {
   "display_name": "Python 3",
   "language": "python",
   "name": "python3"
  },
  "language_info": {
   "codemirror_mode": {
    "name": "ipython",
    "version": 2
   },
   "file_extension": ".py",
   "mimetype": "text/x-python",
   "name": "python",
   "nbconvert_exporter": "python",
   "pygments_lexer": "ipython2",
   "version": "2.7.6"
  },
  "colab": {
   "provenance": []
  },
  "accelerator": "GPU"
 },
 "nbformat": 4,
 "nbformat_minor": 0
}